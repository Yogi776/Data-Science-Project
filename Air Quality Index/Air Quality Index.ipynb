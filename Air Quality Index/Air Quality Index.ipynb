{
 "cells": [
  {
   "cell_type": "code",
   "execution_count": 1,
   "id": "bad2aea2",
   "metadata": {},
   "outputs": [],
   "source": [
    "import warnings\n",
    "warnings.filterwarnings('ignore')"
   ]
  },
  {
   "cell_type": "code",
   "execution_count": 2,
   "id": "3c645683",
   "metadata": {},
   "outputs": [],
   "source": [
    "import warnings\n",
    "warnings.filterwarnings('ignore')\n",
    "import pandas as pd\n",
    "import seaborn as sns\n",
    "import matplotlib.pyplot as plt\n",
    "import pickle\n",
    "from sklearn.model_selection import train_test_split\n",
    "from sklearn.preprocessing import StandardScaler\n",
    "from sklearn.linear_model import Ridge,Lasso,RidgeCV,ElasticNet,ElasticNetCV,LassoCV,LinearRegression\n",
    "from sklearn.model_selection import train_test_split\n",
    "from sklearn.model_selection import GridSearchCV\n",
    "import statsmodels.api as sm\n",
    "from sklearn.metrics import r2_score, mean_squared_error\n",
    "from math import sqrt\n",
    "from sklearn.preprocessing import LabelEncoder"
   ]
  },
  {
   "cell_type": "code",
   "execution_count": 3,
   "id": "d97e1763",
   "metadata": {},
   "outputs": [],
   "source": [
    "df = pd.read_csv('AIr Quality Index - City Data.csv')"
   ]
  },
  {
   "cell_type": "code",
   "execution_count": 4,
   "id": "45b006df",
   "metadata": {},
   "outputs": [
    {
     "data": {
      "text/html": [
       "<div>\n",
       "<style scoped>\n",
       "    .dataframe tbody tr th:only-of-type {\n",
       "        vertical-align: middle;\n",
       "    }\n",
       "\n",
       "    .dataframe tbody tr th {\n",
       "        vertical-align: top;\n",
       "    }\n",
       "\n",
       "    .dataframe thead th {\n",
       "        text-align: right;\n",
       "    }\n",
       "</style>\n",
       "<table border=\"1\" class=\"dataframe\">\n",
       "  <thead>\n",
       "    <tr style=\"text-align: right;\">\n",
       "      <th></th>\n",
       "      <th>City</th>\n",
       "      <th>Date</th>\n",
       "      <th>PM2.5</th>\n",
       "      <th>PM10</th>\n",
       "      <th>NO</th>\n",
       "      <th>NO2</th>\n",
       "      <th>NOx</th>\n",
       "      <th>NH3</th>\n",
       "      <th>CO</th>\n",
       "      <th>SO2</th>\n",
       "      <th>O3</th>\n",
       "      <th>Benzene</th>\n",
       "      <th>Toluene</th>\n",
       "      <th>Xylene</th>\n",
       "      <th>AQI</th>\n",
       "      <th>AQI_Bucket</th>\n",
       "    </tr>\n",
       "  </thead>\n",
       "  <tbody>\n",
       "    <tr>\n",
       "      <th>0</th>\n",
       "      <td>Ahmedabad</td>\n",
       "      <td>01-01-2015</td>\n",
       "      <td>NaN</td>\n",
       "      <td>NaN</td>\n",
       "      <td>0.92</td>\n",
       "      <td>18.22</td>\n",
       "      <td>17.15</td>\n",
       "      <td>NaN</td>\n",
       "      <td>0.92</td>\n",
       "      <td>27.64</td>\n",
       "      <td>133.36</td>\n",
       "      <td>0.00</td>\n",
       "      <td>0.02</td>\n",
       "      <td>0.00</td>\n",
       "      <td>NaN</td>\n",
       "      <td>NaN</td>\n",
       "    </tr>\n",
       "    <tr>\n",
       "      <th>1</th>\n",
       "      <td>Ahmedabad</td>\n",
       "      <td>02-01-2015</td>\n",
       "      <td>NaN</td>\n",
       "      <td>NaN</td>\n",
       "      <td>0.97</td>\n",
       "      <td>15.69</td>\n",
       "      <td>16.46</td>\n",
       "      <td>NaN</td>\n",
       "      <td>0.97</td>\n",
       "      <td>24.55</td>\n",
       "      <td>34.06</td>\n",
       "      <td>3.68</td>\n",
       "      <td>5.50</td>\n",
       "      <td>3.77</td>\n",
       "      <td>NaN</td>\n",
       "      <td>NaN</td>\n",
       "    </tr>\n",
       "    <tr>\n",
       "      <th>2</th>\n",
       "      <td>Ahmedabad</td>\n",
       "      <td>03-01-2015</td>\n",
       "      <td>NaN</td>\n",
       "      <td>NaN</td>\n",
       "      <td>17.40</td>\n",
       "      <td>19.30</td>\n",
       "      <td>29.70</td>\n",
       "      <td>NaN</td>\n",
       "      <td>17.40</td>\n",
       "      <td>29.07</td>\n",
       "      <td>30.70</td>\n",
       "      <td>6.80</td>\n",
       "      <td>16.40</td>\n",
       "      <td>2.25</td>\n",
       "      <td>NaN</td>\n",
       "      <td>NaN</td>\n",
       "    </tr>\n",
       "    <tr>\n",
       "      <th>3</th>\n",
       "      <td>Ahmedabad</td>\n",
       "      <td>04-01-2015</td>\n",
       "      <td>NaN</td>\n",
       "      <td>NaN</td>\n",
       "      <td>1.70</td>\n",
       "      <td>18.48</td>\n",
       "      <td>17.97</td>\n",
       "      <td>NaN</td>\n",
       "      <td>1.70</td>\n",
       "      <td>18.59</td>\n",
       "      <td>36.08</td>\n",
       "      <td>4.43</td>\n",
       "      <td>10.14</td>\n",
       "      <td>1.00</td>\n",
       "      <td>NaN</td>\n",
       "      <td>NaN</td>\n",
       "    </tr>\n",
       "    <tr>\n",
       "      <th>4</th>\n",
       "      <td>Ahmedabad</td>\n",
       "      <td>05-01-2015</td>\n",
       "      <td>NaN</td>\n",
       "      <td>NaN</td>\n",
       "      <td>22.10</td>\n",
       "      <td>21.42</td>\n",
       "      <td>37.76</td>\n",
       "      <td>NaN</td>\n",
       "      <td>22.10</td>\n",
       "      <td>39.33</td>\n",
       "      <td>39.31</td>\n",
       "      <td>7.01</td>\n",
       "      <td>18.89</td>\n",
       "      <td>2.78</td>\n",
       "      <td>NaN</td>\n",
       "      <td>NaN</td>\n",
       "    </tr>\n",
       "    <tr>\n",
       "      <th>...</th>\n",
       "      <td>...</td>\n",
       "      <td>...</td>\n",
       "      <td>...</td>\n",
       "      <td>...</td>\n",
       "      <td>...</td>\n",
       "      <td>...</td>\n",
       "      <td>...</td>\n",
       "      <td>...</td>\n",
       "      <td>...</td>\n",
       "      <td>...</td>\n",
       "      <td>...</td>\n",
       "      <td>...</td>\n",
       "      <td>...</td>\n",
       "      <td>...</td>\n",
       "      <td>...</td>\n",
       "      <td>...</td>\n",
       "    </tr>\n",
       "    <tr>\n",
       "      <th>29526</th>\n",
       "      <td>Visakhapatnam</td>\n",
       "      <td>27-06-2020</td>\n",
       "      <td>15.02</td>\n",
       "      <td>50.94</td>\n",
       "      <td>7.68</td>\n",
       "      <td>25.06</td>\n",
       "      <td>19.54</td>\n",
       "      <td>12.47</td>\n",
       "      <td>0.47</td>\n",
       "      <td>8.55</td>\n",
       "      <td>23.30</td>\n",
       "      <td>2.24</td>\n",
       "      <td>12.07</td>\n",
       "      <td>0.73</td>\n",
       "      <td>41.0</td>\n",
       "      <td>Good</td>\n",
       "    </tr>\n",
       "    <tr>\n",
       "      <th>29527</th>\n",
       "      <td>Visakhapatnam</td>\n",
       "      <td>28-06-2020</td>\n",
       "      <td>24.38</td>\n",
       "      <td>74.09</td>\n",
       "      <td>3.42</td>\n",
       "      <td>26.06</td>\n",
       "      <td>16.53</td>\n",
       "      <td>11.99</td>\n",
       "      <td>0.52</td>\n",
       "      <td>12.72</td>\n",
       "      <td>30.14</td>\n",
       "      <td>0.74</td>\n",
       "      <td>2.21</td>\n",
       "      <td>0.38</td>\n",
       "      <td>70.0</td>\n",
       "      <td>Satisfactory</td>\n",
       "    </tr>\n",
       "    <tr>\n",
       "      <th>29528</th>\n",
       "      <td>Visakhapatnam</td>\n",
       "      <td>29-06-2020</td>\n",
       "      <td>22.91</td>\n",
       "      <td>65.73</td>\n",
       "      <td>3.45</td>\n",
       "      <td>29.53</td>\n",
       "      <td>18.33</td>\n",
       "      <td>10.71</td>\n",
       "      <td>0.48</td>\n",
       "      <td>8.42</td>\n",
       "      <td>30.96</td>\n",
       "      <td>0.01</td>\n",
       "      <td>0.01</td>\n",
       "      <td>0.00</td>\n",
       "      <td>68.0</td>\n",
       "      <td>Satisfactory</td>\n",
       "    </tr>\n",
       "    <tr>\n",
       "      <th>29529</th>\n",
       "      <td>Visakhapatnam</td>\n",
       "      <td>30-06-2020</td>\n",
       "      <td>16.64</td>\n",
       "      <td>49.97</td>\n",
       "      <td>4.05</td>\n",
       "      <td>29.26</td>\n",
       "      <td>18.80</td>\n",
       "      <td>10.03</td>\n",
       "      <td>0.52</td>\n",
       "      <td>9.84</td>\n",
       "      <td>28.30</td>\n",
       "      <td>0.00</td>\n",
       "      <td>0.00</td>\n",
       "      <td>0.00</td>\n",
       "      <td>54.0</td>\n",
       "      <td>Satisfactory</td>\n",
       "    </tr>\n",
       "    <tr>\n",
       "      <th>29530</th>\n",
       "      <td>Visakhapatnam</td>\n",
       "      <td>01-07-2020</td>\n",
       "      <td>15.00</td>\n",
       "      <td>66.00</td>\n",
       "      <td>0.40</td>\n",
       "      <td>26.85</td>\n",
       "      <td>14.05</td>\n",
       "      <td>5.20</td>\n",
       "      <td>0.59</td>\n",
       "      <td>2.10</td>\n",
       "      <td>17.05</td>\n",
       "      <td>NaN</td>\n",
       "      <td>NaN</td>\n",
       "      <td>NaN</td>\n",
       "      <td>50.0</td>\n",
       "      <td>Good</td>\n",
       "    </tr>\n",
       "  </tbody>\n",
       "</table>\n",
       "<p>29531 rows × 16 columns</p>\n",
       "</div>"
      ],
      "text/plain": [
       "                City        Date  PM2.5   PM10     NO    NO2    NOx    NH3  \\\n",
       "0          Ahmedabad  01-01-2015    NaN    NaN   0.92  18.22  17.15    NaN   \n",
       "1          Ahmedabad  02-01-2015    NaN    NaN   0.97  15.69  16.46    NaN   \n",
       "2          Ahmedabad  03-01-2015    NaN    NaN  17.40  19.30  29.70    NaN   \n",
       "3          Ahmedabad  04-01-2015    NaN    NaN   1.70  18.48  17.97    NaN   \n",
       "4          Ahmedabad  05-01-2015    NaN    NaN  22.10  21.42  37.76    NaN   \n",
       "...              ...         ...    ...    ...    ...    ...    ...    ...   \n",
       "29526  Visakhapatnam  27-06-2020  15.02  50.94   7.68  25.06  19.54  12.47   \n",
       "29527  Visakhapatnam  28-06-2020  24.38  74.09   3.42  26.06  16.53  11.99   \n",
       "29528  Visakhapatnam  29-06-2020  22.91  65.73   3.45  29.53  18.33  10.71   \n",
       "29529  Visakhapatnam  30-06-2020  16.64  49.97   4.05  29.26  18.80  10.03   \n",
       "29530  Visakhapatnam  01-07-2020  15.00  66.00   0.40  26.85  14.05   5.20   \n",
       "\n",
       "          CO    SO2      O3  Benzene  Toluene  Xylene   AQI    AQI_Bucket  \n",
       "0       0.92  27.64  133.36     0.00     0.02    0.00   NaN           NaN  \n",
       "1       0.97  24.55   34.06     3.68     5.50    3.77   NaN           NaN  \n",
       "2      17.40  29.07   30.70     6.80    16.40    2.25   NaN           NaN  \n",
       "3       1.70  18.59   36.08     4.43    10.14    1.00   NaN           NaN  \n",
       "4      22.10  39.33   39.31     7.01    18.89    2.78   NaN           NaN  \n",
       "...      ...    ...     ...      ...      ...     ...   ...           ...  \n",
       "29526   0.47   8.55   23.30     2.24    12.07    0.73  41.0          Good  \n",
       "29527   0.52  12.72   30.14     0.74     2.21    0.38  70.0  Satisfactory  \n",
       "29528   0.48   8.42   30.96     0.01     0.01    0.00  68.0  Satisfactory  \n",
       "29529   0.52   9.84   28.30     0.00     0.00    0.00  54.0  Satisfactory  \n",
       "29530   0.59   2.10   17.05      NaN      NaN     NaN  50.0          Good  \n",
       "\n",
       "[29531 rows x 16 columns]"
      ]
     },
     "execution_count": 4,
     "metadata": {},
     "output_type": "execute_result"
    }
   ],
   "source": [
    "df"
   ]
  },
  {
   "cell_type": "markdown",
   "id": "f15a9802",
   "metadata": {},
   "source": [
    "## 1.Data Pre-processing"
   ]
  },
  {
   "cell_type": "code",
   "execution_count": 5,
   "id": "5e166d54",
   "metadata": {},
   "outputs": [
    {
     "data": {
      "text/plain": [
       "City              0\n",
       "Date              0\n",
       "PM2.5          4598\n",
       "PM10          11140\n",
       "NO             3582\n",
       "NO2            3585\n",
       "NOx            4185\n",
       "NH3           10328\n",
       "CO             2059\n",
       "SO2            3854\n",
       "O3             4022\n",
       "Benzene        5623\n",
       "Toluene        8041\n",
       "Xylene        18109\n",
       "AQI            4681\n",
       "AQI_Bucket     4681\n",
       "dtype: int64"
      ]
     },
     "execution_count": 5,
     "metadata": {},
     "output_type": "execute_result"
    }
   ],
   "source": [
    "df.isnull().sum()"
   ]
  },
  {
   "cell_type": "code",
   "execution_count": 6,
   "id": "ae50e754",
   "metadata": {},
   "outputs": [
    {
     "data": {
      "text/plain": [
       "(29531, 16)"
      ]
     },
     "execution_count": 6,
     "metadata": {},
     "output_type": "execute_result"
    }
   ],
   "source": [
    "df.shape"
   ]
  },
  {
   "cell_type": "code",
   "execution_count": 7,
   "id": "cddbc349",
   "metadata": {},
   "outputs": [
    {
     "data": {
      "text/html": [
       "<div>\n",
       "<style scoped>\n",
       "    .dataframe tbody tr th:only-of-type {\n",
       "        vertical-align: middle;\n",
       "    }\n",
       "\n",
       "    .dataframe tbody tr th {\n",
       "        vertical-align: top;\n",
       "    }\n",
       "\n",
       "    .dataframe thead th {\n",
       "        text-align: right;\n",
       "    }\n",
       "</style>\n",
       "<table border=\"1\" class=\"dataframe\">\n",
       "  <thead>\n",
       "    <tr style=\"text-align: right;\">\n",
       "      <th></th>\n",
       "      <th>City</th>\n",
       "      <th>Date</th>\n",
       "      <th>PM2.5</th>\n",
       "      <th>PM10</th>\n",
       "      <th>NO</th>\n",
       "      <th>NO2</th>\n",
       "      <th>NOx</th>\n",
       "      <th>NH3</th>\n",
       "      <th>CO</th>\n",
       "      <th>SO2</th>\n",
       "      <th>O3</th>\n",
       "      <th>Benzene</th>\n",
       "      <th>Toluene</th>\n",
       "      <th>Xylene</th>\n",
       "      <th>AQI</th>\n",
       "      <th>AQI_Bucket</th>\n",
       "    </tr>\n",
       "  </thead>\n",
       "  <tbody>\n",
       "    <tr>\n",
       "      <th>0</th>\n",
       "      <td>Ahmedabad</td>\n",
       "      <td>01-01-2015</td>\n",
       "      <td>NaN</td>\n",
       "      <td>NaN</td>\n",
       "      <td>0.92</td>\n",
       "      <td>18.22</td>\n",
       "      <td>17.15</td>\n",
       "      <td>NaN</td>\n",
       "      <td>0.92</td>\n",
       "      <td>27.64</td>\n",
       "      <td>133.36</td>\n",
       "      <td>0.00</td>\n",
       "      <td>0.02</td>\n",
       "      <td>0.00</td>\n",
       "      <td>NaN</td>\n",
       "      <td>NaN</td>\n",
       "    </tr>\n",
       "    <tr>\n",
       "      <th>1</th>\n",
       "      <td>Ahmedabad</td>\n",
       "      <td>02-01-2015</td>\n",
       "      <td>NaN</td>\n",
       "      <td>NaN</td>\n",
       "      <td>0.97</td>\n",
       "      <td>15.69</td>\n",
       "      <td>16.46</td>\n",
       "      <td>NaN</td>\n",
       "      <td>0.97</td>\n",
       "      <td>24.55</td>\n",
       "      <td>34.06</td>\n",
       "      <td>3.68</td>\n",
       "      <td>5.50</td>\n",
       "      <td>3.77</td>\n",
       "      <td>NaN</td>\n",
       "      <td>NaN</td>\n",
       "    </tr>\n",
       "    <tr>\n",
       "      <th>2</th>\n",
       "      <td>Ahmedabad</td>\n",
       "      <td>03-01-2015</td>\n",
       "      <td>NaN</td>\n",
       "      <td>NaN</td>\n",
       "      <td>17.40</td>\n",
       "      <td>19.30</td>\n",
       "      <td>29.70</td>\n",
       "      <td>NaN</td>\n",
       "      <td>17.40</td>\n",
       "      <td>29.07</td>\n",
       "      <td>30.70</td>\n",
       "      <td>6.80</td>\n",
       "      <td>16.40</td>\n",
       "      <td>2.25</td>\n",
       "      <td>NaN</td>\n",
       "      <td>NaN</td>\n",
       "    </tr>\n",
       "    <tr>\n",
       "      <th>3</th>\n",
       "      <td>Ahmedabad</td>\n",
       "      <td>04-01-2015</td>\n",
       "      <td>NaN</td>\n",
       "      <td>NaN</td>\n",
       "      <td>1.70</td>\n",
       "      <td>18.48</td>\n",
       "      <td>17.97</td>\n",
       "      <td>NaN</td>\n",
       "      <td>1.70</td>\n",
       "      <td>18.59</td>\n",
       "      <td>36.08</td>\n",
       "      <td>4.43</td>\n",
       "      <td>10.14</td>\n",
       "      <td>1.00</td>\n",
       "      <td>NaN</td>\n",
       "      <td>NaN</td>\n",
       "    </tr>\n",
       "    <tr>\n",
       "      <th>4</th>\n",
       "      <td>Ahmedabad</td>\n",
       "      <td>05-01-2015</td>\n",
       "      <td>NaN</td>\n",
       "      <td>NaN</td>\n",
       "      <td>22.10</td>\n",
       "      <td>21.42</td>\n",
       "      <td>37.76</td>\n",
       "      <td>NaN</td>\n",
       "      <td>22.10</td>\n",
       "      <td>39.33</td>\n",
       "      <td>39.31</td>\n",
       "      <td>7.01</td>\n",
       "      <td>18.89</td>\n",
       "      <td>2.78</td>\n",
       "      <td>NaN</td>\n",
       "      <td>NaN</td>\n",
       "    </tr>\n",
       "  </tbody>\n",
       "</table>\n",
       "</div>"
      ],
      "text/plain": [
       "        City        Date  PM2.5  PM10     NO    NO2    NOx  NH3     CO    SO2  \\\n",
       "0  Ahmedabad  01-01-2015    NaN   NaN   0.92  18.22  17.15  NaN   0.92  27.64   \n",
       "1  Ahmedabad  02-01-2015    NaN   NaN   0.97  15.69  16.46  NaN   0.97  24.55   \n",
       "2  Ahmedabad  03-01-2015    NaN   NaN  17.40  19.30  29.70  NaN  17.40  29.07   \n",
       "3  Ahmedabad  04-01-2015    NaN   NaN   1.70  18.48  17.97  NaN   1.70  18.59   \n",
       "4  Ahmedabad  05-01-2015    NaN   NaN  22.10  21.42  37.76  NaN  22.10  39.33   \n",
       "\n",
       "       O3  Benzene  Toluene  Xylene  AQI AQI_Bucket  \n",
       "0  133.36     0.00     0.02    0.00  NaN        NaN  \n",
       "1   34.06     3.68     5.50    3.77  NaN        NaN  \n",
       "2   30.70     6.80    16.40    2.25  NaN        NaN  \n",
       "3   36.08     4.43    10.14    1.00  NaN        NaN  \n",
       "4   39.31     7.01    18.89    2.78  NaN        NaN  "
      ]
     },
     "execution_count": 7,
     "metadata": {},
     "output_type": "execute_result"
    }
   ],
   "source": [
    "df.head()"
   ]
  },
  {
   "cell_type": "code",
   "execution_count": 8,
   "id": "940c5104",
   "metadata": {},
   "outputs": [
    {
     "data": {
      "text/html": [
       "<div>\n",
       "<style scoped>\n",
       "    .dataframe tbody tr th:only-of-type {\n",
       "        vertical-align: middle;\n",
       "    }\n",
       "\n",
       "    .dataframe tbody tr th {\n",
       "        vertical-align: top;\n",
       "    }\n",
       "\n",
       "    .dataframe thead th {\n",
       "        text-align: right;\n",
       "    }\n",
       "</style>\n",
       "<table border=\"1\" class=\"dataframe\">\n",
       "  <thead>\n",
       "    <tr style=\"text-align: right;\">\n",
       "      <th></th>\n",
       "      <th>City</th>\n",
       "      <th>Date</th>\n",
       "      <th>PM2.5</th>\n",
       "      <th>PM10</th>\n",
       "      <th>NO</th>\n",
       "      <th>NO2</th>\n",
       "      <th>NOx</th>\n",
       "      <th>NH3</th>\n",
       "      <th>CO</th>\n",
       "      <th>SO2</th>\n",
       "      <th>O3</th>\n",
       "      <th>Benzene</th>\n",
       "      <th>Toluene</th>\n",
       "      <th>Xylene</th>\n",
       "      <th>AQI</th>\n",
       "      <th>AQI_Bucket</th>\n",
       "    </tr>\n",
       "  </thead>\n",
       "  <tbody>\n",
       "    <tr>\n",
       "      <th>29526</th>\n",
       "      <td>Visakhapatnam</td>\n",
       "      <td>27-06-2020</td>\n",
       "      <td>15.02</td>\n",
       "      <td>50.94</td>\n",
       "      <td>7.68</td>\n",
       "      <td>25.06</td>\n",
       "      <td>19.54</td>\n",
       "      <td>12.47</td>\n",
       "      <td>0.47</td>\n",
       "      <td>8.55</td>\n",
       "      <td>23.30</td>\n",
       "      <td>2.24</td>\n",
       "      <td>12.07</td>\n",
       "      <td>0.73</td>\n",
       "      <td>41.0</td>\n",
       "      <td>Good</td>\n",
       "    </tr>\n",
       "    <tr>\n",
       "      <th>29527</th>\n",
       "      <td>Visakhapatnam</td>\n",
       "      <td>28-06-2020</td>\n",
       "      <td>24.38</td>\n",
       "      <td>74.09</td>\n",
       "      <td>3.42</td>\n",
       "      <td>26.06</td>\n",
       "      <td>16.53</td>\n",
       "      <td>11.99</td>\n",
       "      <td>0.52</td>\n",
       "      <td>12.72</td>\n",
       "      <td>30.14</td>\n",
       "      <td>0.74</td>\n",
       "      <td>2.21</td>\n",
       "      <td>0.38</td>\n",
       "      <td>70.0</td>\n",
       "      <td>Satisfactory</td>\n",
       "    </tr>\n",
       "    <tr>\n",
       "      <th>29528</th>\n",
       "      <td>Visakhapatnam</td>\n",
       "      <td>29-06-2020</td>\n",
       "      <td>22.91</td>\n",
       "      <td>65.73</td>\n",
       "      <td>3.45</td>\n",
       "      <td>29.53</td>\n",
       "      <td>18.33</td>\n",
       "      <td>10.71</td>\n",
       "      <td>0.48</td>\n",
       "      <td>8.42</td>\n",
       "      <td>30.96</td>\n",
       "      <td>0.01</td>\n",
       "      <td>0.01</td>\n",
       "      <td>0.00</td>\n",
       "      <td>68.0</td>\n",
       "      <td>Satisfactory</td>\n",
       "    </tr>\n",
       "    <tr>\n",
       "      <th>29529</th>\n",
       "      <td>Visakhapatnam</td>\n",
       "      <td>30-06-2020</td>\n",
       "      <td>16.64</td>\n",
       "      <td>49.97</td>\n",
       "      <td>4.05</td>\n",
       "      <td>29.26</td>\n",
       "      <td>18.80</td>\n",
       "      <td>10.03</td>\n",
       "      <td>0.52</td>\n",
       "      <td>9.84</td>\n",
       "      <td>28.30</td>\n",
       "      <td>0.00</td>\n",
       "      <td>0.00</td>\n",
       "      <td>0.00</td>\n",
       "      <td>54.0</td>\n",
       "      <td>Satisfactory</td>\n",
       "    </tr>\n",
       "    <tr>\n",
       "      <th>29530</th>\n",
       "      <td>Visakhapatnam</td>\n",
       "      <td>01-07-2020</td>\n",
       "      <td>15.00</td>\n",
       "      <td>66.00</td>\n",
       "      <td>0.40</td>\n",
       "      <td>26.85</td>\n",
       "      <td>14.05</td>\n",
       "      <td>5.20</td>\n",
       "      <td>0.59</td>\n",
       "      <td>2.10</td>\n",
       "      <td>17.05</td>\n",
       "      <td>NaN</td>\n",
       "      <td>NaN</td>\n",
       "      <td>NaN</td>\n",
       "      <td>50.0</td>\n",
       "      <td>Good</td>\n",
       "    </tr>\n",
       "  </tbody>\n",
       "</table>\n",
       "</div>"
      ],
      "text/plain": [
       "                City        Date  PM2.5   PM10    NO    NO2    NOx    NH3  \\\n",
       "29526  Visakhapatnam  27-06-2020  15.02  50.94  7.68  25.06  19.54  12.47   \n",
       "29527  Visakhapatnam  28-06-2020  24.38  74.09  3.42  26.06  16.53  11.99   \n",
       "29528  Visakhapatnam  29-06-2020  22.91  65.73  3.45  29.53  18.33  10.71   \n",
       "29529  Visakhapatnam  30-06-2020  16.64  49.97  4.05  29.26  18.80  10.03   \n",
       "29530  Visakhapatnam  01-07-2020  15.00  66.00  0.40  26.85  14.05   5.20   \n",
       "\n",
       "         CO    SO2     O3  Benzene  Toluene  Xylene   AQI    AQI_Bucket  \n",
       "29526  0.47   8.55  23.30     2.24    12.07    0.73  41.0          Good  \n",
       "29527  0.52  12.72  30.14     0.74     2.21    0.38  70.0  Satisfactory  \n",
       "29528  0.48   8.42  30.96     0.01     0.01    0.00  68.0  Satisfactory  \n",
       "29529  0.52   9.84  28.30     0.00     0.00    0.00  54.0  Satisfactory  \n",
       "29530  0.59   2.10  17.05      NaN      NaN     NaN  50.0          Good  "
      ]
     },
     "execution_count": 8,
     "metadata": {},
     "output_type": "execute_result"
    }
   ],
   "source": [
    "df.tail()"
   ]
  },
  {
   "cell_type": "code",
   "execution_count": 9,
   "id": "3d9aa732",
   "metadata": {},
   "outputs": [
    {
     "data": {
      "text/html": [
       "<div>\n",
       "<style scoped>\n",
       "    .dataframe tbody tr th:only-of-type {\n",
       "        vertical-align: middle;\n",
       "    }\n",
       "\n",
       "    .dataframe tbody tr th {\n",
       "        vertical-align: top;\n",
       "    }\n",
       "\n",
       "    .dataframe thead th {\n",
       "        text-align: right;\n",
       "    }\n",
       "</style>\n",
       "<table border=\"1\" class=\"dataframe\">\n",
       "  <thead>\n",
       "    <tr style=\"text-align: right;\">\n",
       "      <th></th>\n",
       "      <th>count</th>\n",
       "      <th>mean</th>\n",
       "      <th>std</th>\n",
       "      <th>min</th>\n",
       "      <th>25%</th>\n",
       "      <th>50%</th>\n",
       "      <th>75%</th>\n",
       "      <th>max</th>\n",
       "    </tr>\n",
       "  </thead>\n",
       "  <tbody>\n",
       "    <tr>\n",
       "      <th>PM2.5</th>\n",
       "      <td>24933.0</td>\n",
       "      <td>67.450578</td>\n",
       "      <td>64.661449</td>\n",
       "      <td>0.04</td>\n",
       "      <td>28.820</td>\n",
       "      <td>48.57</td>\n",
       "      <td>80.5900</td>\n",
       "      <td>949.99</td>\n",
       "    </tr>\n",
       "    <tr>\n",
       "      <th>PM10</th>\n",
       "      <td>18391.0</td>\n",
       "      <td>118.127103</td>\n",
       "      <td>90.605110</td>\n",
       "      <td>0.01</td>\n",
       "      <td>56.255</td>\n",
       "      <td>95.68</td>\n",
       "      <td>149.7450</td>\n",
       "      <td>1000.00</td>\n",
       "    </tr>\n",
       "    <tr>\n",
       "      <th>NO</th>\n",
       "      <td>25949.0</td>\n",
       "      <td>17.574730</td>\n",
       "      <td>22.785846</td>\n",
       "      <td>0.02</td>\n",
       "      <td>5.630</td>\n",
       "      <td>9.89</td>\n",
       "      <td>19.9500</td>\n",
       "      <td>390.68</td>\n",
       "    </tr>\n",
       "    <tr>\n",
       "      <th>NO2</th>\n",
       "      <td>25946.0</td>\n",
       "      <td>28.560659</td>\n",
       "      <td>24.474746</td>\n",
       "      <td>0.01</td>\n",
       "      <td>11.750</td>\n",
       "      <td>21.69</td>\n",
       "      <td>37.6200</td>\n",
       "      <td>362.21</td>\n",
       "    </tr>\n",
       "    <tr>\n",
       "      <th>NOx</th>\n",
       "      <td>25346.0</td>\n",
       "      <td>32.309123</td>\n",
       "      <td>31.646011</td>\n",
       "      <td>0.00</td>\n",
       "      <td>12.820</td>\n",
       "      <td>23.52</td>\n",
       "      <td>40.1275</td>\n",
       "      <td>467.63</td>\n",
       "    </tr>\n",
       "    <tr>\n",
       "      <th>NH3</th>\n",
       "      <td>19203.0</td>\n",
       "      <td>23.483476</td>\n",
       "      <td>25.684275</td>\n",
       "      <td>0.01</td>\n",
       "      <td>8.580</td>\n",
       "      <td>15.85</td>\n",
       "      <td>30.0200</td>\n",
       "      <td>352.89</td>\n",
       "    </tr>\n",
       "    <tr>\n",
       "      <th>CO</th>\n",
       "      <td>27472.0</td>\n",
       "      <td>2.248598</td>\n",
       "      <td>6.962884</td>\n",
       "      <td>0.00</td>\n",
       "      <td>0.510</td>\n",
       "      <td>0.89</td>\n",
       "      <td>1.4500</td>\n",
       "      <td>175.81</td>\n",
       "    </tr>\n",
       "    <tr>\n",
       "      <th>SO2</th>\n",
       "      <td>25677.0</td>\n",
       "      <td>14.531977</td>\n",
       "      <td>18.133775</td>\n",
       "      <td>0.01</td>\n",
       "      <td>5.670</td>\n",
       "      <td>9.16</td>\n",
       "      <td>15.2200</td>\n",
       "      <td>193.86</td>\n",
       "    </tr>\n",
       "    <tr>\n",
       "      <th>O3</th>\n",
       "      <td>25509.0</td>\n",
       "      <td>34.491430</td>\n",
       "      <td>21.694928</td>\n",
       "      <td>0.01</td>\n",
       "      <td>18.860</td>\n",
       "      <td>30.84</td>\n",
       "      <td>45.5700</td>\n",
       "      <td>257.73</td>\n",
       "    </tr>\n",
       "    <tr>\n",
       "      <th>Benzene</th>\n",
       "      <td>23908.0</td>\n",
       "      <td>3.280840</td>\n",
       "      <td>15.811136</td>\n",
       "      <td>0.00</td>\n",
       "      <td>0.120</td>\n",
       "      <td>1.07</td>\n",
       "      <td>3.0800</td>\n",
       "      <td>455.03</td>\n",
       "    </tr>\n",
       "    <tr>\n",
       "      <th>Toluene</th>\n",
       "      <td>21490.0</td>\n",
       "      <td>8.700972</td>\n",
       "      <td>19.969164</td>\n",
       "      <td>0.00</td>\n",
       "      <td>0.600</td>\n",
       "      <td>2.97</td>\n",
       "      <td>9.1500</td>\n",
       "      <td>454.85</td>\n",
       "    </tr>\n",
       "    <tr>\n",
       "      <th>Xylene</th>\n",
       "      <td>11422.0</td>\n",
       "      <td>3.070128</td>\n",
       "      <td>6.323247</td>\n",
       "      <td>0.00</td>\n",
       "      <td>0.140</td>\n",
       "      <td>0.98</td>\n",
       "      <td>3.3500</td>\n",
       "      <td>170.37</td>\n",
       "    </tr>\n",
       "    <tr>\n",
       "      <th>AQI</th>\n",
       "      <td>24850.0</td>\n",
       "      <td>166.463581</td>\n",
       "      <td>140.696585</td>\n",
       "      <td>13.00</td>\n",
       "      <td>81.000</td>\n",
       "      <td>118.00</td>\n",
       "      <td>208.0000</td>\n",
       "      <td>2049.00</td>\n",
       "    </tr>\n",
       "  </tbody>\n",
       "</table>\n",
       "</div>"
      ],
      "text/plain": [
       "           count        mean         std    min     25%     50%       75%  \\\n",
       "PM2.5    24933.0   67.450578   64.661449   0.04  28.820   48.57   80.5900   \n",
       "PM10     18391.0  118.127103   90.605110   0.01  56.255   95.68  149.7450   \n",
       "NO       25949.0   17.574730   22.785846   0.02   5.630    9.89   19.9500   \n",
       "NO2      25946.0   28.560659   24.474746   0.01  11.750   21.69   37.6200   \n",
       "NOx      25346.0   32.309123   31.646011   0.00  12.820   23.52   40.1275   \n",
       "NH3      19203.0   23.483476   25.684275   0.01   8.580   15.85   30.0200   \n",
       "CO       27472.0    2.248598    6.962884   0.00   0.510    0.89    1.4500   \n",
       "SO2      25677.0   14.531977   18.133775   0.01   5.670    9.16   15.2200   \n",
       "O3       25509.0   34.491430   21.694928   0.01  18.860   30.84   45.5700   \n",
       "Benzene  23908.0    3.280840   15.811136   0.00   0.120    1.07    3.0800   \n",
       "Toluene  21490.0    8.700972   19.969164   0.00   0.600    2.97    9.1500   \n",
       "Xylene   11422.0    3.070128    6.323247   0.00   0.140    0.98    3.3500   \n",
       "AQI      24850.0  166.463581  140.696585  13.00  81.000  118.00  208.0000   \n",
       "\n",
       "             max  \n",
       "PM2.5     949.99  \n",
       "PM10     1000.00  \n",
       "NO        390.68  \n",
       "NO2       362.21  \n",
       "NOx       467.63  \n",
       "NH3       352.89  \n",
       "CO        175.81  \n",
       "SO2       193.86  \n",
       "O3        257.73  \n",
       "Benzene   455.03  \n",
       "Toluene   454.85  \n",
       "Xylene    170.37  \n",
       "AQI      2049.00  "
      ]
     },
     "execution_count": 9,
     "metadata": {},
     "output_type": "execute_result"
    }
   ],
   "source": [
    "df.describe().T"
   ]
  },
  {
   "cell_type": "code",
   "execution_count": 10,
   "id": "d18af73f",
   "metadata": {},
   "outputs": [
    {
     "name": "stdout",
     "output_type": "stream",
     "text": [
      "<class 'pandas.core.frame.DataFrame'>\n",
      "RangeIndex: 29531 entries, 0 to 29530\n",
      "Data columns (total 16 columns):\n",
      " #   Column      Non-Null Count  Dtype  \n",
      "---  ------      --------------  -----  \n",
      " 0   City        29531 non-null  object \n",
      " 1   Date        29531 non-null  object \n",
      " 2   PM2.5       24933 non-null  float64\n",
      " 3   PM10        18391 non-null  float64\n",
      " 4   NO          25949 non-null  float64\n",
      " 5   NO2         25946 non-null  float64\n",
      " 6   NOx         25346 non-null  float64\n",
      " 7   NH3         19203 non-null  float64\n",
      " 8   CO          27472 non-null  float64\n",
      " 9   SO2         25677 non-null  float64\n",
      " 10  O3          25509 non-null  float64\n",
      " 11  Benzene     23908 non-null  float64\n",
      " 12  Toluene     21490 non-null  float64\n",
      " 13  Xylene      11422 non-null  float64\n",
      " 14  AQI         24850 non-null  float64\n",
      " 15  AQI_Bucket  24850 non-null  object \n",
      "dtypes: float64(13), object(3)\n",
      "memory usage: 3.6+ MB\n"
     ]
    }
   ],
   "source": [
    "df.info()"
   ]
  },
  {
   "cell_type": "code",
   "execution_count": 11,
   "id": "aab3f5e6",
   "metadata": {},
   "outputs": [],
   "source": [
    "df[\"Date\"]= pd.to_datetime(df[\"Date\"])"
   ]
  },
  {
   "cell_type": "code",
   "execution_count": 12,
   "id": "b18aa381",
   "metadata": {},
   "outputs": [
    {
     "data": {
      "text/html": [
       "<div>\n",
       "<style scoped>\n",
       "    .dataframe tbody tr th:only-of-type {\n",
       "        vertical-align: middle;\n",
       "    }\n",
       "\n",
       "    .dataframe tbody tr th {\n",
       "        vertical-align: top;\n",
       "    }\n",
       "\n",
       "    .dataframe thead th {\n",
       "        text-align: right;\n",
       "    }\n",
       "</style>\n",
       "<table border=\"1\" class=\"dataframe\">\n",
       "  <thead>\n",
       "    <tr style=\"text-align: right;\">\n",
       "      <th></th>\n",
       "      <th>City</th>\n",
       "      <th>Date</th>\n",
       "      <th>PM2.5</th>\n",
       "      <th>PM10</th>\n",
       "      <th>NO</th>\n",
       "      <th>NO2</th>\n",
       "      <th>NOx</th>\n",
       "      <th>NH3</th>\n",
       "      <th>CO</th>\n",
       "      <th>SO2</th>\n",
       "      <th>O3</th>\n",
       "      <th>Benzene</th>\n",
       "      <th>Toluene</th>\n",
       "      <th>Xylene</th>\n",
       "      <th>AQI</th>\n",
       "      <th>AQI_Bucket</th>\n",
       "    </tr>\n",
       "  </thead>\n",
       "  <tbody>\n",
       "    <tr>\n",
       "      <th>0</th>\n",
       "      <td>Ahmedabad</td>\n",
       "      <td>2015-01-01</td>\n",
       "      <td>NaN</td>\n",
       "      <td>NaN</td>\n",
       "      <td>0.92</td>\n",
       "      <td>18.22</td>\n",
       "      <td>17.15</td>\n",
       "      <td>NaN</td>\n",
       "      <td>0.92</td>\n",
       "      <td>27.64</td>\n",
       "      <td>133.36</td>\n",
       "      <td>0.00</td>\n",
       "      <td>0.02</td>\n",
       "      <td>0.00</td>\n",
       "      <td>NaN</td>\n",
       "      <td>NaN</td>\n",
       "    </tr>\n",
       "    <tr>\n",
       "      <th>1</th>\n",
       "      <td>Ahmedabad</td>\n",
       "      <td>2015-02-01</td>\n",
       "      <td>NaN</td>\n",
       "      <td>NaN</td>\n",
       "      <td>0.97</td>\n",
       "      <td>15.69</td>\n",
       "      <td>16.46</td>\n",
       "      <td>NaN</td>\n",
       "      <td>0.97</td>\n",
       "      <td>24.55</td>\n",
       "      <td>34.06</td>\n",
       "      <td>3.68</td>\n",
       "      <td>5.50</td>\n",
       "      <td>3.77</td>\n",
       "      <td>NaN</td>\n",
       "      <td>NaN</td>\n",
       "    </tr>\n",
       "    <tr>\n",
       "      <th>2</th>\n",
       "      <td>Ahmedabad</td>\n",
       "      <td>2015-03-01</td>\n",
       "      <td>NaN</td>\n",
       "      <td>NaN</td>\n",
       "      <td>17.40</td>\n",
       "      <td>19.30</td>\n",
       "      <td>29.70</td>\n",
       "      <td>NaN</td>\n",
       "      <td>17.40</td>\n",
       "      <td>29.07</td>\n",
       "      <td>30.70</td>\n",
       "      <td>6.80</td>\n",
       "      <td>16.40</td>\n",
       "      <td>2.25</td>\n",
       "      <td>NaN</td>\n",
       "      <td>NaN</td>\n",
       "    </tr>\n",
       "    <tr>\n",
       "      <th>3</th>\n",
       "      <td>Ahmedabad</td>\n",
       "      <td>2015-04-01</td>\n",
       "      <td>NaN</td>\n",
       "      <td>NaN</td>\n",
       "      <td>1.70</td>\n",
       "      <td>18.48</td>\n",
       "      <td>17.97</td>\n",
       "      <td>NaN</td>\n",
       "      <td>1.70</td>\n",
       "      <td>18.59</td>\n",
       "      <td>36.08</td>\n",
       "      <td>4.43</td>\n",
       "      <td>10.14</td>\n",
       "      <td>1.00</td>\n",
       "      <td>NaN</td>\n",
       "      <td>NaN</td>\n",
       "    </tr>\n",
       "    <tr>\n",
       "      <th>4</th>\n",
       "      <td>Ahmedabad</td>\n",
       "      <td>2015-05-01</td>\n",
       "      <td>NaN</td>\n",
       "      <td>NaN</td>\n",
       "      <td>22.10</td>\n",
       "      <td>21.42</td>\n",
       "      <td>37.76</td>\n",
       "      <td>NaN</td>\n",
       "      <td>22.10</td>\n",
       "      <td>39.33</td>\n",
       "      <td>39.31</td>\n",
       "      <td>7.01</td>\n",
       "      <td>18.89</td>\n",
       "      <td>2.78</td>\n",
       "      <td>NaN</td>\n",
       "      <td>NaN</td>\n",
       "    </tr>\n",
       "    <tr>\n",
       "      <th>...</th>\n",
       "      <td>...</td>\n",
       "      <td>...</td>\n",
       "      <td>...</td>\n",
       "      <td>...</td>\n",
       "      <td>...</td>\n",
       "      <td>...</td>\n",
       "      <td>...</td>\n",
       "      <td>...</td>\n",
       "      <td>...</td>\n",
       "      <td>...</td>\n",
       "      <td>...</td>\n",
       "      <td>...</td>\n",
       "      <td>...</td>\n",
       "      <td>...</td>\n",
       "      <td>...</td>\n",
       "      <td>...</td>\n",
       "    </tr>\n",
       "    <tr>\n",
       "      <th>29526</th>\n",
       "      <td>Visakhapatnam</td>\n",
       "      <td>2020-06-27</td>\n",
       "      <td>15.02</td>\n",
       "      <td>50.94</td>\n",
       "      <td>7.68</td>\n",
       "      <td>25.06</td>\n",
       "      <td>19.54</td>\n",
       "      <td>12.47</td>\n",
       "      <td>0.47</td>\n",
       "      <td>8.55</td>\n",
       "      <td>23.30</td>\n",
       "      <td>2.24</td>\n",
       "      <td>12.07</td>\n",
       "      <td>0.73</td>\n",
       "      <td>41.0</td>\n",
       "      <td>Good</td>\n",
       "    </tr>\n",
       "    <tr>\n",
       "      <th>29527</th>\n",
       "      <td>Visakhapatnam</td>\n",
       "      <td>2020-06-28</td>\n",
       "      <td>24.38</td>\n",
       "      <td>74.09</td>\n",
       "      <td>3.42</td>\n",
       "      <td>26.06</td>\n",
       "      <td>16.53</td>\n",
       "      <td>11.99</td>\n",
       "      <td>0.52</td>\n",
       "      <td>12.72</td>\n",
       "      <td>30.14</td>\n",
       "      <td>0.74</td>\n",
       "      <td>2.21</td>\n",
       "      <td>0.38</td>\n",
       "      <td>70.0</td>\n",
       "      <td>Satisfactory</td>\n",
       "    </tr>\n",
       "    <tr>\n",
       "      <th>29528</th>\n",
       "      <td>Visakhapatnam</td>\n",
       "      <td>2020-06-29</td>\n",
       "      <td>22.91</td>\n",
       "      <td>65.73</td>\n",
       "      <td>3.45</td>\n",
       "      <td>29.53</td>\n",
       "      <td>18.33</td>\n",
       "      <td>10.71</td>\n",
       "      <td>0.48</td>\n",
       "      <td>8.42</td>\n",
       "      <td>30.96</td>\n",
       "      <td>0.01</td>\n",
       "      <td>0.01</td>\n",
       "      <td>0.00</td>\n",
       "      <td>68.0</td>\n",
       "      <td>Satisfactory</td>\n",
       "    </tr>\n",
       "    <tr>\n",
       "      <th>29529</th>\n",
       "      <td>Visakhapatnam</td>\n",
       "      <td>2020-06-30</td>\n",
       "      <td>16.64</td>\n",
       "      <td>49.97</td>\n",
       "      <td>4.05</td>\n",
       "      <td>29.26</td>\n",
       "      <td>18.80</td>\n",
       "      <td>10.03</td>\n",
       "      <td>0.52</td>\n",
       "      <td>9.84</td>\n",
       "      <td>28.30</td>\n",
       "      <td>0.00</td>\n",
       "      <td>0.00</td>\n",
       "      <td>0.00</td>\n",
       "      <td>54.0</td>\n",
       "      <td>Satisfactory</td>\n",
       "    </tr>\n",
       "    <tr>\n",
       "      <th>29530</th>\n",
       "      <td>Visakhapatnam</td>\n",
       "      <td>2020-01-07</td>\n",
       "      <td>15.00</td>\n",
       "      <td>66.00</td>\n",
       "      <td>0.40</td>\n",
       "      <td>26.85</td>\n",
       "      <td>14.05</td>\n",
       "      <td>5.20</td>\n",
       "      <td>0.59</td>\n",
       "      <td>2.10</td>\n",
       "      <td>17.05</td>\n",
       "      <td>NaN</td>\n",
       "      <td>NaN</td>\n",
       "      <td>NaN</td>\n",
       "      <td>50.0</td>\n",
       "      <td>Good</td>\n",
       "    </tr>\n",
       "  </tbody>\n",
       "</table>\n",
       "<p>29531 rows × 16 columns</p>\n",
       "</div>"
      ],
      "text/plain": [
       "                City       Date  PM2.5   PM10     NO    NO2    NOx    NH3  \\\n",
       "0          Ahmedabad 2015-01-01    NaN    NaN   0.92  18.22  17.15    NaN   \n",
       "1          Ahmedabad 2015-02-01    NaN    NaN   0.97  15.69  16.46    NaN   \n",
       "2          Ahmedabad 2015-03-01    NaN    NaN  17.40  19.30  29.70    NaN   \n",
       "3          Ahmedabad 2015-04-01    NaN    NaN   1.70  18.48  17.97    NaN   \n",
       "4          Ahmedabad 2015-05-01    NaN    NaN  22.10  21.42  37.76    NaN   \n",
       "...              ...        ...    ...    ...    ...    ...    ...    ...   \n",
       "29526  Visakhapatnam 2020-06-27  15.02  50.94   7.68  25.06  19.54  12.47   \n",
       "29527  Visakhapatnam 2020-06-28  24.38  74.09   3.42  26.06  16.53  11.99   \n",
       "29528  Visakhapatnam 2020-06-29  22.91  65.73   3.45  29.53  18.33  10.71   \n",
       "29529  Visakhapatnam 2020-06-30  16.64  49.97   4.05  29.26  18.80  10.03   \n",
       "29530  Visakhapatnam 2020-01-07  15.00  66.00   0.40  26.85  14.05   5.20   \n",
       "\n",
       "          CO    SO2      O3  Benzene  Toluene  Xylene   AQI    AQI_Bucket  \n",
       "0       0.92  27.64  133.36     0.00     0.02    0.00   NaN           NaN  \n",
       "1       0.97  24.55   34.06     3.68     5.50    3.77   NaN           NaN  \n",
       "2      17.40  29.07   30.70     6.80    16.40    2.25   NaN           NaN  \n",
       "3       1.70  18.59   36.08     4.43    10.14    1.00   NaN           NaN  \n",
       "4      22.10  39.33   39.31     7.01    18.89    2.78   NaN           NaN  \n",
       "...      ...    ...     ...      ...      ...     ...   ...           ...  \n",
       "29526   0.47   8.55   23.30     2.24    12.07    0.73  41.0          Good  \n",
       "29527   0.52  12.72   30.14     0.74     2.21    0.38  70.0  Satisfactory  \n",
       "29528   0.48   8.42   30.96     0.01     0.01    0.00  68.0  Satisfactory  \n",
       "29529   0.52   9.84   28.30     0.00     0.00    0.00  54.0  Satisfactory  \n",
       "29530   0.59   2.10   17.05      NaN      NaN     NaN  50.0          Good  \n",
       "\n",
       "[29531 rows x 16 columns]"
      ]
     },
     "execution_count": 12,
     "metadata": {},
     "output_type": "execute_result"
    }
   ],
   "source": [
    "df"
   ]
  },
  {
   "cell_type": "code",
   "execution_count": 13,
   "id": "9c62d579",
   "metadata": {},
   "outputs": [
    {
     "name": "stdout",
     "output_type": "stream",
     "text": [
      "<class 'pandas.core.frame.DataFrame'>\n",
      "RangeIndex: 29531 entries, 0 to 29530\n",
      "Data columns (total 16 columns):\n",
      " #   Column      Non-Null Count  Dtype         \n",
      "---  ------      --------------  -----         \n",
      " 0   City        29531 non-null  object        \n",
      " 1   Date        29531 non-null  datetime64[ns]\n",
      " 2   PM2.5       24933 non-null  float64       \n",
      " 3   PM10        18391 non-null  float64       \n",
      " 4   NO          25949 non-null  float64       \n",
      " 5   NO2         25946 non-null  float64       \n",
      " 6   NOx         25346 non-null  float64       \n",
      " 7   NH3         19203 non-null  float64       \n",
      " 8   CO          27472 non-null  float64       \n",
      " 9   SO2         25677 non-null  float64       \n",
      " 10  O3          25509 non-null  float64       \n",
      " 11  Benzene     23908 non-null  float64       \n",
      " 12  Toluene     21490 non-null  float64       \n",
      " 13  Xylene      11422 non-null  float64       \n",
      " 14  AQI         24850 non-null  float64       \n",
      " 15  AQI_Bucket  24850 non-null  object        \n",
      "dtypes: datetime64[ns](1), float64(13), object(2)\n",
      "memory usage: 3.6+ MB\n"
     ]
    }
   ],
   "source": [
    "df.info()"
   ]
  },
  {
   "cell_type": "code",
   "execution_count": 14,
   "id": "fe6a6272",
   "metadata": {},
   "outputs": [],
   "source": [
    "df['Year'] = df['Date'].dt.year"
   ]
  },
  {
   "cell_type": "code",
   "execution_count": 15,
   "id": "9924ed91",
   "metadata": {},
   "outputs": [
    {
     "data": {
      "text/html": [
       "<div>\n",
       "<style scoped>\n",
       "    .dataframe tbody tr th:only-of-type {\n",
       "        vertical-align: middle;\n",
       "    }\n",
       "\n",
       "    .dataframe tbody tr th {\n",
       "        vertical-align: top;\n",
       "    }\n",
       "\n",
       "    .dataframe thead th {\n",
       "        text-align: right;\n",
       "    }\n",
       "</style>\n",
       "<table border=\"1\" class=\"dataframe\">\n",
       "  <thead>\n",
       "    <tr style=\"text-align: right;\">\n",
       "      <th></th>\n",
       "      <th>City</th>\n",
       "      <th>Date</th>\n",
       "      <th>PM2.5</th>\n",
       "      <th>PM10</th>\n",
       "      <th>NO</th>\n",
       "      <th>NO2</th>\n",
       "      <th>NOx</th>\n",
       "      <th>NH3</th>\n",
       "      <th>CO</th>\n",
       "      <th>SO2</th>\n",
       "      <th>O3</th>\n",
       "      <th>Benzene</th>\n",
       "      <th>Toluene</th>\n",
       "      <th>Xylene</th>\n",
       "      <th>AQI</th>\n",
       "      <th>AQI_Bucket</th>\n",
       "      <th>Year</th>\n",
       "    </tr>\n",
       "  </thead>\n",
       "  <tbody>\n",
       "    <tr>\n",
       "      <th>0</th>\n",
       "      <td>Ahmedabad</td>\n",
       "      <td>2015-01-01</td>\n",
       "      <td>NaN</td>\n",
       "      <td>NaN</td>\n",
       "      <td>0.92</td>\n",
       "      <td>18.22</td>\n",
       "      <td>17.15</td>\n",
       "      <td>NaN</td>\n",
       "      <td>0.92</td>\n",
       "      <td>27.64</td>\n",
       "      <td>133.36</td>\n",
       "      <td>0.00</td>\n",
       "      <td>0.02</td>\n",
       "      <td>0.00</td>\n",
       "      <td>NaN</td>\n",
       "      <td>NaN</td>\n",
       "      <td>2015</td>\n",
       "    </tr>\n",
       "    <tr>\n",
       "      <th>1</th>\n",
       "      <td>Ahmedabad</td>\n",
       "      <td>2015-02-01</td>\n",
       "      <td>NaN</td>\n",
       "      <td>NaN</td>\n",
       "      <td>0.97</td>\n",
       "      <td>15.69</td>\n",
       "      <td>16.46</td>\n",
       "      <td>NaN</td>\n",
       "      <td>0.97</td>\n",
       "      <td>24.55</td>\n",
       "      <td>34.06</td>\n",
       "      <td>3.68</td>\n",
       "      <td>5.50</td>\n",
       "      <td>3.77</td>\n",
       "      <td>NaN</td>\n",
       "      <td>NaN</td>\n",
       "      <td>2015</td>\n",
       "    </tr>\n",
       "    <tr>\n",
       "      <th>2</th>\n",
       "      <td>Ahmedabad</td>\n",
       "      <td>2015-03-01</td>\n",
       "      <td>NaN</td>\n",
       "      <td>NaN</td>\n",
       "      <td>17.40</td>\n",
       "      <td>19.30</td>\n",
       "      <td>29.70</td>\n",
       "      <td>NaN</td>\n",
       "      <td>17.40</td>\n",
       "      <td>29.07</td>\n",
       "      <td>30.70</td>\n",
       "      <td>6.80</td>\n",
       "      <td>16.40</td>\n",
       "      <td>2.25</td>\n",
       "      <td>NaN</td>\n",
       "      <td>NaN</td>\n",
       "      <td>2015</td>\n",
       "    </tr>\n",
       "    <tr>\n",
       "      <th>3</th>\n",
       "      <td>Ahmedabad</td>\n",
       "      <td>2015-04-01</td>\n",
       "      <td>NaN</td>\n",
       "      <td>NaN</td>\n",
       "      <td>1.70</td>\n",
       "      <td>18.48</td>\n",
       "      <td>17.97</td>\n",
       "      <td>NaN</td>\n",
       "      <td>1.70</td>\n",
       "      <td>18.59</td>\n",
       "      <td>36.08</td>\n",
       "      <td>4.43</td>\n",
       "      <td>10.14</td>\n",
       "      <td>1.00</td>\n",
       "      <td>NaN</td>\n",
       "      <td>NaN</td>\n",
       "      <td>2015</td>\n",
       "    </tr>\n",
       "    <tr>\n",
       "      <th>4</th>\n",
       "      <td>Ahmedabad</td>\n",
       "      <td>2015-05-01</td>\n",
       "      <td>NaN</td>\n",
       "      <td>NaN</td>\n",
       "      <td>22.10</td>\n",
       "      <td>21.42</td>\n",
       "      <td>37.76</td>\n",
       "      <td>NaN</td>\n",
       "      <td>22.10</td>\n",
       "      <td>39.33</td>\n",
       "      <td>39.31</td>\n",
       "      <td>7.01</td>\n",
       "      <td>18.89</td>\n",
       "      <td>2.78</td>\n",
       "      <td>NaN</td>\n",
       "      <td>NaN</td>\n",
       "      <td>2015</td>\n",
       "    </tr>\n",
       "    <tr>\n",
       "      <th>...</th>\n",
       "      <td>...</td>\n",
       "      <td>...</td>\n",
       "      <td>...</td>\n",
       "      <td>...</td>\n",
       "      <td>...</td>\n",
       "      <td>...</td>\n",
       "      <td>...</td>\n",
       "      <td>...</td>\n",
       "      <td>...</td>\n",
       "      <td>...</td>\n",
       "      <td>...</td>\n",
       "      <td>...</td>\n",
       "      <td>...</td>\n",
       "      <td>...</td>\n",
       "      <td>...</td>\n",
       "      <td>...</td>\n",
       "      <td>...</td>\n",
       "    </tr>\n",
       "    <tr>\n",
       "      <th>29526</th>\n",
       "      <td>Visakhapatnam</td>\n",
       "      <td>2020-06-27</td>\n",
       "      <td>15.02</td>\n",
       "      <td>50.94</td>\n",
       "      <td>7.68</td>\n",
       "      <td>25.06</td>\n",
       "      <td>19.54</td>\n",
       "      <td>12.47</td>\n",
       "      <td>0.47</td>\n",
       "      <td>8.55</td>\n",
       "      <td>23.30</td>\n",
       "      <td>2.24</td>\n",
       "      <td>12.07</td>\n",
       "      <td>0.73</td>\n",
       "      <td>41.0</td>\n",
       "      <td>Good</td>\n",
       "      <td>2020</td>\n",
       "    </tr>\n",
       "    <tr>\n",
       "      <th>29527</th>\n",
       "      <td>Visakhapatnam</td>\n",
       "      <td>2020-06-28</td>\n",
       "      <td>24.38</td>\n",
       "      <td>74.09</td>\n",
       "      <td>3.42</td>\n",
       "      <td>26.06</td>\n",
       "      <td>16.53</td>\n",
       "      <td>11.99</td>\n",
       "      <td>0.52</td>\n",
       "      <td>12.72</td>\n",
       "      <td>30.14</td>\n",
       "      <td>0.74</td>\n",
       "      <td>2.21</td>\n",
       "      <td>0.38</td>\n",
       "      <td>70.0</td>\n",
       "      <td>Satisfactory</td>\n",
       "      <td>2020</td>\n",
       "    </tr>\n",
       "    <tr>\n",
       "      <th>29528</th>\n",
       "      <td>Visakhapatnam</td>\n",
       "      <td>2020-06-29</td>\n",
       "      <td>22.91</td>\n",
       "      <td>65.73</td>\n",
       "      <td>3.45</td>\n",
       "      <td>29.53</td>\n",
       "      <td>18.33</td>\n",
       "      <td>10.71</td>\n",
       "      <td>0.48</td>\n",
       "      <td>8.42</td>\n",
       "      <td>30.96</td>\n",
       "      <td>0.01</td>\n",
       "      <td>0.01</td>\n",
       "      <td>0.00</td>\n",
       "      <td>68.0</td>\n",
       "      <td>Satisfactory</td>\n",
       "      <td>2020</td>\n",
       "    </tr>\n",
       "    <tr>\n",
       "      <th>29529</th>\n",
       "      <td>Visakhapatnam</td>\n",
       "      <td>2020-06-30</td>\n",
       "      <td>16.64</td>\n",
       "      <td>49.97</td>\n",
       "      <td>4.05</td>\n",
       "      <td>29.26</td>\n",
       "      <td>18.80</td>\n",
       "      <td>10.03</td>\n",
       "      <td>0.52</td>\n",
       "      <td>9.84</td>\n",
       "      <td>28.30</td>\n",
       "      <td>0.00</td>\n",
       "      <td>0.00</td>\n",
       "      <td>0.00</td>\n",
       "      <td>54.0</td>\n",
       "      <td>Satisfactory</td>\n",
       "      <td>2020</td>\n",
       "    </tr>\n",
       "    <tr>\n",
       "      <th>29530</th>\n",
       "      <td>Visakhapatnam</td>\n",
       "      <td>2020-01-07</td>\n",
       "      <td>15.00</td>\n",
       "      <td>66.00</td>\n",
       "      <td>0.40</td>\n",
       "      <td>26.85</td>\n",
       "      <td>14.05</td>\n",
       "      <td>5.20</td>\n",
       "      <td>0.59</td>\n",
       "      <td>2.10</td>\n",
       "      <td>17.05</td>\n",
       "      <td>NaN</td>\n",
       "      <td>NaN</td>\n",
       "      <td>NaN</td>\n",
       "      <td>50.0</td>\n",
       "      <td>Good</td>\n",
       "      <td>2020</td>\n",
       "    </tr>\n",
       "  </tbody>\n",
       "</table>\n",
       "<p>29531 rows × 17 columns</p>\n",
       "</div>"
      ],
      "text/plain": [
       "                City       Date  PM2.5   PM10     NO    NO2    NOx    NH3  \\\n",
       "0          Ahmedabad 2015-01-01    NaN    NaN   0.92  18.22  17.15    NaN   \n",
       "1          Ahmedabad 2015-02-01    NaN    NaN   0.97  15.69  16.46    NaN   \n",
       "2          Ahmedabad 2015-03-01    NaN    NaN  17.40  19.30  29.70    NaN   \n",
       "3          Ahmedabad 2015-04-01    NaN    NaN   1.70  18.48  17.97    NaN   \n",
       "4          Ahmedabad 2015-05-01    NaN    NaN  22.10  21.42  37.76    NaN   \n",
       "...              ...        ...    ...    ...    ...    ...    ...    ...   \n",
       "29526  Visakhapatnam 2020-06-27  15.02  50.94   7.68  25.06  19.54  12.47   \n",
       "29527  Visakhapatnam 2020-06-28  24.38  74.09   3.42  26.06  16.53  11.99   \n",
       "29528  Visakhapatnam 2020-06-29  22.91  65.73   3.45  29.53  18.33  10.71   \n",
       "29529  Visakhapatnam 2020-06-30  16.64  49.97   4.05  29.26  18.80  10.03   \n",
       "29530  Visakhapatnam 2020-01-07  15.00  66.00   0.40  26.85  14.05   5.20   \n",
       "\n",
       "          CO    SO2      O3  Benzene  Toluene  Xylene   AQI    AQI_Bucket  \\\n",
       "0       0.92  27.64  133.36     0.00     0.02    0.00   NaN           NaN   \n",
       "1       0.97  24.55   34.06     3.68     5.50    3.77   NaN           NaN   \n",
       "2      17.40  29.07   30.70     6.80    16.40    2.25   NaN           NaN   \n",
       "3       1.70  18.59   36.08     4.43    10.14    1.00   NaN           NaN   \n",
       "4      22.10  39.33   39.31     7.01    18.89    2.78   NaN           NaN   \n",
       "...      ...    ...     ...      ...      ...     ...   ...           ...   \n",
       "29526   0.47   8.55   23.30     2.24    12.07    0.73  41.0          Good   \n",
       "29527   0.52  12.72   30.14     0.74     2.21    0.38  70.0  Satisfactory   \n",
       "29528   0.48   8.42   30.96     0.01     0.01    0.00  68.0  Satisfactory   \n",
       "29529   0.52   9.84   28.30     0.00     0.00    0.00  54.0  Satisfactory   \n",
       "29530   0.59   2.10   17.05      NaN      NaN     NaN  50.0          Good   \n",
       "\n",
       "       Year  \n",
       "0      2015  \n",
       "1      2015  \n",
       "2      2015  \n",
       "3      2015  \n",
       "4      2015  \n",
       "...     ...  \n",
       "29526  2020  \n",
       "29527  2020  \n",
       "29528  2020  \n",
       "29529  2020  \n",
       "29530  2020  \n",
       "\n",
       "[29531 rows x 17 columns]"
      ]
     },
     "execution_count": 15,
     "metadata": {},
     "output_type": "execute_result"
    }
   ],
   "source": [
    "df"
   ]
  },
  {
   "cell_type": "code",
   "execution_count": 16,
   "id": "273c58f6",
   "metadata": {},
   "outputs": [
    {
     "data": {
      "text/plain": [
       "City           0.000000\n",
       "Date           0.000000\n",
       "PM2.5         15.570079\n",
       "PM10          37.723071\n",
       "NO            12.129626\n",
       "NO2           12.139785\n",
       "NOx           14.171549\n",
       "NH3           34.973418\n",
       "CO             6.972334\n",
       "SO2           13.050692\n",
       "O3            13.619586\n",
       "Benzene       19.041008\n",
       "Toluene       27.229014\n",
       "Xylene        61.322001\n",
       "AQI           15.851139\n",
       "AQI_Bucket    15.851139\n",
       "Year           0.000000\n",
       "dtype: float64"
      ]
     },
     "execution_count": 16,
     "metadata": {},
     "output_type": "execute_result"
    }
   ],
   "source": [
    "(df.isnull().sum()/df.shape[0]*100)"
   ]
  },
  {
   "cell_type": "markdown",
   "id": "56703256",
   "metadata": {},
   "source": [
    "## Information Missing value"
   ]
  },
  {
   "cell_type": "code",
   "execution_count": 17,
   "id": "5a1e3180",
   "metadata": {},
   "outputs": [
    {
     "data": {
      "text/plain": [
       "67.45057794890272"
      ]
     },
     "execution_count": 17,
     "metadata": {},
     "output_type": "execute_result"
    }
   ],
   "source": [
    "df['PM2.5'].mean()"
   ]
  },
  {
   "cell_type": "code",
   "execution_count": 18,
   "id": "ffb1d320",
   "metadata": {},
   "outputs": [
    {
     "data": {
      "text/plain": [
       "48.57"
      ]
     },
     "execution_count": 18,
     "metadata": {},
     "output_type": "execute_result"
    }
   ],
   "source": [
    "df['PM2.5'].median()"
   ]
  },
  {
   "cell_type": "code",
   "execution_count": 19,
   "id": "f26bb2a2",
   "metadata": {},
   "outputs": [
    {
     "data": {
      "text/plain": [
       "118.12710293078102"
      ]
     },
     "execution_count": 19,
     "metadata": {},
     "output_type": "execute_result"
    }
   ],
   "source": [
    "df['PM10'].mean()"
   ]
  },
  {
   "cell_type": "code",
   "execution_count": 20,
   "id": "1282f29f",
   "metadata": {},
   "outputs": [
    {
     "data": {
      "text/plain": [
       "95.68"
      ]
     },
     "execution_count": 20,
     "metadata": {},
     "output_type": "execute_result"
    }
   ],
   "source": [
    "df['PM10'].median()"
   ]
  },
  {
   "cell_type": "code",
   "execution_count": 21,
   "id": "ac0a6b8b",
   "metadata": {},
   "outputs": [
    {
     "data": {
      "text/plain": [
       "17.574729662029284"
      ]
     },
     "execution_count": 21,
     "metadata": {},
     "output_type": "execute_result"
    }
   ],
   "source": [
    "df['NO'].mean()"
   ]
  },
  {
   "cell_type": "code",
   "execution_count": 22,
   "id": "d99ddb41",
   "metadata": {},
   "outputs": [
    {
     "data": {
      "text/plain": [
       "9.89"
      ]
     },
     "execution_count": 22,
     "metadata": {},
     "output_type": "execute_result"
    }
   ],
   "source": [
    "df['NO'].median()"
   ]
  },
  {
   "cell_type": "code",
   "execution_count": 23,
   "id": "79c6c31a",
   "metadata": {},
   "outputs": [
    {
     "data": {
      "text/plain": [
       "28.560659061126763"
      ]
     },
     "execution_count": 23,
     "metadata": {},
     "output_type": "execute_result"
    }
   ],
   "source": [
    "df['NO2'].mean()"
   ]
  },
  {
   "cell_type": "code",
   "execution_count": 24,
   "id": "381900e1",
   "metadata": {},
   "outputs": [
    {
     "data": {
      "text/plain": [
       "21.69"
      ]
     },
     "execution_count": 24,
     "metadata": {},
     "output_type": "execute_result"
    }
   ],
   "source": [
    "df['NO2'].median()"
   ]
  },
  {
   "cell_type": "code",
   "execution_count": 25,
   "id": "e56e2d27",
   "metadata": {},
   "outputs": [
    {
     "data": {
      "text/plain": [
       "32.309123333070055"
      ]
     },
     "execution_count": 25,
     "metadata": {},
     "output_type": "execute_result"
    }
   ],
   "source": [
    "df['NOx'].mean()"
   ]
  },
  {
   "cell_type": "code",
   "execution_count": 26,
   "id": "eb7a3c01",
   "metadata": {},
   "outputs": [
    {
     "data": {
      "text/plain": [
       "23.52"
      ]
     },
     "execution_count": 26,
     "metadata": {},
     "output_type": "execute_result"
    }
   ],
   "source": [
    "df['NOx'].median()"
   ]
  },
  {
   "cell_type": "code",
   "execution_count": 27,
   "id": "ed8f05f1",
   "metadata": {},
   "outputs": [
    {
     "data": {
      "text/plain": [
       "23.483476019371977"
      ]
     },
     "execution_count": 27,
     "metadata": {},
     "output_type": "execute_result"
    }
   ],
   "source": [
    "df['NH3'].mean()"
   ]
  },
  {
   "cell_type": "code",
   "execution_count": 28,
   "id": "c8a11f9d",
   "metadata": {},
   "outputs": [
    {
     "data": {
      "text/plain": [
       "15.85"
      ]
     },
     "execution_count": 28,
     "metadata": {},
     "output_type": "execute_result"
    }
   ],
   "source": [
    "df['NH3'].median()"
   ]
  },
  {
   "cell_type": "code",
   "execution_count": 29,
   "id": "def58f73",
   "metadata": {},
   "outputs": [
    {
     "data": {
      "text/plain": [
       "2.248598209085598"
      ]
     },
     "execution_count": 29,
     "metadata": {},
     "output_type": "execute_result"
    }
   ],
   "source": [
    "df['CO'].mean()"
   ]
  },
  {
   "cell_type": "code",
   "execution_count": 30,
   "id": "f3b20763",
   "metadata": {},
   "outputs": [
    {
     "data": {
      "text/plain": [
       "0.89"
      ]
     },
     "execution_count": 30,
     "metadata": {},
     "output_type": "execute_result"
    }
   ],
   "source": [
    "df['CO'].median()"
   ]
  },
  {
   "cell_type": "code",
   "execution_count": 31,
   "id": "37682015",
   "metadata": {},
   "outputs": [
    {
     "data": {
      "text/plain": [
       "14.531977255910002"
      ]
     },
     "execution_count": 31,
     "metadata": {},
     "output_type": "execute_result"
    }
   ],
   "source": [
    "df['SO2'].mean()"
   ]
  },
  {
   "cell_type": "code",
   "execution_count": 32,
   "id": "7c6229d8",
   "metadata": {},
   "outputs": [
    {
     "data": {
      "text/plain": [
       "9.16"
      ]
     },
     "execution_count": 32,
     "metadata": {},
     "output_type": "execute_result"
    }
   ],
   "source": [
    "df['SO2'].median()"
   ]
  },
  {
   "cell_type": "code",
   "execution_count": 33,
   "id": "60b8da49",
   "metadata": {},
   "outputs": [
    {
     "data": {
      "text/plain": [
       "34.49143047551808"
      ]
     },
     "execution_count": 33,
     "metadata": {},
     "output_type": "execute_result"
    }
   ],
   "source": [
    "df['O3'].mean()"
   ]
  },
  {
   "cell_type": "code",
   "execution_count": 34,
   "id": "3f669bb5",
   "metadata": {},
   "outputs": [
    {
     "data": {
      "text/plain": [
       "30.84"
      ]
     },
     "execution_count": 34,
     "metadata": {},
     "output_type": "execute_result"
    }
   ],
   "source": [
    "df['O3'].median()"
   ]
  },
  {
   "cell_type": "code",
   "execution_count": 35,
   "id": "3ff1e65b",
   "metadata": {},
   "outputs": [
    {
     "data": {
      "text/plain": [
       "count    25509.000000\n",
       "mean        34.491430\n",
       "std         21.694928\n",
       "min          0.010000\n",
       "25%         18.860000\n",
       "50%         30.840000\n",
       "75%         45.570000\n",
       "max        257.730000\n",
       "Name: O3, dtype: float64"
      ]
     },
     "execution_count": 35,
     "metadata": {},
     "output_type": "execute_result"
    }
   ],
   "source": [
    "df['O3'].describe()"
   ]
  },
  {
   "cell_type": "code",
   "execution_count": 36,
   "id": "6cba1d1d",
   "metadata": {},
   "outputs": [
    {
     "data": {
      "text/html": [
       "<div>\n",
       "<style scoped>\n",
       "    .dataframe tbody tr th:only-of-type {\n",
       "        vertical-align: middle;\n",
       "    }\n",
       "\n",
       "    .dataframe tbody tr th {\n",
       "        vertical-align: top;\n",
       "    }\n",
       "\n",
       "    .dataframe thead th {\n",
       "        text-align: right;\n",
       "    }\n",
       "</style>\n",
       "<table border=\"1\" class=\"dataframe\">\n",
       "  <thead>\n",
       "    <tr style=\"text-align: right;\">\n",
       "      <th></th>\n",
       "      <th>PM2.5</th>\n",
       "      <th>PM10</th>\n",
       "      <th>NO</th>\n",
       "      <th>NO2</th>\n",
       "      <th>NOx</th>\n",
       "      <th>NH3</th>\n",
       "      <th>CO</th>\n",
       "      <th>SO2</th>\n",
       "      <th>O3</th>\n",
       "      <th>Benzene</th>\n",
       "      <th>Toluene</th>\n",
       "      <th>Xylene</th>\n",
       "      <th>AQI</th>\n",
       "      <th>Year</th>\n",
       "    </tr>\n",
       "  </thead>\n",
       "  <tbody>\n",
       "    <tr>\n",
       "      <th>count</th>\n",
       "      <td>24933.000000</td>\n",
       "      <td>18391.000000</td>\n",
       "      <td>25949.000000</td>\n",
       "      <td>25946.000000</td>\n",
       "      <td>25346.000000</td>\n",
       "      <td>19203.000000</td>\n",
       "      <td>27472.000000</td>\n",
       "      <td>25677.000000</td>\n",
       "      <td>25509.000000</td>\n",
       "      <td>23908.000000</td>\n",
       "      <td>21490.000000</td>\n",
       "      <td>11422.000000</td>\n",
       "      <td>24850.000000</td>\n",
       "      <td>29531.000000</td>\n",
       "    </tr>\n",
       "    <tr>\n",
       "      <th>mean</th>\n",
       "      <td>67.450578</td>\n",
       "      <td>118.127103</td>\n",
       "      <td>17.574730</td>\n",
       "      <td>28.560659</td>\n",
       "      <td>32.309123</td>\n",
       "      <td>23.483476</td>\n",
       "      <td>2.248598</td>\n",
       "      <td>14.531977</td>\n",
       "      <td>34.491430</td>\n",
       "      <td>3.280840</td>\n",
       "      <td>8.700972</td>\n",
       "      <td>3.070128</td>\n",
       "      <td>166.463581</td>\n",
       "      <td>2017.887914</td>\n",
       "    </tr>\n",
       "    <tr>\n",
       "      <th>std</th>\n",
       "      <td>64.661449</td>\n",
       "      <td>90.605110</td>\n",
       "      <td>22.785846</td>\n",
       "      <td>24.474746</td>\n",
       "      <td>31.646011</td>\n",
       "      <td>25.684275</td>\n",
       "      <td>6.962884</td>\n",
       "      <td>18.133775</td>\n",
       "      <td>21.694928</td>\n",
       "      <td>15.811136</td>\n",
       "      <td>19.969164</td>\n",
       "      <td>6.323247</td>\n",
       "      <td>140.696585</td>\n",
       "      <td>1.533783</td>\n",
       "    </tr>\n",
       "    <tr>\n",
       "      <th>min</th>\n",
       "      <td>0.040000</td>\n",
       "      <td>0.010000</td>\n",
       "      <td>0.020000</td>\n",
       "      <td>0.010000</td>\n",
       "      <td>0.000000</td>\n",
       "      <td>0.010000</td>\n",
       "      <td>0.000000</td>\n",
       "      <td>0.010000</td>\n",
       "      <td>0.010000</td>\n",
       "      <td>0.000000</td>\n",
       "      <td>0.000000</td>\n",
       "      <td>0.000000</td>\n",
       "      <td>13.000000</td>\n",
       "      <td>2015.000000</td>\n",
       "    </tr>\n",
       "    <tr>\n",
       "      <th>25%</th>\n",
       "      <td>28.820000</td>\n",
       "      <td>56.255000</td>\n",
       "      <td>5.630000</td>\n",
       "      <td>11.750000</td>\n",
       "      <td>12.820000</td>\n",
       "      <td>8.580000</td>\n",
       "      <td>0.510000</td>\n",
       "      <td>5.670000</td>\n",
       "      <td>18.860000</td>\n",
       "      <td>0.120000</td>\n",
       "      <td>0.600000</td>\n",
       "      <td>0.140000</td>\n",
       "      <td>81.000000</td>\n",
       "      <td>2017.000000</td>\n",
       "    </tr>\n",
       "    <tr>\n",
       "      <th>50%</th>\n",
       "      <td>48.570000</td>\n",
       "      <td>95.680000</td>\n",
       "      <td>9.890000</td>\n",
       "      <td>21.690000</td>\n",
       "      <td>23.520000</td>\n",
       "      <td>15.850000</td>\n",
       "      <td>0.890000</td>\n",
       "      <td>9.160000</td>\n",
       "      <td>30.840000</td>\n",
       "      <td>1.070000</td>\n",
       "      <td>2.970000</td>\n",
       "      <td>0.980000</td>\n",
       "      <td>118.000000</td>\n",
       "      <td>2018.000000</td>\n",
       "    </tr>\n",
       "    <tr>\n",
       "      <th>75%</th>\n",
       "      <td>80.590000</td>\n",
       "      <td>149.745000</td>\n",
       "      <td>19.950000</td>\n",
       "      <td>37.620000</td>\n",
       "      <td>40.127500</td>\n",
       "      <td>30.020000</td>\n",
       "      <td>1.450000</td>\n",
       "      <td>15.220000</td>\n",
       "      <td>45.570000</td>\n",
       "      <td>3.080000</td>\n",
       "      <td>9.150000</td>\n",
       "      <td>3.350000</td>\n",
       "      <td>208.000000</td>\n",
       "      <td>2019.000000</td>\n",
       "    </tr>\n",
       "    <tr>\n",
       "      <th>max</th>\n",
       "      <td>949.990000</td>\n",
       "      <td>1000.000000</td>\n",
       "      <td>390.680000</td>\n",
       "      <td>362.210000</td>\n",
       "      <td>467.630000</td>\n",
       "      <td>352.890000</td>\n",
       "      <td>175.810000</td>\n",
       "      <td>193.860000</td>\n",
       "      <td>257.730000</td>\n",
       "      <td>455.030000</td>\n",
       "      <td>454.850000</td>\n",
       "      <td>170.370000</td>\n",
       "      <td>2049.000000</td>\n",
       "      <td>2020.000000</td>\n",
       "    </tr>\n",
       "  </tbody>\n",
       "</table>\n",
       "</div>"
      ],
      "text/plain": [
       "              PM2.5          PM10            NO           NO2           NOx  \\\n",
       "count  24933.000000  18391.000000  25949.000000  25946.000000  25346.000000   \n",
       "mean      67.450578    118.127103     17.574730     28.560659     32.309123   \n",
       "std       64.661449     90.605110     22.785846     24.474746     31.646011   \n",
       "min        0.040000      0.010000      0.020000      0.010000      0.000000   \n",
       "25%       28.820000     56.255000      5.630000     11.750000     12.820000   \n",
       "50%       48.570000     95.680000      9.890000     21.690000     23.520000   \n",
       "75%       80.590000    149.745000     19.950000     37.620000     40.127500   \n",
       "max      949.990000   1000.000000    390.680000    362.210000    467.630000   \n",
       "\n",
       "                NH3            CO           SO2            O3       Benzene  \\\n",
       "count  19203.000000  27472.000000  25677.000000  25509.000000  23908.000000   \n",
       "mean      23.483476      2.248598     14.531977     34.491430      3.280840   \n",
       "std       25.684275      6.962884     18.133775     21.694928     15.811136   \n",
       "min        0.010000      0.000000      0.010000      0.010000      0.000000   \n",
       "25%        8.580000      0.510000      5.670000     18.860000      0.120000   \n",
       "50%       15.850000      0.890000      9.160000     30.840000      1.070000   \n",
       "75%       30.020000      1.450000     15.220000     45.570000      3.080000   \n",
       "max      352.890000    175.810000    193.860000    257.730000    455.030000   \n",
       "\n",
       "            Toluene        Xylene           AQI          Year  \n",
       "count  21490.000000  11422.000000  24850.000000  29531.000000  \n",
       "mean       8.700972      3.070128    166.463581   2017.887914  \n",
       "std       19.969164      6.323247    140.696585      1.533783  \n",
       "min        0.000000      0.000000     13.000000   2015.000000  \n",
       "25%        0.600000      0.140000     81.000000   2017.000000  \n",
       "50%        2.970000      0.980000    118.000000   2018.000000  \n",
       "75%        9.150000      3.350000    208.000000   2019.000000  \n",
       "max      454.850000    170.370000   2049.000000   2020.000000  "
      ]
     },
     "execution_count": 36,
     "metadata": {},
     "output_type": "execute_result"
    }
   ],
   "source": [
    "df.describe()"
   ]
  },
  {
   "cell_type": "code",
   "execution_count": 37,
   "id": "910994ac",
   "metadata": {},
   "outputs": [
    {
     "data": {
      "text/plain": [
       "Index(['City', 'Date', 'PM2.5', 'PM10', 'NO', 'NO2', 'NOx', 'NH3', 'CO', 'SO2',\n",
       "       'O3', 'Benzene', 'Toluene', 'Xylene', 'AQI', 'AQI_Bucket', 'Year'],\n",
       "      dtype='object')"
      ]
     },
     "execution_count": 37,
     "metadata": {},
     "output_type": "execute_result"
    }
   ],
   "source": [
    "df.columns"
   ]
  },
  {
   "cell_type": "code",
   "execution_count": 38,
   "id": "6e8644c7",
   "metadata": {},
   "outputs": [
    {
     "data": {
      "text/plain": [
       "<AxesSubplot:xlabel='PM10'>"
      ]
     },
     "execution_count": 38,
     "metadata": {},
     "output_type": "execute_result"
    },
    {
     "data": {
      "image/png": "[encoded data removed]",
      "text/plain": [
       "<Figure size 432x288 with 1 Axes>"
      ]
     },
     "metadata": {
      "needs_background": "light"
     },
     "output_type": "display_data"
    }
   ],
   "source": [
    "sns.boxplot(df['PM10'])"
   ]
  },
  {
   "cell_type": "code",
   "execution_count": 39,
   "id": "58f585d6",
   "metadata": {},
   "outputs": [
    {
     "data": {
      "text/plain": [
       "<AxesSubplot:xlabel='PM2.5'>"
      ]
     },
     "execution_count": 39,
     "metadata": {},
     "output_type": "execute_result"
    },
    {
     "data": {
      "image/png": "[encoded data removed]",
      "text/plain": [
       "<Figure size 432x288 with 1 Axes>"
      ]
     },
     "metadata": {
      "needs_background": "light"
     },
     "output_type": "display_data"
    }
   ],
   "source": [
    "sns.boxplot(df['PM2.5'])"
   ]
  },
  {
   "cell_type": "code",
   "execution_count": 40,
   "id": "1662ed33",
   "metadata": {},
   "outputs": [
    {
     "data": {
      "text/plain": [
       "<AxesSubplot:xlabel='NO'>"
      ]
     },
     "execution_count": 40,
     "metadata": {},
     "output_type": "execute_result"
    },
    {
     "data": {
      "image/png": "[encoded data removed]",
      "text/plain": [
       "<Figure size 432x288 with 1 Axes>"
      ]
     },
     "metadata": {
      "needs_background": "light"
     },
     "output_type": "display_data"
    }
   ],
   "source": [
    "sns.boxplot(df['NO'])"
   ]
  },
  {
   "cell_type": "code",
   "execution_count": 41,
   "id": "5726a01b",
   "metadata": {},
   "outputs": [
    {
     "data": {
      "text/plain": [
       "<AxesSubplot:xlabel='NO2'>"
      ]
     },
     "execution_count": 41,
     "metadata": {},
     "output_type": "execute_result"
    },
    {
     "data": {
      "image/png": "[encoded data removed]",
      "text/plain": [
       "<Figure size 432x288 with 1 Axes>"
      ]
     },
     "metadata": {
      "needs_background": "light"
     },
     "output_type": "display_data"
    }
   ],
   "source": [
    "sns.boxplot(df['NO2'])"
   ]
  },
  {
   "cell_type": "code",
   "execution_count": 42,
   "id": "514bfcaa",
   "metadata": {},
   "outputs": [
    {
     "data": {
      "text/plain": [
       "<AxesSubplot:xlabel='NO2'>"
      ]
     },
     "execution_count": 42,
     "metadata": {},
     "output_type": "execute_result"
    },
    {
     "data": {
      "image/png": "[encoded data removed]",
      "text/plain": [
       "<Figure size 432x288 with 1 Axes>"
      ]
     },
     "metadata": {
      "needs_background": "light"
     },
     "output_type": "display_data"
    }
   ],
   "source": [
    "sns.boxplot(df['NO2'])"
   ]
  },
  {
   "cell_type": "code",
   "execution_count": 43,
   "id": "a29040ba",
   "metadata": {},
   "outputs": [
    {
     "data": {
      "text/plain": [
       "<AxesSubplot:xlabel='NOx'>"
      ]
     },
     "execution_count": 43,
     "metadata": {},
     "output_type": "execute_result"
    },
    {
     "data": {
      "image/png": "[encoded data removed]",
      "text/plain": [
       "<Figure size 432x288 with 1 Axes>"
      ]
     },
     "metadata": {
      "needs_background": "light"
     },
     "output_type": "display_data"
    }
   ],
   "source": [
    "sns.boxplot(df['NOx'])"
   ]
  },
  {
   "cell_type": "code",
   "execution_count": 44,
   "id": "0b09fe60",
   "metadata": {},
   "outputs": [
    {
     "data": {
      "text/plain": [
       "<AxesSubplot:xlabel='NH3'>"
      ]
     },
     "execution_count": 44,
     "metadata": {},
     "output_type": "execute_result"
    },
    {
     "data": {
      "image/png": "[encoded data removed]",
      "text/plain": [
       "<Figure size 432x288 with 1 Axes>"
      ]
     },
     "metadata": {
      "needs_background": "light"
     },
     "output_type": "display_data"
    }
   ],
   "source": [
    "sns.boxplot(df['NH3'])"
   ]
  },
  {
   "cell_type": "code",
   "execution_count": 45,
   "id": "63214347",
   "metadata": {},
   "outputs": [
    {
     "data": {
      "text/plain": [
       "<AxesSubplot:xlabel='CO'>"
      ]
     },
     "execution_count": 45,
     "metadata": {},
     "output_type": "execute_result"
    },
    {
     "data": {
      "image/png": "[encoded data removed]",
      "text/plain": [
       "<Figure size 432x288 with 1 Axes>"
      ]
     },
     "metadata": {
      "needs_background": "light"
     },
     "output_type": "display_data"
    }
   ],
   "source": [
    "sns.boxplot(df['CO'])"
   ]
  },
  {
   "cell_type": "code",
   "execution_count": 46,
   "id": "8b14e8ab",
   "metadata": {},
   "outputs": [
    {
     "data": {
      "text/plain": [
       "<AxesSubplot:xlabel='SO2'>"
      ]
     },
     "execution_count": 46,
     "metadata": {},
     "output_type": "execute_result"
    },
    {
     "data": {
      "image/png": "[encoded data removed]",
      "text/plain": [
       "<Figure size 432x288 with 1 Axes>"
      ]
     },
     "metadata": {
      "needs_background": "light"
     },
     "output_type": "display_data"
    }
   ],
   "source": [
    "sns.boxplot(df['SO2'])"
   ]
  },
  {
   "cell_type": "code",
   "execution_count": 47,
   "id": "fcd9a135",
   "metadata": {},
   "outputs": [
    {
     "data": {
      "text/plain": [
       "<AxesSubplot:xlabel='O3'>"
      ]
     },
     "execution_count": 47,
     "metadata": {},
     "output_type": "execute_result"
    },
    {
     "data": {
      "image/png": "[encoded data removed]",
      "text/plain": [
       "<Figure size 432x288 with 1 Axes>"
      ]
     },
     "metadata": {
      "needs_background": "light"
     },
     "output_type": "display_data"
    }
   ],
   "source": [
    "sns.boxplot(df['O3'])"
   ]
  },
  {
   "cell_type": "code",
   "execution_count": 48,
   "id": "074b78fa",
   "metadata": {},
   "outputs": [
    {
     "data": {
      "text/plain": [
       "<AxesSubplot:xlabel='Benzene'>"
      ]
     },
     "execution_count": 48,
     "metadata": {},
     "output_type": "execute_result"
    },
    {
     "data": {
      "image/png": "[encoded data removed]",
      "text/plain": [
       "<Figure size 432x288 with 1 Axes>"
      ]
     },
     "metadata": {
      "needs_background": "light"
     },
     "output_type": "display_data"
    }
   ],
   "source": [
    "sns.boxplot(df['Benzene'])"
   ]
  },
  {
   "cell_type": "code",
   "execution_count": 49,
   "id": "c68e32be",
   "metadata": {},
   "outputs": [
    {
     "data": {
      "text/plain": [
       "<AxesSubplot:xlabel='Toluene'>"
      ]
     },
     "execution_count": 49,
     "metadata": {},
     "output_type": "execute_result"
    },
    {
     "data": {
      "image/png": "[encoded data removed]",
      "text/plain": [
       "<Figure size 432x288 with 1 Axes>"
      ]
     },
     "metadata": {
      "needs_background": "light"
     },
     "output_type": "display_data"
    }
   ],
   "source": [
    "sns.boxplot(df['Toluene'])"
   ]
  },
  {
   "cell_type": "code",
   "execution_count": 50,
   "id": "8b0baaa8",
   "metadata": {},
   "outputs": [
    {
     "data": {
      "text/plain": [
       "<AxesSubplot:xlabel='Xylene'>"
      ]
     },
     "execution_count": 50,
     "metadata": {},
     "output_type": "execute_result"
    },
    {
     "data": {
      "image/png": "[encoded data removed]",
      "text/plain": [
       "<Figure size 432x288 with 1 Axes>"
      ]
     },
     "metadata": {
      "needs_background": "light"
     },
     "output_type": "display_data"
    }
   ],
   "source": [
    "sns.boxplot(df['Xylene'])"
   ]
  },
  {
   "cell_type": "code",
   "execution_count": 51,
   "id": "348670e4",
   "metadata": {},
   "outputs": [
    {
     "data": {
      "text/plain": [
       "<AxesSubplot:xlabel='AQI'>"
      ]
     },
     "execution_count": 51,
     "metadata": {},
     "output_type": "execute_result"
    },
    {
     "data": {
      "image/png": "[encoded data removed]",
      "text/plain": [
       "<Figure size 432x288 with 1 Axes>"
      ]
     },
     "metadata": {
      "needs_background": "light"
     },
     "output_type": "display_data"
    }
   ],
   "source": [
    "sns.boxplot(df['AQI'])"
   ]
  },
  {
   "cell_type": "code",
   "execution_count": 52,
   "id": "b2ed250b",
   "metadata": {},
   "outputs": [
    {
     "data": {
      "text/plain": [
       "<AxesSubplot:xlabel='Year'>"
      ]
     },
     "execution_count": 52,
     "metadata": {},
     "output_type": "execute_result"
    },
    {
     "data": {
      "image/png": "[encoded data removed]",
      "text/plain": [
       "<Figure size 432x288 with 1 Axes>"
      ]
     },
     "metadata": {
      "needs_background": "light"
     },
     "output_type": "display_data"
    }
   ],
   "source": [
    "sns.boxplot(df['Year'])"
   ]
  },
  {
   "cell_type": "code",
   "execution_count": 53,
   "id": "f8f18fc2",
   "metadata": {},
   "outputs": [
    {
     "data": {
      "text/html": [
       "<div>\n",
       "<style scoped>\n",
       "    .dataframe tbody tr th:only-of-type {\n",
       "        vertical-align: middle;\n",
       "    }\n",
       "\n",
       "    .dataframe tbody tr th {\n",
       "        vertical-align: top;\n",
       "    }\n",
       "\n",
       "    .dataframe thead th {\n",
       "        text-align: right;\n",
       "    }\n",
       "</style>\n",
       "<table border=\"1\" class=\"dataframe\">\n",
       "  <thead>\n",
       "    <tr style=\"text-align: right;\">\n",
       "      <th></th>\n",
       "      <th>PM2.5</th>\n",
       "      <th>PM10</th>\n",
       "      <th>NO</th>\n",
       "      <th>NO2</th>\n",
       "      <th>NOx</th>\n",
       "      <th>NH3</th>\n",
       "      <th>CO</th>\n",
       "      <th>SO2</th>\n",
       "      <th>O3</th>\n",
       "      <th>Benzene</th>\n",
       "      <th>Toluene</th>\n",
       "      <th>Xylene</th>\n",
       "      <th>AQI</th>\n",
       "      <th>Year</th>\n",
       "    </tr>\n",
       "  </thead>\n",
       "  <tbody>\n",
       "    <tr>\n",
       "      <th>PM2.5</th>\n",
       "      <td>1.000000</td>\n",
       "      <td>0.846498</td>\n",
       "      <td>0.433491</td>\n",
       "      <td>0.350709</td>\n",
       "      <td>0.436792</td>\n",
       "      <td>0.275086</td>\n",
       "      <td>0.089912</td>\n",
       "      <td>0.132325</td>\n",
       "      <td>0.161238</td>\n",
       "      <td>0.023911</td>\n",
       "      <td>0.117080</td>\n",
       "      <td>0.114579</td>\n",
       "      <td>0.659181</td>\n",
       "      <td>-0.229562</td>\n",
       "    </tr>\n",
       "    <tr>\n",
       "      <th>PM10</th>\n",
       "      <td>0.846498</td>\n",
       "      <td>1.000000</td>\n",
       "      <td>0.502349</td>\n",
       "      <td>0.464380</td>\n",
       "      <td>0.527768</td>\n",
       "      <td>0.376816</td>\n",
       "      <td>0.112588</td>\n",
       "      <td>0.256974</td>\n",
       "      <td>0.244919</td>\n",
       "      <td>0.022265</td>\n",
       "      <td>0.169335</td>\n",
       "      <td>0.081700</td>\n",
       "      <td>0.803313</td>\n",
       "      <td>-0.217182</td>\n",
       "    </tr>\n",
       "    <tr>\n",
       "      <th>NO</th>\n",
       "      <td>0.433491</td>\n",
       "      <td>0.502349</td>\n",
       "      <td>1.000000</td>\n",
       "      <td>0.478070</td>\n",
       "      <td>0.794890</td>\n",
       "      <td>0.185621</td>\n",
       "      <td>0.212607</td>\n",
       "      <td>0.170322</td>\n",
       "      <td>0.014580</td>\n",
       "      <td>0.035771</td>\n",
       "      <td>0.150857</td>\n",
       "      <td>0.094237</td>\n",
       "      <td>0.452191</td>\n",
       "      <td>-0.016900</td>\n",
       "    </tr>\n",
       "    <tr>\n",
       "      <th>NO2</th>\n",
       "      <td>0.350709</td>\n",
       "      <td>0.464380</td>\n",
       "      <td>0.478070</td>\n",
       "      <td>1.000000</td>\n",
       "      <td>0.627627</td>\n",
       "      <td>0.234938</td>\n",
       "      <td>0.356521</td>\n",
       "      <td>0.392233</td>\n",
       "      <td>0.293349</td>\n",
       "      <td>0.025260</td>\n",
       "      <td>0.273926</td>\n",
       "      <td>0.171701</td>\n",
       "      <td>0.537071</td>\n",
       "      <td>-0.066266</td>\n",
       "    </tr>\n",
       "    <tr>\n",
       "      <th>NOx</th>\n",
       "      <td>0.436792</td>\n",
       "      <td>0.527768</td>\n",
       "      <td>0.794890</td>\n",
       "      <td>0.627627</td>\n",
       "      <td>1.000000</td>\n",
       "      <td>0.166224</td>\n",
       "      <td>0.226992</td>\n",
       "      <td>0.238397</td>\n",
       "      <td>0.093170</td>\n",
       "      <td>0.039121</td>\n",
       "      <td>0.189386</td>\n",
       "      <td>0.087398</td>\n",
       "      <td>0.486450</td>\n",
       "      <td>-0.017956</td>\n",
       "    </tr>\n",
       "    <tr>\n",
       "      <th>NH3</th>\n",
       "      <td>0.275086</td>\n",
       "      <td>0.376816</td>\n",
       "      <td>0.185621</td>\n",
       "      <td>0.234938</td>\n",
       "      <td>0.166224</td>\n",
       "      <td>1.000000</td>\n",
       "      <td>0.104891</td>\n",
       "      <td>-0.038998</td>\n",
       "      <td>0.094972</td>\n",
       "      <td>-0.015650</td>\n",
       "      <td>0.013227</td>\n",
       "      <td>-0.019813</td>\n",
       "      <td>0.252019</td>\n",
       "      <td>-0.245343</td>\n",
       "    </tr>\n",
       "    <tr>\n",
       "      <th>CO</th>\n",
       "      <td>0.089912</td>\n",
       "      <td>0.112588</td>\n",
       "      <td>0.212607</td>\n",
       "      <td>0.356521</td>\n",
       "      <td>0.226992</td>\n",
       "      <td>0.104891</td>\n",
       "      <td>1.000000</td>\n",
       "      <td>0.489697</td>\n",
       "      <td>0.041736</td>\n",
       "      <td>0.061861</td>\n",
       "      <td>0.277904</td>\n",
       "      <td>0.154889</td>\n",
       "      <td>0.683346</td>\n",
       "      <td>-0.062637</td>\n",
       "    </tr>\n",
       "    <tr>\n",
       "      <th>SO2</th>\n",
       "      <td>0.132325</td>\n",
       "      <td>0.256974</td>\n",
       "      <td>0.170322</td>\n",
       "      <td>0.392233</td>\n",
       "      <td>0.238397</td>\n",
       "      <td>-0.038998</td>\n",
       "      <td>0.489697</td>\n",
       "      <td>1.000000</td>\n",
       "      <td>0.162142</td>\n",
       "      <td>0.036110</td>\n",
       "      <td>0.296139</td>\n",
       "      <td>0.251195</td>\n",
       "      <td>0.490586</td>\n",
       "      <td>0.040556</td>\n",
       "    </tr>\n",
       "    <tr>\n",
       "      <th>O3</th>\n",
       "      <td>0.161238</td>\n",
       "      <td>0.244919</td>\n",
       "      <td>0.014580</td>\n",
       "      <td>0.293349</td>\n",
       "      <td>0.093170</td>\n",
       "      <td>0.094972</td>\n",
       "      <td>0.041736</td>\n",
       "      <td>0.162142</td>\n",
       "      <td>1.000000</td>\n",
       "      <td>0.020255</td>\n",
       "      <td>0.130209</td>\n",
       "      <td>0.111410</td>\n",
       "      <td>0.198991</td>\n",
       "      <td>-0.019888</td>\n",
       "    </tr>\n",
       "    <tr>\n",
       "      <th>Benzene</th>\n",
       "      <td>0.023911</td>\n",
       "      <td>0.022265</td>\n",
       "      <td>0.035771</td>\n",
       "      <td>0.025260</td>\n",
       "      <td>0.039121</td>\n",
       "      <td>-0.015650</td>\n",
       "      <td>0.061861</td>\n",
       "      <td>0.036110</td>\n",
       "      <td>0.020255</td>\n",
       "      <td>1.000000</td>\n",
       "      <td>0.739286</td>\n",
       "      <td>0.415427</td>\n",
       "      <td>0.044407</td>\n",
       "      <td>0.040542</td>\n",
       "    </tr>\n",
       "    <tr>\n",
       "      <th>Toluene</th>\n",
       "      <td>0.117080</td>\n",
       "      <td>0.169335</td>\n",
       "      <td>0.150857</td>\n",
       "      <td>0.273926</td>\n",
       "      <td>0.189386</td>\n",
       "      <td>0.013227</td>\n",
       "      <td>0.277904</td>\n",
       "      <td>0.296139</td>\n",
       "      <td>0.130209</td>\n",
       "      <td>0.739286</td>\n",
       "      <td>1.000000</td>\n",
       "      <td>0.421432</td>\n",
       "      <td>0.279992</td>\n",
       "      <td>0.094810</td>\n",
       "    </tr>\n",
       "    <tr>\n",
       "      <th>Xylene</th>\n",
       "      <td>0.114579</td>\n",
       "      <td>0.081700</td>\n",
       "      <td>0.094237</td>\n",
       "      <td>0.171701</td>\n",
       "      <td>0.087398</td>\n",
       "      <td>-0.019813</td>\n",
       "      <td>0.154889</td>\n",
       "      <td>0.251195</td>\n",
       "      <td>0.111410</td>\n",
       "      <td>0.415427</td>\n",
       "      <td>0.421432</td>\n",
       "      <td>1.000000</td>\n",
       "      <td>0.165532</td>\n",
       "      <td>0.078125</td>\n",
       "    </tr>\n",
       "    <tr>\n",
       "      <th>AQI</th>\n",
       "      <td>0.659181</td>\n",
       "      <td>0.803313</td>\n",
       "      <td>0.452191</td>\n",
       "      <td>0.537071</td>\n",
       "      <td>0.486450</td>\n",
       "      <td>0.252019</td>\n",
       "      <td>0.683346</td>\n",
       "      <td>0.490586</td>\n",
       "      <td>0.198991</td>\n",
       "      <td>0.044407</td>\n",
       "      <td>0.279992</td>\n",
       "      <td>0.165532</td>\n",
       "      <td>1.000000</td>\n",
       "      <td>-0.192464</td>\n",
       "    </tr>\n",
       "    <tr>\n",
       "      <th>Year</th>\n",
       "      <td>-0.229562</td>\n",
       "      <td>-0.217182</td>\n",
       "      <td>-0.016900</td>\n",
       "      <td>-0.066266</td>\n",
       "      <td>-0.017956</td>\n",
       "      <td>-0.245343</td>\n",
       "      <td>-0.062637</td>\n",
       "      <td>0.040556</td>\n",
       "      <td>-0.019888</td>\n",
       "      <td>0.040542</td>\n",
       "      <td>0.094810</td>\n",
       "      <td>0.078125</td>\n",
       "      <td>-0.192464</td>\n",
       "      <td>1.000000</td>\n",
       "    </tr>\n",
       "  </tbody>\n",
       "</table>\n",
       "</div>"
      ],
      "text/plain": [
       "            PM2.5      PM10        NO       NO2       NOx       NH3        CO  \\\n",
       "PM2.5    1.000000  0.846498  0.433491  0.350709  0.436792  0.275086  0.089912   \n",
       "PM10     0.846498  1.000000  0.502349  0.464380  0.527768  0.376816  0.112588   \n",
       "NO       0.433491  0.502349  1.000000  0.478070  0.794890  0.185621  0.212607   \n",
       "NO2      0.350709  0.464380  0.478070  1.000000  0.627627  0.234938  0.356521   \n",
       "NOx      0.436792  0.527768  0.794890  0.627627  1.000000  0.166224  0.226992   \n",
       "NH3      0.275086  0.376816  0.185621  0.234938  0.166224  1.000000  0.104891   \n",
       "CO       0.089912  0.112588  0.212607  0.356521  0.226992  0.104891  1.000000   \n",
       "SO2      0.132325  0.256974  0.170322  0.392233  0.238397 -0.038998  0.489697   \n",
       "O3       0.161238  0.244919  0.014580  0.293349  0.093170  0.094972  0.041736   \n",
       "Benzene  0.023911  0.022265  0.035771  0.025260  0.039121 -0.015650  0.061861   \n",
       "Toluene  0.117080  0.169335  0.150857  0.273926  0.189386  0.013227  0.277904   \n",
       "Xylene   0.114579  0.081700  0.094237  0.171701  0.087398 -0.019813  0.154889   \n",
       "AQI      0.659181  0.803313  0.452191  0.537071  0.486450  0.252019  0.683346   \n",
       "Year    -0.229562 -0.217182 -0.016900 -0.066266 -0.017956 -0.245343 -0.062637   \n",
       "\n",
       "              SO2        O3   Benzene   Toluene    Xylene       AQI      Year  \n",
       "PM2.5    0.132325  0.161238  0.023911  0.117080  0.114579  0.659181 -0.229562  \n",
       "PM10     0.256974  0.244919  0.022265  0.169335  0.081700  0.803313 -0.217182  \n",
       "NO       0.170322  0.014580  0.035771  0.150857  0.094237  0.452191 -0.016900  \n",
       "NO2      0.392233  0.293349  0.025260  0.273926  0.171701  0.537071 -0.066266  \n",
       "NOx      0.238397  0.093170  0.039121  0.189386  0.087398  0.486450 -0.017956  \n",
       "NH3     -0.038998  0.094972 -0.015650  0.013227 -0.019813  0.252019 -0.245343  \n",
       "CO       0.489697  0.041736  0.061861  0.277904  0.154889  0.683346 -0.062637  \n",
       "SO2      1.000000  0.162142  0.036110  0.296139  0.251195  0.490586  0.040556  \n",
       "O3       0.162142  1.000000  0.020255  0.130209  0.111410  0.198991 -0.019888  \n",
       "Benzene  0.036110  0.020255  1.000000  0.739286  0.415427  0.044407  0.040542  \n",
       "Toluene  0.296139  0.130209  0.739286  1.000000  0.421432  0.279992  0.094810  \n",
       "Xylene   0.251195  0.111410  0.415427  0.421432  1.000000  0.165532  0.078125  \n",
       "AQI      0.490586  0.198991  0.044407  0.279992  0.165532  1.000000 -0.192464  \n",
       "Year     0.040556 -0.019888  0.040542  0.094810  0.078125 -0.192464  1.000000  "
      ]
     },
     "execution_count": 53,
     "metadata": {},
     "output_type": "execute_result"
    }
   ],
   "source": [
    "df.corr()"
   ]
  },
  {
   "cell_type": "code",
   "execution_count": 54,
   "id": "0f163f8f",
   "metadata": {},
   "outputs": [
    {
     "data": {
      "text/html": [
       "<div>\n",
       "<style scoped>\n",
       "    .dataframe tbody tr th:only-of-type {\n",
       "        vertical-align: middle;\n",
       "    }\n",
       "\n",
       "    .dataframe tbody tr th {\n",
       "        vertical-align: top;\n",
       "    }\n",
       "\n",
       "    .dataframe thead th {\n",
       "        text-align: right;\n",
       "    }\n",
       "</style>\n",
       "<table border=\"1\" class=\"dataframe\">\n",
       "  <thead>\n",
       "    <tr style=\"text-align: right;\">\n",
       "      <th></th>\n",
       "      <th>PM2.5</th>\n",
       "      <th>PM10</th>\n",
       "      <th>NO</th>\n",
       "      <th>NO2</th>\n",
       "      <th>NOx</th>\n",
       "      <th>NH3</th>\n",
       "      <th>CO</th>\n",
       "      <th>SO2</th>\n",
       "      <th>O3</th>\n",
       "      <th>Benzene</th>\n",
       "      <th>Toluene</th>\n",
       "      <th>Xylene</th>\n",
       "      <th>AQI</th>\n",
       "      <th>Year</th>\n",
       "    </tr>\n",
       "  </thead>\n",
       "  <tbody>\n",
       "    <tr>\n",
       "      <th>PM2.5</th>\n",
       "      <td>1.000000</td>\n",
       "      <td>0.846498</td>\n",
       "      <td>0.433491</td>\n",
       "      <td>0.350709</td>\n",
       "      <td>0.436792</td>\n",
       "      <td>0.275086</td>\n",
       "      <td>0.089912</td>\n",
       "      <td>0.132325</td>\n",
       "      <td>0.161238</td>\n",
       "      <td>0.023911</td>\n",
       "      <td>0.117080</td>\n",
       "      <td>0.114579</td>\n",
       "      <td>0.659181</td>\n",
       "      <td>-0.229562</td>\n",
       "    </tr>\n",
       "    <tr>\n",
       "      <th>PM10</th>\n",
       "      <td>0.846498</td>\n",
       "      <td>1.000000</td>\n",
       "      <td>0.502349</td>\n",
       "      <td>0.464380</td>\n",
       "      <td>0.527768</td>\n",
       "      <td>0.376816</td>\n",
       "      <td>0.112588</td>\n",
       "      <td>0.256974</td>\n",
       "      <td>0.244919</td>\n",
       "      <td>0.022265</td>\n",
       "      <td>0.169335</td>\n",
       "      <td>0.081700</td>\n",
       "      <td>0.803313</td>\n",
       "      <td>-0.217182</td>\n",
       "    </tr>\n",
       "    <tr>\n",
       "      <th>NO</th>\n",
       "      <td>0.433491</td>\n",
       "      <td>0.502349</td>\n",
       "      <td>1.000000</td>\n",
       "      <td>0.478070</td>\n",
       "      <td>0.794890</td>\n",
       "      <td>0.185621</td>\n",
       "      <td>0.212607</td>\n",
       "      <td>0.170322</td>\n",
       "      <td>0.014580</td>\n",
       "      <td>0.035771</td>\n",
       "      <td>0.150857</td>\n",
       "      <td>0.094237</td>\n",
       "      <td>0.452191</td>\n",
       "      <td>-0.016900</td>\n",
       "    </tr>\n",
       "    <tr>\n",
       "      <th>NO2</th>\n",
       "      <td>0.350709</td>\n",
       "      <td>0.464380</td>\n",
       "      <td>0.478070</td>\n",
       "      <td>1.000000</td>\n",
       "      <td>0.627627</td>\n",
       "      <td>0.234938</td>\n",
       "      <td>0.356521</td>\n",
       "      <td>0.392233</td>\n",
       "      <td>0.293349</td>\n",
       "      <td>0.025260</td>\n",
       "      <td>0.273926</td>\n",
       "      <td>0.171701</td>\n",
       "      <td>0.537071</td>\n",
       "      <td>-0.066266</td>\n",
       "    </tr>\n",
       "    <tr>\n",
       "      <th>NOx</th>\n",
       "      <td>0.436792</td>\n",
       "      <td>0.527768</td>\n",
       "      <td>0.794890</td>\n",
       "      <td>0.627627</td>\n",
       "      <td>1.000000</td>\n",
       "      <td>0.166224</td>\n",
       "      <td>0.226992</td>\n",
       "      <td>0.238397</td>\n",
       "      <td>0.093170</td>\n",
       "      <td>0.039121</td>\n",
       "      <td>0.189386</td>\n",
       "      <td>0.087398</td>\n",
       "      <td>0.486450</td>\n",
       "      <td>-0.017956</td>\n",
       "    </tr>\n",
       "    <tr>\n",
       "      <th>NH3</th>\n",
       "      <td>0.275086</td>\n",
       "      <td>0.376816</td>\n",
       "      <td>0.185621</td>\n",
       "      <td>0.234938</td>\n",
       "      <td>0.166224</td>\n",
       "      <td>1.000000</td>\n",
       "      <td>0.104891</td>\n",
       "      <td>-0.038998</td>\n",
       "      <td>0.094972</td>\n",
       "      <td>-0.015650</td>\n",
       "      <td>0.013227</td>\n",
       "      <td>-0.019813</td>\n",
       "      <td>0.252019</td>\n",
       "      <td>-0.245343</td>\n",
       "    </tr>\n",
       "    <tr>\n",
       "      <th>CO</th>\n",
       "      <td>0.089912</td>\n",
       "      <td>0.112588</td>\n",
       "      <td>0.212607</td>\n",
       "      <td>0.356521</td>\n",
       "      <td>0.226992</td>\n",
       "      <td>0.104891</td>\n",
       "      <td>1.000000</td>\n",
       "      <td>0.489697</td>\n",
       "      <td>0.041736</td>\n",
       "      <td>0.061861</td>\n",
       "      <td>0.277904</td>\n",
       "      <td>0.154889</td>\n",
       "      <td>0.683346</td>\n",
       "      <td>-0.062637</td>\n",
       "    </tr>\n",
       "    <tr>\n",
       "      <th>SO2</th>\n",
       "      <td>0.132325</td>\n",
       "      <td>0.256974</td>\n",
       "      <td>0.170322</td>\n",
       "      <td>0.392233</td>\n",
       "      <td>0.238397</td>\n",
       "      <td>-0.038998</td>\n",
       "      <td>0.489697</td>\n",
       "      <td>1.000000</td>\n",
       "      <td>0.162142</td>\n",
       "      <td>0.036110</td>\n",
       "      <td>0.296139</td>\n",
       "      <td>0.251195</td>\n",
       "      <td>0.490586</td>\n",
       "      <td>0.040556</td>\n",
       "    </tr>\n",
       "    <tr>\n",
       "      <th>O3</th>\n",
       "      <td>0.161238</td>\n",
       "      <td>0.244919</td>\n",
       "      <td>0.014580</td>\n",
       "      <td>0.293349</td>\n",
       "      <td>0.093170</td>\n",
       "      <td>0.094972</td>\n",
       "      <td>0.041736</td>\n",
       "      <td>0.162142</td>\n",
       "      <td>1.000000</td>\n",
       "      <td>0.020255</td>\n",
       "      <td>0.130209</td>\n",
       "      <td>0.111410</td>\n",
       "      <td>0.198991</td>\n",
       "      <td>-0.019888</td>\n",
       "    </tr>\n",
       "    <tr>\n",
       "      <th>Benzene</th>\n",
       "      <td>0.023911</td>\n",
       "      <td>0.022265</td>\n",
       "      <td>0.035771</td>\n",
       "      <td>0.025260</td>\n",
       "      <td>0.039121</td>\n",
       "      <td>-0.015650</td>\n",
       "      <td>0.061861</td>\n",
       "      <td>0.036110</td>\n",
       "      <td>0.020255</td>\n",
       "      <td>1.000000</td>\n",
       "      <td>0.739286</td>\n",
       "      <td>0.415427</td>\n",
       "      <td>0.044407</td>\n",
       "      <td>0.040542</td>\n",
       "    </tr>\n",
       "    <tr>\n",
       "      <th>Toluene</th>\n",
       "      <td>0.117080</td>\n",
       "      <td>0.169335</td>\n",
       "      <td>0.150857</td>\n",
       "      <td>0.273926</td>\n",
       "      <td>0.189386</td>\n",
       "      <td>0.013227</td>\n",
       "      <td>0.277904</td>\n",
       "      <td>0.296139</td>\n",
       "      <td>0.130209</td>\n",
       "      <td>0.739286</td>\n",
       "      <td>1.000000</td>\n",
       "      <td>0.421432</td>\n",
       "      <td>0.279992</td>\n",
       "      <td>0.094810</td>\n",
       "    </tr>\n",
       "    <tr>\n",
       "      <th>Xylene</th>\n",
       "      <td>0.114579</td>\n",
       "      <td>0.081700</td>\n",
       "      <td>0.094237</td>\n",
       "      <td>0.171701</td>\n",
       "      <td>0.087398</td>\n",
       "      <td>-0.019813</td>\n",
       "      <td>0.154889</td>\n",
       "      <td>0.251195</td>\n",
       "      <td>0.111410</td>\n",
       "      <td>0.415427</td>\n",
       "      <td>0.421432</td>\n",
       "      <td>1.000000</td>\n",
       "      <td>0.165532</td>\n",
       "      <td>0.078125</td>\n",
       "    </tr>\n",
       "    <tr>\n",
       "      <th>AQI</th>\n",
       "      <td>0.659181</td>\n",
       "      <td>0.803313</td>\n",
       "      <td>0.452191</td>\n",
       "      <td>0.537071</td>\n",
       "      <td>0.486450</td>\n",
       "      <td>0.252019</td>\n",
       "      <td>0.683346</td>\n",
       "      <td>0.490586</td>\n",
       "      <td>0.198991</td>\n",
       "      <td>0.044407</td>\n",
       "      <td>0.279992</td>\n",
       "      <td>0.165532</td>\n",
       "      <td>1.000000</td>\n",
       "      <td>-0.192464</td>\n",
       "    </tr>\n",
       "    <tr>\n",
       "      <th>Year</th>\n",
       "      <td>-0.229562</td>\n",
       "      <td>-0.217182</td>\n",
       "      <td>-0.016900</td>\n",
       "      <td>-0.066266</td>\n",
       "      <td>-0.017956</td>\n",
       "      <td>-0.245343</td>\n",
       "      <td>-0.062637</td>\n",
       "      <td>0.040556</td>\n",
       "      <td>-0.019888</td>\n",
       "      <td>0.040542</td>\n",
       "      <td>0.094810</td>\n",
       "      <td>0.078125</td>\n",
       "      <td>-0.192464</td>\n",
       "      <td>1.000000</td>\n",
       "    </tr>\n",
       "  </tbody>\n",
       "</table>\n",
       "</div>"
      ],
      "text/plain": [
       "            PM2.5      PM10        NO       NO2       NOx       NH3        CO  \\\n",
       "PM2.5    1.000000  0.846498  0.433491  0.350709  0.436792  0.275086  0.089912   \n",
       "PM10     0.846498  1.000000  0.502349  0.464380  0.527768  0.376816  0.112588   \n",
       "NO       0.433491  0.502349  1.000000  0.478070  0.794890  0.185621  0.212607   \n",
       "NO2      0.350709  0.464380  0.478070  1.000000  0.627627  0.234938  0.356521   \n",
       "NOx      0.436792  0.527768  0.794890  0.627627  1.000000  0.166224  0.226992   \n",
       "NH3      0.275086  0.376816  0.185621  0.234938  0.166224  1.000000  0.104891   \n",
       "CO       0.089912  0.112588  0.212607  0.356521  0.226992  0.104891  1.000000   \n",
       "SO2      0.132325  0.256974  0.170322  0.392233  0.238397 -0.038998  0.489697   \n",
       "O3       0.161238  0.244919  0.014580  0.293349  0.093170  0.094972  0.041736   \n",
       "Benzene  0.023911  0.022265  0.035771  0.025260  0.039121 -0.015650  0.061861   \n",
       "Toluene  0.117080  0.169335  0.150857  0.273926  0.189386  0.013227  0.277904   \n",
       "Xylene   0.114579  0.081700  0.094237  0.171701  0.087398 -0.019813  0.154889   \n",
       "AQI      0.659181  0.803313  0.452191  0.537071  0.486450  0.252019  0.683346   \n",
       "Year    -0.229562 -0.217182 -0.016900 -0.066266 -0.017956 -0.245343 -0.062637   \n",
       "\n",
       "              SO2        O3   Benzene   Toluene    Xylene       AQI      Year  \n",
       "PM2.5    0.132325  0.161238  0.023911  0.117080  0.114579  0.659181 -0.229562  \n",
       "PM10     0.256974  0.244919  0.022265  0.169335  0.081700  0.803313 -0.217182  \n",
       "NO       0.170322  0.014580  0.035771  0.150857  0.094237  0.452191 -0.016900  \n",
       "NO2      0.392233  0.293349  0.025260  0.273926  0.171701  0.537071 -0.066266  \n",
       "NOx      0.238397  0.093170  0.039121  0.189386  0.087398  0.486450 -0.017956  \n",
       "NH3     -0.038998  0.094972 -0.015650  0.013227 -0.019813  0.252019 -0.245343  \n",
       "CO       0.489697  0.041736  0.061861  0.277904  0.154889  0.683346 -0.062637  \n",
       "SO2      1.000000  0.162142  0.036110  0.296139  0.251195  0.490586  0.040556  \n",
       "O3       0.162142  1.000000  0.020255  0.130209  0.111410  0.198991 -0.019888  \n",
       "Benzene  0.036110  0.020255  1.000000  0.739286  0.415427  0.044407  0.040542  \n",
       "Toluene  0.296139  0.130209  0.739286  1.000000  0.421432  0.279992  0.094810  \n",
       "Xylene   0.251195  0.111410  0.415427  0.421432  1.000000  0.165532  0.078125  \n",
       "AQI      0.490586  0.198991  0.044407  0.279992  0.165532  1.000000 -0.192464  \n",
       "Year     0.040556 -0.019888  0.040542  0.094810  0.078125 -0.192464  1.000000  "
      ]
     },
     "execution_count": 54,
     "metadata": {},
     "output_type": "execute_result"
    }
   ],
   "source": [
    "df.corr(method='pearson')"
   ]
  },
  {
   "cell_type": "code",
   "execution_count": 55,
   "id": "81d826ba",
   "metadata": {},
   "outputs": [
    {
     "data": {
      "text/html": [
       "<div>\n",
       "<style scoped>\n",
       "    .dataframe tbody tr th:only-of-type {\n",
       "        vertical-align: middle;\n",
       "    }\n",
       "\n",
       "    .dataframe tbody tr th {\n",
       "        vertical-align: top;\n",
       "    }\n",
       "\n",
       "    .dataframe thead th {\n",
       "        text-align: right;\n",
       "    }\n",
       "</style>\n",
       "<table border=\"1\" class=\"dataframe\">\n",
       "  <thead>\n",
       "    <tr style=\"text-align: right;\">\n",
       "      <th></th>\n",
       "      <th>PM2.5</th>\n",
       "      <th>PM10</th>\n",
       "      <th>NO</th>\n",
       "      <th>NO2</th>\n",
       "      <th>NOx</th>\n",
       "      <th>NH3</th>\n",
       "      <th>CO</th>\n",
       "      <th>SO2</th>\n",
       "      <th>O3</th>\n",
       "      <th>Benzene</th>\n",
       "      <th>Toluene</th>\n",
       "      <th>Xylene</th>\n",
       "      <th>AQI</th>\n",
       "      <th>Year</th>\n",
       "    </tr>\n",
       "  </thead>\n",
       "  <tbody>\n",
       "    <tr>\n",
       "      <th>count</th>\n",
       "      <td>24933.000000</td>\n",
       "      <td>18391.000000</td>\n",
       "      <td>25949.000000</td>\n",
       "      <td>25946.000000</td>\n",
       "      <td>25346.000000</td>\n",
       "      <td>19203.000000</td>\n",
       "      <td>27472.000000</td>\n",
       "      <td>25677.000000</td>\n",
       "      <td>25509.000000</td>\n",
       "      <td>23908.000000</td>\n",
       "      <td>21490.000000</td>\n",
       "      <td>11422.000000</td>\n",
       "      <td>24850.000000</td>\n",
       "      <td>29531.000000</td>\n",
       "    </tr>\n",
       "    <tr>\n",
       "      <th>mean</th>\n",
       "      <td>67.450578</td>\n",
       "      <td>118.127103</td>\n",
       "      <td>17.574730</td>\n",
       "      <td>28.560659</td>\n",
       "      <td>32.309123</td>\n",
       "      <td>23.483476</td>\n",
       "      <td>2.248598</td>\n",
       "      <td>14.531977</td>\n",
       "      <td>34.491430</td>\n",
       "      <td>3.280840</td>\n",
       "      <td>8.700972</td>\n",
       "      <td>3.070128</td>\n",
       "      <td>166.463581</td>\n",
       "      <td>2017.887914</td>\n",
       "    </tr>\n",
       "    <tr>\n",
       "      <th>std</th>\n",
       "      <td>64.661449</td>\n",
       "      <td>90.605110</td>\n",
       "      <td>22.785846</td>\n",
       "      <td>24.474746</td>\n",
       "      <td>31.646011</td>\n",
       "      <td>25.684275</td>\n",
       "      <td>6.962884</td>\n",
       "      <td>18.133775</td>\n",
       "      <td>21.694928</td>\n",
       "      <td>15.811136</td>\n",
       "      <td>19.969164</td>\n",
       "      <td>6.323247</td>\n",
       "      <td>140.696585</td>\n",
       "      <td>1.533783</td>\n",
       "    </tr>\n",
       "    <tr>\n",
       "      <th>min</th>\n",
       "      <td>0.040000</td>\n",
       "      <td>0.010000</td>\n",
       "      <td>0.020000</td>\n",
       "      <td>0.010000</td>\n",
       "      <td>0.000000</td>\n",
       "      <td>0.010000</td>\n",
       "      <td>0.000000</td>\n",
       "      <td>0.010000</td>\n",
       "      <td>0.010000</td>\n",
       "      <td>0.000000</td>\n",
       "      <td>0.000000</td>\n",
       "      <td>0.000000</td>\n",
       "      <td>13.000000</td>\n",
       "      <td>2015.000000</td>\n",
       "    </tr>\n",
       "    <tr>\n",
       "      <th>25%</th>\n",
       "      <td>28.820000</td>\n",
       "      <td>56.255000</td>\n",
       "      <td>5.630000</td>\n",
       "      <td>11.750000</td>\n",
       "      <td>12.820000</td>\n",
       "      <td>8.580000</td>\n",
       "      <td>0.510000</td>\n",
       "      <td>5.670000</td>\n",
       "      <td>18.860000</td>\n",
       "      <td>0.120000</td>\n",
       "      <td>0.600000</td>\n",
       "      <td>0.140000</td>\n",
       "      <td>81.000000</td>\n",
       "      <td>2017.000000</td>\n",
       "    </tr>\n",
       "    <tr>\n",
       "      <th>50%</th>\n",
       "      <td>48.570000</td>\n",
       "      <td>95.680000</td>\n",
       "      <td>9.890000</td>\n",
       "      <td>21.690000</td>\n",
       "      <td>23.520000</td>\n",
       "      <td>15.850000</td>\n",
       "      <td>0.890000</td>\n",
       "      <td>9.160000</td>\n",
       "      <td>30.840000</td>\n",
       "      <td>1.070000</td>\n",
       "      <td>2.970000</td>\n",
       "      <td>0.980000</td>\n",
       "      <td>118.000000</td>\n",
       "      <td>2018.000000</td>\n",
       "    </tr>\n",
       "    <tr>\n",
       "      <th>75%</th>\n",
       "      <td>80.590000</td>\n",
       "      <td>149.745000</td>\n",
       "      <td>19.950000</td>\n",
       "      <td>37.620000</td>\n",
       "      <td>40.127500</td>\n",
       "      <td>30.020000</td>\n",
       "      <td>1.450000</td>\n",
       "      <td>15.220000</td>\n",
       "      <td>45.570000</td>\n",
       "      <td>3.080000</td>\n",
       "      <td>9.150000</td>\n",
       "      <td>3.350000</td>\n",
       "      <td>208.000000</td>\n",
       "      <td>2019.000000</td>\n",
       "    </tr>\n",
       "    <tr>\n",
       "      <th>max</th>\n",
       "      <td>949.990000</td>\n",
       "      <td>1000.000000</td>\n",
       "      <td>390.680000</td>\n",
       "      <td>362.210000</td>\n",
       "      <td>467.630000</td>\n",
       "      <td>352.890000</td>\n",
       "      <td>175.810000</td>\n",
       "      <td>193.860000</td>\n",
       "      <td>257.730000</td>\n",
       "      <td>455.030000</td>\n",
       "      <td>454.850000</td>\n",
       "      <td>170.370000</td>\n",
       "      <td>2049.000000</td>\n",
       "      <td>2020.000000</td>\n",
       "    </tr>\n",
       "  </tbody>\n",
       "</table>\n",
       "</div>"
      ],
      "text/plain": [
       "              PM2.5          PM10            NO           NO2           NOx  \\\n",
       "count  24933.000000  18391.000000  25949.000000  25946.000000  25346.000000   \n",
       "mean      67.450578    118.127103     17.574730     28.560659     32.309123   \n",
       "std       64.661449     90.605110     22.785846     24.474746     31.646011   \n",
       "min        0.040000      0.010000      0.020000      0.010000      0.000000   \n",
       "25%       28.820000     56.255000      5.630000     11.750000     12.820000   \n",
       "50%       48.570000     95.680000      9.890000     21.690000     23.520000   \n",
       "75%       80.590000    149.745000     19.950000     37.620000     40.127500   \n",
       "max      949.990000   1000.000000    390.680000    362.210000    467.630000   \n",
       "\n",
       "                NH3            CO           SO2            O3       Benzene  \\\n",
       "count  19203.000000  27472.000000  25677.000000  25509.000000  23908.000000   \n",
       "mean      23.483476      2.248598     14.531977     34.491430      3.280840   \n",
       "std       25.684275      6.962884     18.133775     21.694928     15.811136   \n",
       "min        0.010000      0.000000      0.010000      0.010000      0.000000   \n",
       "25%        8.580000      0.510000      5.670000     18.860000      0.120000   \n",
       "50%       15.850000      0.890000      9.160000     30.840000      1.070000   \n",
       "75%       30.020000      1.450000     15.220000     45.570000      3.080000   \n",
       "max      352.890000    175.810000    193.860000    257.730000    455.030000   \n",
       "\n",
       "            Toluene        Xylene           AQI          Year  \n",
       "count  21490.000000  11422.000000  24850.000000  29531.000000  \n",
       "mean       8.700972      3.070128    166.463581   2017.887914  \n",
       "std       19.969164      6.323247    140.696585      1.533783  \n",
       "min        0.000000      0.000000     13.000000   2015.000000  \n",
       "25%        0.600000      0.140000     81.000000   2017.000000  \n",
       "50%        2.970000      0.980000    118.000000   2018.000000  \n",
       "75%        9.150000      3.350000    208.000000   2019.000000  \n",
       "max      454.850000    170.370000   2049.000000   2020.000000  "
      ]
     },
     "execution_count": 55,
     "metadata": {},
     "output_type": "execute_result"
    }
   ],
   "source": [
    "df.describe()"
   ]
  },
  {
   "cell_type": "code",
   "execution_count": 56,
   "id": "d017c69e",
   "metadata": {},
   "outputs": [
    {
     "data": {
      "text/plain": [
       "<AxesSubplot:xlabel='PM2.5', ylabel='Density'>"
      ]
     },
     "execution_count": 56,
     "metadata": {},
     "output_type": "execute_result"
    },
    {
     "data": {
      "image/png": "[encoded data removed]",
      "text/plain": [
       "<Figure size 432x288 with 1 Axes>"
      ]
     },
     "metadata": {
      "needs_background": "light"
     },
     "output_type": "display_data"
    }
   ],
   "source": [
    "sns.distplot(df['PM2.5'].dropna())"
   ]
  },
  {
   "cell_type": "code",
   "execution_count": 57,
   "id": "8456d9e4",
   "metadata": {},
   "outputs": [
    {
     "data": {
      "text/plain": [
       "<AxesSubplot:xlabel='PM10', ylabel='Density'>"
      ]
     },
     "execution_count": 57,
     "metadata": {},
     "output_type": "execute_result"
    },
    {
     "data": {
      "image/png": "[encoded data removed]",
      "text/plain": [
       "<Figure size 432x288 with 1 Axes>"
      ]
     },
     "metadata": {
      "needs_background": "light"
     },
     "output_type": "display_data"
    }
   ],
   "source": [
    "sns.distplot(df['PM10'].dropna())"
   ]
  },
  {
   "cell_type": "code",
   "execution_count": 58,
   "id": "10700eb0",
   "metadata": {},
   "outputs": [
    {
     "data": {
      "text/plain": [
       "<AxesSubplot:xlabel='NO', ylabel='Density'>"
      ]
     },
     "execution_count": 58,
     "metadata": {},
     "output_type": "execute_result"
    },
    {
     "data": {
      "image/png": "[encoded data removed]",
      "text/plain": [
       "<Figure size 432x288 with 1 Axes>"
      ]
     },
     "metadata": {
      "needs_background": "light"
     },
     "output_type": "display_data"
    }
   ],
   "source": [
    "sns.distplot(df['NO'].dropna())"
   ]
  },
  {
   "cell_type": "code",
   "execution_count": 59,
   "id": "f4e2ca3b",
   "metadata": {},
   "outputs": [
    {
     "data": {
      "text/plain": [
       "<AxesSubplot:xlabel='O3', ylabel='Density'>"
      ]
     },
     "execution_count": 59,
     "metadata": {},
     "output_type": "execute_result"
    },
    {
     "data": {
      "image/png": "[encoded data removed]",
      "text/plain": [
       "<Figure size 432x288 with 1 Axes>"
      ]
     },
     "metadata": {
      "needs_background": "light"
     },
     "output_type": "display_data"
    }
   ],
   "source": [
    "sns.distplot(df['O3'].dropna())"
   ]
  },
  {
   "cell_type": "code",
   "execution_count": 60,
   "id": "a219a71c",
   "metadata": {},
   "outputs": [
    {
     "data": {
      "text/plain": [
       "<AxesSubplot:xlabel='Year', ylabel='Density'>"
      ]
     },
     "execution_count": 60,
     "metadata": {},
     "output_type": "execute_result"
    },
    {
     "data": {
      "image/png": "[encoded data removed]",
      "text/plain": [
       "<Figure size 432x288 with 1 Axes>"
      ]
     },
     "metadata": {
      "needs_background": "light"
     },
     "output_type": "display_data"
    }
   ],
   "source": [
    "sns.distplot(df['Year'].dropna())"
   ]
  },
  {
   "cell_type": "code",
   "execution_count": 61,
   "id": "41eaf8a1",
   "metadata": {},
   "outputs": [
    {
     "data": {
      "text/plain": [
       "<AxesSubplot:xlabel='AQI', ylabel='Density'>"
      ]
     },
     "execution_count": 61,
     "metadata": {},
     "output_type": "execute_result"
    },
    {
     "data": {
      "image/png": "[encoded data removed]",
      "text/plain": [
       "<Figure size 432x288 with 1 Axes>"
      ]
     },
     "metadata": {
      "needs_background": "light"
     },
     "output_type": "display_data"
    }
   ],
   "source": [
    "sns.distplot(df['AQI'].dropna())"
   ]
  },
  {
   "cell_type": "code",
   "execution_count": 62,
   "id": "aa5a14cc",
   "metadata": {},
   "outputs": [
    {
     "data": {
      "text/plain": [
       "<AxesSubplot:xlabel='Benzene', ylabel='Density'>"
      ]
     },
     "execution_count": 62,
     "metadata": {},
     "output_type": "execute_result"
    },
    {
     "data": {
      "image/png": "[encoded data removed]",
      "text/plain": [
       "<Figure size 432x288 with 1 Axes>"
      ]
     },
     "metadata": {
      "needs_background": "light"
     },
     "output_type": "display_data"
    }
   ],
   "source": [
    "sns.distplot(df['Benzene'].dropna())"
   ]
  },
  {
   "cell_type": "code",
   "execution_count": 63,
   "id": "1c003819",
   "metadata": {},
   "outputs": [
    {
     "data": {
      "text/plain": [
       "<AxesSubplot:xlabel='Xylene', ylabel='Density'>"
      ]
     },
     "execution_count": 63,
     "metadata": {},
     "output_type": "execute_result"
    },
    {
     "data": {
      "image/png": "[encoded data removed]",
      "text/plain": [
       "<Figure size 432x288 with 1 Axes>"
      ]
     },
     "metadata": {
      "needs_background": "light"
     },
     "output_type": "display_data"
    }
   ],
   "source": [
    "sns.distplot(df['Xylene'].dropna())"
   ]
  },
  {
   "cell_type": "code",
   "execution_count": 64,
   "id": "34a3de44",
   "metadata": {},
   "outputs": [
    {
     "data": {
      "text/plain": [
       "<AxesSubplot:xlabel='Benzene', ylabel='Density'>"
      ]
     },
     "execution_count": 64,
     "metadata": {},
     "output_type": "execute_result"
    },
    {
     "data": {
      "image/png": "[encoded data removed]",
      "text/plain": [
       "<Figure size 432x288 with 1 Axes>"
      ]
     },
     "metadata": {
      "needs_background": "light"
     },
     "output_type": "display_data"
    }
   ],
   "source": [
    "sns.distplot(df['Benzene'].dropna())"
   ]
  },
  {
   "cell_type": "code",
   "execution_count": 65,
   "id": "950880b2",
   "metadata": {},
   "outputs": [
    {
     "data": {
      "text/html": [
       "<div>\n",
       "<style scoped>\n",
       "    .dataframe tbody tr th:only-of-type {\n",
       "        vertical-align: middle;\n",
       "    }\n",
       "\n",
       "    .dataframe tbody tr th {\n",
       "        vertical-align: top;\n",
       "    }\n",
       "\n",
       "    .dataframe thead th {\n",
       "        text-align: right;\n",
       "    }\n",
       "</style>\n",
       "<table border=\"1\" class=\"dataframe\">\n",
       "  <thead>\n",
       "    <tr style=\"text-align: right;\">\n",
       "      <th></th>\n",
       "      <th>PM2.5</th>\n",
       "      <th>PM10</th>\n",
       "      <th>NO</th>\n",
       "      <th>NO2</th>\n",
       "      <th>NOx</th>\n",
       "      <th>NH3</th>\n",
       "      <th>CO</th>\n",
       "      <th>SO2</th>\n",
       "      <th>O3</th>\n",
       "      <th>Benzene</th>\n",
       "      <th>Toluene</th>\n",
       "      <th>Xylene</th>\n",
       "      <th>AQI</th>\n",
       "      <th>Year</th>\n",
       "    </tr>\n",
       "  </thead>\n",
       "  <tbody>\n",
       "    <tr>\n",
       "      <th>PM2.5</th>\n",
       "      <td>1.000000</td>\n",
       "      <td>0.846498</td>\n",
       "      <td>0.433491</td>\n",
       "      <td>0.350709</td>\n",
       "      <td>0.436792</td>\n",
       "      <td>0.275086</td>\n",
       "      <td>0.089912</td>\n",
       "      <td>0.132325</td>\n",
       "      <td>0.161238</td>\n",
       "      <td>0.023911</td>\n",
       "      <td>0.117080</td>\n",
       "      <td>0.114579</td>\n",
       "      <td>0.659181</td>\n",
       "      <td>-0.229562</td>\n",
       "    </tr>\n",
       "    <tr>\n",
       "      <th>PM10</th>\n",
       "      <td>0.846498</td>\n",
       "      <td>1.000000</td>\n",
       "      <td>0.502349</td>\n",
       "      <td>0.464380</td>\n",
       "      <td>0.527768</td>\n",
       "      <td>0.376816</td>\n",
       "      <td>0.112588</td>\n",
       "      <td>0.256974</td>\n",
       "      <td>0.244919</td>\n",
       "      <td>0.022265</td>\n",
       "      <td>0.169335</td>\n",
       "      <td>0.081700</td>\n",
       "      <td>0.803313</td>\n",
       "      <td>-0.217182</td>\n",
       "    </tr>\n",
       "    <tr>\n",
       "      <th>NO</th>\n",
       "      <td>0.433491</td>\n",
       "      <td>0.502349</td>\n",
       "      <td>1.000000</td>\n",
       "      <td>0.478070</td>\n",
       "      <td>0.794890</td>\n",
       "      <td>0.185621</td>\n",
       "      <td>0.212607</td>\n",
       "      <td>0.170322</td>\n",
       "      <td>0.014580</td>\n",
       "      <td>0.035771</td>\n",
       "      <td>0.150857</td>\n",
       "      <td>0.094237</td>\n",
       "      <td>0.452191</td>\n",
       "      <td>-0.016900</td>\n",
       "    </tr>\n",
       "    <tr>\n",
       "      <th>NO2</th>\n",
       "      <td>0.350709</td>\n",
       "      <td>0.464380</td>\n",
       "      <td>0.478070</td>\n",
       "      <td>1.000000</td>\n",
       "      <td>0.627627</td>\n",
       "      <td>0.234938</td>\n",
       "      <td>0.356521</td>\n",
       "      <td>0.392233</td>\n",
       "      <td>0.293349</td>\n",
       "      <td>0.025260</td>\n",
       "      <td>0.273926</td>\n",
       "      <td>0.171701</td>\n",
       "      <td>0.537071</td>\n",
       "      <td>-0.066266</td>\n",
       "    </tr>\n",
       "    <tr>\n",
       "      <th>NOx</th>\n",
       "      <td>0.436792</td>\n",
       "      <td>0.527768</td>\n",
       "      <td>0.794890</td>\n",
       "      <td>0.627627</td>\n",
       "      <td>1.000000</td>\n",
       "      <td>0.166224</td>\n",
       "      <td>0.226992</td>\n",
       "      <td>0.238397</td>\n",
       "      <td>0.093170</td>\n",
       "      <td>0.039121</td>\n",
       "      <td>0.189386</td>\n",
       "      <td>0.087398</td>\n",
       "      <td>0.486450</td>\n",
       "      <td>-0.017956</td>\n",
       "    </tr>\n",
       "    <tr>\n",
       "      <th>NH3</th>\n",
       "      <td>0.275086</td>\n",
       "      <td>0.376816</td>\n",
       "      <td>0.185621</td>\n",
       "      <td>0.234938</td>\n",
       "      <td>0.166224</td>\n",
       "      <td>1.000000</td>\n",
       "      <td>0.104891</td>\n",
       "      <td>-0.038998</td>\n",
       "      <td>0.094972</td>\n",
       "      <td>-0.015650</td>\n",
       "      <td>0.013227</td>\n",
       "      <td>-0.019813</td>\n",
       "      <td>0.252019</td>\n",
       "      <td>-0.245343</td>\n",
       "    </tr>\n",
       "    <tr>\n",
       "      <th>CO</th>\n",
       "      <td>0.089912</td>\n",
       "      <td>0.112588</td>\n",
       "      <td>0.212607</td>\n",
       "      <td>0.356521</td>\n",
       "      <td>0.226992</td>\n",
       "      <td>0.104891</td>\n",
       "      <td>1.000000</td>\n",
       "      <td>0.489697</td>\n",
       "      <td>0.041736</td>\n",
       "      <td>0.061861</td>\n",
       "      <td>0.277904</td>\n",
       "      <td>0.154889</td>\n",
       "      <td>0.683346</td>\n",
       "      <td>-0.062637</td>\n",
       "    </tr>\n",
       "    <tr>\n",
       "      <th>SO2</th>\n",
       "      <td>0.132325</td>\n",
       "      <td>0.256974</td>\n",
       "      <td>0.170322</td>\n",
       "      <td>0.392233</td>\n",
       "      <td>0.238397</td>\n",
       "      <td>-0.038998</td>\n",
       "      <td>0.489697</td>\n",
       "      <td>1.000000</td>\n",
       "      <td>0.162142</td>\n",
       "      <td>0.036110</td>\n",
       "      <td>0.296139</td>\n",
       "      <td>0.251195</td>\n",
       "      <td>0.490586</td>\n",
       "      <td>0.040556</td>\n",
       "    </tr>\n",
       "    <tr>\n",
       "      <th>O3</th>\n",
       "      <td>0.161238</td>\n",
       "      <td>0.244919</td>\n",
       "      <td>0.014580</td>\n",
       "      <td>0.293349</td>\n",
       "      <td>0.093170</td>\n",
       "      <td>0.094972</td>\n",
       "      <td>0.041736</td>\n",
       "      <td>0.162142</td>\n",
       "      <td>1.000000</td>\n",
       "      <td>0.020255</td>\n",
       "      <td>0.130209</td>\n",
       "      <td>0.111410</td>\n",
       "      <td>0.198991</td>\n",
       "      <td>-0.019888</td>\n",
       "    </tr>\n",
       "    <tr>\n",
       "      <th>Benzene</th>\n",
       "      <td>0.023911</td>\n",
       "      <td>0.022265</td>\n",
       "      <td>0.035771</td>\n",
       "      <td>0.025260</td>\n",
       "      <td>0.039121</td>\n",
       "      <td>-0.015650</td>\n",
       "      <td>0.061861</td>\n",
       "      <td>0.036110</td>\n",
       "      <td>0.020255</td>\n",
       "      <td>1.000000</td>\n",
       "      <td>0.739286</td>\n",
       "      <td>0.415427</td>\n",
       "      <td>0.044407</td>\n",
       "      <td>0.040542</td>\n",
       "    </tr>\n",
       "    <tr>\n",
       "      <th>Toluene</th>\n",
       "      <td>0.117080</td>\n",
       "      <td>0.169335</td>\n",
       "      <td>0.150857</td>\n",
       "      <td>0.273926</td>\n",
       "      <td>0.189386</td>\n",
       "      <td>0.013227</td>\n",
       "      <td>0.277904</td>\n",
       "      <td>0.296139</td>\n",
       "      <td>0.130209</td>\n",
       "      <td>0.739286</td>\n",
       "      <td>1.000000</td>\n",
       "      <td>0.421432</td>\n",
       "      <td>0.279992</td>\n",
       "      <td>0.094810</td>\n",
       "    </tr>\n",
       "    <tr>\n",
       "      <th>Xylene</th>\n",
       "      <td>0.114579</td>\n",
       "      <td>0.081700</td>\n",
       "      <td>0.094237</td>\n",
       "      <td>0.171701</td>\n",
       "      <td>0.087398</td>\n",
       "      <td>-0.019813</td>\n",
       "      <td>0.154889</td>\n",
       "      <td>0.251195</td>\n",
       "      <td>0.111410</td>\n",
       "      <td>0.415427</td>\n",
       "      <td>0.421432</td>\n",
       "      <td>1.000000</td>\n",
       "      <td>0.165532</td>\n",
       "      <td>0.078125</td>\n",
       "    </tr>\n",
       "    <tr>\n",
       "      <th>AQI</th>\n",
       "      <td>0.659181</td>\n",
       "      <td>0.803313</td>\n",
       "      <td>0.452191</td>\n",
       "      <td>0.537071</td>\n",
       "      <td>0.486450</td>\n",
       "      <td>0.252019</td>\n",
       "      <td>0.683346</td>\n",
       "      <td>0.490586</td>\n",
       "      <td>0.198991</td>\n",
       "      <td>0.044407</td>\n",
       "      <td>0.279992</td>\n",
       "      <td>0.165532</td>\n",
       "      <td>1.000000</td>\n",
       "      <td>-0.192464</td>\n",
       "    </tr>\n",
       "    <tr>\n",
       "      <th>Year</th>\n",
       "      <td>-0.229562</td>\n",
       "      <td>-0.217182</td>\n",
       "      <td>-0.016900</td>\n",
       "      <td>-0.066266</td>\n",
       "      <td>-0.017956</td>\n",
       "      <td>-0.245343</td>\n",
       "      <td>-0.062637</td>\n",
       "      <td>0.040556</td>\n",
       "      <td>-0.019888</td>\n",
       "      <td>0.040542</td>\n",
       "      <td>0.094810</td>\n",
       "      <td>0.078125</td>\n",
       "      <td>-0.192464</td>\n",
       "      <td>1.000000</td>\n",
       "    </tr>\n",
       "  </tbody>\n",
       "</table>\n",
       "</div>"
      ],
      "text/plain": [
       "            PM2.5      PM10        NO       NO2       NOx       NH3        CO  \\\n",
       "PM2.5    1.000000  0.846498  0.433491  0.350709  0.436792  0.275086  0.089912   \n",
       "PM10     0.846498  1.000000  0.502349  0.464380  0.527768  0.376816  0.112588   \n",
       "NO       0.433491  0.502349  1.000000  0.478070  0.794890  0.185621  0.212607   \n",
       "NO2      0.350709  0.464380  0.478070  1.000000  0.627627  0.234938  0.356521   \n",
       "NOx      0.436792  0.527768  0.794890  0.627627  1.000000  0.166224  0.226992   \n",
       "NH3      0.275086  0.376816  0.185621  0.234938  0.166224  1.000000  0.104891   \n",
       "CO       0.089912  0.112588  0.212607  0.356521  0.226992  0.104891  1.000000   \n",
       "SO2      0.132325  0.256974  0.170322  0.392233  0.238397 -0.038998  0.489697   \n",
       "O3       0.161238  0.244919  0.014580  0.293349  0.093170  0.094972  0.041736   \n",
       "Benzene  0.023911  0.022265  0.035771  0.025260  0.039121 -0.015650  0.061861   \n",
       "Toluene  0.117080  0.169335  0.150857  0.273926  0.189386  0.013227  0.277904   \n",
       "Xylene   0.114579  0.081700  0.094237  0.171701  0.087398 -0.019813  0.154889   \n",
       "AQI      0.659181  0.803313  0.452191  0.537071  0.486450  0.252019  0.683346   \n",
       "Year    -0.229562 -0.217182 -0.016900 -0.066266 -0.017956 -0.245343 -0.062637   \n",
       "\n",
       "              SO2        O3   Benzene   Toluene    Xylene       AQI      Year  \n",
       "PM2.5    0.132325  0.161238  0.023911  0.117080  0.114579  0.659181 -0.229562  \n",
       "PM10     0.256974  0.244919  0.022265  0.169335  0.081700  0.803313 -0.217182  \n",
       "NO       0.170322  0.014580  0.035771  0.150857  0.094237  0.452191 -0.016900  \n",
       "NO2      0.392233  0.293349  0.025260  0.273926  0.171701  0.537071 -0.066266  \n",
       "NOx      0.238397  0.093170  0.039121  0.189386  0.087398  0.486450 -0.017956  \n",
       "NH3     -0.038998  0.094972 -0.015650  0.013227 -0.019813  0.252019 -0.245343  \n",
       "CO       0.489697  0.041736  0.061861  0.277904  0.154889  0.683346 -0.062637  \n",
       "SO2      1.000000  0.162142  0.036110  0.296139  0.251195  0.490586  0.040556  \n",
       "O3       0.162142  1.000000  0.020255  0.130209  0.111410  0.198991 -0.019888  \n",
       "Benzene  0.036110  0.020255  1.000000  0.739286  0.415427  0.044407  0.040542  \n",
       "Toluene  0.296139  0.130209  0.739286  1.000000  0.421432  0.279992  0.094810  \n",
       "Xylene   0.251195  0.111410  0.415427  0.421432  1.000000  0.165532  0.078125  \n",
       "AQI      0.490586  0.198991  0.044407  0.279992  0.165532  1.000000 -0.192464  \n",
       "Year     0.040556 -0.019888  0.040542  0.094810  0.078125 -0.192464  1.000000  "
      ]
     },
     "execution_count": 65,
     "metadata": {},
     "output_type": "execute_result"
    }
   ],
   "source": [
    "df.corr(method='pearson')"
   ]
  },
  {
   "cell_type": "code",
   "execution_count": 66,
   "id": "c3111d2f",
   "metadata": {},
   "outputs": [
    {
     "data": {
      "text/plain": [
       "<AxesSubplot:>"
      ]
     },
     "execution_count": 66,
     "metadata": {},
     "output_type": "execute_result"
    },
    {
     "data": {
      "image/png": "[encoded data removed]",
      "text/plain": [
       "<Figure size 432x288 with 1 Axes>"
      ]
     },
     "metadata": {
      "needs_background": "light"
     },
     "output_type": "display_data"
    }
   ],
   "source": [
    "df['PM2.5'].hist(bins=10)"
   ]
  },
  {
   "cell_type": "code",
   "execution_count": 67,
   "id": "2de16183",
   "metadata": {},
   "outputs": [
    {
     "data": {
      "text/plain": [
       "<AxesSubplot:>"
      ]
     },
     "execution_count": 67,
     "metadata": {},
     "output_type": "execute_result"
    },
    {
     "data": {
      "image/png": "[encoded data removed]",
      "text/plain": [
       "<Figure size 432x288 with 1 Axes>"
      ]
     },
     "metadata": {
      "needs_background": "light"
     },
     "output_type": "display_data"
    }
   ],
   "source": [
    "df['NO2'].hist(bins=10)"
   ]
  },
  {
   "cell_type": "code",
   "execution_count": 68,
   "id": "c7d46df0",
   "metadata": {},
   "outputs": [
    {
     "data": {
      "text/plain": [
       "City              0\n",
       "Date              0\n",
       "PM2.5          4598\n",
       "PM10          11140\n",
       "NO             3582\n",
       "NO2            3585\n",
       "NOx            4185\n",
       "NH3           10328\n",
       "CO             2059\n",
       "SO2            3854\n",
       "O3             4022\n",
       "Benzene        5623\n",
       "Toluene        8041\n",
       "Xylene        18109\n",
       "AQI            4681\n",
       "AQI_Bucket     4681\n",
       "Year              0\n",
       "dtype: int64"
      ]
     },
     "execution_count": 68,
     "metadata": {},
     "output_type": "execute_result"
    }
   ],
   "source": [
    "df.isnull().sum()"
   ]
  },
  {
   "cell_type": "code",
   "execution_count": 69,
   "id": "03b049df",
   "metadata": {},
   "outputs": [],
   "source": [
    "df['PM2.5'] = df['PM2.5'].fillna(df['PM2.5'].mean())\n",
    "df['PM10'] = df['PM10'].fillna(df['PM10'].mean())\n",
    "df['NO'] = df['NO'].fillna(df['NO'].mean())\n",
    "df['NO2'] = df['NO2'].fillna(df['NO2'].mean())\n",
    "df['NOx'] = df['NOx'].fillna(df['NOx'].mean())\n",
    "df['NH3'] = df['NH3'].fillna(df['NH3'].mean())\n",
    "df['CO'] = df['CO'].fillna(df['CO'].mean())\n",
    "df['SO2'] = df['SO2'].fillna(df['SO2'].mean())\n",
    "df['O3'] = df['O3'].fillna(df['O3'].mean())\n",
    "df['Benzene'] = df['Benzene'].fillna(df['Benzene'].mean())\n",
    "df['Toluene'] = df['Toluene'].fillna(df['Toluene'].mean())\n",
    "df['AQI'] = df['AQI'].fillna(df['AQI'].mean())"
   ]
  },
  {
   "cell_type": "code",
   "execution_count": 70,
   "id": "a30344a6",
   "metadata": {},
   "outputs": [],
   "source": [
    "df['Xylene'] = df['Xylene'].fillna(df['Xylene'].mean())"
   ]
  },
  {
   "cell_type": "code",
   "execution_count": 71,
   "id": "92efab9b",
   "metadata": {},
   "outputs": [
    {
     "data": {
      "text/plain": [
       "City             0\n",
       "Date             0\n",
       "PM2.5            0\n",
       "PM10             0\n",
       "NO               0\n",
       "NO2              0\n",
       "NOx              0\n",
       "NH3              0\n",
       "CO               0\n",
       "SO2              0\n",
       "O3               0\n",
       "Benzene          0\n",
       "Toluene          0\n",
       "Xylene           0\n",
       "AQI              0\n",
       "AQI_Bucket    4681\n",
       "Year             0\n",
       "dtype: int64"
      ]
     },
     "execution_count": 71,
     "metadata": {},
     "output_type": "execute_result"
    }
   ],
   "source": [
    "df.isnull().sum()"
   ]
  },
  {
   "cell_type": "code",
   "execution_count": 72,
   "id": "fe3a0ff2",
   "metadata": {},
   "outputs": [
    {
     "data": {
      "text/html": [
       "<div>\n",
       "<style scoped>\n",
       "    .dataframe tbody tr th:only-of-type {\n",
       "        vertical-align: middle;\n",
       "    }\n",
       "\n",
       "    .dataframe tbody tr th {\n",
       "        vertical-align: top;\n",
       "    }\n",
       "\n",
       "    .dataframe thead th {\n",
       "        text-align: right;\n",
       "    }\n",
       "</style>\n",
       "<table border=\"1\" class=\"dataframe\">\n",
       "  <thead>\n",
       "    <tr style=\"text-align: right;\">\n",
       "      <th></th>\n",
       "      <th>PM2.5</th>\n",
       "      <th>PM10</th>\n",
       "      <th>NO</th>\n",
       "      <th>NO2</th>\n",
       "      <th>NOx</th>\n",
       "      <th>NH3</th>\n",
       "      <th>CO</th>\n",
       "      <th>SO2</th>\n",
       "      <th>O3</th>\n",
       "      <th>Benzene</th>\n",
       "      <th>Toluene</th>\n",
       "      <th>Xylene</th>\n",
       "      <th>AQI</th>\n",
       "      <th>Year</th>\n",
       "    </tr>\n",
       "  </thead>\n",
       "  <tbody>\n",
       "    <tr>\n",
       "      <th>PM2.5</th>\n",
       "      <td>1.000000</td>\n",
       "      <td>0.558079</td>\n",
       "      <td>0.426375</td>\n",
       "      <td>0.344341</td>\n",
       "      <td>0.380725</td>\n",
       "      <td>0.189227</td>\n",
       "      <td>0.086663</td>\n",
       "      <td>0.119512</td>\n",
       "      <td>0.155330</td>\n",
       "      <td>0.021934</td>\n",
       "      <td>0.107788</td>\n",
       "      <td>0.070459</td>\n",
       "      <td>0.628860</td>\n",
       "      <td>-0.205133</td>\n",
       "    </tr>\n",
       "    <tr>\n",
       "      <th>PM10</th>\n",
       "      <td>0.558079</td>\n",
       "      <td>1.000000</td>\n",
       "      <td>0.431006</td>\n",
       "      <td>0.359165</td>\n",
       "      <td>0.415133</td>\n",
       "      <td>0.223025</td>\n",
       "      <td>0.047517</td>\n",
       "      <td>0.176188</td>\n",
       "      <td>0.203595</td>\n",
       "      <td>0.019215</td>\n",
       "      <td>0.121983</td>\n",
       "      <td>0.031256</td>\n",
       "      <td>0.484497</td>\n",
       "      <td>-0.143425</td>\n",
       "    </tr>\n",
       "    <tr>\n",
       "      <th>NO</th>\n",
       "      <td>0.426375</td>\n",
       "      <td>0.431006</td>\n",
       "      <td>1.000000</td>\n",
       "      <td>0.462402</td>\n",
       "      <td>0.746223</td>\n",
       "      <td>0.156394</td>\n",
       "      <td>0.211639</td>\n",
       "      <td>0.166190</td>\n",
       "      <td>0.014218</td>\n",
       "      <td>0.033901</td>\n",
       "      <td>0.134201</td>\n",
       "      <td>0.059494</td>\n",
       "      <td>0.430600</td>\n",
       "      <td>-0.015737</td>\n",
       "    </tr>\n",
       "    <tr>\n",
       "      <th>NO2</th>\n",
       "      <td>0.344341</td>\n",
       "      <td>0.359165</td>\n",
       "      <td>0.462402</td>\n",
       "      <td>1.000000</td>\n",
       "      <td>0.574190</td>\n",
       "      <td>0.165984</td>\n",
       "      <td>0.353237</td>\n",
       "      <td>0.382758</td>\n",
       "      <td>0.285448</td>\n",
       "      <td>0.025082</td>\n",
       "      <td>0.254074</td>\n",
       "      <td>0.133037</td>\n",
       "      <td>0.522994</td>\n",
       "      <td>-0.061678</td>\n",
       "    </tr>\n",
       "    <tr>\n",
       "      <th>NOx</th>\n",
       "      <td>0.380725</td>\n",
       "      <td>0.415133</td>\n",
       "      <td>0.746223</td>\n",
       "      <td>0.574190</td>\n",
       "      <td>1.000000</td>\n",
       "      <td>0.128051</td>\n",
       "      <td>0.225097</td>\n",
       "      <td>0.208355</td>\n",
       "      <td>0.083063</td>\n",
       "      <td>0.037383</td>\n",
       "      <td>0.168780</td>\n",
       "      <td>0.056920</td>\n",
       "      <td>0.438363</td>\n",
       "      <td>-0.017076</td>\n",
       "    </tr>\n",
       "    <tr>\n",
       "      <th>NH3</th>\n",
       "      <td>0.189227</td>\n",
       "      <td>0.223025</td>\n",
       "      <td>0.156394</td>\n",
       "      <td>0.165984</td>\n",
       "      <td>0.128051</td>\n",
       "      <td>1.000000</td>\n",
       "      <td>0.020029</td>\n",
       "      <td>-0.021005</td>\n",
       "      <td>0.078688</td>\n",
       "      <td>-0.011864</td>\n",
       "      <td>0.007442</td>\n",
       "      <td>-0.002215</td>\n",
       "      <td>0.137436</td>\n",
       "      <td>-0.183219</td>\n",
       "    </tr>\n",
       "    <tr>\n",
       "      <th>CO</th>\n",
       "      <td>0.086663</td>\n",
       "      <td>0.047517</td>\n",
       "      <td>0.211639</td>\n",
       "      <td>0.353237</td>\n",
       "      <td>0.225097</td>\n",
       "      <td>0.020029</td>\n",
       "      <td>1.000000</td>\n",
       "      <td>0.472583</td>\n",
       "      <td>0.039787</td>\n",
       "      <td>0.061351</td>\n",
       "      <td>0.274882</td>\n",
       "      <td>0.145190</td>\n",
       "      <td>0.649679</td>\n",
       "      <td>-0.060840</td>\n",
       "    </tr>\n",
       "    <tr>\n",
       "      <th>SO2</th>\n",
       "      <td>0.119512</td>\n",
       "      <td>0.176188</td>\n",
       "      <td>0.166190</td>\n",
       "      <td>0.382758</td>\n",
       "      <td>0.208355</td>\n",
       "      <td>-0.021005</td>\n",
       "      <td>0.472583</td>\n",
       "      <td>1.000000</td>\n",
       "      <td>0.156610</td>\n",
       "      <td>0.033059</td>\n",
       "      <td>0.265522</td>\n",
       "      <td>0.203766</td>\n",
       "      <td>0.452768</td>\n",
       "      <td>0.037703</td>\n",
       "    </tr>\n",
       "    <tr>\n",
       "      <th>O3</th>\n",
       "      <td>0.155330</td>\n",
       "      <td>0.203595</td>\n",
       "      <td>0.014218</td>\n",
       "      <td>0.285448</td>\n",
       "      <td>0.083063</td>\n",
       "      <td>0.078688</td>\n",
       "      <td>0.039787</td>\n",
       "      <td>0.156610</td>\n",
       "      <td>1.000000</td>\n",
       "      <td>0.018748</td>\n",
       "      <td>0.113683</td>\n",
       "      <td>0.068016</td>\n",
       "      <td>0.188590</td>\n",
       "      <td>-0.018367</td>\n",
       "    </tr>\n",
       "    <tr>\n",
       "      <th>Benzene</th>\n",
       "      <td>0.021934</td>\n",
       "      <td>0.019215</td>\n",
       "      <td>0.033901</td>\n",
       "      <td>0.025082</td>\n",
       "      <td>0.037383</td>\n",
       "      <td>-0.011864</td>\n",
       "      <td>0.061351</td>\n",
       "      <td>0.033059</td>\n",
       "      <td>0.018748</td>\n",
       "      <td>1.000000</td>\n",
       "      <td>0.694691</td>\n",
       "      <td>0.092957</td>\n",
       "      <td>0.041518</td>\n",
       "      <td>0.036206</td>\n",
       "    </tr>\n",
       "    <tr>\n",
       "      <th>Toluene</th>\n",
       "      <td>0.107788</td>\n",
       "      <td>0.121983</td>\n",
       "      <td>0.134201</td>\n",
       "      <td>0.254074</td>\n",
       "      <td>0.168780</td>\n",
       "      <td>0.007442</td>\n",
       "      <td>0.274882</td>\n",
       "      <td>0.265522</td>\n",
       "      <td>0.113683</td>\n",
       "      <td>0.694691</td>\n",
       "      <td>1.000000</td>\n",
       "      <td>0.255347</td>\n",
       "      <td>0.262522</td>\n",
       "      <td>0.082403</td>\n",
       "    </tr>\n",
       "    <tr>\n",
       "      <th>Xylene</th>\n",
       "      <td>0.070459</td>\n",
       "      <td>0.031256</td>\n",
       "      <td>0.059494</td>\n",
       "      <td>0.133037</td>\n",
       "      <td>0.056920</td>\n",
       "      <td>-0.002215</td>\n",
       "      <td>0.145190</td>\n",
       "      <td>0.203766</td>\n",
       "      <td>0.068016</td>\n",
       "      <td>0.092957</td>\n",
       "      <td>0.255347</td>\n",
       "      <td>1.000000</td>\n",
       "      <td>0.139934</td>\n",
       "      <td>0.050271</td>\n",
       "    </tr>\n",
       "    <tr>\n",
       "      <th>AQI</th>\n",
       "      <td>0.628860</td>\n",
       "      <td>0.484497</td>\n",
       "      <td>0.430600</td>\n",
       "      <td>0.522994</td>\n",
       "      <td>0.438363</td>\n",
       "      <td>0.137436</td>\n",
       "      <td>0.649679</td>\n",
       "      <td>0.452768</td>\n",
       "      <td>0.188590</td>\n",
       "      <td>0.041518</td>\n",
       "      <td>0.262522</td>\n",
       "      <td>0.139934</td>\n",
       "      <td>1.000000</td>\n",
       "      <td>-0.170557</td>\n",
       "    </tr>\n",
       "    <tr>\n",
       "      <th>Year</th>\n",
       "      <td>-0.205133</td>\n",
       "      <td>-0.143425</td>\n",
       "      <td>-0.015737</td>\n",
       "      <td>-0.061678</td>\n",
       "      <td>-0.017076</td>\n",
       "      <td>-0.183219</td>\n",
       "      <td>-0.060840</td>\n",
       "      <td>0.037703</td>\n",
       "      <td>-0.018367</td>\n",
       "      <td>0.036206</td>\n",
       "      <td>0.082403</td>\n",
       "      <td>0.050271</td>\n",
       "      <td>-0.170557</td>\n",
       "      <td>1.000000</td>\n",
       "    </tr>\n",
       "  </tbody>\n",
       "</table>\n",
       "</div>"
      ],
      "text/plain": [
       "            PM2.5      PM10        NO       NO2       NOx       NH3        CO  \\\n",
       "PM2.5    1.000000  0.558079  0.426375  0.344341  0.380725  0.189227  0.086663   \n",
       "PM10     0.558079  1.000000  0.431006  0.359165  0.415133  0.223025  0.047517   \n",
       "NO       0.426375  0.431006  1.000000  0.462402  0.746223  0.156394  0.211639   \n",
       "NO2      0.344341  0.359165  0.462402  1.000000  0.574190  0.165984  0.353237   \n",
       "NOx      0.380725  0.415133  0.746223  0.574190  1.000000  0.128051  0.225097   \n",
       "NH3      0.189227  0.223025  0.156394  0.165984  0.128051  1.000000  0.020029   \n",
       "CO       0.086663  0.047517  0.211639  0.353237  0.225097  0.020029  1.000000   \n",
       "SO2      0.119512  0.176188  0.166190  0.382758  0.208355 -0.021005  0.472583   \n",
       "O3       0.155330  0.203595  0.014218  0.285448  0.083063  0.078688  0.039787   \n",
       "Benzene  0.021934  0.019215  0.033901  0.025082  0.037383 -0.011864  0.061351   \n",
       "Toluene  0.107788  0.121983  0.134201  0.254074  0.168780  0.007442  0.274882   \n",
       "Xylene   0.070459  0.031256  0.059494  0.133037  0.056920 -0.002215  0.145190   \n",
       "AQI      0.628860  0.484497  0.430600  0.522994  0.438363  0.137436  0.649679   \n",
       "Year    -0.205133 -0.143425 -0.015737 -0.061678 -0.017076 -0.183219 -0.060840   \n",
       "\n",
       "              SO2        O3   Benzene   Toluene    Xylene       AQI      Year  \n",
       "PM2.5    0.119512  0.155330  0.021934  0.107788  0.070459  0.628860 -0.205133  \n",
       "PM10     0.176188  0.203595  0.019215  0.121983  0.031256  0.484497 -0.143425  \n",
       "NO       0.166190  0.014218  0.033901  0.134201  0.059494  0.430600 -0.015737  \n",
       "NO2      0.382758  0.285448  0.025082  0.254074  0.133037  0.522994 -0.061678  \n",
       "NOx      0.208355  0.083063  0.037383  0.168780  0.056920  0.438363 -0.017076  \n",
       "NH3     -0.021005  0.078688 -0.011864  0.007442 -0.002215  0.137436 -0.183219  \n",
       "CO       0.472583  0.039787  0.061351  0.274882  0.145190  0.649679 -0.060840  \n",
       "SO2      1.000000  0.156610  0.033059  0.265522  0.203766  0.452768  0.037703  \n",
       "O3       0.156610  1.000000  0.018748  0.113683  0.068016  0.188590 -0.018367  \n",
       "Benzene  0.033059  0.018748  1.000000  0.694691  0.092957  0.041518  0.036206  \n",
       "Toluene  0.265522  0.113683  0.694691  1.000000  0.255347  0.262522  0.082403  \n",
       "Xylene   0.203766  0.068016  0.092957  0.255347  1.000000  0.139934  0.050271  \n",
       "AQI      0.452768  0.188590  0.041518  0.262522  0.139934  1.000000 -0.170557  \n",
       "Year     0.037703 -0.018367  0.036206  0.082403  0.050271 -0.170557  1.000000  "
      ]
     },
     "execution_count": 72,
     "metadata": {},
     "output_type": "execute_result"
    }
   ],
   "source": [
    "df.corr(method='pearson')"
   ]
  },
  {
   "cell_type": "code",
   "execution_count": 73,
   "id": "e3fc7783",
   "metadata": {},
   "outputs": [
    {
     "data": {
      "text/html": [
       "<div>\n",
       "<style scoped>\n",
       "    .dataframe tbody tr th:only-of-type {\n",
       "        vertical-align: middle;\n",
       "    }\n",
       "\n",
       "    .dataframe tbody tr th {\n",
       "        vertical-align: top;\n",
       "    }\n",
       "\n",
       "    .dataframe thead th {\n",
       "        text-align: right;\n",
       "    }\n",
       "</style>\n",
       "<table border=\"1\" class=\"dataframe\">\n",
       "  <thead>\n",
       "    <tr style=\"text-align: right;\">\n",
       "      <th></th>\n",
       "      <th>City</th>\n",
       "      <th>Date</th>\n",
       "      <th>PM2.5</th>\n",
       "      <th>PM10</th>\n",
       "      <th>NO</th>\n",
       "      <th>NO2</th>\n",
       "      <th>NOx</th>\n",
       "      <th>NH3</th>\n",
       "      <th>CO</th>\n",
       "      <th>SO2</th>\n",
       "      <th>O3</th>\n",
       "      <th>Benzene</th>\n",
       "      <th>Toluene</th>\n",
       "      <th>Xylene</th>\n",
       "      <th>AQI</th>\n",
       "      <th>AQI_Bucket</th>\n",
       "      <th>Year</th>\n",
       "    </tr>\n",
       "  </thead>\n",
       "  <tbody>\n",
       "    <tr>\n",
       "      <th>0</th>\n",
       "      <td>Ahmedabad</td>\n",
       "      <td>2015-01-01</td>\n",
       "      <td>67.450578</td>\n",
       "      <td>118.127103</td>\n",
       "      <td>0.92</td>\n",
       "      <td>18.22</td>\n",
       "      <td>17.15</td>\n",
       "      <td>23.483476</td>\n",
       "      <td>0.92</td>\n",
       "      <td>27.64</td>\n",
       "      <td>133.36</td>\n",
       "      <td>0.00000</td>\n",
       "      <td>0.020000</td>\n",
       "      <td>0.000000</td>\n",
       "      <td>166.463581</td>\n",
       "      <td>NaN</td>\n",
       "      <td>2015</td>\n",
       "    </tr>\n",
       "    <tr>\n",
       "      <th>1</th>\n",
       "      <td>Ahmedabad</td>\n",
       "      <td>2015-02-01</td>\n",
       "      <td>67.450578</td>\n",
       "      <td>118.127103</td>\n",
       "      <td>0.97</td>\n",
       "      <td>15.69</td>\n",
       "      <td>16.46</td>\n",
       "      <td>23.483476</td>\n",
       "      <td>0.97</td>\n",
       "      <td>24.55</td>\n",
       "      <td>34.06</td>\n",
       "      <td>3.68000</td>\n",
       "      <td>5.500000</td>\n",
       "      <td>3.770000</td>\n",
       "      <td>166.463581</td>\n",
       "      <td>NaN</td>\n",
       "      <td>2015</td>\n",
       "    </tr>\n",
       "    <tr>\n",
       "      <th>2</th>\n",
       "      <td>Ahmedabad</td>\n",
       "      <td>2015-03-01</td>\n",
       "      <td>67.450578</td>\n",
       "      <td>118.127103</td>\n",
       "      <td>17.40</td>\n",
       "      <td>19.30</td>\n",
       "      <td>29.70</td>\n",
       "      <td>23.483476</td>\n",
       "      <td>17.40</td>\n",
       "      <td>29.07</td>\n",
       "      <td>30.70</td>\n",
       "      <td>6.80000</td>\n",
       "      <td>16.400000</td>\n",
       "      <td>2.250000</td>\n",
       "      <td>166.463581</td>\n",
       "      <td>NaN</td>\n",
       "      <td>2015</td>\n",
       "    </tr>\n",
       "    <tr>\n",
       "      <th>3</th>\n",
       "      <td>Ahmedabad</td>\n",
       "      <td>2015-04-01</td>\n",
       "      <td>67.450578</td>\n",
       "      <td>118.127103</td>\n",
       "      <td>1.70</td>\n",
       "      <td>18.48</td>\n",
       "      <td>17.97</td>\n",
       "      <td>23.483476</td>\n",
       "      <td>1.70</td>\n",
       "      <td>18.59</td>\n",
       "      <td>36.08</td>\n",
       "      <td>4.43000</td>\n",
       "      <td>10.140000</td>\n",
       "      <td>1.000000</td>\n",
       "      <td>166.463581</td>\n",
       "      <td>NaN</td>\n",
       "      <td>2015</td>\n",
       "    </tr>\n",
       "    <tr>\n",
       "      <th>4</th>\n",
       "      <td>Ahmedabad</td>\n",
       "      <td>2015-05-01</td>\n",
       "      <td>67.450578</td>\n",
       "      <td>118.127103</td>\n",
       "      <td>22.10</td>\n",
       "      <td>21.42</td>\n",
       "      <td>37.76</td>\n",
       "      <td>23.483476</td>\n",
       "      <td>22.10</td>\n",
       "      <td>39.33</td>\n",
       "      <td>39.31</td>\n",
       "      <td>7.01000</td>\n",
       "      <td>18.890000</td>\n",
       "      <td>2.780000</td>\n",
       "      <td>166.463581</td>\n",
       "      <td>NaN</td>\n",
       "      <td>2015</td>\n",
       "    </tr>\n",
       "    <tr>\n",
       "      <th>...</th>\n",
       "      <td>...</td>\n",
       "      <td>...</td>\n",
       "      <td>...</td>\n",
       "      <td>...</td>\n",
       "      <td>...</td>\n",
       "      <td>...</td>\n",
       "      <td>...</td>\n",
       "      <td>...</td>\n",
       "      <td>...</td>\n",
       "      <td>...</td>\n",
       "      <td>...</td>\n",
       "      <td>...</td>\n",
       "      <td>...</td>\n",
       "      <td>...</td>\n",
       "      <td>...</td>\n",
       "      <td>...</td>\n",
       "      <td>...</td>\n",
       "    </tr>\n",
       "    <tr>\n",
       "      <th>29526</th>\n",
       "      <td>Visakhapatnam</td>\n",
       "      <td>2020-06-27</td>\n",
       "      <td>15.020000</td>\n",
       "      <td>50.940000</td>\n",
       "      <td>7.68</td>\n",
       "      <td>25.06</td>\n",
       "      <td>19.54</td>\n",
       "      <td>12.470000</td>\n",
       "      <td>0.47</td>\n",
       "      <td>8.55</td>\n",
       "      <td>23.30</td>\n",
       "      <td>2.24000</td>\n",
       "      <td>12.070000</td>\n",
       "      <td>0.730000</td>\n",
       "      <td>41.000000</td>\n",
       "      <td>Good</td>\n",
       "      <td>2020</td>\n",
       "    </tr>\n",
       "    <tr>\n",
       "      <th>29527</th>\n",
       "      <td>Visakhapatnam</td>\n",
       "      <td>2020-06-28</td>\n",
       "      <td>24.380000</td>\n",
       "      <td>74.090000</td>\n",
       "      <td>3.42</td>\n",
       "      <td>26.06</td>\n",
       "      <td>16.53</td>\n",
       "      <td>11.990000</td>\n",
       "      <td>0.52</td>\n",
       "      <td>12.72</td>\n",
       "      <td>30.14</td>\n",
       "      <td>0.74000</td>\n",
       "      <td>2.210000</td>\n",
       "      <td>0.380000</td>\n",
       "      <td>70.000000</td>\n",
       "      <td>Satisfactory</td>\n",
       "      <td>2020</td>\n",
       "    </tr>\n",
       "    <tr>\n",
       "      <th>29528</th>\n",
       "      <td>Visakhapatnam</td>\n",
       "      <td>2020-06-29</td>\n",
       "      <td>22.910000</td>\n",
       "      <td>65.730000</td>\n",
       "      <td>3.45</td>\n",
       "      <td>29.53</td>\n",
       "      <td>18.33</td>\n",
       "      <td>10.710000</td>\n",
       "      <td>0.48</td>\n",
       "      <td>8.42</td>\n",
       "      <td>30.96</td>\n",
       "      <td>0.01000</td>\n",
       "      <td>0.010000</td>\n",
       "      <td>0.000000</td>\n",
       "      <td>68.000000</td>\n",
       "      <td>Satisfactory</td>\n",
       "      <td>2020</td>\n",
       "    </tr>\n",
       "    <tr>\n",
       "      <th>29529</th>\n",
       "      <td>Visakhapatnam</td>\n",
       "      <td>2020-06-30</td>\n",
       "      <td>16.640000</td>\n",
       "      <td>49.970000</td>\n",
       "      <td>4.05</td>\n",
       "      <td>29.26</td>\n",
       "      <td>18.80</td>\n",
       "      <td>10.030000</td>\n",
       "      <td>0.52</td>\n",
       "      <td>9.84</td>\n",
       "      <td>28.30</td>\n",
       "      <td>0.00000</td>\n",
       "      <td>0.000000</td>\n",
       "      <td>0.000000</td>\n",
       "      <td>54.000000</td>\n",
       "      <td>Satisfactory</td>\n",
       "      <td>2020</td>\n",
       "    </tr>\n",
       "    <tr>\n",
       "      <th>29530</th>\n",
       "      <td>Visakhapatnam</td>\n",
       "      <td>2020-01-07</td>\n",
       "      <td>15.000000</td>\n",
       "      <td>66.000000</td>\n",
       "      <td>0.40</td>\n",
       "      <td>26.85</td>\n",
       "      <td>14.05</td>\n",
       "      <td>5.200000</td>\n",
       "      <td>0.59</td>\n",
       "      <td>2.10</td>\n",
       "      <td>17.05</td>\n",
       "      <td>3.28084</td>\n",
       "      <td>8.700972</td>\n",
       "      <td>3.070128</td>\n",
       "      <td>50.000000</td>\n",
       "      <td>Good</td>\n",
       "      <td>2020</td>\n",
       "    </tr>\n",
       "  </tbody>\n",
       "</table>\n",
       "<p>29531 rows × 17 columns</p>\n",
       "</div>"
      ],
      "text/plain": [
       "                City       Date      PM2.5        PM10     NO    NO2    NOx  \\\n",
       "0          Ahmedabad 2015-01-01  67.450578  118.127103   0.92  18.22  17.15   \n",
       "1          Ahmedabad 2015-02-01  67.450578  118.127103   0.97  15.69  16.46   \n",
       "2          Ahmedabad 2015-03-01  67.450578  118.127103  17.40  19.30  29.70   \n",
       "3          Ahmedabad 2015-04-01  67.450578  118.127103   1.70  18.48  17.97   \n",
       "4          Ahmedabad 2015-05-01  67.450578  118.127103  22.10  21.42  37.76   \n",
       "...              ...        ...        ...         ...    ...    ...    ...   \n",
       "29526  Visakhapatnam 2020-06-27  15.020000   50.940000   7.68  25.06  19.54   \n",
       "29527  Visakhapatnam 2020-06-28  24.380000   74.090000   3.42  26.06  16.53   \n",
       "29528  Visakhapatnam 2020-06-29  22.910000   65.730000   3.45  29.53  18.33   \n",
       "29529  Visakhapatnam 2020-06-30  16.640000   49.970000   4.05  29.26  18.80   \n",
       "29530  Visakhapatnam 2020-01-07  15.000000   66.000000   0.40  26.85  14.05   \n",
       "\n",
       "             NH3     CO    SO2      O3  Benzene    Toluene    Xylene  \\\n",
       "0      23.483476   0.92  27.64  133.36  0.00000   0.020000  0.000000   \n",
       "1      23.483476   0.97  24.55   34.06  3.68000   5.500000  3.770000   \n",
       "2      23.483476  17.40  29.07   30.70  6.80000  16.400000  2.250000   \n",
       "3      23.483476   1.70  18.59   36.08  4.43000  10.140000  1.000000   \n",
       "4      23.483476  22.10  39.33   39.31  7.01000  18.890000  2.780000   \n",
       "...          ...    ...    ...     ...      ...        ...       ...   \n",
       "29526  12.470000   0.47   8.55   23.30  2.24000  12.070000  0.730000   \n",
       "29527  11.990000   0.52  12.72   30.14  0.74000   2.210000  0.380000   \n",
       "29528  10.710000   0.48   8.42   30.96  0.01000   0.010000  0.000000   \n",
       "29529  10.030000   0.52   9.84   28.30  0.00000   0.000000  0.000000   \n",
       "29530   5.200000   0.59   2.10   17.05  3.28084   8.700972  3.070128   \n",
       "\n",
       "              AQI    AQI_Bucket  Year  \n",
       "0      166.463581           NaN  2015  \n",
       "1      166.463581           NaN  2015  \n",
       "2      166.463581           NaN  2015  \n",
       "3      166.463581           NaN  2015  \n",
       "4      166.463581           NaN  2015  \n",
       "...           ...           ...   ...  \n",
       "29526   41.000000          Good  2020  \n",
       "29527   70.000000  Satisfactory  2020  \n",
       "29528   68.000000  Satisfactory  2020  \n",
       "29529   54.000000  Satisfactory  2020  \n",
       "29530   50.000000          Good  2020  \n",
       "\n",
       "[29531 rows x 17 columns]"
      ]
     },
     "execution_count": 73,
     "metadata": {},
     "output_type": "execute_result"
    }
   ],
   "source": [
    "df"
   ]
  },
  {
   "cell_type": "code",
   "execution_count": 74,
   "id": "cb7e902f",
   "metadata": {},
   "outputs": [],
   "source": [
    "df1 = df.drop(columns=['AQI_Bucket','Date','Year','Benzene','Toluene','Xylene','NO','NO2'],axis=1)"
   ]
  },
  {
   "cell_type": "code",
   "execution_count": 75,
   "id": "9328e472",
   "metadata": {},
   "outputs": [
    {
     "data": {
      "text/html": [
       "<div>\n",
       "<style scoped>\n",
       "    .dataframe tbody tr th:only-of-type {\n",
       "        vertical-align: middle;\n",
       "    }\n",
       "\n",
       "    .dataframe tbody tr th {\n",
       "        vertical-align: top;\n",
       "    }\n",
       "\n",
       "    .dataframe thead th {\n",
       "        text-align: right;\n",
       "    }\n",
       "</style>\n",
       "<table border=\"1\" class=\"dataframe\">\n",
       "  <thead>\n",
       "    <tr style=\"text-align: right;\">\n",
       "      <th></th>\n",
       "      <th>City</th>\n",
       "      <th>PM2.5</th>\n",
       "      <th>PM10</th>\n",
       "      <th>NOx</th>\n",
       "      <th>NH3</th>\n",
       "      <th>CO</th>\n",
       "      <th>SO2</th>\n",
       "      <th>O3</th>\n",
       "      <th>AQI</th>\n",
       "    </tr>\n",
       "  </thead>\n",
       "  <tbody>\n",
       "    <tr>\n",
       "      <th>0</th>\n",
       "      <td>Ahmedabad</td>\n",
       "      <td>67.450578</td>\n",
       "      <td>118.127103</td>\n",
       "      <td>17.15</td>\n",
       "      <td>23.483476</td>\n",
       "      <td>0.92</td>\n",
       "      <td>27.64</td>\n",
       "      <td>133.36</td>\n",
       "      <td>166.463581</td>\n",
       "    </tr>\n",
       "    <tr>\n",
       "      <th>1</th>\n",
       "      <td>Ahmedabad</td>\n",
       "      <td>67.450578</td>\n",
       "      <td>118.127103</td>\n",
       "      <td>16.46</td>\n",
       "      <td>23.483476</td>\n",
       "      <td>0.97</td>\n",
       "      <td>24.55</td>\n",
       "      <td>34.06</td>\n",
       "      <td>166.463581</td>\n",
       "    </tr>\n",
       "    <tr>\n",
       "      <th>2</th>\n",
       "      <td>Ahmedabad</td>\n",
       "      <td>67.450578</td>\n",
       "      <td>118.127103</td>\n",
       "      <td>29.70</td>\n",
       "      <td>23.483476</td>\n",
       "      <td>17.40</td>\n",
       "      <td>29.07</td>\n",
       "      <td>30.70</td>\n",
       "      <td>166.463581</td>\n",
       "    </tr>\n",
       "    <tr>\n",
       "      <th>3</th>\n",
       "      <td>Ahmedabad</td>\n",
       "      <td>67.450578</td>\n",
       "      <td>118.127103</td>\n",
       "      <td>17.97</td>\n",
       "      <td>23.483476</td>\n",
       "      <td>1.70</td>\n",
       "      <td>18.59</td>\n",
       "      <td>36.08</td>\n",
       "      <td>166.463581</td>\n",
       "    </tr>\n",
       "    <tr>\n",
       "      <th>4</th>\n",
       "      <td>Ahmedabad</td>\n",
       "      <td>67.450578</td>\n",
       "      <td>118.127103</td>\n",
       "      <td>37.76</td>\n",
       "      <td>23.483476</td>\n",
       "      <td>22.10</td>\n",
       "      <td>39.33</td>\n",
       "      <td>39.31</td>\n",
       "      <td>166.463581</td>\n",
       "    </tr>\n",
       "    <tr>\n",
       "      <th>...</th>\n",
       "      <td>...</td>\n",
       "      <td>...</td>\n",
       "      <td>...</td>\n",
       "      <td>...</td>\n",
       "      <td>...</td>\n",
       "      <td>...</td>\n",
       "      <td>...</td>\n",
       "      <td>...</td>\n",
       "      <td>...</td>\n",
       "    </tr>\n",
       "    <tr>\n",
       "      <th>29526</th>\n",
       "      <td>Visakhapatnam</td>\n",
       "      <td>15.020000</td>\n",
       "      <td>50.940000</td>\n",
       "      <td>19.54</td>\n",
       "      <td>12.470000</td>\n",
       "      <td>0.47</td>\n",
       "      <td>8.55</td>\n",
       "      <td>23.30</td>\n",
       "      <td>41.000000</td>\n",
       "    </tr>\n",
       "    <tr>\n",
       "      <th>29527</th>\n",
       "      <td>Visakhapatnam</td>\n",
       "      <td>24.380000</td>\n",
       "      <td>74.090000</td>\n",
       "      <td>16.53</td>\n",
       "      <td>11.990000</td>\n",
       "      <td>0.52</td>\n",
       "      <td>12.72</td>\n",
       "      <td>30.14</td>\n",
       "      <td>70.000000</td>\n",
       "    </tr>\n",
       "    <tr>\n",
       "      <th>29528</th>\n",
       "      <td>Visakhapatnam</td>\n",
       "      <td>22.910000</td>\n",
       "      <td>65.730000</td>\n",
       "      <td>18.33</td>\n",
       "      <td>10.710000</td>\n",
       "      <td>0.48</td>\n",
       "      <td>8.42</td>\n",
       "      <td>30.96</td>\n",
       "      <td>68.000000</td>\n",
       "    </tr>\n",
       "    <tr>\n",
       "      <th>29529</th>\n",
       "      <td>Visakhapatnam</td>\n",
       "      <td>16.640000</td>\n",
       "      <td>49.970000</td>\n",
       "      <td>18.80</td>\n",
       "      <td>10.030000</td>\n",
       "      <td>0.52</td>\n",
       "      <td>9.84</td>\n",
       "      <td>28.30</td>\n",
       "      <td>54.000000</td>\n",
       "    </tr>\n",
       "    <tr>\n",
       "      <th>29530</th>\n",
       "      <td>Visakhapatnam</td>\n",
       "      <td>15.000000</td>\n",
       "      <td>66.000000</td>\n",
       "      <td>14.05</td>\n",
       "      <td>5.200000</td>\n",
       "      <td>0.59</td>\n",
       "      <td>2.10</td>\n",
       "      <td>17.05</td>\n",
       "      <td>50.000000</td>\n",
       "    </tr>\n",
       "  </tbody>\n",
       "</table>\n",
       "<p>29531 rows × 9 columns</p>\n",
       "</div>"
      ],
      "text/plain": [
       "                City      PM2.5        PM10    NOx        NH3     CO    SO2  \\\n",
       "0          Ahmedabad  67.450578  118.127103  17.15  23.483476   0.92  27.64   \n",
       "1          Ahmedabad  67.450578  118.127103  16.46  23.483476   0.97  24.55   \n",
       "2          Ahmedabad  67.450578  118.127103  29.70  23.483476  17.40  29.07   \n",
       "3          Ahmedabad  67.450578  118.127103  17.97  23.483476   1.70  18.59   \n",
       "4          Ahmedabad  67.450578  118.127103  37.76  23.483476  22.10  39.33   \n",
       "...              ...        ...         ...    ...        ...    ...    ...   \n",
       "29526  Visakhapatnam  15.020000   50.940000  19.54  12.470000   0.47   8.55   \n",
       "29527  Visakhapatnam  24.380000   74.090000  16.53  11.990000   0.52  12.72   \n",
       "29528  Visakhapatnam  22.910000   65.730000  18.33  10.710000   0.48   8.42   \n",
       "29529  Visakhapatnam  16.640000   49.970000  18.80  10.030000   0.52   9.84   \n",
       "29530  Visakhapatnam  15.000000   66.000000  14.05   5.200000   0.59   2.10   \n",
       "\n",
       "           O3         AQI  \n",
       "0      133.36  166.463581  \n",
       "1       34.06  166.463581  \n",
       "2       30.70  166.463581  \n",
       "3       36.08  166.463581  \n",
       "4       39.31  166.463581  \n",
       "...       ...         ...  \n",
       "29526   23.30   41.000000  \n",
       "29527   30.14   70.000000  \n",
       "29528   30.96   68.000000  \n",
       "29529   28.30   54.000000  \n",
       "29530   17.05   50.000000  \n",
       "\n",
       "[29531 rows x 9 columns]"
      ]
     },
     "execution_count": 75,
     "metadata": {},
     "output_type": "execute_result"
    }
   ],
   "source": [
    "df1"
   ]
  },
  {
   "cell_type": "code",
   "execution_count": 76,
   "id": "79e8e543",
   "metadata": {},
   "outputs": [
    {
     "data": {
      "text/plain": [
       "City     0\n",
       "PM2.5    0\n",
       "PM10     0\n",
       "NOx      0\n",
       "NH3      0\n",
       "CO       0\n",
       "SO2      0\n",
       "O3       0\n",
       "AQI      0\n",
       "dtype: int64"
      ]
     },
     "execution_count": 76,
     "metadata": {},
     "output_type": "execute_result"
    }
   ],
   "source": [
    "df1.isnull().sum()"
   ]
  },
  {
   "cell_type": "code",
   "execution_count": null,
   "id": "f0a0440a",
   "metadata": {},
   "outputs": [],
   "source": []
  },
  {
   "cell_type": "code",
   "execution_count": null,
   "id": "6eff0adc",
   "metadata": {},
   "outputs": [],
   "source": []
  },
  {
   "cell_type": "code",
   "execution_count": null,
   "id": "a0a271d1",
   "metadata": {},
   "outputs": [],
   "source": []
  },
  {
   "cell_type": "code",
   "execution_count": 77,
   "id": "aa7edd79",
   "metadata": {},
   "outputs": [
    {
     "data": {
      "image/png": "[encoded data removed]",
      "text/plain": [
       "<Figure size 1800x1080 with 2 Axes>"
      ]
     },
     "metadata": {},
     "output_type": "display_data"
    }
   ],
   "source": [
    "sns.set(rc ={'figure.figsize':(25,15)})\n",
    "correlation = df1.corr()\n",
    "sns.heatmap(correlation, cmap='bwr')\n",
    "plt.show()"
   ]
  },
  {
   "cell_type": "code",
   "execution_count": 79,
   "id": "32376709",
   "metadata": {},
   "outputs": [
    {
     "data": {
      "text/html": [
       "<div>\n",
       "<style scoped>\n",
       "    .dataframe tbody tr th:only-of-type {\n",
       "        vertical-align: middle;\n",
       "    }\n",
       "\n",
       "    .dataframe tbody tr th {\n",
       "        vertical-align: top;\n",
       "    }\n",
       "\n",
       "    .dataframe thead th {\n",
       "        text-align: right;\n",
       "    }\n",
       "</style>\n",
       "<table border=\"1\" class=\"dataframe\">\n",
       "  <thead>\n",
       "    <tr style=\"text-align: right;\">\n",
       "      <th></th>\n",
       "      <th>City</th>\n",
       "      <th>PM2.5</th>\n",
       "      <th>PM10</th>\n",
       "      <th>NOx</th>\n",
       "      <th>NH3</th>\n",
       "      <th>CO</th>\n",
       "      <th>SO2</th>\n",
       "      <th>O3</th>\n",
       "      <th>AQI</th>\n",
       "    </tr>\n",
       "  </thead>\n",
       "  <tbody>\n",
       "    <tr>\n",
       "      <th>0</th>\n",
       "      <td>Ahmedabad</td>\n",
       "      <td>67.450578</td>\n",
       "      <td>118.127103</td>\n",
       "      <td>17.15</td>\n",
       "      <td>23.483476</td>\n",
       "      <td>0.92</td>\n",
       "      <td>27.64</td>\n",
       "      <td>133.36</td>\n",
       "      <td>166.463581</td>\n",
       "    </tr>\n",
       "    <tr>\n",
       "      <th>1</th>\n",
       "      <td>Ahmedabad</td>\n",
       "      <td>67.450578</td>\n",
       "      <td>118.127103</td>\n",
       "      <td>16.46</td>\n",
       "      <td>23.483476</td>\n",
       "      <td>0.97</td>\n",
       "      <td>24.55</td>\n",
       "      <td>34.06</td>\n",
       "      <td>166.463581</td>\n",
       "    </tr>\n",
       "    <tr>\n",
       "      <th>2</th>\n",
       "      <td>Ahmedabad</td>\n",
       "      <td>67.450578</td>\n",
       "      <td>118.127103</td>\n",
       "      <td>29.70</td>\n",
       "      <td>23.483476</td>\n",
       "      <td>17.40</td>\n",
       "      <td>29.07</td>\n",
       "      <td>30.70</td>\n",
       "      <td>166.463581</td>\n",
       "    </tr>\n",
       "    <tr>\n",
       "      <th>3</th>\n",
       "      <td>Ahmedabad</td>\n",
       "      <td>67.450578</td>\n",
       "      <td>118.127103</td>\n",
       "      <td>17.97</td>\n",
       "      <td>23.483476</td>\n",
       "      <td>1.70</td>\n",
       "      <td>18.59</td>\n",
       "      <td>36.08</td>\n",
       "      <td>166.463581</td>\n",
       "    </tr>\n",
       "    <tr>\n",
       "      <th>4</th>\n",
       "      <td>Ahmedabad</td>\n",
       "      <td>67.450578</td>\n",
       "      <td>118.127103</td>\n",
       "      <td>37.76</td>\n",
       "      <td>23.483476</td>\n",
       "      <td>22.10</td>\n",
       "      <td>39.33</td>\n",
       "      <td>39.31</td>\n",
       "      <td>166.463581</td>\n",
       "    </tr>\n",
       "    <tr>\n",
       "      <th>...</th>\n",
       "      <td>...</td>\n",
       "      <td>...</td>\n",
       "      <td>...</td>\n",
       "      <td>...</td>\n",
       "      <td>...</td>\n",
       "      <td>...</td>\n",
       "      <td>...</td>\n",
       "      <td>...</td>\n",
       "      <td>...</td>\n",
       "    </tr>\n",
       "    <tr>\n",
       "      <th>29526</th>\n",
       "      <td>Visakhapatnam</td>\n",
       "      <td>15.020000</td>\n",
       "      <td>50.940000</td>\n",
       "      <td>19.54</td>\n",
       "      <td>12.470000</td>\n",
       "      <td>0.47</td>\n",
       "      <td>8.55</td>\n",
       "      <td>23.30</td>\n",
       "      <td>41.000000</td>\n",
       "    </tr>\n",
       "    <tr>\n",
       "      <th>29527</th>\n",
       "      <td>Visakhapatnam</td>\n",
       "      <td>24.380000</td>\n",
       "      <td>74.090000</td>\n",
       "      <td>16.53</td>\n",
       "      <td>11.990000</td>\n",
       "      <td>0.52</td>\n",
       "      <td>12.72</td>\n",
       "      <td>30.14</td>\n",
       "      <td>70.000000</td>\n",
       "    </tr>\n",
       "    <tr>\n",
       "      <th>29528</th>\n",
       "      <td>Visakhapatnam</td>\n",
       "      <td>22.910000</td>\n",
       "      <td>65.730000</td>\n",
       "      <td>18.33</td>\n",
       "      <td>10.710000</td>\n",
       "      <td>0.48</td>\n",
       "      <td>8.42</td>\n",
       "      <td>30.96</td>\n",
       "      <td>68.000000</td>\n",
       "    </tr>\n",
       "    <tr>\n",
       "      <th>29529</th>\n",
       "      <td>Visakhapatnam</td>\n",
       "      <td>16.640000</td>\n",
       "      <td>49.970000</td>\n",
       "      <td>18.80</td>\n",
       "      <td>10.030000</td>\n",
       "      <td>0.52</td>\n",
       "      <td>9.84</td>\n",
       "      <td>28.30</td>\n",
       "      <td>54.000000</td>\n",
       "    </tr>\n",
       "    <tr>\n",
       "      <th>29530</th>\n",
       "      <td>Visakhapatnam</td>\n",
       "      <td>15.000000</td>\n",
       "      <td>66.000000</td>\n",
       "      <td>14.05</td>\n",
       "      <td>5.200000</td>\n",
       "      <td>0.59</td>\n",
       "      <td>2.10</td>\n",
       "      <td>17.05</td>\n",
       "      <td>50.000000</td>\n",
       "    </tr>\n",
       "  </tbody>\n",
       "</table>\n",
       "<p>29531 rows × 9 columns</p>\n",
       "</div>"
      ],
      "text/plain": [
       "                City      PM2.5        PM10    NOx        NH3     CO    SO2  \\\n",
       "0          Ahmedabad  67.450578  118.127103  17.15  23.483476   0.92  27.64   \n",
       "1          Ahmedabad  67.450578  118.127103  16.46  23.483476   0.97  24.55   \n",
       "2          Ahmedabad  67.450578  118.127103  29.70  23.483476  17.40  29.07   \n",
       "3          Ahmedabad  67.450578  118.127103  17.97  23.483476   1.70  18.59   \n",
       "4          Ahmedabad  67.450578  118.127103  37.76  23.483476  22.10  39.33   \n",
       "...              ...        ...         ...    ...        ...    ...    ...   \n",
       "29526  Visakhapatnam  15.020000   50.940000  19.54  12.470000   0.47   8.55   \n",
       "29527  Visakhapatnam  24.380000   74.090000  16.53  11.990000   0.52  12.72   \n",
       "29528  Visakhapatnam  22.910000   65.730000  18.33  10.710000   0.48   8.42   \n",
       "29529  Visakhapatnam  16.640000   49.970000  18.80  10.030000   0.52   9.84   \n",
       "29530  Visakhapatnam  15.000000   66.000000  14.05   5.200000   0.59   2.10   \n",
       "\n",
       "           O3         AQI  \n",
       "0      133.36  166.463581  \n",
       "1       34.06  166.463581  \n",
       "2       30.70  166.463581  \n",
       "3       36.08  166.463581  \n",
       "4       39.31  166.463581  \n",
       "...       ...         ...  \n",
       "29526   23.30   41.000000  \n",
       "29527   30.14   70.000000  \n",
       "29528   30.96   68.000000  \n",
       "29529   28.30   54.000000  \n",
       "29530   17.05   50.000000  \n",
       "\n",
       "[29531 rows x 9 columns]"
      ]
     },
     "execution_count": 79,
     "metadata": {},
     "output_type": "execute_result"
    }
   ],
   "source": [
    "df1"
   ]
  },
  {
   "cell_type": "code",
   "execution_count": 82,
   "id": "9f25660a",
   "metadata": {},
   "outputs": [],
   "source": [
    "X = df1.drop(['AQI','City'], axis=1)\n",
    "y = df1['AQI']"
   ]
  },
  {
   "cell_type": "code",
   "execution_count": 83,
   "id": "c4ae9026",
   "metadata": {},
   "outputs": [
    {
     "data": {
      "text/html": [
       "<div>\n",
       "<style scoped>\n",
       "    .dataframe tbody tr th:only-of-type {\n",
       "        vertical-align: middle;\n",
       "    }\n",
       "\n",
       "    .dataframe tbody tr th {\n",
       "        vertical-align: top;\n",
       "    }\n",
       "\n",
       "    .dataframe thead th {\n",
       "        text-align: right;\n",
       "    }\n",
       "</style>\n",
       "<table border=\"1\" class=\"dataframe\">\n",
       "  <thead>\n",
       "    <tr style=\"text-align: right;\">\n",
       "      <th></th>\n",
       "      <th>PM2.5</th>\n",
       "      <th>PM10</th>\n",
       "      <th>NOx</th>\n",
       "      <th>NH3</th>\n",
       "      <th>CO</th>\n",
       "      <th>SO2</th>\n",
       "      <th>O3</th>\n",
       "    </tr>\n",
       "  </thead>\n",
       "  <tbody>\n",
       "    <tr>\n",
       "      <th>0</th>\n",
       "      <td>67.450578</td>\n",
       "      <td>118.127103</td>\n",
       "      <td>17.15</td>\n",
       "      <td>23.483476</td>\n",
       "      <td>0.92</td>\n",
       "      <td>27.64</td>\n",
       "      <td>133.36</td>\n",
       "    </tr>\n",
       "    <tr>\n",
       "      <th>1</th>\n",
       "      <td>67.450578</td>\n",
       "      <td>118.127103</td>\n",
       "      <td>16.46</td>\n",
       "      <td>23.483476</td>\n",
       "      <td>0.97</td>\n",
       "      <td>24.55</td>\n",
       "      <td>34.06</td>\n",
       "    </tr>\n",
       "    <tr>\n",
       "      <th>2</th>\n",
       "      <td>67.450578</td>\n",
       "      <td>118.127103</td>\n",
       "      <td>29.70</td>\n",
       "      <td>23.483476</td>\n",
       "      <td>17.40</td>\n",
       "      <td>29.07</td>\n",
       "      <td>30.70</td>\n",
       "    </tr>\n",
       "    <tr>\n",
       "      <th>3</th>\n",
       "      <td>67.450578</td>\n",
       "      <td>118.127103</td>\n",
       "      <td>17.97</td>\n",
       "      <td>23.483476</td>\n",
       "      <td>1.70</td>\n",
       "      <td>18.59</td>\n",
       "      <td>36.08</td>\n",
       "    </tr>\n",
       "    <tr>\n",
       "      <th>4</th>\n",
       "      <td>67.450578</td>\n",
       "      <td>118.127103</td>\n",
       "      <td>37.76</td>\n",
       "      <td>23.483476</td>\n",
       "      <td>22.10</td>\n",
       "      <td>39.33</td>\n",
       "      <td>39.31</td>\n",
       "    </tr>\n",
       "    <tr>\n",
       "      <th>...</th>\n",
       "      <td>...</td>\n",
       "      <td>...</td>\n",
       "      <td>...</td>\n",
       "      <td>...</td>\n",
       "      <td>...</td>\n",
       "      <td>...</td>\n",
       "      <td>...</td>\n",
       "    </tr>\n",
       "    <tr>\n",
       "      <th>29526</th>\n",
       "      <td>15.020000</td>\n",
       "      <td>50.940000</td>\n",
       "      <td>19.54</td>\n",
       "      <td>12.470000</td>\n",
       "      <td>0.47</td>\n",
       "      <td>8.55</td>\n",
       "      <td>23.30</td>\n",
       "    </tr>\n",
       "    <tr>\n",
       "      <th>29527</th>\n",
       "      <td>24.380000</td>\n",
       "      <td>74.090000</td>\n",
       "      <td>16.53</td>\n",
       "      <td>11.990000</td>\n",
       "      <td>0.52</td>\n",
       "      <td>12.72</td>\n",
       "      <td>30.14</td>\n",
       "    </tr>\n",
       "    <tr>\n",
       "      <th>29528</th>\n",
       "      <td>22.910000</td>\n",
       "      <td>65.730000</td>\n",
       "      <td>18.33</td>\n",
       "      <td>10.710000</td>\n",
       "      <td>0.48</td>\n",
       "      <td>8.42</td>\n",
       "      <td>30.96</td>\n",
       "    </tr>\n",
       "    <tr>\n",
       "      <th>29529</th>\n",
       "      <td>16.640000</td>\n",
       "      <td>49.970000</td>\n",
       "      <td>18.80</td>\n",
       "      <td>10.030000</td>\n",
       "      <td>0.52</td>\n",
       "      <td>9.84</td>\n",
       "      <td>28.30</td>\n",
       "    </tr>\n",
       "    <tr>\n",
       "      <th>29530</th>\n",
       "      <td>15.000000</td>\n",
       "      <td>66.000000</td>\n",
       "      <td>14.05</td>\n",
       "      <td>5.200000</td>\n",
       "      <td>0.59</td>\n",
       "      <td>2.10</td>\n",
       "      <td>17.05</td>\n",
       "    </tr>\n",
       "  </tbody>\n",
       "</table>\n",
       "<p>29531 rows × 7 columns</p>\n",
       "</div>"
      ],
      "text/plain": [
       "           PM2.5        PM10    NOx        NH3     CO    SO2      O3\n",
       "0      67.450578  118.127103  17.15  23.483476   0.92  27.64  133.36\n",
       "1      67.450578  118.127103  16.46  23.483476   0.97  24.55   34.06\n",
       "2      67.450578  118.127103  29.70  23.483476  17.40  29.07   30.70\n",
       "3      67.450578  118.127103  17.97  23.483476   1.70  18.59   36.08\n",
       "4      67.450578  118.127103  37.76  23.483476  22.10  39.33   39.31\n",
       "...          ...         ...    ...        ...    ...    ...     ...\n",
       "29526  15.020000   50.940000  19.54  12.470000   0.47   8.55   23.30\n",
       "29527  24.380000   74.090000  16.53  11.990000   0.52  12.72   30.14\n",
       "29528  22.910000   65.730000  18.33  10.710000   0.48   8.42   30.96\n",
       "29529  16.640000   49.970000  18.80  10.030000   0.52   9.84   28.30\n",
       "29530  15.000000   66.000000  14.05   5.200000   0.59   2.10   17.05\n",
       "\n",
       "[29531 rows x 7 columns]"
      ]
     },
     "execution_count": 83,
     "metadata": {},
     "output_type": "execute_result"
    }
   ],
   "source": [
    "X"
   ]
  },
  {
   "cell_type": "code",
   "execution_count": 84,
   "id": "d4d3b1c0",
   "metadata": {},
   "outputs": [
    {
     "data": {
      "text/plain": [
       "0        166.463581\n",
       "1        166.463581\n",
       "2        166.463581\n",
       "3        166.463581\n",
       "4        166.463581\n",
       "            ...    \n",
       "29526     41.000000\n",
       "29527     70.000000\n",
       "29528     68.000000\n",
       "29529     54.000000\n",
       "29530     50.000000\n",
       "Name: AQI, Length: 29531, dtype: float64"
      ]
     },
     "execution_count": 84,
     "metadata": {},
     "output_type": "execute_result"
    }
   ],
   "source": [
    "y"
   ]
  },
  {
   "cell_type": "code",
   "execution_count": 85,
   "id": "4ff11f35",
   "metadata": {},
   "outputs": [
    {
     "data": {
      "image/png": "[encoded data removed]",
      "text/plain": [
       "<Figure size 1440x2160 with 7 Axes>"
      ]
     },
     "metadata": {},
     "output_type": "display_data"
    }
   ],
   "source": [
    "plt.figure(figsize=(20,30),facecolor='white')\n",
    "plotnumber=1\n",
    "for col in X:\n",
    "    if plotnumber <=12:\n",
    "        ax=plt.subplot(6,3,plotnumber)\n",
    "        plt.scatter(X[col],y)\n",
    "        plt.xlabel(col,fontsize=20)\n",
    "        plt.ylabel('PM2.5',fontsize=15)\n",
    "    plotnumber+=1\n",
    "plt.tight_layout()"
   ]
  },
  {
   "cell_type": "code",
   "execution_count": 86,
   "id": "065ae823",
   "metadata": {},
   "outputs": [],
   "source": [
    "scaler = StandardScaler()"
   ]
  },
  {
   "cell_type": "code",
   "execution_count": 87,
   "id": "aafe1226",
   "metadata": {},
   "outputs": [],
   "source": [
    "x_scaled = scaler.fit_transform(X)"
   ]
  },
  {
   "cell_type": "code",
   "execution_count": 88,
   "id": "2d01927b",
   "metadata": {},
   "outputs": [],
   "source": [
    "x_train,x_test,y_train,y_test = train_test_split(x_scaled,y,test_size=0.30,random_state=45)"
   ]
  },
  {
   "cell_type": "code",
   "execution_count": 89,
   "id": "7e3be19e",
   "metadata": {},
   "outputs": [
    {
     "data": {
      "text/plain": [
       "LinearRegression()"
      ]
     },
     "execution_count": 89,
     "metadata": {},
     "output_type": "execute_result"
    }
   ],
   "source": [
    "regression = LinearRegression()\n",
    "regression.fit(x_train,y_train)"
   ]
  },
  {
   "cell_type": "code",
   "execution_count": 90,
   "id": "c33ef99f",
   "metadata": {},
   "outputs": [
    {
     "data": {
      "text/plain": [
       "array([59.00616039, 20.50014181,  6.7146491 , -0.62692648, 72.67297988,\n",
       "       10.41935148,  5.53708262])"
      ]
     },
     "execution_count": 90,
     "metadata": {},
     "output_type": "execute_result"
    }
   ],
   "source": [
    "regression.coef_"
   ]
  },
  {
   "cell_type": "code",
   "execution_count": 91,
   "id": "20722714",
   "metadata": {},
   "outputs": [
    {
     "data": {
      "text/plain": [
       "0.7951134081192375"
      ]
     },
     "execution_count": 91,
     "metadata": {},
     "output_type": "execute_result"
    }
   ],
   "source": [
    "regression.score(x_train,y_train)"
   ]
  },
  {
   "cell_type": "code",
   "execution_count": 92,
   "id": "6e55e3b1",
   "metadata": {},
   "outputs": [
    {
     "data": {
      "text/plain": [
       "0.779410512101597"
      ]
     },
     "execution_count": 92,
     "metadata": {},
     "output_type": "execute_result"
    }
   ],
   "source": [
    "regression.score(x_test,y_test)"
   ]
  },
  {
   "cell_type": "code",
   "execution_count": 93,
   "id": "bdd9cd38",
   "metadata": {},
   "outputs": [],
   "source": [
    "def adj_r2(x,y):\n",
    "    r2 = regression.score(x,y)\n",
    "    n = x.shape[0]\n",
    "    p = x.shape[1]\n",
    "    adjusted_r2 = 1-(1-r2)*(n-1)/(n-p-1)\n",
    "    return adjusted_r2"
   ]
  },
  {
   "cell_type": "code",
   "execution_count": 94,
   "id": "99287dcd",
   "metadata": {},
   "outputs": [
    {
     "data": {
      "text/plain": [
       "0.7950439987332255"
      ]
     },
     "execution_count": 94,
     "metadata": {},
     "output_type": "execute_result"
    }
   ],
   "source": [
    "adj_r2(x_train,y_train)"
   ]
  },
  {
   "cell_type": "code",
   "execution_count": 95,
   "id": "c2dae711",
   "metadata": {},
   "outputs": [
    {
     "data": {
      "text/plain": [
       "0.779236073961596"
      ]
     },
     "execution_count": 95,
     "metadata": {},
     "output_type": "execute_result"
    }
   ],
   "source": [
    "adj_r2(x_test,y_test)"
   ]
  },
  {
   "cell_type": "code",
   "execution_count": 167,
   "id": "a8a62659",
   "metadata": {},
   "outputs": [
    {
     "data": {
      "text/plain": [
       "array([[-4.78371477e-15, -4.78371477e-15, -4.78371477e-15, ...,\n",
       "        -7.49671378e-01, -8.55203003e-01, -8.82806171e-01],\n",
       "       [-3.18006285e-15, -3.18006285e-15, -3.18006285e-15, ...,\n",
       "        -7.32829252e-01, -9.53249626e-01, -7.29053015e-01],\n",
       "       [-5.17068453e-01, -5.40603932e-01, -8.89956058e-02, ...,\n",
       "        -4.76819372e-01, -4.60787959e-01, -6.22807562e-01],\n",
       "       ...,\n",
       "       [-1.97836459e-01, -1.90391151e-01,  2.25613707e+00, ...,\n",
       "        -2.63355169e-01, -2.57398923e-01, -2.46975492e-01],\n",
       "       [ 7.75218914e-01,  5.92473851e-01,  8.59790254e-01, ...,\n",
       "        -3.61467207e-01, -2.77487275e-01, -7.35237045e-01],\n",
       "       [ 4.90344046e+00, -2.13970290e-02, -1.88038056e-01, ...,\n",
       "        -1.75143214e-01, -3.07067361e-01, -8.65017227e-01]])"
      ]
     },
     "execution_count": 167,
     "metadata": {},
     "output_type": "execute_result"
    }
   ],
   "source": [
    "x_scaled.T"
   ]
  },
  {
   "cell_type": "code",
   "execution_count": 171,
   "id": "a7c418c8",
   "metadata": {},
   "outputs": [
    {
     "data": {
      "text/plain": [
       "array([[-4.78371477e-15, -3.18006285e-15, -5.17068453e-01,\n",
       "         1.71537368e-16, -1.97836459e-01,  7.75218914e-01,\n",
       "         4.90344046e+00]])"
      ]
     },
     "execution_count": 171,
     "metadata": {},
     "output_type": "execute_result"
    }
   ],
   "source": [
    "x_scaled[[0]]"
   ]
  },
  {
   "cell_type": "code",
   "execution_count": 172,
   "id": "ba06539b",
   "metadata": {},
   "outputs": [
    {
     "data": {
      "text/plain": [
       "array([183.70155753])"
      ]
     },
     "execution_count": 172,
     "metadata": {},
     "output_type": "execute_result"
    }
   ],
   "source": [
    "regression.predict([[-4.78371477e-15, -3.18006285e-15, -5.17068453e-01,\n",
    "         1.71537368e-16, -1.97836459e-01,  7.75218914e-01,\n",
    "         4.90344046e+00]])"
   ]
  },
  {
   "cell_type": "code",
   "execution_count": 173,
   "id": "233e530c",
   "metadata": {},
   "outputs": [
    {
     "data": {
      "text/plain": [
       "0        166.463581\n",
       "1        166.463581\n",
       "2        166.463581\n",
       "3        166.463581\n",
       "4        166.463581\n",
       "            ...    \n",
       "29526     41.000000\n",
       "29527     70.000000\n",
       "29528     68.000000\n",
       "29529     54.000000\n",
       "29530     50.000000\n",
       "Name: AQI, Length: 29531, dtype: float64"
      ]
     },
     "execution_count": 173,
     "metadata": {},
     "output_type": "execute_result"
    }
   ],
   "source": [
    "y"
   ]
  },
  {
   "cell_type": "code",
   "execution_count": null,
   "id": "04ed638c",
   "metadata": {},
   "outputs": [],
   "source": []
  },
  {
   "cell_type": "code",
   "execution_count": null,
   "id": "ee62ad34",
   "metadata": {},
   "outputs": [],
   "source": []
  },
  {
   "cell_type": "code",
   "execution_count": null,
   "id": "1867fda1",
   "metadata": {},
   "outputs": [],
   "source": []
  },
  {
   "cell_type": "code",
   "execution_count": 96,
   "id": "c054b1ca",
   "metadata": {},
   "outputs": [
    {
     "data": {
      "text/plain": [
       "LassoCV(cv=10, max_iter=100000, normalize=True)"
      ]
     },
     "execution_count": 96,
     "metadata": {},
     "output_type": "execute_result"
    }
   ],
   "source": [
    "lasscv=LassoCV(alphas=None,cv=10,max_iter=100000,normalize=True)\n",
    "lasscv.fit(x_train,y_train)"
   ]
  },
  {
   "cell_type": "code",
   "execution_count": 97,
   "id": "1b4c7ac6",
   "metadata": {},
   "outputs": [
    {
     "data": {
      "text/plain": [
       "0.00059060907910321"
      ]
     },
     "execution_count": 97,
     "metadata": {},
     "output_type": "execute_result"
    }
   ],
   "source": [
    "alpha=lasscv.alpha_\n",
    "alpha"
   ]
  },
  {
   "cell_type": "code",
   "execution_count": 98,
   "id": "084c0f3d",
   "metadata": {},
   "outputs": [
    {
     "data": {
      "text/plain": [
       "Lasso(alpha=0.00059060907910321)"
      ]
     },
     "execution_count": 98,
     "metadata": {},
     "output_type": "execute_result"
    }
   ],
   "source": [
    "lasso_reg=Lasso(alpha)\n",
    "lasso_reg.fit(x_train,y_train)"
   ]
  },
  {
   "cell_type": "code",
   "execution_count": 99,
   "id": "92173beb",
   "metadata": {},
   "outputs": [
    {
     "data": {
      "text/plain": [
       "0.7951134080217679"
      ]
     },
     "execution_count": 99,
     "metadata": {},
     "output_type": "execute_result"
    }
   ],
   "source": [
    "lasso_reg.score(x_train,y_train)"
   ]
  },
  {
   "cell_type": "code",
   "execution_count": 100,
   "id": "504b7ee0",
   "metadata": {},
   "outputs": [
    {
     "data": {
      "text/plain": [
       "0.779410698403"
      ]
     },
     "execution_count": 100,
     "metadata": {},
     "output_type": "execute_result"
    }
   ],
   "source": [
    "lasso_reg.score(x_test,y_test)"
   ]
  },
  {
   "cell_type": "code",
   "execution_count": 101,
   "id": "c41b5152",
   "metadata": {},
   "outputs": [],
   "source": [
    "import numpy as np"
   ]
  },
  {
   "cell_type": "code",
   "execution_count": 102,
   "id": "31a26136",
   "metadata": {},
   "outputs": [
    {
     "data": {
      "text/plain": [
       "RidgeCV(alphas=array([3.99847678, 4.38006632, 9.058896  , 5.25892323, 1.15830861,\n",
       "       6.51425108, 8.66415728, 4.27243231, 1.39449026, 9.47091609,\n",
       "       2.11420813, 4.51967534, 0.83312673, 7.4065748 , 4.64632684,\n",
       "       8.67632581, 2.97443564, 3.16885946, 8.25001687, 0.88748313,\n",
       "       6.38673746, 6.92902466, 8.27610371, 2.14462352, 2.47249108,\n",
       "       1.72374101, 1.01725554, 1.57474628, 7.65577701, 9.51968372,\n",
       "       1.64009941, 5.50141731, 4.12149224, 4.85848269, 9.87036701,\n",
       "       1.25930946, 4.18702717, 9.52874731, 7.49023689, 8.91709006,\n",
       "       7.25197224, 0.9235736 , 2.57726021, 8.75095336, 9.2278528 ,\n",
       "       2.37932903, 2.93871613, 8.3882553 , 4.21421402, 4.42527962]),\n",
       "        cv=10, normalize=True)"
      ]
     },
     "execution_count": 102,
     "metadata": {},
     "output_type": "execute_result"
    }
   ],
   "source": [
    "alphas=np.random.uniform(low=0,high=10,size=(50,))\n",
    "ridge_cv=RidgeCV(alphas=alphas,cv=10,normalize=True)\n",
    "ridge_cv.fit(x_train,y_train)"
   ]
  },
  {
   "cell_type": "code",
   "execution_count": 103,
   "id": "e99c2cf2",
   "metadata": {},
   "outputs": [
    {
     "data": {
      "text/plain": [
       "0.8331267340447079"
      ]
     },
     "execution_count": 103,
     "metadata": {},
     "output_type": "execute_result"
    }
   ],
   "source": [
    "ridge_cv.alpha_"
   ]
  },
  {
   "cell_type": "code",
   "execution_count": 104,
   "id": "afbfc851",
   "metadata": {},
   "outputs": [
    {
     "data": {
      "text/plain": [
       "Ridge(alpha=0.8331267340447079)"
      ]
     },
     "execution_count": 104,
     "metadata": {},
     "output_type": "execute_result"
    }
   ],
   "source": [
    "ridge_model=Ridge(alpha=ridge_cv.alpha_)\n",
    "ridge_model.fit(x_train,y_train)"
   ]
  },
  {
   "cell_type": "code",
   "execution_count": 105,
   "id": "b8ff34c9",
   "metadata": {},
   "outputs": [
    {
     "data": {
      "text/plain": [
       "0.7951134071144315"
      ]
     },
     "execution_count": 105,
     "metadata": {},
     "output_type": "execute_result"
    }
   ],
   "source": [
    "ridge_model.score(x_train,y_train)"
   ]
  },
  {
   "cell_type": "code",
   "execution_count": 106,
   "id": "c9b95ee7",
   "metadata": {},
   "outputs": [
    {
     "data": {
      "text/plain": [
       "0.7794134663119361"
      ]
     },
     "execution_count": 106,
     "metadata": {},
     "output_type": "execute_result"
    }
   ],
   "source": [
    "ridge_model.score(x_test,y_test)"
   ]
  },
  {
   "cell_type": "code",
   "execution_count": 107,
   "id": "8350ebba",
   "metadata": {},
   "outputs": [
    {
     "data": {
      "text/plain": [
       "ElasticNetCV(cv=586)"
      ]
     },
     "execution_count": 107,
     "metadata": {},
     "output_type": "execute_result"
    }
   ],
   "source": [
    "elastic_cv=ElasticNetCV(alphas=None,cv=586)\n",
    "elastic_cv.fit(x_train,y_train)"
   ]
  },
  {
   "cell_type": "code",
   "execution_count": 108,
   "id": "400207d3",
   "metadata": {},
   "outputs": [
    {
     "data": {
      "text/plain": [
       "0.1683217231082773"
      ]
     },
     "execution_count": 108,
     "metadata": {},
     "output_type": "execute_result"
    }
   ],
   "source": [
    "elastic_cv.alpha_"
   ]
  },
  {
   "cell_type": "code",
   "execution_count": 109,
   "id": "39ef2776",
   "metadata": {},
   "outputs": [
    {
     "data": {
      "text/plain": [
       "0.5"
      ]
     },
     "execution_count": 109,
     "metadata": {},
     "output_type": "execute_result"
    }
   ],
   "source": [
    "elastic_cv.l1_ratio"
   ]
  },
  {
   "cell_type": "code",
   "execution_count": 110,
   "id": "11de5c74",
   "metadata": {},
   "outputs": [
    {
     "data": {
      "text/plain": [
       "ElasticNet(alpha=0.1683217231082773)"
      ]
     },
     "execution_count": 110,
     "metadata": {},
     "output_type": "execute_result"
    }
   ],
   "source": [
    "elastic_reg=ElasticNet(alpha=elastic_cv.alpha_,l1_ratio=0.5)\n",
    "elastic_reg.fit(x_train,y_train)"
   ]
  },
  {
   "cell_type": "code",
   "execution_count": 111,
   "id": "b836193a",
   "metadata": {},
   "outputs": [
    {
     "data": {
      "text/plain": [
       "0.7916059969641019"
      ]
     },
     "execution_count": 111,
     "metadata": {},
     "output_type": "execute_result"
    }
   ],
   "source": [
    "elastic_reg.score(x_train,y_train)"
   ]
  },
  {
   "cell_type": "code",
   "execution_count": 112,
   "id": "98a4cb0f",
   "metadata": {},
   "outputs": [
    {
     "data": {
      "text/plain": [
       "0.7808908161411541"
      ]
     },
     "execution_count": 112,
     "metadata": {},
     "output_type": "execute_result"
    }
   ],
   "source": [
    "elastic_reg.score(x_test,y_test)"
   ]
  },
  {
   "cell_type": "code",
   "execution_count": 113,
   "id": "96b8904a",
   "metadata": {},
   "outputs": [],
   "source": [
    "parameters = {'alpha': [1, 0.1, 0.01, 0.001, 0.0001]} "
   ]
  },
  {
   "cell_type": "code",
   "execution_count": 114,
   "id": "a1394997",
   "metadata": {},
   "outputs": [],
   "source": [
    "gscv = GridSearchCV(lasso_reg, param_grid=parameters, cv=30)"
   ]
  },
  {
   "cell_type": "code",
   "execution_count": 115,
   "id": "c4661f31",
   "metadata": {},
   "outputs": [
    {
     "data": {
      "text/plain": [
       "GridSearchCV(cv=30, estimator=Lasso(alpha=0.00059060907910321),\n",
       "             param_grid={'alpha': [1, 0.1, 0.01, 0.001, 0.0001]})"
      ]
     },
     "execution_count": 115,
     "metadata": {},
     "output_type": "execute_result"
    }
   ],
   "source": [
    "gscv.fit(x_train, y_train)"
   ]
  },
  {
   "cell_type": "code",
   "execution_count": 116,
   "id": "7a7efe7b",
   "metadata": {},
   "outputs": [
    {
     "data": {
      "text/plain": [
       "0.1"
      ]
     },
     "execution_count": 116,
     "metadata": {},
     "output_type": "execute_result"
    }
   ],
   "source": [
    "gscv.best_params_['alpha']"
   ]
  },
  {
   "cell_type": "code",
   "execution_count": 117,
   "id": "ecdd35f8",
   "metadata": {},
   "outputs": [
    {
     "data": {
      "text/plain": [
       "0.1"
      ]
     },
     "execution_count": 117,
     "metadata": {},
     "output_type": "execute_result"
    }
   ],
   "source": [
    "gscv.best_params_['alpha']"
   ]
  },
  {
   "cell_type": "code",
   "execution_count": 118,
   "id": "5ab647bc",
   "metadata": {},
   "outputs": [
    {
     "data": {
      "text/plain": [
       "GridSearchCV(cv=30, estimator=Lasso(alpha=0.00059060907910321),\n",
       "             param_grid={'alpha': [1, 0.1, 0.01, 0.001, 0.0001]})"
      ]
     },
     "execution_count": 118,
     "metadata": {},
     "output_type": "execute_result"
    }
   ],
   "source": [
    "gscv.fit(x_train,y_train)"
   ]
  },
  {
   "cell_type": "code",
   "execution_count": 119,
   "id": "e94b3e49",
   "metadata": {},
   "outputs": [
    {
     "data": {
      "text/plain": [
       "0.7951106369930594"
      ]
     },
     "execution_count": 119,
     "metadata": {},
     "output_type": "execute_result"
    }
   ],
   "source": [
    "gscv.score(x_train,y_train)"
   ]
  },
  {
   "cell_type": "code",
   "execution_count": 120,
   "id": "b1edcce0",
   "metadata": {},
   "outputs": [
    {
     "data": {
      "text/plain": [
       "0.7794391473209725"
      ]
     },
     "execution_count": 120,
     "metadata": {},
     "output_type": "execute_result"
    }
   ],
   "source": [
    "gscv.score(x_test,y_test)"
   ]
  },
  {
   "cell_type": "markdown",
   "id": "b38899ed",
   "metadata": {},
   "source": [
    "## Random Forest"
   ]
  },
  {
   "cell_type": "code",
   "execution_count": 121,
   "id": "4e01704a",
   "metadata": {},
   "outputs": [],
   "source": [
    "from sklearn.ensemble import RandomForestRegressor"
   ]
  },
  {
   "cell_type": "code",
   "execution_count": 122,
   "id": "cbc01a7f",
   "metadata": {},
   "outputs": [],
   "source": [
    "x_train,x_test,y_train,y_test = train_test_split(x_scaled,y,test_size=0.30,random_state=20)"
   ]
  },
  {
   "cell_type": "code",
   "execution_count": 123,
   "id": "260634f6",
   "metadata": {},
   "outputs": [],
   "source": [
    "Random_clf = RandomForestRegressor(n_estimators=115,random_state=16)"
   ]
  },
  {
   "cell_type": "code",
   "execution_count": 124,
   "id": "f8a0e9bc",
   "metadata": {},
   "outputs": [
    {
     "data": {
      "text/plain": [
       "RandomForestRegressor(n_estimators=115, random_state=16)"
      ]
     },
     "execution_count": 124,
     "metadata": {},
     "output_type": "execute_result"
    }
   ],
   "source": [
    "Random_clf.fit(x_train,y_train)"
   ]
  },
  {
   "cell_type": "code",
   "execution_count": 125,
   "id": "0d044f08",
   "metadata": {},
   "outputs": [
    {
     "data": {
      "text/plain": [
       "0.9816371252454338"
      ]
     },
     "execution_count": 125,
     "metadata": {},
     "output_type": "execute_result"
    }
   ],
   "source": [
    "Random_clf.score(x_train,y_train)"
   ]
  },
  {
   "cell_type": "code",
   "execution_count": 126,
   "id": "7086f83e",
   "metadata": {},
   "outputs": [
    {
     "data": {
      "text/plain": [
       "0.8745085063387008"
      ]
     },
     "execution_count": 126,
     "metadata": {},
     "output_type": "execute_result"
    }
   ],
   "source": [
    "Random_clf.score(x_test,y_test)"
   ]
  },
  {
   "cell_type": "code",
   "execution_count": 174,
   "id": "6d9ffcb1",
   "metadata": {},
   "outputs": [
    {
     "data": {
      "text/plain": [
       "array([167.42930986])"
      ]
     },
     "execution_count": 174,
     "metadata": {},
     "output_type": "execute_result"
    }
   ],
   "source": [
    "Random_clf.predict([[-4.78371477e-15, -3.18006285e-15, -5.17068453e-01,\n",
    "         1.71537368e-16, -1.97836459e-01,  7.75218914e-01,\n",
    "         4.90344046e+00]])"
   ]
  },
  {
   "cell_type": "markdown",
   "id": "ef310f90",
   "metadata": {},
   "source": [
    "## Hyperparameter Tunning"
   ]
  },
  {
   "cell_type": "code",
   "execution_count": 127,
   "id": "09748ace",
   "metadata": {},
   "outputs": [],
   "source": [
    "Random_clf = RandomForestRegressor(criterion = 'mae',max_depth = 15,max_features = 'auto',min_samples_leaf = 5,min_samples_split=5\n",
    "                                 ,n_estimators=100,random_state=10,n_jobs =-1)"
   ]
  },
  {
   "cell_type": "code",
   "execution_count": 128,
   "id": "f385bef2",
   "metadata": {},
   "outputs": [
    {
     "data": {
      "text/plain": [
       "RandomForestRegressor(criterion='mae', max_depth=15, min_samples_leaf=5,\n",
       "                      min_samples_split=5, n_jobs=-1, random_state=10)"
      ]
     },
     "execution_count": 128,
     "metadata": {},
     "output_type": "execute_result"
    }
   ],
   "source": [
    "Random_clf.fit(x_train,y_train)"
   ]
  },
  {
   "cell_type": "code",
   "execution_count": 129,
   "id": "2ee5c04c",
   "metadata": {},
   "outputs": [
    {
     "data": {
      "text/plain": [
       "0.901759118183102"
      ]
     },
     "execution_count": 129,
     "metadata": {},
     "output_type": "execute_result"
    }
   ],
   "source": [
    "Random_clf.score(x_train,y_train)"
   ]
  },
  {
   "cell_type": "code",
   "execution_count": 130,
   "id": "d44b1ca6",
   "metadata": {},
   "outputs": [
    {
     "data": {
      "text/plain": [
       "0.8704013913191224"
      ]
     },
     "execution_count": 130,
     "metadata": {},
     "output_type": "execute_result"
    }
   ],
   "source": [
    "Random_clf.score(x_test,y_test)"
   ]
  },
  {
   "cell_type": "code",
   "execution_count": 131,
   "id": "f4a76f45",
   "metadata": {},
   "outputs": [],
   "source": [
    "y_pred = Random_clf.predict(x_test)"
   ]
  },
  {
   "cell_type": "code",
   "execution_count": 132,
   "id": "cb613194",
   "metadata": {},
   "outputs": [],
   "source": [
    "from sklearn.metrics import accuracy_score, confusion_matrix, roc_auc_score, roc_auc_score,mean_absolute_error"
   ]
  },
  {
   "cell_type": "code",
   "execution_count": 133,
   "id": "52c31250",
   "metadata": {},
   "outputs": [],
   "source": [
    "from sklearn import metrics"
   ]
  },
  {
   "cell_type": "code",
   "execution_count": 134,
   "id": "1b965e7b",
   "metadata": {},
   "outputs": [
    {
     "name": "stdout",
     "output_type": "stream",
     "text": [
      "Mean Absolute Error: 21.414209727666243\n",
      "Mean Squared Error: 2189.6850216260505\n",
      "Root Mean Squared Error: 46.79407036822134\n"
     ]
    }
   ],
   "source": [
    "print('Mean Absolute Error:', metrics.mean_absolute_error(y_test, y_pred))  \n",
    "print('Mean Squared Error:', metrics.mean_squared_error(y_test, y_pred))  \n",
    "print('Root Mean Squared Error:', np.sqrt(metrics.mean_squared_error(y_test, y_pred)))"
   ]
  },
  {
   "cell_type": "code",
   "execution_count": 135,
   "id": "ef621520",
   "metadata": {},
   "outputs": [],
   "source": [
    "def adj_r2(x,y):\n",
    "    r2 = Random_clf.score(x,y)\n",
    "    n = x.shape[0]\n",
    "    p = x.shape[1]\n",
    "    adjusted_r2 = 1-(1-r2)*(n-1)/(n-p-1)\n",
    "    return adjusted_r2"
   ]
  },
  {
   "cell_type": "code",
   "execution_count": 136,
   "id": "630b5523",
   "metadata": {},
   "outputs": [
    {
     "data": {
      "text/plain": [
       "0.901759118183102"
      ]
     },
     "execution_count": 136,
     "metadata": {},
     "output_type": "execute_result"
    }
   ],
   "source": [
    "Random_clf.score(x_train,y_train)"
   ]
  },
  {
   "cell_type": "code",
   "execution_count": 137,
   "id": "9554df2d",
   "metadata": {},
   "outputs": [
    {
     "data": {
      "text/plain": [
       "0.8704013913191224"
      ]
     },
     "execution_count": 137,
     "metadata": {},
     "output_type": "execute_result"
    }
   ],
   "source": [
    "Random_clf.score(x_test,y_test)"
   ]
  },
  {
   "cell_type": "markdown",
   "id": "ebf7376e",
   "metadata": {},
   "source": [
    "## decission tree"
   ]
  },
  {
   "cell_type": "code",
   "execution_count": 138,
   "id": "93565c5b",
   "metadata": {},
   "outputs": [],
   "source": [
    "from sklearn.tree import DecisionTreeRegressor"
   ]
  },
  {
   "cell_type": "code",
   "execution_count": 139,
   "id": "e3e92856",
   "metadata": {},
   "outputs": [],
   "source": [
    "x_train,x_test,y_train,y_test = train_test_split(x_scaled,y,test_size=0.30,random_state=45)"
   ]
  },
  {
   "cell_type": "code",
   "execution_count": 140,
   "id": "945631db",
   "metadata": {},
   "outputs": [],
   "source": [
    "dtc = DecisionTreeRegressor()"
   ]
  },
  {
   "cell_type": "code",
   "execution_count": 141,
   "id": "e28015f0",
   "metadata": {},
   "outputs": [
    {
     "data": {
      "text/plain": [
       "DecisionTreeRegressor()"
      ]
     },
     "execution_count": 141,
     "metadata": {},
     "output_type": "execute_result"
    }
   ],
   "source": [
    "dtc.fit(x_train,y_train)"
   ]
  },
  {
   "cell_type": "code",
   "execution_count": 142,
   "id": "a5a86995",
   "metadata": {},
   "outputs": [
    {
     "data": {
      "text/plain": [
       "0.9992839247461242"
      ]
     },
     "execution_count": 142,
     "metadata": {},
     "output_type": "execute_result"
    }
   ],
   "source": [
    "dtc.score(x_train,y_train)"
   ]
  },
  {
   "cell_type": "code",
   "execution_count": 143,
   "id": "9a449d8b",
   "metadata": {},
   "outputs": [
    {
     "data": {
      "text/plain": [
       "0.7377113557864492"
      ]
     },
     "execution_count": 143,
     "metadata": {},
     "output_type": "execute_result"
    }
   ],
   "source": [
    "dtc.score(x_test,y_test)"
   ]
  },
  {
   "cell_type": "markdown",
   "id": "a4a9403b",
   "metadata": {},
   "source": [
    "## bagging Technique"
   ]
  },
  {
   "cell_type": "code",
   "execution_count": 144,
   "id": "258df68f",
   "metadata": {},
   "outputs": [],
   "source": [
    "from sklearn.ensemble import BaggingRegressor\n",
    "from sklearn.neighbors import KNeighborsRegressor"
   ]
  },
  {
   "cell_type": "code",
   "execution_count": 145,
   "id": "c9ed497e",
   "metadata": {},
   "outputs": [],
   "source": [
    "x_train,x_test,y_train,y_test = train_test_split(x_scaled,y,test_size=0.30,random_state=10)"
   ]
  },
  {
   "cell_type": "code",
   "execution_count": 146,
   "id": "bfe83f44",
   "metadata": {},
   "outputs": [],
   "source": [
    "knn = KNeighborsRegressor(n_neighbors = 30)"
   ]
  },
  {
   "cell_type": "code",
   "execution_count": 147,
   "id": "797b69a0",
   "metadata": {},
   "outputs": [
    {
     "data": {
      "text/plain": [
       "KNeighborsRegressor(n_neighbors=30)"
      ]
     },
     "execution_count": 147,
     "metadata": {},
     "output_type": "execute_result"
    }
   ],
   "source": [
    "knn.fit(x_train,y_train)"
   ]
  },
  {
   "cell_type": "code",
   "execution_count": 148,
   "id": "0c0e8c96",
   "metadata": {},
   "outputs": [
    {
     "data": {
      "text/plain": [
       "0.8574818543145273"
      ]
     },
     "execution_count": 148,
     "metadata": {},
     "output_type": "execute_result"
    }
   ],
   "source": [
    "knn.score(x_train,y_train)"
   ]
  },
  {
   "cell_type": "code",
   "execution_count": 149,
   "id": "fa657d8a",
   "metadata": {},
   "outputs": [
    {
     "data": {
      "text/plain": [
       "0.8383351810182099"
      ]
     },
     "execution_count": 149,
     "metadata": {},
     "output_type": "execute_result"
    }
   ],
   "source": [
    "knn.score(x_test,y_test)"
   ]
  },
  {
   "cell_type": "code",
   "execution_count": 150,
   "id": "b9509292",
   "metadata": {},
   "outputs": [],
   "source": [
    "bag_knn = BaggingRegressor(KNeighborsRegressor(n_neighbors=30),n_estimators=10,max_samples = 0.5,bootstrap=True,random_state=3,oob_score=True)"
   ]
  },
  {
   "cell_type": "code",
   "execution_count": 151,
   "id": "d93d7ca1",
   "metadata": {},
   "outputs": [
    {
     "data": {
      "text/plain": [
       "BaggingRegressor(base_estimator=KNeighborsRegressor(n_neighbors=30),\n",
       "                 max_samples=0.5, oob_score=True, random_state=3)"
      ]
     },
     "execution_count": 151,
     "metadata": {},
     "output_type": "execute_result"
    }
   ],
   "source": [
    "bag_knn.fit(x_train,y_train)"
   ]
  },
  {
   "cell_type": "code",
   "execution_count": 152,
   "id": "7d9f41ab",
   "metadata": {},
   "outputs": [
    {
     "data": {
      "text/plain": [
       "0.8422271266708203"
      ]
     },
     "execution_count": 152,
     "metadata": {},
     "output_type": "execute_result"
    }
   ],
   "source": [
    "bag_knn.score(x_train,y_train)"
   ]
  },
  {
   "cell_type": "code",
   "execution_count": 153,
   "id": "1e3b491c",
   "metadata": {},
   "outputs": [
    {
     "data": {
      "text/plain": [
       "0.8325004265094502"
      ]
     },
     "execution_count": 153,
     "metadata": {},
     "output_type": "execute_result"
    }
   ],
   "source": [
    "bag_knn.score(x_test,y_test)"
   ]
  },
  {
   "cell_type": "code",
   "execution_count": 154,
   "id": "fa8dd468",
   "metadata": {},
   "outputs": [],
   "source": [
    "def adj_r2(x,y):\n",
    "    r2 = bag_knn.score(x,y)\n",
    "    n = x.shape[0]\n",
    "    p = x.shape[1]\n",
    "    adjusted_r2 = 1-(1-r2)*(n-1)/(n-p-1)\n",
    "    return adjusted_r2"
   ]
  },
  {
   "cell_type": "code",
   "execution_count": 155,
   "id": "93c61794",
   "metadata": {},
   "outputs": [
    {
     "data": {
      "text/plain": [
       "0.8421736779889588"
      ]
     },
     "execution_count": 155,
     "metadata": {},
     "output_type": "execute_result"
    }
   ],
   "source": [
    "adj_r2(x_train,y_train)"
   ]
  },
  {
   "cell_type": "code",
   "execution_count": 156,
   "id": "ebc033e5",
   "metadata": {},
   "outputs": [
    {
     "data": {
      "text/plain": [
       "0.8323679709045662"
      ]
     },
     "execution_count": 156,
     "metadata": {},
     "output_type": "execute_result"
    }
   ],
   "source": [
    "adj_r2(x_test,y_test)"
   ]
  },
  {
   "cell_type": "code",
   "execution_count": null,
   "id": "54d8f419",
   "metadata": {},
   "outputs": [],
   "source": []
  },
  {
   "cell_type": "code",
   "execution_count": null,
   "id": "fd1acb2a",
   "metadata": {},
   "outputs": [],
   "source": []
  },
  {
   "cell_type": "code",
   "execution_count": null,
   "id": "019a65ea",
   "metadata": {},
   "outputs": [],
   "source": []
  }
 ],
 "metadata": {
  "kernelspec": {
   "display_name": "Python 3",
   "language": "python",
   "name": "python3"
  },
  "language_info": {
   "codemirror_mode": {
    "name": "ipython",
    "version": 3
   },
   "file_extension": ".py",
   "mimetype": "text/x-python",
   "name": "python",
   "nbconvert_exporter": "python",
   "pygments_lexer": "ipython3",
   "version": "3.8.8"
  }
 },
 "nbformat": 4,
 "nbformat_minor": 5
}
