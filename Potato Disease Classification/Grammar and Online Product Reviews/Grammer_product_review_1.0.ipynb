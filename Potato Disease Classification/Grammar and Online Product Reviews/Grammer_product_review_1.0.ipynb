{
 "cells": [
  {
   "cell_type": "markdown",
   "id": "b2164afe",
   "metadata": {},
   "source": [
    "# Lokendra Yadav-(DS5B-2017)"
   ]
  },
  {
   "cell_type": "markdown",
   "id": "1e68960d",
   "metadata": {},
   "source": [
    "# Importing neccessary libraries"
   ]
  },
  {
   "cell_type": "code",
   "execution_count": 1,
   "id": "258120ba",
   "metadata": {},
   "outputs": [],
   "source": [
    "import warnings\n",
    "warnings.filterwarnings('ignore')"
   ]
  },
  {
   "cell_type": "code",
   "execution_count": 2,
   "id": "39b8e57f",
   "metadata": {},
   "outputs": [],
   "source": [
    "import pandas as pd\n",
    "import numpy as np\n",
    "import matplotlib.pyplot as plt\n",
    "import seaborn as sns\n",
    "from datetime import datetime\n",
    "\n",
    "from sklearn.svm import LinearSVC\n",
    "from wordcloud import WordCloud, STOPWORDS\n",
    "from sklearn.metrics import accuracy_score,classification_report\n",
    "from sklearn.linear_model import SGDClassifier\n",
    "from scipy.sparse import hstack\n",
    "from sklearn.feature_extraction.text import TfidfVectorizer\n",
    "from sklearn.model_selection import train_test_split\n",
    "import scikitplot as skplt\n",
    "import string"
   ]
  },
  {
   "cell_type": "code",
   "execution_count": 3,
   "id": "887c7e9f",
   "metadata": {},
   "outputs": [],
   "source": [
    "dataset = pd.read_csv('GrammarandProductReviews.csv')"
   ]
  },
  {
   "cell_type": "code",
   "execution_count": 4,
   "id": "74a02fa0",
   "metadata": {},
   "outputs": [
    {
     "data": {
      "text/html": [
       "<div>\n",
       "<style scoped>\n",
       "    .dataframe tbody tr th:only-of-type {\n",
       "        vertical-align: middle;\n",
       "    }\n",
       "\n",
       "    .dataframe tbody tr th {\n",
       "        vertical-align: top;\n",
       "    }\n",
       "\n",
       "    .dataframe thead th {\n",
       "        text-align: right;\n",
       "    }\n",
       "</style>\n",
       "<table border=\"1\" class=\"dataframe\">\n",
       "  <thead>\n",
       "    <tr style=\"text-align: right;\">\n",
       "      <th></th>\n",
       "      <th>id</th>\n",
       "      <th>brand</th>\n",
       "      <th>categories</th>\n",
       "      <th>dateAdded</th>\n",
       "      <th>dateUpdated</th>\n",
       "      <th>ean</th>\n",
       "      <th>keys</th>\n",
       "      <th>manufacturer</th>\n",
       "      <th>manufacturerNumber</th>\n",
       "      <th>name</th>\n",
       "      <th>...</th>\n",
       "      <th>reviews.id</th>\n",
       "      <th>reviews.numHelpful</th>\n",
       "      <th>reviews.rating</th>\n",
       "      <th>reviews.sourceURLs</th>\n",
       "      <th>reviews.text</th>\n",
       "      <th>reviews.title</th>\n",
       "      <th>reviews.userCity</th>\n",
       "      <th>reviews.userProvince</th>\n",
       "      <th>reviews.username</th>\n",
       "      <th>upc</th>\n",
       "    </tr>\n",
       "  </thead>\n",
       "  <tbody>\n",
       "    <tr>\n",
       "      <th>0</th>\n",
       "      <td>AV13O1A8GV-KLJ3akUyj</td>\n",
       "      <td>Universal Music</td>\n",
       "      <td>Movies, Music &amp; Books,Music,R&amp;b,Movies &amp; TV,Mo...</td>\n",
       "      <td>2017-07-25T00:52:42Z</td>\n",
       "      <td>2018-02-05T08:36:58Z</td>\n",
       "      <td>6.02537E+11</td>\n",
       "      <td>602537205981,universalmusic/14331328,universal...</td>\n",
       "      <td>Universal Music Group / Cash Money</td>\n",
       "      <td>14331328</td>\n",
       "      <td>Pink Friday: Roman Reloaded Re-Up (w/dvd)</td>\n",
       "      <td>...</td>\n",
       "      <td>NaN</td>\n",
       "      <td>0.0</td>\n",
       "      <td>5</td>\n",
       "      <td>https://redsky.target.com/groot-domain-api/v1/...</td>\n",
       "      <td>i love this album. it's very good. more to the...</td>\n",
       "      <td>Just Awesome</td>\n",
       "      <td>Los Angeles</td>\n",
       "      <td>NaN</td>\n",
       "      <td>Joshua</td>\n",
       "      <td>6.02537E+11</td>\n",
       "    </tr>\n",
       "    <tr>\n",
       "      <th>1</th>\n",
       "      <td>AV14LG0R-jtxr-f38QfS</td>\n",
       "      <td>Lundberg</td>\n",
       "      <td>Food,Packaged Foods,Snacks,Crackers,Snacks, Co...</td>\n",
       "      <td>2017-07-25T05:16:03Z</td>\n",
       "      <td>2018-02-05T11:27:45Z</td>\n",
       "      <td>73416000391</td>\n",
       "      <td>lundbergorganiccinnamontoastricecakes/b000fvzw...</td>\n",
       "      <td>Lundberg</td>\n",
       "      <td>574764</td>\n",
       "      <td>Lundberg Organic Cinnamon Toast Rice Cakes</td>\n",
       "      <td>...</td>\n",
       "      <td>100209113.0</td>\n",
       "      <td>NaN</td>\n",
       "      <td>5</td>\n",
       "      <td>https://www.walmart.com/reviews/product/29775278</td>\n",
       "      <td>Good flavor. This review was collected as part...</td>\n",
       "      <td>Good</td>\n",
       "      <td>NaN</td>\n",
       "      <td>NaN</td>\n",
       "      <td>Dorothy W</td>\n",
       "      <td>73416000391</td>\n",
       "    </tr>\n",
       "    <tr>\n",
       "      <th>2</th>\n",
       "      <td>AV14LG0R-jtxr-f38QfS</td>\n",
       "      <td>Lundberg</td>\n",
       "      <td>Food,Packaged Foods,Snacks,Crackers,Snacks, Co...</td>\n",
       "      <td>2017-07-25T05:16:03Z</td>\n",
       "      <td>2018-02-05T11:27:45Z</td>\n",
       "      <td>73416000391</td>\n",
       "      <td>lundbergorganiccinnamontoastricecakes/b000fvzw...</td>\n",
       "      <td>Lundberg</td>\n",
       "      <td>574764</td>\n",
       "      <td>Lundberg Organic Cinnamon Toast Rice Cakes</td>\n",
       "      <td>...</td>\n",
       "      <td>100209113.0</td>\n",
       "      <td>NaN</td>\n",
       "      <td>5</td>\n",
       "      <td>https://www.walmart.com/reviews/product/29775278</td>\n",
       "      <td>Good flavor.</td>\n",
       "      <td>Good</td>\n",
       "      <td>NaN</td>\n",
       "      <td>NaN</td>\n",
       "      <td>Dorothy W</td>\n",
       "      <td>73416000391</td>\n",
       "    </tr>\n",
       "    <tr>\n",
       "      <th>3</th>\n",
       "      <td>AV16khLE-jtxr-f38VFn</td>\n",
       "      <td>K-Y</td>\n",
       "      <td>Personal Care,Medicine Cabinet,Lubricant/Sperm...</td>\n",
       "      <td>2017-07-25T16:26:19Z</td>\n",
       "      <td>2018-02-05T11:25:51Z</td>\n",
       "      <td>67981934427</td>\n",
       "      <td>kylovesensualitypleasuregel/b00u2whx8s,0679819...</td>\n",
       "      <td>K-Y</td>\n",
       "      <td>67981934427</td>\n",
       "      <td>K-Y Love Sensuality Pleasure Gel</td>\n",
       "      <td>...</td>\n",
       "      <td>113026909.0</td>\n",
       "      <td>NaN</td>\n",
       "      <td>1</td>\n",
       "      <td>https://www.walmart.com/reviews/product/43383370</td>\n",
       "      <td>I read through the reviews on here before look...</td>\n",
       "      <td>Disappointed</td>\n",
       "      <td>NaN</td>\n",
       "      <td>NaN</td>\n",
       "      <td>Rebecca</td>\n",
       "      <td>67981934427</td>\n",
       "    </tr>\n",
       "    <tr>\n",
       "      <th>4</th>\n",
       "      <td>AV16khLE-jtxr-f38VFn</td>\n",
       "      <td>K-Y</td>\n",
       "      <td>Personal Care,Medicine Cabinet,Lubricant/Sperm...</td>\n",
       "      <td>2017-07-25T16:26:19Z</td>\n",
       "      <td>2018-02-05T11:25:51Z</td>\n",
       "      <td>67981934427</td>\n",
       "      <td>kylovesensualitypleasuregel/b00u2whx8s,0679819...</td>\n",
       "      <td>K-Y</td>\n",
       "      <td>67981934427</td>\n",
       "      <td>K-Y Love Sensuality Pleasure Gel</td>\n",
       "      <td>...</td>\n",
       "      <td>171267657.0</td>\n",
       "      <td>NaN</td>\n",
       "      <td>1</td>\n",
       "      <td>https://www.walmart.com/reviews/product/43383370</td>\n",
       "      <td>My husband bought this gel for us. The gel cau...</td>\n",
       "      <td>Irritation</td>\n",
       "      <td>NaN</td>\n",
       "      <td>NaN</td>\n",
       "      <td>Walker557</td>\n",
       "      <td>67981934427</td>\n",
       "    </tr>\n",
       "  </tbody>\n",
       "</table>\n",
       "<p>5 rows × 25 columns</p>\n",
       "</div>"
      ],
      "text/plain": [
       "                     id            brand  \\\n",
       "0  AV13O1A8GV-KLJ3akUyj  Universal Music   \n",
       "1  AV14LG0R-jtxr-f38QfS         Lundberg   \n",
       "2  AV14LG0R-jtxr-f38QfS         Lundberg   \n",
       "3  AV16khLE-jtxr-f38VFn              K-Y   \n",
       "4  AV16khLE-jtxr-f38VFn              K-Y   \n",
       "\n",
       "                                          categories             dateAdded  \\\n",
       "0  Movies, Music & Books,Music,R&b,Movies & TV,Mo...  2017-07-25T00:52:42Z   \n",
       "1  Food,Packaged Foods,Snacks,Crackers,Snacks, Co...  2017-07-25T05:16:03Z   \n",
       "2  Food,Packaged Foods,Snacks,Crackers,Snacks, Co...  2017-07-25T05:16:03Z   \n",
       "3  Personal Care,Medicine Cabinet,Lubricant/Sperm...  2017-07-25T16:26:19Z   \n",
       "4  Personal Care,Medicine Cabinet,Lubricant/Sperm...  2017-07-25T16:26:19Z   \n",
       "\n",
       "            dateUpdated          ean  \\\n",
       "0  2018-02-05T08:36:58Z  6.02537E+11   \n",
       "1  2018-02-05T11:27:45Z  73416000391   \n",
       "2  2018-02-05T11:27:45Z  73416000391   \n",
       "3  2018-02-05T11:25:51Z  67981934427   \n",
       "4  2018-02-05T11:25:51Z  67981934427   \n",
       "\n",
       "                                                keys  \\\n",
       "0  602537205981,universalmusic/14331328,universal...   \n",
       "1  lundbergorganiccinnamontoastricecakes/b000fvzw...   \n",
       "2  lundbergorganiccinnamontoastricecakes/b000fvzw...   \n",
       "3  kylovesensualitypleasuregel/b00u2whx8s,0679819...   \n",
       "4  kylovesensualitypleasuregel/b00u2whx8s,0679819...   \n",
       "\n",
       "                         manufacturer manufacturerNumber  \\\n",
       "0  Universal Music Group / Cash Money           14331328   \n",
       "1                            Lundberg             574764   \n",
       "2                            Lundberg             574764   \n",
       "3                                 K-Y        67981934427   \n",
       "4                                 K-Y        67981934427   \n",
       "\n",
       "                                         name  ...   reviews.id  \\\n",
       "0   Pink Friday: Roman Reloaded Re-Up (w/dvd)  ...          NaN   \n",
       "1  Lundberg Organic Cinnamon Toast Rice Cakes  ...  100209113.0   \n",
       "2  Lundberg Organic Cinnamon Toast Rice Cakes  ...  100209113.0   \n",
       "3            K-Y Love Sensuality Pleasure Gel  ...  113026909.0   \n",
       "4            K-Y Love Sensuality Pleasure Gel  ...  171267657.0   \n",
       "\n",
       "  reviews.numHelpful reviews.rating  \\\n",
       "0                0.0              5   \n",
       "1                NaN              5   \n",
       "2                NaN              5   \n",
       "3                NaN              1   \n",
       "4                NaN              1   \n",
       "\n",
       "                                  reviews.sourceURLs  \\\n",
       "0  https://redsky.target.com/groot-domain-api/v1/...   \n",
       "1   https://www.walmart.com/reviews/product/29775278   \n",
       "2   https://www.walmart.com/reviews/product/29775278   \n",
       "3   https://www.walmart.com/reviews/product/43383370   \n",
       "4   https://www.walmart.com/reviews/product/43383370   \n",
       "\n",
       "                                        reviews.text  reviews.title  \\\n",
       "0  i love this album. it's very good. more to the...   Just Awesome   \n",
       "1  Good flavor. This review was collected as part...           Good   \n",
       "2                                       Good flavor.           Good   \n",
       "3  I read through the reviews on here before look...   Disappointed   \n",
       "4  My husband bought this gel for us. The gel cau...     Irritation   \n",
       "\n",
       "   reviews.userCity  reviews.userProvince reviews.username          upc  \n",
       "0       Los Angeles                   NaN           Joshua  6.02537E+11  \n",
       "1               NaN                   NaN        Dorothy W  73416000391  \n",
       "2               NaN                   NaN        Dorothy W  73416000391  \n",
       "3               NaN                   NaN          Rebecca  67981934427  \n",
       "4               NaN                   NaN        Walker557  67981934427  \n",
       "\n",
       "[5 rows x 25 columns]"
      ]
     },
     "execution_count": 4,
     "metadata": {},
     "output_type": "execute_result"
    }
   ],
   "source": [
    "dataset.head()\n"
   ]
  },
  {
   "cell_type": "code",
   "execution_count": 5,
   "id": "e65d1349",
   "metadata": {},
   "outputs": [
    {
     "data": {
      "text/plain": [
       "(71044, 25)"
      ]
     },
     "execution_count": 5,
     "metadata": {},
     "output_type": "execute_result"
    }
   ],
   "source": [
    "dataset.shape\n"
   ]
  },
  {
   "cell_type": "code",
   "execution_count": 6,
   "id": "08ca610a",
   "metadata": {},
   "outputs": [
    {
     "data": {
      "text/plain": [
       "id                          0\n",
       "brand                       0\n",
       "categories                  0\n",
       "dateAdded                   0\n",
       "dateUpdated                 0\n",
       "ean                     31979\n",
       "keys                        0\n",
       "manufacturer              141\n",
       "manufacturerNumber        203\n",
       "name                        0\n",
       "reviews.date               67\n",
       "reviews.dateAdded           0\n",
       "reviews.dateSeen            0\n",
       "reviews.didPurchase     38886\n",
       "reviews.doRecommend     10615\n",
       "reviews.id              38886\n",
       "reviews.numHelpful      38536\n",
       "reviews.rating              0\n",
       "reviews.sourceURLs          0\n",
       "reviews.text               36\n",
       "reviews.title             476\n",
       "reviews.userCity        65634\n",
       "reviews.userProvince    70595\n",
       "reviews.username           96\n",
       "upc                         2\n",
       "dtype: int64"
      ]
     },
     "execution_count": 6,
     "metadata": {},
     "output_type": "execute_result"
    }
   ],
   "source": [
    "dataset.isnull().sum()\n"
   ]
  },
  {
   "cell_type": "code",
   "execution_count": 7,
   "id": "67e59ffa",
   "metadata": {},
   "outputs": [
    {
     "data": {
      "text/plain": [
       "True     55587\n",
       "False     4842\n",
       "Name: reviews.doRecommend, dtype: int64"
      ]
     },
     "execution_count": 7,
     "metadata": {},
     "output_type": "execute_result"
    }
   ],
   "source": [
    "dataset['reviews.doRecommend'].value_counts()"
   ]
  },
  {
   "cell_type": "code",
   "execution_count": 8,
   "id": "130388a3",
   "metadata": {
    "scrolled": true
   },
   "outputs": [
    {
     "data": {
      "text/plain": [
       "False    28476\n",
       "True      3682\n",
       "Name: reviews.didPurchase, dtype: int64"
      ]
     },
     "execution_count": 8,
     "metadata": {},
     "output_type": "execute_result"
    }
   ],
   "source": [
    "dataset['reviews.didPurchase'].value_counts()"
   ]
  },
  {
   "cell_type": "code",
   "execution_count": 9,
   "id": "1600f673",
   "metadata": {
    "scrolled": true
   },
   "outputs": [
    {
     "data": {
      "text/plain": [
       "0        i love this album. it's very good. more to the...\n",
       "1        Good flavor. This review was collected as part...\n",
       "2                                             Good flavor.\n",
       "3        I read through the reviews on here before look...\n",
       "4        My husband bought this gel for us. The gel cau...\n",
       "                               ...                        \n",
       "71039    I'm dealing with dry eyes and very sensitive t...\n",
       "71040    Great stuff! Helps keep my contacts moist all ...\n",
       "71041                                          Right price\n",
       "71042    I was so pleased when this scarf arrived for m...\n",
       "71043    Excellent album, makes the holidays better, gi...\n",
       "Name: reviews.text, Length: 71044, dtype: object"
      ]
     },
     "execution_count": 9,
     "metadata": {},
     "output_type": "execute_result"
    }
   ],
   "source": [
    "dataset['reviews.text']"
   ]
  },
  {
   "cell_type": "code",
   "execution_count": 10,
   "id": "7fa51d07",
   "metadata": {},
   "outputs": [
    {
     "data": {
      "text/plain": [
       "Clorox                  10700\n",
       "Universal Home Video     6178\n",
       "Tide                     5384\n",
       "FOX                      4498\n",
       "Disney                   3692\n",
       "Olay                     3420\n",
       "Warner Home Video        3330\n",
       "L'Oreal Paris            2683\n",
       "L'oreal Paris            2288\n",
       "Sony Pictures            2161\n",
       "Name: brand, dtype: int64"
      ]
     },
     "execution_count": 10,
     "metadata": {},
     "output_type": "execute_result"
    }
   ],
   "source": [
    "dataset['brand'].value_counts().iloc[:10]"
   ]
  },
  {
   "cell_type": "code",
   "execution_count": 11,
   "id": "b450a455",
   "metadata": {},
   "outputs": [
    {
     "data": {
      "text/plain": [
       "National Mfg.          1\n",
       "Wilton                 1\n",
       "Horizon                1\n",
       "Black Radiance         1\n",
       "Creative Converting    1\n",
       "Name: brand, dtype: int64"
      ]
     },
     "execution_count": 11,
     "metadata": {},
     "output_type": "execute_result"
    }
   ],
   "source": [
    "dataset['brand'].value_counts().sort_values(ascending=True).iloc[:5]"
   ]
  },
  {
   "cell_type": "code",
   "execution_count": 12,
   "id": "dfecc10f",
   "metadata": {},
   "outputs": [
    {
     "data": {
      "text/plain": [
       "Clorox                  10700\n",
       "Universal Home Video     6178\n",
       "Tide                     5384\n",
       "FOX                      4498\n",
       "Disney                   3692\n",
       "Name: brand, dtype: int64"
      ]
     },
     "execution_count": 12,
     "metadata": {},
     "output_type": "execute_result"
    }
   ],
   "source": [
    "dataset['brand'].value_counts().sort_values(ascending=False).iloc[:5]"
   ]
  },
  {
   "cell_type": "code",
   "execution_count": null,
   "id": "dba06f80",
   "metadata": {},
   "outputs": [],
   "source": []
  },
  {
   "cell_type": "code",
   "execution_count": 13,
   "id": "2ee5c786",
   "metadata": {},
   "outputs": [],
   "source": [
    "#selecting important columns\n",
    "\n",
    "dataset = dataset[['brand','manufacturer','reviews.didPurchase','reviews.rating', 'reviews.text']]\n"
   ]
  },
  {
   "cell_type": "code",
   "execution_count": 14,
   "id": "012a40b8",
   "metadata": {},
   "outputs": [
    {
     "data": {
      "text/plain": [
       "brand                      0\n",
       "manufacturer             141\n",
       "reviews.didPurchase    38886\n",
       "reviews.rating             0\n",
       "reviews.text              36\n",
       "dtype: int64"
      ]
     },
     "execution_count": 14,
     "metadata": {},
     "output_type": "execute_result"
    }
   ],
   "source": [
    "dataset.isnull().sum()\n"
   ]
  },
  {
   "cell_type": "code",
   "execution_count": 15,
   "id": "b5254ff0",
   "metadata": {},
   "outputs": [
    {
     "data": {
      "text/html": [
       "<div>\n",
       "<style scoped>\n",
       "    .dataframe tbody tr th:only-of-type {\n",
       "        vertical-align: middle;\n",
       "    }\n",
       "\n",
       "    .dataframe tbody tr th {\n",
       "        vertical-align: top;\n",
       "    }\n",
       "\n",
       "    .dataframe thead th {\n",
       "        text-align: right;\n",
       "    }\n",
       "</style>\n",
       "<table border=\"1\" class=\"dataframe\">\n",
       "  <thead>\n",
       "    <tr style=\"text-align: right;\">\n",
       "      <th></th>\n",
       "      <th>brand</th>\n",
       "      <th>manufacturer</th>\n",
       "      <th>reviews.didPurchase</th>\n",
       "      <th>reviews.rating</th>\n",
       "      <th>reviews.text</th>\n",
       "    </tr>\n",
       "  </thead>\n",
       "  <tbody>\n",
       "    <tr>\n",
       "      <th>0</th>\n",
       "      <td>Universal Music</td>\n",
       "      <td>Universal Music Group / Cash Money</td>\n",
       "      <td>NaN</td>\n",
       "      <td>5</td>\n",
       "      <td>i love this album. it's very good. more to the...</td>\n",
       "    </tr>\n",
       "    <tr>\n",
       "      <th>1</th>\n",
       "      <td>Lundberg</td>\n",
       "      <td>Lundberg</td>\n",
       "      <td>True</td>\n",
       "      <td>5</td>\n",
       "      <td>Good flavor. This review was collected as part...</td>\n",
       "    </tr>\n",
       "    <tr>\n",
       "      <th>2</th>\n",
       "      <td>Lundberg</td>\n",
       "      <td>Lundberg</td>\n",
       "      <td>True</td>\n",
       "      <td>5</td>\n",
       "      <td>Good flavor.</td>\n",
       "    </tr>\n",
       "    <tr>\n",
       "      <th>3</th>\n",
       "      <td>K-Y</td>\n",
       "      <td>K-Y</td>\n",
       "      <td>False</td>\n",
       "      <td>1</td>\n",
       "      <td>I read through the reviews on here before look...</td>\n",
       "    </tr>\n",
       "    <tr>\n",
       "      <th>4</th>\n",
       "      <td>K-Y</td>\n",
       "      <td>K-Y</td>\n",
       "      <td>False</td>\n",
       "      <td>1</td>\n",
       "      <td>My husband bought this gel for us. The gel cau...</td>\n",
       "    </tr>\n",
       "    <tr>\n",
       "      <th>...</th>\n",
       "      <td>...</td>\n",
       "      <td>...</td>\n",
       "      <td>...</td>\n",
       "      <td>...</td>\n",
       "      <td>...</td>\n",
       "    </tr>\n",
       "    <tr>\n",
       "      <th>71039</th>\n",
       "      <td>Opti-Free</td>\n",
       "      <td>Opti-Free</td>\n",
       "      <td>False</td>\n",
       "      <td>5</td>\n",
       "      <td>I'm dealing with dry eyes and very sensitive t...</td>\n",
       "    </tr>\n",
       "    <tr>\n",
       "      <th>71040</th>\n",
       "      <td>Opti-Free</td>\n",
       "      <td>Opti-Free</td>\n",
       "      <td>False</td>\n",
       "      <td>5</td>\n",
       "      <td>Great stuff! Helps keep my contacts moist all ...</td>\n",
       "    </tr>\n",
       "    <tr>\n",
       "      <th>71041</th>\n",
       "      <td>Opti-Free</td>\n",
       "      <td>Opti-Free</td>\n",
       "      <td>False</td>\n",
       "      <td>5</td>\n",
       "      <td>Right price</td>\n",
       "    </tr>\n",
       "    <tr>\n",
       "      <th>71042</th>\n",
       "      <td>Bebe Au Lait</td>\n",
       "      <td>Bebe au Lait</td>\n",
       "      <td>NaN</td>\n",
       "      <td>5</td>\n",
       "      <td>I was so pleased when this scarf arrived for m...</td>\n",
       "    </tr>\n",
       "    <tr>\n",
       "      <th>71043</th>\n",
       "      <td>UMGD</td>\n",
       "      <td>Def Jam</td>\n",
       "      <td>NaN</td>\n",
       "      <td>5</td>\n",
       "      <td>Excellent album, makes the holidays better, gi...</td>\n",
       "    </tr>\n",
       "  </tbody>\n",
       "</table>\n",
       "<p>71044 rows × 5 columns</p>\n",
       "</div>"
      ],
      "text/plain": [
       "                 brand                        manufacturer  \\\n",
       "0      Universal Music  Universal Music Group / Cash Money   \n",
       "1             Lundberg                            Lundberg   \n",
       "2             Lundberg                            Lundberg   \n",
       "3                  K-Y                                 K-Y   \n",
       "4                  K-Y                                 K-Y   \n",
       "...                ...                                 ...   \n",
       "71039        Opti-Free                           Opti-Free   \n",
       "71040        Opti-Free                           Opti-Free   \n",
       "71041        Opti-Free                           Opti-Free   \n",
       "71042     Bebe Au Lait                        Bebe au Lait   \n",
       "71043             UMGD                             Def Jam   \n",
       "\n",
       "      reviews.didPurchase  reviews.rating  \\\n",
       "0                     NaN               5   \n",
       "1                    True               5   \n",
       "2                    True               5   \n",
       "3                   False               1   \n",
       "4                   False               1   \n",
       "...                   ...             ...   \n",
       "71039               False               5   \n",
       "71040               False               5   \n",
       "71041               False               5   \n",
       "71042                 NaN               5   \n",
       "71043                 NaN               5   \n",
       "\n",
       "                                            reviews.text  \n",
       "0      i love this album. it's very good. more to the...  \n",
       "1      Good flavor. This review was collected as part...  \n",
       "2                                           Good flavor.  \n",
       "3      I read through the reviews on here before look...  \n",
       "4      My husband bought this gel for us. The gel cau...  \n",
       "...                                                  ...  \n",
       "71039  I'm dealing with dry eyes and very sensitive t...  \n",
       "71040  Great stuff! Helps keep my contacts moist all ...  \n",
       "71041                                        Right price  \n",
       "71042  I was so pleased when this scarf arrived for m...  \n",
       "71043  Excellent album, makes the holidays better, gi...  \n",
       "\n",
       "[71044 rows x 5 columns]"
      ]
     },
     "execution_count": 15,
     "metadata": {},
     "output_type": "execute_result"
    }
   ],
   "source": [
    "dataset"
   ]
  },
  {
   "cell_type": "code",
   "execution_count": 16,
   "id": "3ec6626d",
   "metadata": {},
   "outputs": [],
   "source": [
    "dataset['reviews.didPurchase'] = dataset['reviews.didPurchase'].fillna('Not Avialable')\n"
   ]
  },
  {
   "cell_type": "code",
   "execution_count": 17,
   "id": "fc3a79f7",
   "metadata": {},
   "outputs": [],
   "source": [
    "dataset = dataset.dropna()\n"
   ]
  },
  {
   "cell_type": "code",
   "execution_count": 18,
   "id": "c0ba47ac",
   "metadata": {},
   "outputs": [
    {
     "data": {
      "text/plain": [
       "brand                  0\n",
       "manufacturer           0\n",
       "reviews.didPurchase    0\n",
       "reviews.rating         0\n",
       "reviews.text           0\n",
       "dtype: int64"
      ]
     },
     "execution_count": 18,
     "metadata": {},
     "output_type": "execute_result"
    }
   ],
   "source": [
    "dataset.isnull().sum()"
   ]
  },
  {
   "cell_type": "code",
   "execution_count": 19,
   "id": "0ead9f0f",
   "metadata": {},
   "outputs": [],
   "source": [
    "data = dataset['reviews.rating'].value_counts()\n"
   ]
  },
  {
   "cell_type": "code",
   "execution_count": 20,
   "id": "61c48793",
   "metadata": {},
   "outputs": [
    {
     "data": {
      "text/plain": [
       "<AxesSubplot:>"
      ]
     },
     "execution_count": 20,
     "metadata": {},
     "output_type": "execute_result"
    },
    {
     "data": {
      "image/png": "[encoded data removed]",
      "text/plain": [
       "<Figure size 432x288 with 1 Axes>"
      ]
     },
     "metadata": {
      "needs_background": "light"
     },
     "output_type": "display_data"
    }
   ],
   "source": [
    "sns.barplot(x=data.index, y=data.values)\n"
   ]
  },
  {
   "cell_type": "code",
   "execution_count": 21,
   "id": "c0511f11",
   "metadata": {},
   "outputs": [
    {
     "data": {
      "image/png": "[encoded data removed]",
      "text/plain": [
       "<Figure size 1152x648 with 1 Axes>"
      ]
     },
     "metadata": {},
     "output_type": "display_data"
    }
   ],
   "source": [
    "plt.figure(figsize=(16,9))\n",
    "plt.pie(dataset['reviews.rating'].value_counts(),labels=['5','4','3','2','1'],autopct='%0.2f')\n",
    "plt.show()"
   ]
  },
  {
   "cell_type": "code",
   "execution_count": 22,
   "id": "2606bc8d",
   "metadata": {},
   "outputs": [
    {
     "data": {
      "image/png": "[encoded data removed]",
      "text/plain": [
       "<Figure size 432x288 with 1 Axes>"
      ]
     },
     "metadata": {
      "needs_background": "light"
     },
     "output_type": "display_data"
    }
   ],
   "source": [
    "#who all are giving fake reviews?\n",
    "\n",
    "ax_plt = sns.countplot(dataset['reviews.didPurchase'])\n",
    "ax_plt.set_xlabel(xlabel=\"User's Reviews\",fontsize=12)\n",
    "ax_plt.set_ylabel(ylabel='No. of Reviews',fontsize=12)\n",
    "ax_plt.axes.set_title('Accurate No. of Reviews',fontsize=12)\n",
    "ax_plt.tick_params(labelsize=11)"
   ]
  },
  {
   "cell_type": "code",
   "execution_count": 23,
   "id": "9e82e88c",
   "metadata": {},
   "outputs": [
    {
     "data": {
      "image/png": "[encoded data removed]",
      "text/plain": [
       "<Figure size 1080x1080 with 1 Axes>"
      ]
     },
     "metadata": {
      "needs_background": "light"
     },
     "output_type": "display_data"
    }
   ],
   "source": [
    "#What are the words that people have used the most in their reviews?\n",
    "\n",
    "stopwords = set(STOPWORDS)\n",
    "def wordcloud(data, title = None):\n",
    "    wordcloud = WordCloud(\n",
    "        background_color='black',\n",
    "        stopwords=stopwords,\n",
    "        max_words=500,\n",
    "        max_font_size=50,\n",
    "        scale=2,\n",
    "        random_state=5 #chosen a andom by flipping a coin; it was heads\n",
    ").generate(str(data))\n",
    "\n",
    "    fig = plt.figure(1, figsize=(15, 15))\n",
    "    plt.axis('off')\n",
    "    if title: \n",
    "        fig.suptitle(title, fontsize=20)\n",
    "        fig.subplots_adjust(top=2.3)\n",
    "    plt.imshow(wordcloud)\n",
    "    plt.show()\n",
    "\n",
    "wordcloud(dataset['reviews.text'])"
   ]
  },
  {
   "cell_type": "code",
   "execution_count": null,
   "id": "9ef7eab2",
   "metadata": {},
   "outputs": [],
   "source": []
  },
  {
   "cell_type": "code",
   "execution_count": 24,
   "id": "8796a599",
   "metadata": {},
   "outputs": [
    {
     "data": {
      "text/html": [
       "<div>\n",
       "<style scoped>\n",
       "    .dataframe tbody tr th:only-of-type {\n",
       "        vertical-align: middle;\n",
       "    }\n",
       "\n",
       "    .dataframe tbody tr th {\n",
       "        vertical-align: top;\n",
       "    }\n",
       "\n",
       "    .dataframe thead th {\n",
       "        text-align: right;\n",
       "    }\n",
       "</style>\n",
       "<table border=\"1\" class=\"dataframe\">\n",
       "  <thead>\n",
       "    <tr style=\"text-align: right;\">\n",
       "      <th></th>\n",
       "      <th>brand</th>\n",
       "      <th>manufacturer</th>\n",
       "      <th>reviews.didPurchase</th>\n",
       "      <th>reviews.rating</th>\n",
       "      <th>reviews.text</th>\n",
       "    </tr>\n",
       "  </thead>\n",
       "  <tbody>\n",
       "    <tr>\n",
       "      <th>0</th>\n",
       "      <td>Universal Music</td>\n",
       "      <td>Universal Music Group / Cash Money</td>\n",
       "      <td>Not Avialable</td>\n",
       "      <td>5</td>\n",
       "      <td>i love this album. it's very good. more to the...</td>\n",
       "    </tr>\n",
       "    <tr>\n",
       "      <th>1</th>\n",
       "      <td>Lundberg</td>\n",
       "      <td>Lundberg</td>\n",
       "      <td>True</td>\n",
       "      <td>5</td>\n",
       "      <td>Good flavor. This review was collected as part...</td>\n",
       "    </tr>\n",
       "    <tr>\n",
       "      <th>2</th>\n",
       "      <td>Lundberg</td>\n",
       "      <td>Lundberg</td>\n",
       "      <td>True</td>\n",
       "      <td>5</td>\n",
       "      <td>Good flavor.</td>\n",
       "    </tr>\n",
       "    <tr>\n",
       "      <th>3</th>\n",
       "      <td>K-Y</td>\n",
       "      <td>K-Y</td>\n",
       "      <td>False</td>\n",
       "      <td>1</td>\n",
       "      <td>I read through the reviews on here before look...</td>\n",
       "    </tr>\n",
       "    <tr>\n",
       "      <th>4</th>\n",
       "      <td>K-Y</td>\n",
       "      <td>K-Y</td>\n",
       "      <td>False</td>\n",
       "      <td>1</td>\n",
       "      <td>My husband bought this gel for us. The gel cau...</td>\n",
       "    </tr>\n",
       "    <tr>\n",
       "      <th>...</th>\n",
       "      <td>...</td>\n",
       "      <td>...</td>\n",
       "      <td>...</td>\n",
       "      <td>...</td>\n",
       "      <td>...</td>\n",
       "    </tr>\n",
       "    <tr>\n",
       "      <th>71039</th>\n",
       "      <td>Opti-Free</td>\n",
       "      <td>Opti-Free</td>\n",
       "      <td>False</td>\n",
       "      <td>5</td>\n",
       "      <td>I'm dealing with dry eyes and very sensitive t...</td>\n",
       "    </tr>\n",
       "    <tr>\n",
       "      <th>71040</th>\n",
       "      <td>Opti-Free</td>\n",
       "      <td>Opti-Free</td>\n",
       "      <td>False</td>\n",
       "      <td>5</td>\n",
       "      <td>Great stuff! Helps keep my contacts moist all ...</td>\n",
       "    </tr>\n",
       "    <tr>\n",
       "      <th>71041</th>\n",
       "      <td>Opti-Free</td>\n",
       "      <td>Opti-Free</td>\n",
       "      <td>False</td>\n",
       "      <td>5</td>\n",
       "      <td>Right price</td>\n",
       "    </tr>\n",
       "    <tr>\n",
       "      <th>71042</th>\n",
       "      <td>Bebe Au Lait</td>\n",
       "      <td>Bebe au Lait</td>\n",
       "      <td>Not Avialable</td>\n",
       "      <td>5</td>\n",
       "      <td>I was so pleased when this scarf arrived for m...</td>\n",
       "    </tr>\n",
       "    <tr>\n",
       "      <th>71043</th>\n",
       "      <td>UMGD</td>\n",
       "      <td>Def Jam</td>\n",
       "      <td>Not Avialable</td>\n",
       "      <td>5</td>\n",
       "      <td>Excellent album, makes the holidays better, gi...</td>\n",
       "    </tr>\n",
       "  </tbody>\n",
       "</table>\n",
       "<p>70867 rows × 5 columns</p>\n",
       "</div>"
      ],
      "text/plain": [
       "                 brand                        manufacturer  \\\n",
       "0      Universal Music  Universal Music Group / Cash Money   \n",
       "1             Lundberg                            Lundberg   \n",
       "2             Lundberg                            Lundberg   \n",
       "3                  K-Y                                 K-Y   \n",
       "4                  K-Y                                 K-Y   \n",
       "...                ...                                 ...   \n",
       "71039        Opti-Free                           Opti-Free   \n",
       "71040        Opti-Free                           Opti-Free   \n",
       "71041        Opti-Free                           Opti-Free   \n",
       "71042     Bebe Au Lait                        Bebe au Lait   \n",
       "71043             UMGD                             Def Jam   \n",
       "\n",
       "      reviews.didPurchase  reviews.rating  \\\n",
       "0           Not Avialable               5   \n",
       "1                    True               5   \n",
       "2                    True               5   \n",
       "3                   False               1   \n",
       "4                   False               1   \n",
       "...                   ...             ...   \n",
       "71039               False               5   \n",
       "71040               False               5   \n",
       "71041               False               5   \n",
       "71042       Not Avialable               5   \n",
       "71043       Not Avialable               5   \n",
       "\n",
       "                                            reviews.text  \n",
       "0      i love this album. it's very good. more to the...  \n",
       "1      Good flavor. This review was collected as part...  \n",
       "2                                           Good flavor.  \n",
       "3      I read through the reviews on here before look...  \n",
       "4      My husband bought this gel for us. The gel cau...  \n",
       "...                                                  ...  \n",
       "71039  I'm dealing with dry eyes and very sensitive t...  \n",
       "71040  Great stuff! Helps keep my contacts moist all ...  \n",
       "71041                                        Right price  \n",
       "71042  I was so pleased when this scarf arrived for m...  \n",
       "71043  Excellent album, makes the holidays better, gi...  \n",
       "\n",
       "[70867 rows x 5 columns]"
      ]
     },
     "execution_count": 24,
     "metadata": {},
     "output_type": "execute_result"
    }
   ],
   "source": [
    "dataset"
   ]
  },
  {
   "cell_type": "code",
   "execution_count": 29,
   "id": "a41850ab",
   "metadata": {},
   "outputs": [],
   "source": [
    "data=dataset['reviews.text']\n",
    "train_data=dataset['reviews.text']\n",
    "y_target=dataset['reviews.rating'].map({1:'Unhappy',2:'Unhappy',3:'Ok',4:'Happy',5:'Happy'})"
   ]
  },
  {
   "cell_type": "code",
   "execution_count": 30,
   "id": "569b7332",
   "metadata": {},
   "outputs": [
    {
     "data": {
      "text/plain": [
       "0        i love this album. it's very good. more to the...\n",
       "1        Good flavor. This review was collected as part...\n",
       "2                                             Good flavor.\n",
       "3        I read through the reviews on here before look...\n",
       "4        My husband bought this gel for us. The gel cau...\n",
       "                               ...                        \n",
       "71039    I'm dealing with dry eyes and very sensitive t...\n",
       "71040    Great stuff! Helps keep my contacts moist all ...\n",
       "71041                                          Right price\n",
       "71042    I was so pleased when this scarf arrived for m...\n",
       "71043    Excellent album, makes the holidays better, gi...\n",
       "Name: reviews.text, Length: 70867, dtype: object"
      ]
     },
     "execution_count": 30,
     "metadata": {},
     "output_type": "execute_result"
    }
   ],
   "source": [
    "train_data"
   ]
  },
  {
   "cell_type": "code",
   "execution_count": 31,
   "id": "4b12e729",
   "metadata": {},
   "outputs": [
    {
     "data": {
      "text/plain": [
       "0          Happy\n",
       "1          Happy\n",
       "2          Happy\n",
       "3        Unhappy\n",
       "4        Unhappy\n",
       "          ...   \n",
       "71039      Happy\n",
       "71040      Happy\n",
       "71041      Happy\n",
       "71042      Happy\n",
       "71043      Happy\n",
       "Name: reviews.rating, Length: 70867, dtype: object"
      ]
     },
     "execution_count": 31,
     "metadata": {},
     "output_type": "execute_result"
    }
   ],
   "source": [
    "y_target"
   ]
  },
  {
   "cell_type": "markdown",
   "id": "0ca3d500",
   "metadata": {},
   "source": [
    "# TF-ID Vectorizer"
   ]
  },
  {
   "cell_type": "code",
   "execution_count": 32,
   "id": "cb05ac61",
   "metadata": {},
   "outputs": [],
   "source": [
    "vectorize_word = TfidfVectorizer(sublinear_tf=True,strip_accents='unicode',analyzer='word',token_pattern=r'\\w{1,}',stop_words='english',ngram_range=(1, 1),max_features=20000)\n",
    "vectorize_word.fit(data)\n",
    "train_features_word = vectorize_word.transform(train_data)"
   ]
  },
  {
   "cell_type": "code",
   "execution_count": 33,
   "id": "70f1903c",
   "metadata": {},
   "outputs": [
    {
     "data": {
      "text/plain": [
       "0        i love this album. it's very good. more to the...\n",
       "1        Good flavor. This review was collected as part...\n",
       "2                                             Good flavor.\n",
       "3        I read through the reviews on here before look...\n",
       "4        My husband bought this gel for us. The gel cau...\n",
       "                               ...                        \n",
       "71039    I'm dealing with dry eyes and very sensitive t...\n",
       "71040    Great stuff! Helps keep my contacts moist all ...\n",
       "71041                                          Right price\n",
       "71042    I was so pleased when this scarf arrived for m...\n",
       "71043    Excellent album, makes the holidays better, gi...\n",
       "Name: reviews.text, Length: 70867, dtype: object"
      ]
     },
     "execution_count": 33,
     "metadata": {},
     "output_type": "execute_result"
    }
   ],
   "source": [
    "data"
   ]
  },
  {
   "cell_type": "code",
   "execution_count": 34,
   "id": "e225724c",
   "metadata": {},
   "outputs": [
    {
     "data": {
      "text/plain": [
       "<70867x20000 sparse matrix of type '<class 'numpy.float64'>'\n",
       "\twith 1149781 stored elements in Compressed Sparse Row format>"
      ]
     },
     "execution_count": 34,
     "metadata": {},
     "output_type": "execute_result"
    }
   ],
   "source": [
    "train_features_word"
   ]
  },
  {
   "cell_type": "code",
   "execution_count": 35,
   "id": "58606955",
   "metadata": {},
   "outputs": [
    {
     "data": {
      "text/html": [
       "<div>\n",
       "<style scoped>\n",
       "    .dataframe tbody tr th:only-of-type {\n",
       "        vertical-align: middle;\n",
       "    }\n",
       "\n",
       "    .dataframe tbody tr th {\n",
       "        vertical-align: top;\n",
       "    }\n",
       "\n",
       "    .dataframe thead th {\n",
       "        text-align: right;\n",
       "    }\n",
       "</style>\n",
       "<table border=\"1\" class=\"dataframe\">\n",
       "  <thead>\n",
       "    <tr style=\"text-align: right;\">\n",
       "      <th></th>\n",
       "      <th>0</th>\n",
       "    </tr>\n",
       "  </thead>\n",
       "  <tbody>\n",
       "    <tr>\n",
       "      <th>0</th>\n",
       "      <td>(0, 19148)\\t0.1405500194475505\\n  (0, 15773)...</td>\n",
       "    </tr>\n",
       "    <tr>\n",
       "      <th>1</th>\n",
       "      <td>(0, 14130)\\t0.2903069336444276\\n  (0, 13135)...</td>\n",
       "    </tr>\n",
       "    <tr>\n",
       "      <th>2</th>\n",
       "      <td>(0, 7978)\\t0.4140006247871171\\n  (0, 7180)\\t...</td>\n",
       "    </tr>\n",
       "    <tr>\n",
       "      <th>3</th>\n",
       "      <td>(0, 19824)\\t0.15255488209554968\\n  (0, 19586...</td>\n",
       "    </tr>\n",
       "    <tr>\n",
       "      <th>4</th>\n",
       "      <td>(0, 19692)\\t0.27691439604720536\\n  (0, 17141...</td>\n",
       "    </tr>\n",
       "    <tr>\n",
       "      <th>...</th>\n",
       "      <td>...</td>\n",
       "    </tr>\n",
       "    <tr>\n",
       "      <th>70862</th>\n",
       "      <td>(0, 19519)\\t0.15105242401389354\\n  (0, 18606...</td>\n",
       "    </tr>\n",
       "    <tr>\n",
       "      <th>70863</th>\n",
       "      <td>(0, 16619)\\t0.38711405190478637\\n  (0, 11259...</td>\n",
       "    </tr>\n",
       "    <tr>\n",
       "      <th>70864</th>\n",
       "      <td>(0, 14207)\\t0.7426869944596568\\n  (0, 12997)...</td>\n",
       "    </tr>\n",
       "    <tr>\n",
       "      <th>70865</th>\n",
       "      <td>(0, 19720)\\t0.19482730448122512\\n  (0, 19505...</td>\n",
       "    </tr>\n",
       "    <tr>\n",
       "      <th>70866</th>\n",
       "      <td>(0, 18714)\\t0.5226927615468493\\n  (0, 11627)...</td>\n",
       "    </tr>\n",
       "  </tbody>\n",
       "</table>\n",
       "<p>70867 rows × 1 columns</p>\n",
       "</div>"
      ],
      "text/plain": [
       "                                                       0\n",
       "0        (0, 19148)\\t0.1405500194475505\\n  (0, 15773)...\n",
       "1        (0, 14130)\\t0.2903069336444276\\n  (0, 13135)...\n",
       "2        (0, 7978)\\t0.4140006247871171\\n  (0, 7180)\\t...\n",
       "3        (0, 19824)\\t0.15255488209554968\\n  (0, 19586...\n",
       "4        (0, 19692)\\t0.27691439604720536\\n  (0, 17141...\n",
       "...                                                  ...\n",
       "70862    (0, 19519)\\t0.15105242401389354\\n  (0, 18606...\n",
       "70863    (0, 16619)\\t0.38711405190478637\\n  (0, 11259...\n",
       "70864    (0, 14207)\\t0.7426869944596568\\n  (0, 12997)...\n",
       "70865    (0, 19720)\\t0.19482730448122512\\n  (0, 19505...\n",
       "70866    (0, 18714)\\t0.5226927615468493\\n  (0, 11627)...\n",
       "\n",
       "[70867 rows x 1 columns]"
      ]
     },
     "execution_count": 35,
     "metadata": {},
     "output_type": "execute_result"
    }
   ],
   "source": [
    "pd.DataFrame(train_features_word)"
   ]
  },
  {
   "cell_type": "code",
   "execution_count": 36,
   "id": "7c5aebea",
   "metadata": {},
   "outputs": [],
   "source": [
    "vectorize_char = TfidfVectorizer(sublinear_tf=True,strip_accents='unicode',analyzer='char',stop_words='english',ngram_range=(2, 6),max_features=50000)\n",
    "vectorize_char.fit(data)\n",
    "train_features_char = vectorize_char.transform(train_data)\n",
    "train_features = hstack([train_features_char, train_features_word])"
   ]
  },
  {
   "cell_type": "code",
   "execution_count": 37,
   "id": "4d4b0c24",
   "metadata": {},
   "outputs": [
    {
     "data": {
      "text/plain": [
       "<70867x50000 sparse matrix of type '<class 'numpy.float64'>'\n",
       "\twith 50523666 stored elements in Compressed Sparse Row format>"
      ]
     },
     "execution_count": 37,
     "metadata": {},
     "output_type": "execute_result"
    }
   ],
   "source": [
    "train_features_char"
   ]
  },
  {
   "cell_type": "code",
   "execution_count": 38,
   "id": "8f0bb7e4",
   "metadata": {},
   "outputs": [
    {
     "data": {
      "text/plain": [
       "<70867x70000 sparse matrix of type '<class 'numpy.float64'>'\n",
       "\twith 51673447 stored elements in COOrdinate format>"
      ]
     },
     "execution_count": 38,
     "metadata": {},
     "output_type": "execute_result"
    }
   ],
   "source": [
    "train_features"
   ]
  },
  {
   "cell_type": "code",
   "execution_count": 42,
   "id": "2351b207",
   "metadata": {},
   "outputs": [],
   "source": [
    "X_train, X_test, y_train, y_test = train_test_split(train_features, y_target,test_size=0.2,random_state=101,shuffle=True)\n"
   ]
  },
  {
   "cell_type": "markdown",
   "id": "687d1116",
   "metadata": {},
   "source": [
    "# SVC Model"
   ]
  },
  {
   "cell_type": "code",
   "execution_count": 43,
   "id": "6022561f",
   "metadata": {},
   "outputs": [
    {
     "name": "stdout",
     "output_type": "stream",
     "text": [
      "Time taken to run this cell : 0:00:23.017431\n"
     ]
    }
   ],
   "source": [
    "start = datetime.now()\n",
    "lsvm = LinearSVC(class_weight='balanced')\n",
    "l = lsvm.fit(X_train,y_train)\n",
    "print(\"Time taken to run this cell :\", datetime.now() - start)"
   ]
  },
  {
   "cell_type": "markdown",
   "id": "6b6c8bc2",
   "metadata": {},
   "source": [
    "\n",
    "Linear SVC Metric Over Training:"
   ]
  },
  {
   "cell_type": "code",
   "execution_count": 44,
   "id": "40232cad",
   "metadata": {},
   "outputs": [],
   "source": [
    "pred_train = l.predict(X_train)"
   ]
  },
  {
   "cell_type": "code",
   "execution_count": 45,
   "id": "c8327a49",
   "metadata": {},
   "outputs": [
    {
     "name": "stdout",
     "output_type": "stream",
     "text": [
      "Accuracy Train: 0.9889051558393452\n",
      "              precision    recall  f1-score   support\n",
      "\n",
      "       Happy       1.00      0.99      0.99     48838\n",
      "          Ok       0.89      0.97      0.93      3452\n",
      "     Unhappy       0.98      1.00      0.99      4403\n",
      "\n",
      "    accuracy                           0.99     56693\n",
      "   macro avg       0.95      0.98      0.97     56693\n",
      "weighted avg       0.99      0.99      0.99     56693\n",
      "\n"
     ]
    }
   ],
   "source": [
    "print(\"Accuracy Train: {}\".format(accuracy_score(y_train,pred_train)))\n",
    "print(classification_report(y_train,pred_train))"
   ]
  },
  {
   "cell_type": "markdown",
   "id": "564da0fa",
   "metadata": {},
   "source": [
    "Linear SVC Metric Over Test:"
   ]
  },
  {
   "cell_type": "code",
   "execution_count": 46,
   "id": "d85e347f",
   "metadata": {},
   "outputs": [
    {
     "name": "stdout",
     "output_type": "stream",
     "text": [
      "Accuracy Test : 0.900804289544236\n",
      "              precision    recall  f1-score   support\n",
      "\n",
      "       Happy       0.95      0.96      0.95     12150\n",
      "          Ok       0.39      0.37      0.38       898\n",
      "     Unhappy       0.75      0.73      0.74      1126\n",
      "\n",
      "    accuracy                           0.90     14174\n",
      "   macro avg       0.70      0.68      0.69     14174\n",
      "weighted avg       0.90      0.90      0.90     14174\n",
      "\n"
     ]
    }
   ],
   "source": [
    "pred_test=l.predict(X_test)\n",
    "\n",
    "print(\"Accuracy Test : {}\".format(accuracy_score(y_test,pred_test)))\n",
    "print(classification_report(y_test,pred_test))"
   ]
  },
  {
   "cell_type": "code",
   "execution_count": 47,
   "id": "a659f9b6",
   "metadata": {},
   "outputs": [
    {
     "data": {
      "image/png": "[encoded data removed]",
      "text/plain": [
       "<Figure size 432x288 with 2 Axes>"
      ]
     },
     "metadata": {
      "needs_background": "light"
     },
     "output_type": "display_data"
    }
   ],
   "source": [
    "skplt.metrics.plot_confusion_matrix(y_test, pred_test, normalize=True)\n",
    "plt.show()"
   ]
  },
  {
   "cell_type": "markdown",
   "id": "c4781eb9",
   "metadata": {},
   "source": [
    "# SGD Classifier:"
   ]
  },
  {
   "cell_type": "code",
   "execution_count": 48,
   "id": "05bba49b",
   "metadata": {},
   "outputs": [
    {
     "name": "stdout",
     "output_type": "stream",
     "text": [
      "Time taken to run this cell : 0:00:01.921860\n"
     ]
    }
   ],
   "source": [
    "start = datetime.now()\n",
    "svm1=SGDClassifier(class_weight='balanced',n_jobs=-1,max_iter=300)\n",
    "svm1.fit(X_train,y_train)\n",
    "print(\"Time taken to run this cell :\", datetime.now() - start)"
   ]
  },
  {
   "cell_type": "markdown",
   "id": "32790552",
   "metadata": {},
   "source": [
    "\n",
    "SGD Metric Over Training:"
   ]
  },
  {
   "cell_type": "code",
   "execution_count": 49,
   "id": "66b413b2",
   "metadata": {},
   "outputs": [
    {
     "name": "stdout",
     "output_type": "stream",
     "text": [
      "Accuracy Train: 0.9373467623868909\n",
      "              precision    recall  f1-score   support\n",
      "\n",
      "       Happy       0.98      0.96      0.97     48838\n",
      "          Ok       0.60      0.69      0.64      3452\n",
      "     Unhappy       0.82      0.88      0.85      4403\n",
      "\n",
      "    accuracy                           0.94     56693\n",
      "   macro avg       0.80      0.84      0.82     56693\n",
      "weighted avg       0.94      0.94      0.94     56693\n",
      "\n"
     ]
    }
   ],
   "source": [
    "\n",
    "pred_train_sgd=svm1.predict(X_train)\n",
    "print(\"Accuracy Train: {}\".format(accuracy_score(y_train,pred_train_sgd)))\n",
    "print(classification_report(y_train,pred_train_sgd))"
   ]
  },
  {
   "cell_type": "markdown",
   "id": "c2fb4fab",
   "metadata": {},
   "source": [
    "SGD Metric Over Test:"
   ]
  },
  {
   "cell_type": "code",
   "execution_count": 50,
   "id": "2a69def9",
   "metadata": {},
   "outputs": [
    {
     "name": "stdout",
     "output_type": "stream",
     "text": [
      "Accuracy Test: 0.8991816001128827\n",
      "              precision    recall  f1-score   support\n",
      "\n",
      "       Happy       0.95      0.95      0.95     12150\n",
      "          Ok       0.39      0.38      0.39       898\n",
      "     Unhappy       0.72      0.75      0.73      1126\n",
      "\n",
      "    accuracy                           0.90     14174\n",
      "   macro avg       0.69      0.69      0.69     14174\n",
      "weighted avg       0.90      0.90      0.90     14174\n",
      "\n"
     ]
    }
   ],
   "source": [
    "pred_test_sgd=svm1.predict(X_test)\n",
    "print(\"Accuracy Test: {}\".format(accuracy_score(y_test,pred_test_sgd)))\n",
    "print(classification_report(y_test,pred_test_sgd))"
   ]
  },
  {
   "cell_type": "code",
   "execution_count": 51,
   "id": "93b357c6",
   "metadata": {},
   "outputs": [
    {
     "data": {
      "image/png": "[encoded data removed]",
      "text/plain": [
       "<Figure size 432x288 with 2 Axes>"
      ]
     },
     "metadata": {
      "needs_background": "light"
     },
     "output_type": "display_data"
    }
   ],
   "source": [
    "skplt.metrics.plot_confusion_matrix(y_test, pred_test_sgd, normalize=True)\n",
    "plt.show()"
   ]
  },
  {
   "cell_type": "code",
   "execution_count": 52,
   "id": "9d72e2a8",
   "metadata": {},
   "outputs": [],
   "source": [
    "from sklearn.ensemble import RandomForestClassifier,AdaBoostClassifier,BaggingRegressor,ExtraTreesClassifier,GradientBoostingClassifier\n",
    "from xgboost import XGBClassifier"
   ]
  },
  {
   "cell_type": "code",
   "execution_count": 53,
   "id": "2ef573f0",
   "metadata": {},
   "outputs": [
    {
     "name": "stdout",
     "output_type": "stream",
     "text": [
      "Time taken to run this cell : 0:05:04.561335\n"
     ]
    }
   ],
   "source": [
    "start = datetime.now()\n",
    "svm1=AdaBoostClassifier()\n",
    "svm1.fit(X_train,y_train)\n",
    "print(\"Time taken to run this cell :\", datetime.now() - start)"
   ]
  },
  {
   "cell_type": "code",
   "execution_count": 54,
   "id": "403cd3ba",
   "metadata": {},
   "outputs": [
    {
     "name": "stdout",
     "output_type": "stream",
     "text": [
      "Accuracy Test: 0.8839424298010442\n",
      "              precision    recall  f1-score   support\n",
      "\n",
      "       Happy       0.90      0.98      0.94     12150\n",
      "          Ok       0.44      0.06      0.11       898\n",
      "     Unhappy       0.67      0.48      0.56      1126\n",
      "\n",
      "    accuracy                           0.88     14174\n",
      "   macro avg       0.67      0.51      0.53     14174\n",
      "weighted avg       0.85      0.88      0.86     14174\n",
      "\n"
     ]
    }
   ],
   "source": [
    "pred_test_sgd=svm1.predict(X_test)\n",
    "print(\"Accuracy Test: {}\".format(accuracy_score(y_test,pred_test_sgd)))\n",
    "print(classification_report(y_test,pred_test_sgd))"
   ]
  },
  {
   "cell_type": "code",
   "execution_count": 55,
   "id": "978ff5bf",
   "metadata": {},
   "outputs": [
    {
     "name": "stdout",
     "output_type": "stream",
     "text": [
      "Accuracy Train: 0.8871642001658053\n",
      "              precision    recall  f1-score   support\n",
      "\n",
      "       Happy       0.91      0.98      0.94     48838\n",
      "          Ok       0.46      0.07      0.12      3452\n",
      "     Unhappy       0.66      0.49      0.57      4403\n",
      "\n",
      "    accuracy                           0.89     56693\n",
      "   macro avg       0.68      0.52      0.54     56693\n",
      "weighted avg       0.86      0.89      0.86     56693\n",
      "\n"
     ]
    }
   ],
   "source": [
    "pred_train_sgd=svm1.predict(X_train)\n",
    "print(\"Accuracy Train: {}\".format(accuracy_score(y_train,pred_train_sgd)))\n",
    "print(classification_report(y_train,pred_train_sgd))"
   ]
  },
  {
   "cell_type": "code",
   "execution_count": null,
   "id": "9a3b644e",
   "metadata": {},
   "outputs": [],
   "source": [
    "start = datetime.now()\n",
    "svm1=GradientBoostingClassifier()\n",
    "svm1.fit(X_train,y_train)\n",
    "print(\"Time taken to run this cell :\", datetime.now() - start)"
   ]
  },
  {
   "cell_type": "code",
   "execution_count": null,
   "id": "94904cf3",
   "metadata": {},
   "outputs": [],
   "source": [
    "pred_test_sgd=svm1.predict(X_test)\n",
    "print(\"Accuracy Test: {}\".format(accuracy_score(y_test,pred_test_sgd)))\n",
    "print(classification_report(y_test,pred_test_sgd))"
   ]
  },
  {
   "cell_type": "code",
   "execution_count": null,
   "id": "653600e7",
   "metadata": {},
   "outputs": [],
   "source": [
    "\n",
    "pred_train_sgd=svm1.predict(X_train)\n",
    "print(\"Accuracy Train: {}\".format(accuracy_score(y_train,pred_train_sgd)))\n",
    "print(classification_report(y_train,pred_train_sgd))"
   ]
  },
  {
   "cell_type": "code",
   "execution_count": null,
   "id": "bdef579d",
   "metadata": {},
   "outputs": [],
   "source": [
    "start = datetime.now()\n",
    "svm1=ExtraTreesClassifier()\n",
    "svm1.fit(X_train,y_train)\n",
    "print(\"Time taken to run this cell :\", datetime.now() - start)"
   ]
  },
  {
   "cell_type": "code",
   "execution_count": null,
   "id": "5b3900b3",
   "metadata": {},
   "outputs": [],
   "source": [
    "pred_test_sgd=svm1.predict(X_test)\n",
    "print(\"Accuracy Test: {}\".format(accuracy_score(y_test,pred_test_sgd)))\n",
    "print(classification_report(y_test,pred_test_sgd))"
   ]
  },
  {
   "cell_type": "code",
   "execution_count": null,
   "id": "9266b3f5",
   "metadata": {},
   "outputs": [],
   "source": [
    "\n",
    "pred_train_sgd=svm1.predict(X_train)\n",
    "print(\"Accuracy Train: {}\".format(accuracy_score(y_train,pred_train_sgd)))\n",
    "print(classification_report(y_train,pred_train_sgd))"
   ]
  },
  {
   "cell_type": "code",
   "execution_count": null,
   "id": "f8a7a02b",
   "metadata": {},
   "outputs": [],
   "source": []
  }
 ],
 "metadata": {
  "kernelspec": {
   "display_name": "Python 3",
   "language": "python",
   "name": "python3"
  },
  "language_info": {
   "codemirror_mode": {
    "name": "ipython",
    "version": 3
   },
   "file_extension": ".py",
   "mimetype": "text/x-python",
   "name": "python",
   "nbconvert_exporter": "python",
   "pygments_lexer": "ipython3",
   "version": "3.8.8"
  }
 },
 "nbformat": 4,
 "nbformat_minor": 5
}
