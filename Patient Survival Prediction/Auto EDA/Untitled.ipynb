{
 "cells": [
  {
   "cell_type": "code",
   "execution_count": 4,
   "id": "67faca00",
   "metadata": {},
   "outputs": [],
   "source": [
    "from sklearn.impute import KNNImputer\n",
    "import numpy as np\n",
    "import pandas as pd"
   ]
  },
  {
   "cell_type": "code",
   "execution_count": 5,
   "id": "8d057e50",
   "metadata": {},
   "outputs": [
    {
     "name": "stdout",
     "output_type": "stream",
     "text": [
      "X:  [[3, nan, 5], [1, 0, 0], [3, 3, 3]]\n",
      "===========\n"
     ]
    }
   ],
   "source": [
    "\n",
    "X = [ [3, np.NaN, 5], [1, 0, 0], [3, 3, 3] ]\n",
    "print(\"X: \", X)\n",
    "print(\"===========\")"
   ]
  },
  {
   "cell_type": "code",
   "execution_count": 7,
   "id": "3fb36f9d",
   "metadata": {},
   "outputs": [],
   "source": [
    "x = pd.DataFrame(X)"
   ]
  },
  {
   "cell_type": "code",
   "execution_count": 8,
   "id": "0d3be1f4",
   "metadata": {},
   "outputs": [
    {
     "data": {
      "text/html": [
       "<div>\n",
       "<style scoped>\n",
       "    .dataframe tbody tr th:only-of-type {\n",
       "        vertical-align: middle;\n",
       "    }\n",
       "\n",
       "    .dataframe tbody tr th {\n",
       "        vertical-align: top;\n",
       "    }\n",
       "\n",
       "    .dataframe thead th {\n",
       "        text-align: right;\n",
       "    }\n",
       "</style>\n",
       "<table border=\"1\" class=\"dataframe\">\n",
       "  <thead>\n",
       "    <tr style=\"text-align: right;\">\n",
       "      <th></th>\n",
       "      <th>0</th>\n",
       "      <th>1</th>\n",
       "      <th>2</th>\n",
       "    </tr>\n",
       "  </thead>\n",
       "  <tbody>\n",
       "    <tr>\n",
       "      <th>0</th>\n",
       "      <td>3</td>\n",
       "      <td>NaN</td>\n",
       "      <td>5</td>\n",
       "    </tr>\n",
       "    <tr>\n",
       "      <th>1</th>\n",
       "      <td>1</td>\n",
       "      <td>0.0</td>\n",
       "      <td>0</td>\n",
       "    </tr>\n",
       "    <tr>\n",
       "      <th>2</th>\n",
       "      <td>3</td>\n",
       "      <td>3.0</td>\n",
       "      <td>3</td>\n",
       "    </tr>\n",
       "  </tbody>\n",
       "</table>\n",
       "</div>"
      ],
      "text/plain": [
       "   0    1  2\n",
       "0  3  NaN  5\n",
       "1  1  0.0  0\n",
       "2  3  3.0  3"
      ]
     },
     "execution_count": 8,
     "metadata": {},
     "output_type": "execute_result"
    }
   ],
   "source": [
    "x"
   ]
  },
  {
   "cell_type": "code",
   "execution_count": 9,
   "id": "d67fd823",
   "metadata": {},
   "outputs": [
    {
     "name": "stdout",
     "output_type": "stream",
     "text": [
      "\n",
      "Impute with 1 Neighbour: \n",
      " [[3. 3. 5.]\n",
      " [1. 0. 0.]\n",
      " [3. 3. 3.]]\n",
      "\n",
      " Impute with 2 Neighbours: \n",
      " [[3. 3. 5.]\n",
      " [1. 0. 0.]\n",
      " [3. 3. 3.]]\n"
     ]
    }
   ],
   "source": [
    "imputer = KNNImputer(n_neighbors= 1)\n",
    "impute_with_1 = imputer.fit_transform(x)\n",
    "\n",
    "print(\"\\nImpute with 1 Neighbour: \\n\", impute_with_1)\n",
    "\n",
    "\n",
    "\n",
    "imputer = KNNImputer(n_neighbors= 2)\n",
    "impute_with_2 = imputer.fit_transform(X)\n",
    "\n",
    "print(\"\\n Impute with 2 Neighbours: \\n\", impute_with_1)\n"
   ]
  },
  {
   "cell_type": "code",
   "execution_count": null,
   "id": "a1b0480b",
   "metadata": {},
   "outputs": [],
   "source": []
  },
  {
   "cell_type": "code",
   "execution_count": null,
   "id": "48081059",
   "metadata": {},
   "outputs": [],
   "source": []
  },
  {
   "cell_type": "code",
   "execution_count": null,
   "id": "42354a61",
   "metadata": {},
   "outputs": [],
   "source": []
  }
 ],
 "metadata": {
  "kernelspec": {
   "display_name": "Python 3",
   "language": "python",
   "name": "python3"
  },
  "language_info": {
   "codemirror_mode": {
    "name": "ipython",
    "version": 3
   },
   "file_extension": ".py",
   "mimetype": "text/x-python",
   "name": "python",
   "nbconvert_exporter": "python",
   "pygments_lexer": "ipython3",
   "version": "3.8.8"
  }
 },
 "nbformat": 4,
 "nbformat_minor": 5
}
