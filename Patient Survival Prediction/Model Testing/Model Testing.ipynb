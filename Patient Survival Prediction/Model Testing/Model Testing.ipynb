{
 "cells": [
  {
   "cell_type": "code",
   "execution_count": 1,
   "id": "746b71f9",
   "metadata": {},
   "outputs": [],
   "source": [
    "import warnings\n",
    "warnings.filterwarnings('ignore')"
   ]
  },
  {
   "cell_type": "code",
   "execution_count": 2,
   "id": "5fb5abbd",
   "metadata": {},
   "outputs": [],
   "source": [
    "import pandas as pd\n",
    "import numpy as np\n",
    "import matplotlib.pyplot as plt\n",
    "import seaborn as sns"
   ]
  },
  {
   "cell_type": "code",
   "execution_count": 3,
   "id": "8a49fdc2",
   "metadata": {},
   "outputs": [],
   "source": [
    "df = pd.read_csv('Dataset.csv')"
   ]
  },
  {
   "cell_type": "code",
   "execution_count": 4,
   "id": "7078960a",
   "metadata": {},
   "outputs": [
    {
     "data": {
      "text/html": [
       "<div>\n",
       "<style scoped>\n",
       "    .dataframe tbody tr th:only-of-type {\n",
       "        vertical-align: middle;\n",
       "    }\n",
       "\n",
       "    .dataframe tbody tr th {\n",
       "        vertical-align: top;\n",
       "    }\n",
       "\n",
       "    .dataframe thead th {\n",
       "        text-align: right;\n",
       "    }\n",
       "</style>\n",
       "<table border=\"1\" class=\"dataframe\">\n",
       "  <thead>\n",
       "    <tr style=\"text-align: right;\">\n",
       "      <th></th>\n",
       "      <th>encounter_id</th>\n",
       "      <th>patient_id</th>\n",
       "      <th>hospital_id</th>\n",
       "      <th>hospital_death</th>\n",
       "      <th>age</th>\n",
       "      <th>bmi</th>\n",
       "      <th>elective_surgery</th>\n",
       "      <th>ethnicity</th>\n",
       "      <th>gender</th>\n",
       "      <th>height</th>\n",
       "      <th>...</th>\n",
       "      <th>aids</th>\n",
       "      <th>cirrhosis</th>\n",
       "      <th>diabetes_mellitus</th>\n",
       "      <th>hepatic_failure</th>\n",
       "      <th>immunosuppression</th>\n",
       "      <th>leukemia</th>\n",
       "      <th>lymphoma</th>\n",
       "      <th>solid_tumor_with_metastasis</th>\n",
       "      <th>apache_3j_bodysystem</th>\n",
       "      <th>apache_2_bodysystem</th>\n",
       "    </tr>\n",
       "  </thead>\n",
       "  <tbody>\n",
       "    <tr>\n",
       "      <th>0</th>\n",
       "      <td>66154</td>\n",
       "      <td>25312</td>\n",
       "      <td>118</td>\n",
       "      <td>0</td>\n",
       "      <td>68.0</td>\n",
       "      <td>22.730000</td>\n",
       "      <td>0</td>\n",
       "      <td>Caucasian</td>\n",
       "      <td>M</td>\n",
       "      <td>180.3</td>\n",
       "      <td>...</td>\n",
       "      <td>0.0</td>\n",
       "      <td>0.0</td>\n",
       "      <td>1.0</td>\n",
       "      <td>0.0</td>\n",
       "      <td>0.0</td>\n",
       "      <td>0.0</td>\n",
       "      <td>0.0</td>\n",
       "      <td>0.0</td>\n",
       "      <td>Sepsis</td>\n",
       "      <td>Cardiovascular</td>\n",
       "    </tr>\n",
       "    <tr>\n",
       "      <th>1</th>\n",
       "      <td>114252</td>\n",
       "      <td>59342</td>\n",
       "      <td>81</td>\n",
       "      <td>0</td>\n",
       "      <td>77.0</td>\n",
       "      <td>27.420000</td>\n",
       "      <td>0</td>\n",
       "      <td>Caucasian</td>\n",
       "      <td>F</td>\n",
       "      <td>160.0</td>\n",
       "      <td>...</td>\n",
       "      <td>0.0</td>\n",
       "      <td>0.0</td>\n",
       "      <td>1.0</td>\n",
       "      <td>0.0</td>\n",
       "      <td>0.0</td>\n",
       "      <td>0.0</td>\n",
       "      <td>0.0</td>\n",
       "      <td>0.0</td>\n",
       "      <td>Respiratory</td>\n",
       "      <td>Respiratory</td>\n",
       "    </tr>\n",
       "    <tr>\n",
       "      <th>2</th>\n",
       "      <td>119783</td>\n",
       "      <td>50777</td>\n",
       "      <td>118</td>\n",
       "      <td>0</td>\n",
       "      <td>25.0</td>\n",
       "      <td>31.950000</td>\n",
       "      <td>0</td>\n",
       "      <td>Caucasian</td>\n",
       "      <td>F</td>\n",
       "      <td>172.7</td>\n",
       "      <td>...</td>\n",
       "      <td>0.0</td>\n",
       "      <td>0.0</td>\n",
       "      <td>0.0</td>\n",
       "      <td>0.0</td>\n",
       "      <td>0.0</td>\n",
       "      <td>0.0</td>\n",
       "      <td>0.0</td>\n",
       "      <td>0.0</td>\n",
       "      <td>Metabolic</td>\n",
       "      <td>Metabolic</td>\n",
       "    </tr>\n",
       "    <tr>\n",
       "      <th>3</th>\n",
       "      <td>79267</td>\n",
       "      <td>46918</td>\n",
       "      <td>118</td>\n",
       "      <td>0</td>\n",
       "      <td>81.0</td>\n",
       "      <td>22.640000</td>\n",
       "      <td>1</td>\n",
       "      <td>Caucasian</td>\n",
       "      <td>F</td>\n",
       "      <td>165.1</td>\n",
       "      <td>...</td>\n",
       "      <td>0.0</td>\n",
       "      <td>0.0</td>\n",
       "      <td>0.0</td>\n",
       "      <td>0.0</td>\n",
       "      <td>0.0</td>\n",
       "      <td>0.0</td>\n",
       "      <td>0.0</td>\n",
       "      <td>0.0</td>\n",
       "      <td>Cardiovascular</td>\n",
       "      <td>Cardiovascular</td>\n",
       "    </tr>\n",
       "    <tr>\n",
       "      <th>4</th>\n",
       "      <td>92056</td>\n",
       "      <td>34377</td>\n",
       "      <td>33</td>\n",
       "      <td>0</td>\n",
       "      <td>19.0</td>\n",
       "      <td>NaN</td>\n",
       "      <td>0</td>\n",
       "      <td>Caucasian</td>\n",
       "      <td>M</td>\n",
       "      <td>188.0</td>\n",
       "      <td>...</td>\n",
       "      <td>0.0</td>\n",
       "      <td>0.0</td>\n",
       "      <td>0.0</td>\n",
       "      <td>0.0</td>\n",
       "      <td>0.0</td>\n",
       "      <td>0.0</td>\n",
       "      <td>0.0</td>\n",
       "      <td>0.0</td>\n",
       "      <td>Trauma</td>\n",
       "      <td>Trauma</td>\n",
       "    </tr>\n",
       "    <tr>\n",
       "      <th>...</th>\n",
       "      <td>...</td>\n",
       "      <td>...</td>\n",
       "      <td>...</td>\n",
       "      <td>...</td>\n",
       "      <td>...</td>\n",
       "      <td>...</td>\n",
       "      <td>...</td>\n",
       "      <td>...</td>\n",
       "      <td>...</td>\n",
       "      <td>...</td>\n",
       "      <td>...</td>\n",
       "      <td>...</td>\n",
       "      <td>...</td>\n",
       "      <td>...</td>\n",
       "      <td>...</td>\n",
       "      <td>...</td>\n",
       "      <td>...</td>\n",
       "      <td>...</td>\n",
       "      <td>...</td>\n",
       "      <td>...</td>\n",
       "      <td>...</td>\n",
       "    </tr>\n",
       "    <tr>\n",
       "      <th>91708</th>\n",
       "      <td>91592</td>\n",
       "      <td>78108</td>\n",
       "      <td>30</td>\n",
       "      <td>0</td>\n",
       "      <td>75.0</td>\n",
       "      <td>23.060250</td>\n",
       "      <td>0</td>\n",
       "      <td>Caucasian</td>\n",
       "      <td>M</td>\n",
       "      <td>177.8</td>\n",
       "      <td>...</td>\n",
       "      <td>0.0</td>\n",
       "      <td>0.0</td>\n",
       "      <td>1.0</td>\n",
       "      <td>0.0</td>\n",
       "      <td>0.0</td>\n",
       "      <td>0.0</td>\n",
       "      <td>0.0</td>\n",
       "      <td>1.0</td>\n",
       "      <td>Sepsis</td>\n",
       "      <td>Cardiovascular</td>\n",
       "    </tr>\n",
       "    <tr>\n",
       "      <th>91709</th>\n",
       "      <td>66119</td>\n",
       "      <td>13486</td>\n",
       "      <td>121</td>\n",
       "      <td>0</td>\n",
       "      <td>56.0</td>\n",
       "      <td>47.179671</td>\n",
       "      <td>0</td>\n",
       "      <td>Caucasian</td>\n",
       "      <td>F</td>\n",
       "      <td>183.0</td>\n",
       "      <td>...</td>\n",
       "      <td>0.0</td>\n",
       "      <td>0.0</td>\n",
       "      <td>0.0</td>\n",
       "      <td>0.0</td>\n",
       "      <td>0.0</td>\n",
       "      <td>0.0</td>\n",
       "      <td>0.0</td>\n",
       "      <td>0.0</td>\n",
       "      <td>Sepsis</td>\n",
       "      <td>Cardiovascular</td>\n",
       "    </tr>\n",
       "    <tr>\n",
       "      <th>91710</th>\n",
       "      <td>8981</td>\n",
       "      <td>58179</td>\n",
       "      <td>195</td>\n",
       "      <td>0</td>\n",
       "      <td>48.0</td>\n",
       "      <td>27.236914</td>\n",
       "      <td>0</td>\n",
       "      <td>Caucasian</td>\n",
       "      <td>M</td>\n",
       "      <td>170.2</td>\n",
       "      <td>...</td>\n",
       "      <td>0.0</td>\n",
       "      <td>0.0</td>\n",
       "      <td>1.0</td>\n",
       "      <td>0.0</td>\n",
       "      <td>0.0</td>\n",
       "      <td>0.0</td>\n",
       "      <td>0.0</td>\n",
       "      <td>0.0</td>\n",
       "      <td>Metabolic</td>\n",
       "      <td>Metabolic</td>\n",
       "    </tr>\n",
       "    <tr>\n",
       "      <th>91711</th>\n",
       "      <td>33776</td>\n",
       "      <td>120598</td>\n",
       "      <td>66</td>\n",
       "      <td>0</td>\n",
       "      <td>NaN</td>\n",
       "      <td>23.297481</td>\n",
       "      <td>0</td>\n",
       "      <td>Caucasian</td>\n",
       "      <td>F</td>\n",
       "      <td>154.9</td>\n",
       "      <td>...</td>\n",
       "      <td>0.0</td>\n",
       "      <td>0.0</td>\n",
       "      <td>0.0</td>\n",
       "      <td>0.0</td>\n",
       "      <td>0.0</td>\n",
       "      <td>0.0</td>\n",
       "      <td>0.0</td>\n",
       "      <td>0.0</td>\n",
       "      <td>Respiratory</td>\n",
       "      <td>Respiratory</td>\n",
       "    </tr>\n",
       "    <tr>\n",
       "      <th>91712</th>\n",
       "      <td>1671</td>\n",
       "      <td>53612</td>\n",
       "      <td>104</td>\n",
       "      <td>0</td>\n",
       "      <td>82.0</td>\n",
       "      <td>22.031250</td>\n",
       "      <td>1</td>\n",
       "      <td>Caucasian</td>\n",
       "      <td>F</td>\n",
       "      <td>160.0</td>\n",
       "      <td>...</td>\n",
       "      <td>0.0</td>\n",
       "      <td>0.0</td>\n",
       "      <td>0.0</td>\n",
       "      <td>0.0</td>\n",
       "      <td>0.0</td>\n",
       "      <td>0.0</td>\n",
       "      <td>0.0</td>\n",
       "      <td>0.0</td>\n",
       "      <td>Gastrointestinal</td>\n",
       "      <td>Gastrointestinal</td>\n",
       "    </tr>\n",
       "  </tbody>\n",
       "</table>\n",
       "<p>91713 rows × 186 columns</p>\n",
       "</div>"
      ],
      "text/plain": [
       "       encounter_id  patient_id  hospital_id  hospital_death   age        bmi  \\\n",
       "0             66154       25312          118               0  68.0  22.730000   \n",
       "1            114252       59342           81               0  77.0  27.420000   \n",
       "2            119783       50777          118               0  25.0  31.950000   \n",
       "3             79267       46918          118               0  81.0  22.640000   \n",
       "4             92056       34377           33               0  19.0        NaN   \n",
       "...             ...         ...          ...             ...   ...        ...   \n",
       "91708         91592       78108           30               0  75.0  23.060250   \n",
       "91709         66119       13486          121               0  56.0  47.179671   \n",
       "91710          8981       58179          195               0  48.0  27.236914   \n",
       "91711         33776      120598           66               0   NaN  23.297481   \n",
       "91712          1671       53612          104               0  82.0  22.031250   \n",
       "\n",
       "       elective_surgery  ethnicity gender  height  ... aids cirrhosis  \\\n",
       "0                     0  Caucasian      M   180.3  ...  0.0       0.0   \n",
       "1                     0  Caucasian      F   160.0  ...  0.0       0.0   \n",
       "2                     0  Caucasian      F   172.7  ...  0.0       0.0   \n",
       "3                     1  Caucasian      F   165.1  ...  0.0       0.0   \n",
       "4                     0  Caucasian      M   188.0  ...  0.0       0.0   \n",
       "...                 ...        ...    ...     ...  ...  ...       ...   \n",
       "91708                 0  Caucasian      M   177.8  ...  0.0       0.0   \n",
       "91709                 0  Caucasian      F   183.0  ...  0.0       0.0   \n",
       "91710                 0  Caucasian      M   170.2  ...  0.0       0.0   \n",
       "91711                 0  Caucasian      F   154.9  ...  0.0       0.0   \n",
       "91712                 1  Caucasian      F   160.0  ...  0.0       0.0   \n",
       "\n",
       "       diabetes_mellitus hepatic_failure immunosuppression  leukemia  \\\n",
       "0                    1.0             0.0               0.0       0.0   \n",
       "1                    1.0             0.0               0.0       0.0   \n",
       "2                    0.0             0.0               0.0       0.0   \n",
       "3                    0.0             0.0               0.0       0.0   \n",
       "4                    0.0             0.0               0.0       0.0   \n",
       "...                  ...             ...               ...       ...   \n",
       "91708                1.0             0.0               0.0       0.0   \n",
       "91709                0.0             0.0               0.0       0.0   \n",
       "91710                1.0             0.0               0.0       0.0   \n",
       "91711                0.0             0.0               0.0       0.0   \n",
       "91712                0.0             0.0               0.0       0.0   \n",
       "\n",
       "       lymphoma  solid_tumor_with_metastasis  apache_3j_bodysystem  \\\n",
       "0           0.0                          0.0                Sepsis   \n",
       "1           0.0                          0.0           Respiratory   \n",
       "2           0.0                          0.0             Metabolic   \n",
       "3           0.0                          0.0        Cardiovascular   \n",
       "4           0.0                          0.0                Trauma   \n",
       "...         ...                          ...                   ...   \n",
       "91708       0.0                          1.0                Sepsis   \n",
       "91709       0.0                          0.0                Sepsis   \n",
       "91710       0.0                          0.0             Metabolic   \n",
       "91711       0.0                          0.0           Respiratory   \n",
       "91712       0.0                          0.0      Gastrointestinal   \n",
       "\n",
       "       apache_2_bodysystem  \n",
       "0           Cardiovascular  \n",
       "1              Respiratory  \n",
       "2                Metabolic  \n",
       "3           Cardiovascular  \n",
       "4                   Trauma  \n",
       "...                    ...  \n",
       "91708       Cardiovascular  \n",
       "91709       Cardiovascular  \n",
       "91710            Metabolic  \n",
       "91711          Respiratory  \n",
       "91712     Gastrointestinal  \n",
       "\n",
       "[91713 rows x 186 columns]"
      ]
     },
     "execution_count": 4,
     "metadata": {},
     "output_type": "execute_result"
    }
   ],
   "source": [
    "df"
   ]
  },
  {
   "cell_type": "code",
   "execution_count": 5,
   "id": "7e27efa3",
   "metadata": {},
   "outputs": [
    {
     "data": {
      "text/plain": [
       "encounter_id                      0\n",
       "patient_id                        0\n",
       "hospital_id                       0\n",
       "hospital_death                    0\n",
       "age                            4228\n",
       "                               ... \n",
       "leukemia                        715\n",
       "lymphoma                        715\n",
       "solid_tumor_with_metastasis     715\n",
       "apache_3j_bodysystem           1662\n",
       "apache_2_bodysystem            1662\n",
       "Length: 186, dtype: int64"
      ]
     },
     "execution_count": 5,
     "metadata": {},
     "output_type": "execute_result"
    }
   ],
   "source": [
    "df.isnull().sum()"
   ]
  },
  {
   "cell_type": "code",
   "execution_count": 6,
   "id": "d210c5ca",
   "metadata": {},
   "outputs": [
    {
     "name": "stdout",
     "output_type": "stream",
     "text": [
      "<class 'pandas.core.frame.DataFrame'>\n",
      "RangeIndex: 91713 entries, 0 to 91712\n",
      "Columns: 186 entries, encounter_id to apache_2_bodysystem\n",
      "dtypes: float64(170), int64(8), object(8)\n",
      "memory usage: 130.1+ MB\n"
     ]
    }
   ],
   "source": [
    "df.info()"
   ]
  },
  {
   "cell_type": "code",
   "execution_count": 7,
   "id": "44b5a1d7",
   "metadata": {},
   "outputs": [
    {
     "data": {
      "text/plain": [
       "Index(['encounter_id', 'patient_id', 'hospital_id', 'hospital_death', 'age',\n",
       "       'bmi', 'elective_surgery', 'ethnicity', 'gender', 'height',\n",
       "       ...\n",
       "       'aids', 'cirrhosis', 'diabetes_mellitus', 'hepatic_failure',\n",
       "       'immunosuppression', 'leukemia', 'lymphoma',\n",
       "       'solid_tumor_with_metastasis', 'apache_3j_bodysystem',\n",
       "       'apache_2_bodysystem'],\n",
       "      dtype='object', length=186)"
      ]
     },
     "execution_count": 7,
     "metadata": {},
     "output_type": "execute_result"
    }
   ],
   "source": [
    "df.columns"
   ]
  },
  {
   "cell_type": "code",
   "execution_count": 8,
   "id": "2c687bce",
   "metadata": {},
   "outputs": [
    {
     "data": {
      "text/plain": [
       "5743492"
      ]
     },
     "execution_count": 8,
     "metadata": {},
     "output_type": "execute_result"
    }
   ],
   "source": [
    "df.isna().sum().sum()"
   ]
  },
  {
   "cell_type": "code",
   "execution_count": 9,
   "id": "c100ca3c",
   "metadata": {},
   "outputs": [
    {
     "data": {
      "text/plain": [
       "encounter_id                     0\n",
       "patient_id                       0\n",
       "hospital_id                      0\n",
       "hospital_death                   0\n",
       "age                           4228\n",
       "bmi                           3429\n",
       "elective_surgery                 0\n",
       "ethnicity                     1395\n",
       "gender                          25\n",
       "height                        1334\n",
       "hospital_admit_source        21409\n",
       "icu_admit_source               112\n",
       "icu_id                           0\n",
       "icu_stay_type                    0\n",
       "icu_type                         0\n",
       "pre_icu_los_days                 0\n",
       "readmission_status               0\n",
       "weight                        2720\n",
       "albumin_apache               54379\n",
       "apache_2_diagnosis            1662\n",
       "apache_3j_diagnosis           1101\n",
       "apache_post_operative            0\n",
       "arf_apache                     715\n",
       "bilirubin_apache             58134\n",
       "bun_apache                   19262\n",
       "creatinine_apache            18853\n",
       "fio2_apache                  70868\n",
       "gcs_eyes_apache               1901\n",
       "gcs_motor_apache              1901\n",
       "gcs_unable_apache             1037\n",
       "gcs_verbal_apache             1901\n",
       "glucose_apache               11036\n",
       "heart_rate_apache              878\n",
       "hematocrit_apache            19878\n",
       "intubated_apache               715\n",
       "map_apache                     994\n",
       "paco2_apache                 70868\n",
       "paco2_for_ph_apache          70868\n",
       "pao2_apache                  70868\n",
       "ph_apache                    70868\n",
       "resprate_apache               1234\n",
       "sodium_apache                18600\n",
       "temp_apache                   4108\n",
       "urineoutput_apache           48998\n",
       "ventilated_apache              715\n",
       "wbc_apache                   22012\n",
       "d1_diasbp_invasive_max       67984\n",
       "d1_diasbp_invasive_min       67984\n",
       "d1_diasbp_max                  165\n",
       "d1_diasbp_min                  165\n",
       "d1_diasbp_noninvasive_max     1040\n",
       "d1_diasbp_noninvasive_min     1040\n",
       "d1_heartrate_max               145\n",
       "d1_heartrate_min               145\n",
       "d1_mbp_invasive_max          67777\n",
       "d1_mbp_invasive_min          67777\n",
       "dtype: int64"
      ]
     },
     "execution_count": 9,
     "metadata": {},
     "output_type": "execute_result"
    }
   ],
   "source": [
    "df.isna().sum().iloc[:56]"
   ]
  },
  {
   "cell_type": "code",
   "execution_count": 10,
   "id": "42dcd700",
   "metadata": {},
   "outputs": [
    {
     "data": {
      "text/plain": [
       "encounter_id                   0.000000\n",
       "patient_id                     0.000000\n",
       "hospital_id                    0.000000\n",
       "hospital_death                 0.000000\n",
       "age                            0.046100\n",
       "                                 ...   \n",
       "leukemia                       0.007796\n",
       "lymphoma                       0.007796\n",
       "solid_tumor_with_metastasis    0.007796\n",
       "apache_3j_bodysystem           0.018122\n",
       "apache_2_bodysystem            0.018122\n",
       "Length: 186, dtype: float64"
      ]
     },
     "execution_count": 10,
     "metadata": {},
     "output_type": "execute_result"
    }
   ],
   "source": [
    "df.isnull().sum()/df.shape[0] "
   ]
  },
  {
   "cell_type": "code",
   "execution_count": 11,
   "id": "fad1a729",
   "metadata": {},
   "outputs": [
    {
     "data": {
      "text/plain": [
       "Index(['encounter_id', 'patient_id', 'hospital_id', 'hospital_death', 'age',\n",
       "       'bmi', 'elective_surgery', 'ethnicity', 'gender', 'height',\n",
       "       ...\n",
       "       'aids', 'cirrhosis', 'diabetes_mellitus', 'hepatic_failure',\n",
       "       'immunosuppression', 'leukemia', 'lymphoma',\n",
       "       'solid_tumor_with_metastasis', 'apache_3j_bodysystem',\n",
       "       'apache_2_bodysystem'],\n",
       "      dtype='object', length=152)"
      ]
     },
     "execution_count": 11,
     "metadata": {},
     "output_type": "execute_result"
    }
   ],
   "source": [
    " df.columns[df.isnull().sum()/df.shape[0]  < 0.8]"
   ]
  },
  {
   "cell_type": "code",
   "execution_count": 12,
   "id": "ca914bb1",
   "metadata": {},
   "outputs": [
    {
     "data": {
      "text/plain": [
       "112"
      ]
     },
     "execution_count": 12,
     "metadata": {},
     "output_type": "execute_result"
    }
   ],
   "source": [
    "len( df.columns[df.isnull().sum()/df.shape[0]  < 0.4])"
   ]
  },
  {
   "cell_type": "code",
   "execution_count": 13,
   "id": "a8f43eb1",
   "metadata": {},
   "outputs": [
    {
     "data": {
      "text/plain": [
       "186"
      ]
     },
     "execution_count": 13,
     "metadata": {},
     "output_type": "execute_result"
    }
   ],
   "source": [
    "len(df.columns)"
   ]
  },
  {
   "cell_type": "code",
   "execution_count": 15,
   "id": "70ee535e",
   "metadata": {},
   "outputs": [],
   "source": [
    " df1 = df[df.columns[df.isnull().sum()/df.shape[0]  < 0.5]]"
   ]
  },
  {
   "cell_type": "code",
   "execution_count": 16,
   "id": "b0eb30e7",
   "metadata": {},
   "outputs": [
    {
     "data": {
      "text/html": [
       "<div>\n",
       "<style scoped>\n",
       "    .dataframe tbody tr th:only-of-type {\n",
       "        vertical-align: middle;\n",
       "    }\n",
       "\n",
       "    .dataframe tbody tr th {\n",
       "        vertical-align: top;\n",
       "    }\n",
       "\n",
       "    .dataframe thead th {\n",
       "        text-align: right;\n",
       "    }\n",
       "</style>\n",
       "<table border=\"1\" class=\"dataframe\">\n",
       "  <thead>\n",
       "    <tr style=\"text-align: right;\">\n",
       "      <th></th>\n",
       "      <th>encounter_id</th>\n",
       "      <th>patient_id</th>\n",
       "      <th>hospital_id</th>\n",
       "      <th>hospital_death</th>\n",
       "      <th>age</th>\n",
       "      <th>bmi</th>\n",
       "      <th>elective_surgery</th>\n",
       "      <th>ethnicity</th>\n",
       "      <th>gender</th>\n",
       "      <th>height</th>\n",
       "      <th>...</th>\n",
       "      <th>aids</th>\n",
       "      <th>cirrhosis</th>\n",
       "      <th>diabetes_mellitus</th>\n",
       "      <th>hepatic_failure</th>\n",
       "      <th>immunosuppression</th>\n",
       "      <th>leukemia</th>\n",
       "      <th>lymphoma</th>\n",
       "      <th>solid_tumor_with_metastasis</th>\n",
       "      <th>apache_3j_bodysystem</th>\n",
       "      <th>apache_2_bodysystem</th>\n",
       "    </tr>\n",
       "  </thead>\n",
       "  <tbody>\n",
       "    <tr>\n",
       "      <th>0</th>\n",
       "      <td>66154</td>\n",
       "      <td>25312</td>\n",
       "      <td>118</td>\n",
       "      <td>0</td>\n",
       "      <td>68.0</td>\n",
       "      <td>22.730000</td>\n",
       "      <td>0</td>\n",
       "      <td>Caucasian</td>\n",
       "      <td>M</td>\n",
       "      <td>180.3</td>\n",
       "      <td>...</td>\n",
       "      <td>0.0</td>\n",
       "      <td>0.0</td>\n",
       "      <td>1.0</td>\n",
       "      <td>0.0</td>\n",
       "      <td>0.0</td>\n",
       "      <td>0.0</td>\n",
       "      <td>0.0</td>\n",
       "      <td>0.0</td>\n",
       "      <td>Sepsis</td>\n",
       "      <td>Cardiovascular</td>\n",
       "    </tr>\n",
       "    <tr>\n",
       "      <th>1</th>\n",
       "      <td>114252</td>\n",
       "      <td>59342</td>\n",
       "      <td>81</td>\n",
       "      <td>0</td>\n",
       "      <td>77.0</td>\n",
       "      <td>27.420000</td>\n",
       "      <td>0</td>\n",
       "      <td>Caucasian</td>\n",
       "      <td>F</td>\n",
       "      <td>160.0</td>\n",
       "      <td>...</td>\n",
       "      <td>0.0</td>\n",
       "      <td>0.0</td>\n",
       "      <td>1.0</td>\n",
       "      <td>0.0</td>\n",
       "      <td>0.0</td>\n",
       "      <td>0.0</td>\n",
       "      <td>0.0</td>\n",
       "      <td>0.0</td>\n",
       "      <td>Respiratory</td>\n",
       "      <td>Respiratory</td>\n",
       "    </tr>\n",
       "    <tr>\n",
       "      <th>2</th>\n",
       "      <td>119783</td>\n",
       "      <td>50777</td>\n",
       "      <td>118</td>\n",
       "      <td>0</td>\n",
       "      <td>25.0</td>\n",
       "      <td>31.950000</td>\n",
       "      <td>0</td>\n",
       "      <td>Caucasian</td>\n",
       "      <td>F</td>\n",
       "      <td>172.7</td>\n",
       "      <td>...</td>\n",
       "      <td>0.0</td>\n",
       "      <td>0.0</td>\n",
       "      <td>0.0</td>\n",
       "      <td>0.0</td>\n",
       "      <td>0.0</td>\n",
       "      <td>0.0</td>\n",
       "      <td>0.0</td>\n",
       "      <td>0.0</td>\n",
       "      <td>Metabolic</td>\n",
       "      <td>Metabolic</td>\n",
       "    </tr>\n",
       "    <tr>\n",
       "      <th>3</th>\n",
       "      <td>79267</td>\n",
       "      <td>46918</td>\n",
       "      <td>118</td>\n",
       "      <td>0</td>\n",
       "      <td>81.0</td>\n",
       "      <td>22.640000</td>\n",
       "      <td>1</td>\n",
       "      <td>Caucasian</td>\n",
       "      <td>F</td>\n",
       "      <td>165.1</td>\n",
       "      <td>...</td>\n",
       "      <td>0.0</td>\n",
       "      <td>0.0</td>\n",
       "      <td>0.0</td>\n",
       "      <td>0.0</td>\n",
       "      <td>0.0</td>\n",
       "      <td>0.0</td>\n",
       "      <td>0.0</td>\n",
       "      <td>0.0</td>\n",
       "      <td>Cardiovascular</td>\n",
       "      <td>Cardiovascular</td>\n",
       "    </tr>\n",
       "    <tr>\n",
       "      <th>4</th>\n",
       "      <td>92056</td>\n",
       "      <td>34377</td>\n",
       "      <td>33</td>\n",
       "      <td>0</td>\n",
       "      <td>19.0</td>\n",
       "      <td>NaN</td>\n",
       "      <td>0</td>\n",
       "      <td>Caucasian</td>\n",
       "      <td>M</td>\n",
       "      <td>188.0</td>\n",
       "      <td>...</td>\n",
       "      <td>0.0</td>\n",
       "      <td>0.0</td>\n",
       "      <td>0.0</td>\n",
       "      <td>0.0</td>\n",
       "      <td>0.0</td>\n",
       "      <td>0.0</td>\n",
       "      <td>0.0</td>\n",
       "      <td>0.0</td>\n",
       "      <td>Trauma</td>\n",
       "      <td>Trauma</td>\n",
       "    </tr>\n",
       "    <tr>\n",
       "      <th>...</th>\n",
       "      <td>...</td>\n",
       "      <td>...</td>\n",
       "      <td>...</td>\n",
       "      <td>...</td>\n",
       "      <td>...</td>\n",
       "      <td>...</td>\n",
       "      <td>...</td>\n",
       "      <td>...</td>\n",
       "      <td>...</td>\n",
       "      <td>...</td>\n",
       "      <td>...</td>\n",
       "      <td>...</td>\n",
       "      <td>...</td>\n",
       "      <td>...</td>\n",
       "      <td>...</td>\n",
       "      <td>...</td>\n",
       "      <td>...</td>\n",
       "      <td>...</td>\n",
       "      <td>...</td>\n",
       "      <td>...</td>\n",
       "      <td>...</td>\n",
       "    </tr>\n",
       "    <tr>\n",
       "      <th>91708</th>\n",
       "      <td>91592</td>\n",
       "      <td>78108</td>\n",
       "      <td>30</td>\n",
       "      <td>0</td>\n",
       "      <td>75.0</td>\n",
       "      <td>23.060250</td>\n",
       "      <td>0</td>\n",
       "      <td>Caucasian</td>\n",
       "      <td>M</td>\n",
       "      <td>177.8</td>\n",
       "      <td>...</td>\n",
       "      <td>0.0</td>\n",
       "      <td>0.0</td>\n",
       "      <td>1.0</td>\n",
       "      <td>0.0</td>\n",
       "      <td>0.0</td>\n",
       "      <td>0.0</td>\n",
       "      <td>0.0</td>\n",
       "      <td>1.0</td>\n",
       "      <td>Sepsis</td>\n",
       "      <td>Cardiovascular</td>\n",
       "    </tr>\n",
       "    <tr>\n",
       "      <th>91709</th>\n",
       "      <td>66119</td>\n",
       "      <td>13486</td>\n",
       "      <td>121</td>\n",
       "      <td>0</td>\n",
       "      <td>56.0</td>\n",
       "      <td>47.179671</td>\n",
       "      <td>0</td>\n",
       "      <td>Caucasian</td>\n",
       "      <td>F</td>\n",
       "      <td>183.0</td>\n",
       "      <td>...</td>\n",
       "      <td>0.0</td>\n",
       "      <td>0.0</td>\n",
       "      <td>0.0</td>\n",
       "      <td>0.0</td>\n",
       "      <td>0.0</td>\n",
       "      <td>0.0</td>\n",
       "      <td>0.0</td>\n",
       "      <td>0.0</td>\n",
       "      <td>Sepsis</td>\n",
       "      <td>Cardiovascular</td>\n",
       "    </tr>\n",
       "    <tr>\n",
       "      <th>91710</th>\n",
       "      <td>8981</td>\n",
       "      <td>58179</td>\n",
       "      <td>195</td>\n",
       "      <td>0</td>\n",
       "      <td>48.0</td>\n",
       "      <td>27.236914</td>\n",
       "      <td>0</td>\n",
       "      <td>Caucasian</td>\n",
       "      <td>M</td>\n",
       "      <td>170.2</td>\n",
       "      <td>...</td>\n",
       "      <td>0.0</td>\n",
       "      <td>0.0</td>\n",
       "      <td>1.0</td>\n",
       "      <td>0.0</td>\n",
       "      <td>0.0</td>\n",
       "      <td>0.0</td>\n",
       "      <td>0.0</td>\n",
       "      <td>0.0</td>\n",
       "      <td>Metabolic</td>\n",
       "      <td>Metabolic</td>\n",
       "    </tr>\n",
       "    <tr>\n",
       "      <th>91711</th>\n",
       "      <td>33776</td>\n",
       "      <td>120598</td>\n",
       "      <td>66</td>\n",
       "      <td>0</td>\n",
       "      <td>NaN</td>\n",
       "      <td>23.297481</td>\n",
       "      <td>0</td>\n",
       "      <td>Caucasian</td>\n",
       "      <td>F</td>\n",
       "      <td>154.9</td>\n",
       "      <td>...</td>\n",
       "      <td>0.0</td>\n",
       "      <td>0.0</td>\n",
       "      <td>0.0</td>\n",
       "      <td>0.0</td>\n",
       "      <td>0.0</td>\n",
       "      <td>0.0</td>\n",
       "      <td>0.0</td>\n",
       "      <td>0.0</td>\n",
       "      <td>Respiratory</td>\n",
       "      <td>Respiratory</td>\n",
       "    </tr>\n",
       "    <tr>\n",
       "      <th>91712</th>\n",
       "      <td>1671</td>\n",
       "      <td>53612</td>\n",
       "      <td>104</td>\n",
       "      <td>0</td>\n",
       "      <td>82.0</td>\n",
       "      <td>22.031250</td>\n",
       "      <td>1</td>\n",
       "      <td>Caucasian</td>\n",
       "      <td>F</td>\n",
       "      <td>160.0</td>\n",
       "      <td>...</td>\n",
       "      <td>0.0</td>\n",
       "      <td>0.0</td>\n",
       "      <td>0.0</td>\n",
       "      <td>0.0</td>\n",
       "      <td>0.0</td>\n",
       "      <td>0.0</td>\n",
       "      <td>0.0</td>\n",
       "      <td>0.0</td>\n",
       "      <td>Gastrointestinal</td>\n",
       "      <td>Gastrointestinal</td>\n",
       "    </tr>\n",
       "  </tbody>\n",
       "</table>\n",
       "<p>91713 rows × 112 columns</p>\n",
       "</div>"
      ],
      "text/plain": [
       "       encounter_id  patient_id  hospital_id  hospital_death   age        bmi  \\\n",
       "0             66154       25312          118               0  68.0  22.730000   \n",
       "1            114252       59342           81               0  77.0  27.420000   \n",
       "2            119783       50777          118               0  25.0  31.950000   \n",
       "3             79267       46918          118               0  81.0  22.640000   \n",
       "4             92056       34377           33               0  19.0        NaN   \n",
       "...             ...         ...          ...             ...   ...        ...   \n",
       "91708         91592       78108           30               0  75.0  23.060250   \n",
       "91709         66119       13486          121               0  56.0  47.179671   \n",
       "91710          8981       58179          195               0  48.0  27.236914   \n",
       "91711         33776      120598           66               0   NaN  23.297481   \n",
       "91712          1671       53612          104               0  82.0  22.031250   \n",
       "\n",
       "       elective_surgery  ethnicity gender  height  ... aids cirrhosis  \\\n",
       "0                     0  Caucasian      M   180.3  ...  0.0       0.0   \n",
       "1                     0  Caucasian      F   160.0  ...  0.0       0.0   \n",
       "2                     0  Caucasian      F   172.7  ...  0.0       0.0   \n",
       "3                     1  Caucasian      F   165.1  ...  0.0       0.0   \n",
       "4                     0  Caucasian      M   188.0  ...  0.0       0.0   \n",
       "...                 ...        ...    ...     ...  ...  ...       ...   \n",
       "91708                 0  Caucasian      M   177.8  ...  0.0       0.0   \n",
       "91709                 0  Caucasian      F   183.0  ...  0.0       0.0   \n",
       "91710                 0  Caucasian      M   170.2  ...  0.0       0.0   \n",
       "91711                 0  Caucasian      F   154.9  ...  0.0       0.0   \n",
       "91712                 1  Caucasian      F   160.0  ...  0.0       0.0   \n",
       "\n",
       "       diabetes_mellitus hepatic_failure immunosuppression  leukemia  \\\n",
       "0                    1.0             0.0               0.0       0.0   \n",
       "1                    1.0             0.0               0.0       0.0   \n",
       "2                    0.0             0.0               0.0       0.0   \n",
       "3                    0.0             0.0               0.0       0.0   \n",
       "4                    0.0             0.0               0.0       0.0   \n",
       "...                  ...             ...               ...       ...   \n",
       "91708                1.0             0.0               0.0       0.0   \n",
       "91709                0.0             0.0               0.0       0.0   \n",
       "91710                1.0             0.0               0.0       0.0   \n",
       "91711                0.0             0.0               0.0       0.0   \n",
       "91712                0.0             0.0               0.0       0.0   \n",
       "\n",
       "       lymphoma  solid_tumor_with_metastasis  apache_3j_bodysystem  \\\n",
       "0           0.0                          0.0                Sepsis   \n",
       "1           0.0                          0.0           Respiratory   \n",
       "2           0.0                          0.0             Metabolic   \n",
       "3           0.0                          0.0        Cardiovascular   \n",
       "4           0.0                          0.0                Trauma   \n",
       "...         ...                          ...                   ...   \n",
       "91708       0.0                          1.0                Sepsis   \n",
       "91709       0.0                          0.0                Sepsis   \n",
       "91710       0.0                          0.0             Metabolic   \n",
       "91711       0.0                          0.0           Respiratory   \n",
       "91712       0.0                          0.0      Gastrointestinal   \n",
       "\n",
       "       apache_2_bodysystem  \n",
       "0           Cardiovascular  \n",
       "1              Respiratory  \n",
       "2                Metabolic  \n",
       "3           Cardiovascular  \n",
       "4                   Trauma  \n",
       "...                    ...  \n",
       "91708       Cardiovascular  \n",
       "91709       Cardiovascular  \n",
       "91710            Metabolic  \n",
       "91711          Respiratory  \n",
       "91712     Gastrointestinal  \n",
       "\n",
       "[91713 rows x 112 columns]"
      ]
     },
     "execution_count": 16,
     "metadata": {},
     "output_type": "execute_result"
    }
   ],
   "source": [
    "df1"
   ]
  },
  {
   "cell_type": "code",
   "execution_count": 17,
   "id": "2f671731",
   "metadata": {},
   "outputs": [],
   "source": [
    "df1.drop(columns=['encounter_id','patient_id','hospital_id'],inplace=True)"
   ]
  },
  {
   "cell_type": "code",
   "execution_count": 18,
   "id": "c9886855",
   "metadata": {},
   "outputs": [
    {
     "data": {
      "text/html": [
       "<div>\n",
       "<style scoped>\n",
       "    .dataframe tbody tr th:only-of-type {\n",
       "        vertical-align: middle;\n",
       "    }\n",
       "\n",
       "    .dataframe tbody tr th {\n",
       "        vertical-align: top;\n",
       "    }\n",
       "\n",
       "    .dataframe thead th {\n",
       "        text-align: right;\n",
       "    }\n",
       "</style>\n",
       "<table border=\"1\" class=\"dataframe\">\n",
       "  <thead>\n",
       "    <tr style=\"text-align: right;\">\n",
       "      <th></th>\n",
       "      <th>hospital_death</th>\n",
       "      <th>age</th>\n",
       "      <th>bmi</th>\n",
       "      <th>elective_surgery</th>\n",
       "      <th>ethnicity</th>\n",
       "      <th>gender</th>\n",
       "      <th>height</th>\n",
       "      <th>hospital_admit_source</th>\n",
       "      <th>icu_admit_source</th>\n",
       "      <th>icu_id</th>\n",
       "      <th>...</th>\n",
       "      <th>aids</th>\n",
       "      <th>cirrhosis</th>\n",
       "      <th>diabetes_mellitus</th>\n",
       "      <th>hepatic_failure</th>\n",
       "      <th>immunosuppression</th>\n",
       "      <th>leukemia</th>\n",
       "      <th>lymphoma</th>\n",
       "      <th>solid_tumor_with_metastasis</th>\n",
       "      <th>apache_3j_bodysystem</th>\n",
       "      <th>apache_2_bodysystem</th>\n",
       "    </tr>\n",
       "  </thead>\n",
       "  <tbody>\n",
       "    <tr>\n",
       "      <th>0</th>\n",
       "      <td>0</td>\n",
       "      <td>68.0</td>\n",
       "      <td>22.730000</td>\n",
       "      <td>0</td>\n",
       "      <td>Caucasian</td>\n",
       "      <td>M</td>\n",
       "      <td>180.3</td>\n",
       "      <td>Floor</td>\n",
       "      <td>Floor</td>\n",
       "      <td>92</td>\n",
       "      <td>...</td>\n",
       "      <td>0.0</td>\n",
       "      <td>0.0</td>\n",
       "      <td>1.0</td>\n",
       "      <td>0.0</td>\n",
       "      <td>0.0</td>\n",
       "      <td>0.0</td>\n",
       "      <td>0.0</td>\n",
       "      <td>0.0</td>\n",
       "      <td>Sepsis</td>\n",
       "      <td>Cardiovascular</td>\n",
       "    </tr>\n",
       "    <tr>\n",
       "      <th>1</th>\n",
       "      <td>0</td>\n",
       "      <td>77.0</td>\n",
       "      <td>27.420000</td>\n",
       "      <td>0</td>\n",
       "      <td>Caucasian</td>\n",
       "      <td>F</td>\n",
       "      <td>160.0</td>\n",
       "      <td>Floor</td>\n",
       "      <td>Floor</td>\n",
       "      <td>90</td>\n",
       "      <td>...</td>\n",
       "      <td>0.0</td>\n",
       "      <td>0.0</td>\n",
       "      <td>1.0</td>\n",
       "      <td>0.0</td>\n",
       "      <td>0.0</td>\n",
       "      <td>0.0</td>\n",
       "      <td>0.0</td>\n",
       "      <td>0.0</td>\n",
       "      <td>Respiratory</td>\n",
       "      <td>Respiratory</td>\n",
       "    </tr>\n",
       "    <tr>\n",
       "      <th>2</th>\n",
       "      <td>0</td>\n",
       "      <td>25.0</td>\n",
       "      <td>31.950000</td>\n",
       "      <td>0</td>\n",
       "      <td>Caucasian</td>\n",
       "      <td>F</td>\n",
       "      <td>172.7</td>\n",
       "      <td>Emergency Department</td>\n",
       "      <td>Accident &amp; Emergency</td>\n",
       "      <td>93</td>\n",
       "      <td>...</td>\n",
       "      <td>0.0</td>\n",
       "      <td>0.0</td>\n",
       "      <td>0.0</td>\n",
       "      <td>0.0</td>\n",
       "      <td>0.0</td>\n",
       "      <td>0.0</td>\n",
       "      <td>0.0</td>\n",
       "      <td>0.0</td>\n",
       "      <td>Metabolic</td>\n",
       "      <td>Metabolic</td>\n",
       "    </tr>\n",
       "    <tr>\n",
       "      <th>3</th>\n",
       "      <td>0</td>\n",
       "      <td>81.0</td>\n",
       "      <td>22.640000</td>\n",
       "      <td>1</td>\n",
       "      <td>Caucasian</td>\n",
       "      <td>F</td>\n",
       "      <td>165.1</td>\n",
       "      <td>Operating Room</td>\n",
       "      <td>Operating Room / Recovery</td>\n",
       "      <td>92</td>\n",
       "      <td>...</td>\n",
       "      <td>0.0</td>\n",
       "      <td>0.0</td>\n",
       "      <td>0.0</td>\n",
       "      <td>0.0</td>\n",
       "      <td>0.0</td>\n",
       "      <td>0.0</td>\n",
       "      <td>0.0</td>\n",
       "      <td>0.0</td>\n",
       "      <td>Cardiovascular</td>\n",
       "      <td>Cardiovascular</td>\n",
       "    </tr>\n",
       "    <tr>\n",
       "      <th>4</th>\n",
       "      <td>0</td>\n",
       "      <td>19.0</td>\n",
       "      <td>NaN</td>\n",
       "      <td>0</td>\n",
       "      <td>Caucasian</td>\n",
       "      <td>M</td>\n",
       "      <td>188.0</td>\n",
       "      <td>NaN</td>\n",
       "      <td>Accident &amp; Emergency</td>\n",
       "      <td>91</td>\n",
       "      <td>...</td>\n",
       "      <td>0.0</td>\n",
       "      <td>0.0</td>\n",
       "      <td>0.0</td>\n",
       "      <td>0.0</td>\n",
       "      <td>0.0</td>\n",
       "      <td>0.0</td>\n",
       "      <td>0.0</td>\n",
       "      <td>0.0</td>\n",
       "      <td>Trauma</td>\n",
       "      <td>Trauma</td>\n",
       "    </tr>\n",
       "    <tr>\n",
       "      <th>...</th>\n",
       "      <td>...</td>\n",
       "      <td>...</td>\n",
       "      <td>...</td>\n",
       "      <td>...</td>\n",
       "      <td>...</td>\n",
       "      <td>...</td>\n",
       "      <td>...</td>\n",
       "      <td>...</td>\n",
       "      <td>...</td>\n",
       "      <td>...</td>\n",
       "      <td>...</td>\n",
       "      <td>...</td>\n",
       "      <td>...</td>\n",
       "      <td>...</td>\n",
       "      <td>...</td>\n",
       "      <td>...</td>\n",
       "      <td>...</td>\n",
       "      <td>...</td>\n",
       "      <td>...</td>\n",
       "      <td>...</td>\n",
       "      <td>...</td>\n",
       "    </tr>\n",
       "    <tr>\n",
       "      <th>91708</th>\n",
       "      <td>0</td>\n",
       "      <td>75.0</td>\n",
       "      <td>23.060250</td>\n",
       "      <td>0</td>\n",
       "      <td>Caucasian</td>\n",
       "      <td>M</td>\n",
       "      <td>177.8</td>\n",
       "      <td>Acute Care/Floor</td>\n",
       "      <td>Floor</td>\n",
       "      <td>927</td>\n",
       "      <td>...</td>\n",
       "      <td>0.0</td>\n",
       "      <td>0.0</td>\n",
       "      <td>1.0</td>\n",
       "      <td>0.0</td>\n",
       "      <td>0.0</td>\n",
       "      <td>0.0</td>\n",
       "      <td>0.0</td>\n",
       "      <td>1.0</td>\n",
       "      <td>Sepsis</td>\n",
       "      <td>Cardiovascular</td>\n",
       "    </tr>\n",
       "    <tr>\n",
       "      <th>91709</th>\n",
       "      <td>0</td>\n",
       "      <td>56.0</td>\n",
       "      <td>47.179671</td>\n",
       "      <td>0</td>\n",
       "      <td>Caucasian</td>\n",
       "      <td>F</td>\n",
       "      <td>183.0</td>\n",
       "      <td>Emergency Department</td>\n",
       "      <td>Floor</td>\n",
       "      <td>925</td>\n",
       "      <td>...</td>\n",
       "      <td>0.0</td>\n",
       "      <td>0.0</td>\n",
       "      <td>0.0</td>\n",
       "      <td>0.0</td>\n",
       "      <td>0.0</td>\n",
       "      <td>0.0</td>\n",
       "      <td>0.0</td>\n",
       "      <td>0.0</td>\n",
       "      <td>Sepsis</td>\n",
       "      <td>Cardiovascular</td>\n",
       "    </tr>\n",
       "    <tr>\n",
       "      <th>91710</th>\n",
       "      <td>0</td>\n",
       "      <td>48.0</td>\n",
       "      <td>27.236914</td>\n",
       "      <td>0</td>\n",
       "      <td>Caucasian</td>\n",
       "      <td>M</td>\n",
       "      <td>170.2</td>\n",
       "      <td>Emergency Department</td>\n",
       "      <td>Accident &amp; Emergency</td>\n",
       "      <td>908</td>\n",
       "      <td>...</td>\n",
       "      <td>0.0</td>\n",
       "      <td>0.0</td>\n",
       "      <td>1.0</td>\n",
       "      <td>0.0</td>\n",
       "      <td>0.0</td>\n",
       "      <td>0.0</td>\n",
       "      <td>0.0</td>\n",
       "      <td>0.0</td>\n",
       "      <td>Metabolic</td>\n",
       "      <td>Metabolic</td>\n",
       "    </tr>\n",
       "    <tr>\n",
       "      <th>91711</th>\n",
       "      <td>0</td>\n",
       "      <td>NaN</td>\n",
       "      <td>23.297481</td>\n",
       "      <td>0</td>\n",
       "      <td>Caucasian</td>\n",
       "      <td>F</td>\n",
       "      <td>154.9</td>\n",
       "      <td>Emergency Department</td>\n",
       "      <td>Accident &amp; Emergency</td>\n",
       "      <td>922</td>\n",
       "      <td>...</td>\n",
       "      <td>0.0</td>\n",
       "      <td>0.0</td>\n",
       "      <td>0.0</td>\n",
       "      <td>0.0</td>\n",
       "      <td>0.0</td>\n",
       "      <td>0.0</td>\n",
       "      <td>0.0</td>\n",
       "      <td>0.0</td>\n",
       "      <td>Respiratory</td>\n",
       "      <td>Respiratory</td>\n",
       "    </tr>\n",
       "    <tr>\n",
       "      <th>91712</th>\n",
       "      <td>0</td>\n",
       "      <td>82.0</td>\n",
       "      <td>22.031250</td>\n",
       "      <td>1</td>\n",
       "      <td>Caucasian</td>\n",
       "      <td>F</td>\n",
       "      <td>160.0</td>\n",
       "      <td>NaN</td>\n",
       "      <td>Operating Room / Recovery</td>\n",
       "      <td>926</td>\n",
       "      <td>...</td>\n",
       "      <td>0.0</td>\n",
       "      <td>0.0</td>\n",
       "      <td>0.0</td>\n",
       "      <td>0.0</td>\n",
       "      <td>0.0</td>\n",
       "      <td>0.0</td>\n",
       "      <td>0.0</td>\n",
       "      <td>0.0</td>\n",
       "      <td>Gastrointestinal</td>\n",
       "      <td>Gastrointestinal</td>\n",
       "    </tr>\n",
       "  </tbody>\n",
       "</table>\n",
       "<p>91713 rows × 109 columns</p>\n",
       "</div>"
      ],
      "text/plain": [
       "       hospital_death   age        bmi  elective_surgery  ethnicity gender  \\\n",
       "0                   0  68.0  22.730000                 0  Caucasian      M   \n",
       "1                   0  77.0  27.420000                 0  Caucasian      F   \n",
       "2                   0  25.0  31.950000                 0  Caucasian      F   \n",
       "3                   0  81.0  22.640000                 1  Caucasian      F   \n",
       "4                   0  19.0        NaN                 0  Caucasian      M   \n",
       "...               ...   ...        ...               ...        ...    ...   \n",
       "91708               0  75.0  23.060250                 0  Caucasian      M   \n",
       "91709               0  56.0  47.179671                 0  Caucasian      F   \n",
       "91710               0  48.0  27.236914                 0  Caucasian      M   \n",
       "91711               0   NaN  23.297481                 0  Caucasian      F   \n",
       "91712               0  82.0  22.031250                 1  Caucasian      F   \n",
       "\n",
       "       height hospital_admit_source           icu_admit_source  icu_id  ...  \\\n",
       "0       180.3                 Floor                      Floor      92  ...   \n",
       "1       160.0                 Floor                      Floor      90  ...   \n",
       "2       172.7  Emergency Department       Accident & Emergency      93  ...   \n",
       "3       165.1        Operating Room  Operating Room / Recovery      92  ...   \n",
       "4       188.0                   NaN       Accident & Emergency      91  ...   \n",
       "...       ...                   ...                        ...     ...  ...   \n",
       "91708   177.8      Acute Care/Floor                      Floor     927  ...   \n",
       "91709   183.0  Emergency Department                      Floor     925  ...   \n",
       "91710   170.2  Emergency Department       Accident & Emergency     908  ...   \n",
       "91711   154.9  Emergency Department       Accident & Emergency     922  ...   \n",
       "91712   160.0                   NaN  Operating Room / Recovery     926  ...   \n",
       "\n",
       "      aids cirrhosis  diabetes_mellitus  hepatic_failure  immunosuppression  \\\n",
       "0      0.0       0.0                1.0              0.0                0.0   \n",
       "1      0.0       0.0                1.0              0.0                0.0   \n",
       "2      0.0       0.0                0.0              0.0                0.0   \n",
       "3      0.0       0.0                0.0              0.0                0.0   \n",
       "4      0.0       0.0                0.0              0.0                0.0   \n",
       "...    ...       ...                ...              ...                ...   \n",
       "91708  0.0       0.0                1.0              0.0                0.0   \n",
       "91709  0.0       0.0                0.0              0.0                0.0   \n",
       "91710  0.0       0.0                1.0              0.0                0.0   \n",
       "91711  0.0       0.0                0.0              0.0                0.0   \n",
       "91712  0.0       0.0                0.0              0.0                0.0   \n",
       "\n",
       "       leukemia  lymphoma  solid_tumor_with_metastasis  apache_3j_bodysystem  \\\n",
       "0           0.0       0.0                          0.0                Sepsis   \n",
       "1           0.0       0.0                          0.0           Respiratory   \n",
       "2           0.0       0.0                          0.0             Metabolic   \n",
       "3           0.0       0.0                          0.0        Cardiovascular   \n",
       "4           0.0       0.0                          0.0                Trauma   \n",
       "...         ...       ...                          ...                   ...   \n",
       "91708       0.0       0.0                          1.0                Sepsis   \n",
       "91709       0.0       0.0                          0.0                Sepsis   \n",
       "91710       0.0       0.0                          0.0             Metabolic   \n",
       "91711       0.0       0.0                          0.0           Respiratory   \n",
       "91712       0.0       0.0                          0.0      Gastrointestinal   \n",
       "\n",
       "       apache_2_bodysystem  \n",
       "0           Cardiovascular  \n",
       "1              Respiratory  \n",
       "2                Metabolic  \n",
       "3           Cardiovascular  \n",
       "4                   Trauma  \n",
       "...                    ...  \n",
       "91708       Cardiovascular  \n",
       "91709       Cardiovascular  \n",
       "91710            Metabolic  \n",
       "91711          Respiratory  \n",
       "91712     Gastrointestinal  \n",
       "\n",
       "[91713 rows x 109 columns]"
      ]
     },
     "execution_count": 18,
     "metadata": {},
     "output_type": "execute_result"
    }
   ],
   "source": [
    "df1"
   ]
  },
  {
   "cell_type": "code",
   "execution_count": 19,
   "id": "76ca8ea4",
   "metadata": {},
   "outputs": [
    {
     "data": {
      "text/plain": [
       "hospital_death                   0\n",
       "age                           4228\n",
       "bmi                           3429\n",
       "elective_surgery                 0\n",
       "ethnicity                     1395\n",
       "gender                          25\n",
       "height                        1334\n",
       "hospital_admit_source        21409\n",
       "icu_admit_source               112\n",
       "icu_id                           0\n",
       "icu_stay_type                    0\n",
       "icu_type                         0\n",
       "pre_icu_los_days                 0\n",
       "readmission_status               0\n",
       "weight                        2720\n",
       "apache_2_diagnosis            1662\n",
       "apache_3j_diagnosis           1101\n",
       "apache_post_operative            0\n",
       "arf_apache                     715\n",
       "bun_apache                   19262\n",
       "creatinine_apache            18853\n",
       "gcs_eyes_apache               1901\n",
       "gcs_motor_apache              1901\n",
       "gcs_unable_apache             1037\n",
       "gcs_verbal_apache             1901\n",
       "glucose_apache               11036\n",
       "heart_rate_apache              878\n",
       "hematocrit_apache            19878\n",
       "intubated_apache               715\n",
       "map_apache                     994\n",
       "resprate_apache               1234\n",
       "sodium_apache                18600\n",
       "temp_apache                   4108\n",
       "ventilated_apache              715\n",
       "wbc_apache                   22012\n",
       "d1_diasbp_max                  165\n",
       "d1_diasbp_min                  165\n",
       "d1_diasbp_noninvasive_max     1040\n",
       "d1_diasbp_noninvasive_min     1040\n",
       "d1_heartrate_max               145\n",
       "d1_heartrate_min               145\n",
       "d1_mbp_max                     220\n",
       "d1_mbp_min                     220\n",
       "d1_mbp_noninvasive_max        1479\n",
       "d1_mbp_noninvasive_min        1479\n",
       "d1_resprate_max                385\n",
       "d1_resprate_min                385\n",
       "d1_spo2_max                    333\n",
       "d1_spo2_min                    333\n",
       "d1_sysbp_max                   159\n",
       "d1_sysbp_min                   159\n",
       "d1_sysbp_noninvasive_max      1027\n",
       "d1_sysbp_noninvasive_min      1027\n",
       "d1_temp_max                   2324\n",
       "d1_temp_min                   2324\n",
       "h1_diasbp_max                 3619\n",
       "h1_diasbp_min                 3619\n",
       "h1_diasbp_noninvasive_max     7350\n",
       "h1_diasbp_noninvasive_min     7350\n",
       "h1_heartrate_max              2790\n",
       "dtype: int64"
      ]
     },
     "execution_count": 19,
     "metadata": {},
     "output_type": "execute_result"
    }
   ],
   "source": [
    "df1.isnull().sum().iloc[:60]"
   ]
  },
  {
   "cell_type": "code",
   "execution_count": 20,
   "id": "571a7b30",
   "metadata": {},
   "outputs": [
    {
     "name": "stdout",
     "output_type": "stream",
     "text": [
      "<class 'pandas.core.frame.DataFrame'>\n",
      "RangeIndex: 91713 entries, 0 to 91712\n",
      "Columns: 186 entries, encounter_id to apache_2_bodysystem\n",
      "dtypes: float64(170), int64(8), object(8)\n",
      "memory usage: 130.1+ MB\n"
     ]
    }
   ],
   "source": [
    "df.info()"
   ]
  },
  {
   "cell_type": "code",
   "execution_count": 21,
   "id": "8688a40a",
   "metadata": {},
   "outputs": [
    {
     "data": {
      "text/html": [
       "<div>\n",
       "<style scoped>\n",
       "    .dataframe tbody tr th:only-of-type {\n",
       "        vertical-align: middle;\n",
       "    }\n",
       "\n",
       "    .dataframe tbody tr th {\n",
       "        vertical-align: top;\n",
       "    }\n",
       "\n",
       "    .dataframe thead th {\n",
       "        text-align: right;\n",
       "    }\n",
       "</style>\n",
       "<table border=\"1\" class=\"dataframe\">\n",
       "  <thead>\n",
       "    <tr style=\"text-align: right;\">\n",
       "      <th></th>\n",
       "      <th>encounter_id</th>\n",
       "      <th>patient_id</th>\n",
       "      <th>hospital_id</th>\n",
       "      <th>hospital_death</th>\n",
       "      <th>age</th>\n",
       "      <th>bmi</th>\n",
       "      <th>elective_surgery</th>\n",
       "      <th>ethnicity</th>\n",
       "      <th>gender</th>\n",
       "      <th>height</th>\n",
       "      <th>...</th>\n",
       "      <th>aids</th>\n",
       "      <th>cirrhosis</th>\n",
       "      <th>diabetes_mellitus</th>\n",
       "      <th>hepatic_failure</th>\n",
       "      <th>immunosuppression</th>\n",
       "      <th>leukemia</th>\n",
       "      <th>lymphoma</th>\n",
       "      <th>solid_tumor_with_metastasis</th>\n",
       "      <th>apache_3j_bodysystem</th>\n",
       "      <th>apache_2_bodysystem</th>\n",
       "    </tr>\n",
       "  </thead>\n",
       "  <tbody>\n",
       "    <tr>\n",
       "      <th>0</th>\n",
       "      <td>66154</td>\n",
       "      <td>25312</td>\n",
       "      <td>118</td>\n",
       "      <td>0</td>\n",
       "      <td>68.0</td>\n",
       "      <td>22.730000</td>\n",
       "      <td>0</td>\n",
       "      <td>Caucasian</td>\n",
       "      <td>M</td>\n",
       "      <td>180.3</td>\n",
       "      <td>...</td>\n",
       "      <td>0.0</td>\n",
       "      <td>0.0</td>\n",
       "      <td>1.0</td>\n",
       "      <td>0.0</td>\n",
       "      <td>0.0</td>\n",
       "      <td>0.0</td>\n",
       "      <td>0.0</td>\n",
       "      <td>0.0</td>\n",
       "      <td>Sepsis</td>\n",
       "      <td>Cardiovascular</td>\n",
       "    </tr>\n",
       "    <tr>\n",
       "      <th>1</th>\n",
       "      <td>114252</td>\n",
       "      <td>59342</td>\n",
       "      <td>81</td>\n",
       "      <td>0</td>\n",
       "      <td>77.0</td>\n",
       "      <td>27.420000</td>\n",
       "      <td>0</td>\n",
       "      <td>Caucasian</td>\n",
       "      <td>F</td>\n",
       "      <td>160.0</td>\n",
       "      <td>...</td>\n",
       "      <td>0.0</td>\n",
       "      <td>0.0</td>\n",
       "      <td>1.0</td>\n",
       "      <td>0.0</td>\n",
       "      <td>0.0</td>\n",
       "      <td>0.0</td>\n",
       "      <td>0.0</td>\n",
       "      <td>0.0</td>\n",
       "      <td>Respiratory</td>\n",
       "      <td>Respiratory</td>\n",
       "    </tr>\n",
       "    <tr>\n",
       "      <th>2</th>\n",
       "      <td>119783</td>\n",
       "      <td>50777</td>\n",
       "      <td>118</td>\n",
       "      <td>0</td>\n",
       "      <td>25.0</td>\n",
       "      <td>31.950000</td>\n",
       "      <td>0</td>\n",
       "      <td>Caucasian</td>\n",
       "      <td>F</td>\n",
       "      <td>172.7</td>\n",
       "      <td>...</td>\n",
       "      <td>0.0</td>\n",
       "      <td>0.0</td>\n",
       "      <td>0.0</td>\n",
       "      <td>0.0</td>\n",
       "      <td>0.0</td>\n",
       "      <td>0.0</td>\n",
       "      <td>0.0</td>\n",
       "      <td>0.0</td>\n",
       "      <td>Metabolic</td>\n",
       "      <td>Metabolic</td>\n",
       "    </tr>\n",
       "    <tr>\n",
       "      <th>3</th>\n",
       "      <td>79267</td>\n",
       "      <td>46918</td>\n",
       "      <td>118</td>\n",
       "      <td>0</td>\n",
       "      <td>81.0</td>\n",
       "      <td>22.640000</td>\n",
       "      <td>1</td>\n",
       "      <td>Caucasian</td>\n",
       "      <td>F</td>\n",
       "      <td>165.1</td>\n",
       "      <td>...</td>\n",
       "      <td>0.0</td>\n",
       "      <td>0.0</td>\n",
       "      <td>0.0</td>\n",
       "      <td>0.0</td>\n",
       "      <td>0.0</td>\n",
       "      <td>0.0</td>\n",
       "      <td>0.0</td>\n",
       "      <td>0.0</td>\n",
       "      <td>Cardiovascular</td>\n",
       "      <td>Cardiovascular</td>\n",
       "    </tr>\n",
       "    <tr>\n",
       "      <th>4</th>\n",
       "      <td>92056</td>\n",
       "      <td>34377</td>\n",
       "      <td>33</td>\n",
       "      <td>0</td>\n",
       "      <td>19.0</td>\n",
       "      <td>NaN</td>\n",
       "      <td>0</td>\n",
       "      <td>Caucasian</td>\n",
       "      <td>M</td>\n",
       "      <td>188.0</td>\n",
       "      <td>...</td>\n",
       "      <td>0.0</td>\n",
       "      <td>0.0</td>\n",
       "      <td>0.0</td>\n",
       "      <td>0.0</td>\n",
       "      <td>0.0</td>\n",
       "      <td>0.0</td>\n",
       "      <td>0.0</td>\n",
       "      <td>0.0</td>\n",
       "      <td>Trauma</td>\n",
       "      <td>Trauma</td>\n",
       "    </tr>\n",
       "    <tr>\n",
       "      <th>...</th>\n",
       "      <td>...</td>\n",
       "      <td>...</td>\n",
       "      <td>...</td>\n",
       "      <td>...</td>\n",
       "      <td>...</td>\n",
       "      <td>...</td>\n",
       "      <td>...</td>\n",
       "      <td>...</td>\n",
       "      <td>...</td>\n",
       "      <td>...</td>\n",
       "      <td>...</td>\n",
       "      <td>...</td>\n",
       "      <td>...</td>\n",
       "      <td>...</td>\n",
       "      <td>...</td>\n",
       "      <td>...</td>\n",
       "      <td>...</td>\n",
       "      <td>...</td>\n",
       "      <td>...</td>\n",
       "      <td>...</td>\n",
       "      <td>...</td>\n",
       "    </tr>\n",
       "    <tr>\n",
       "      <th>91708</th>\n",
       "      <td>91592</td>\n",
       "      <td>78108</td>\n",
       "      <td>30</td>\n",
       "      <td>0</td>\n",
       "      <td>75.0</td>\n",
       "      <td>23.060250</td>\n",
       "      <td>0</td>\n",
       "      <td>Caucasian</td>\n",
       "      <td>M</td>\n",
       "      <td>177.8</td>\n",
       "      <td>...</td>\n",
       "      <td>0.0</td>\n",
       "      <td>0.0</td>\n",
       "      <td>1.0</td>\n",
       "      <td>0.0</td>\n",
       "      <td>0.0</td>\n",
       "      <td>0.0</td>\n",
       "      <td>0.0</td>\n",
       "      <td>1.0</td>\n",
       "      <td>Sepsis</td>\n",
       "      <td>Cardiovascular</td>\n",
       "    </tr>\n",
       "    <tr>\n",
       "      <th>91709</th>\n",
       "      <td>66119</td>\n",
       "      <td>13486</td>\n",
       "      <td>121</td>\n",
       "      <td>0</td>\n",
       "      <td>56.0</td>\n",
       "      <td>47.179671</td>\n",
       "      <td>0</td>\n",
       "      <td>Caucasian</td>\n",
       "      <td>F</td>\n",
       "      <td>183.0</td>\n",
       "      <td>...</td>\n",
       "      <td>0.0</td>\n",
       "      <td>0.0</td>\n",
       "      <td>0.0</td>\n",
       "      <td>0.0</td>\n",
       "      <td>0.0</td>\n",
       "      <td>0.0</td>\n",
       "      <td>0.0</td>\n",
       "      <td>0.0</td>\n",
       "      <td>Sepsis</td>\n",
       "      <td>Cardiovascular</td>\n",
       "    </tr>\n",
       "    <tr>\n",
       "      <th>91710</th>\n",
       "      <td>8981</td>\n",
       "      <td>58179</td>\n",
       "      <td>195</td>\n",
       "      <td>0</td>\n",
       "      <td>48.0</td>\n",
       "      <td>27.236914</td>\n",
       "      <td>0</td>\n",
       "      <td>Caucasian</td>\n",
       "      <td>M</td>\n",
       "      <td>170.2</td>\n",
       "      <td>...</td>\n",
       "      <td>0.0</td>\n",
       "      <td>0.0</td>\n",
       "      <td>1.0</td>\n",
       "      <td>0.0</td>\n",
       "      <td>0.0</td>\n",
       "      <td>0.0</td>\n",
       "      <td>0.0</td>\n",
       "      <td>0.0</td>\n",
       "      <td>Metabolic</td>\n",
       "      <td>Metabolic</td>\n",
       "    </tr>\n",
       "    <tr>\n",
       "      <th>91711</th>\n",
       "      <td>33776</td>\n",
       "      <td>120598</td>\n",
       "      <td>66</td>\n",
       "      <td>0</td>\n",
       "      <td>NaN</td>\n",
       "      <td>23.297481</td>\n",
       "      <td>0</td>\n",
       "      <td>Caucasian</td>\n",
       "      <td>F</td>\n",
       "      <td>154.9</td>\n",
       "      <td>...</td>\n",
       "      <td>0.0</td>\n",
       "      <td>0.0</td>\n",
       "      <td>0.0</td>\n",
       "      <td>0.0</td>\n",
       "      <td>0.0</td>\n",
       "      <td>0.0</td>\n",
       "      <td>0.0</td>\n",
       "      <td>0.0</td>\n",
       "      <td>Respiratory</td>\n",
       "      <td>Respiratory</td>\n",
       "    </tr>\n",
       "    <tr>\n",
       "      <th>91712</th>\n",
       "      <td>1671</td>\n",
       "      <td>53612</td>\n",
       "      <td>104</td>\n",
       "      <td>0</td>\n",
       "      <td>82.0</td>\n",
       "      <td>22.031250</td>\n",
       "      <td>1</td>\n",
       "      <td>Caucasian</td>\n",
       "      <td>F</td>\n",
       "      <td>160.0</td>\n",
       "      <td>...</td>\n",
       "      <td>0.0</td>\n",
       "      <td>0.0</td>\n",
       "      <td>0.0</td>\n",
       "      <td>0.0</td>\n",
       "      <td>0.0</td>\n",
       "      <td>0.0</td>\n",
       "      <td>0.0</td>\n",
       "      <td>0.0</td>\n",
       "      <td>Gastrointestinal</td>\n",
       "      <td>Gastrointestinal</td>\n",
       "    </tr>\n",
       "  </tbody>\n",
       "</table>\n",
       "<p>91713 rows × 186 columns</p>\n",
       "</div>"
      ],
      "text/plain": [
       "       encounter_id  patient_id  hospital_id  hospital_death   age        bmi  \\\n",
       "0             66154       25312          118               0  68.0  22.730000   \n",
       "1            114252       59342           81               0  77.0  27.420000   \n",
       "2            119783       50777          118               0  25.0  31.950000   \n",
       "3             79267       46918          118               0  81.0  22.640000   \n",
       "4             92056       34377           33               0  19.0        NaN   \n",
       "...             ...         ...          ...             ...   ...        ...   \n",
       "91708         91592       78108           30               0  75.0  23.060250   \n",
       "91709         66119       13486          121               0  56.0  47.179671   \n",
       "91710          8981       58179          195               0  48.0  27.236914   \n",
       "91711         33776      120598           66               0   NaN  23.297481   \n",
       "91712          1671       53612          104               0  82.0  22.031250   \n",
       "\n",
       "       elective_surgery  ethnicity gender  height  ... aids cirrhosis  \\\n",
       "0                     0  Caucasian      M   180.3  ...  0.0       0.0   \n",
       "1                     0  Caucasian      F   160.0  ...  0.0       0.0   \n",
       "2                     0  Caucasian      F   172.7  ...  0.0       0.0   \n",
       "3                     1  Caucasian      F   165.1  ...  0.0       0.0   \n",
       "4                     0  Caucasian      M   188.0  ...  0.0       0.0   \n",
       "...                 ...        ...    ...     ...  ...  ...       ...   \n",
       "91708                 0  Caucasian      M   177.8  ...  0.0       0.0   \n",
       "91709                 0  Caucasian      F   183.0  ...  0.0       0.0   \n",
       "91710                 0  Caucasian      M   170.2  ...  0.0       0.0   \n",
       "91711                 0  Caucasian      F   154.9  ...  0.0       0.0   \n",
       "91712                 1  Caucasian      F   160.0  ...  0.0       0.0   \n",
       "\n",
       "       diabetes_mellitus hepatic_failure immunosuppression  leukemia  \\\n",
       "0                    1.0             0.0               0.0       0.0   \n",
       "1                    1.0             0.0               0.0       0.0   \n",
       "2                    0.0             0.0               0.0       0.0   \n",
       "3                    0.0             0.0               0.0       0.0   \n",
       "4                    0.0             0.0               0.0       0.0   \n",
       "...                  ...             ...               ...       ...   \n",
       "91708                1.0             0.0               0.0       0.0   \n",
       "91709                0.0             0.0               0.0       0.0   \n",
       "91710                1.0             0.0               0.0       0.0   \n",
       "91711                0.0             0.0               0.0       0.0   \n",
       "91712                0.0             0.0               0.0       0.0   \n",
       "\n",
       "       lymphoma  solid_tumor_with_metastasis  apache_3j_bodysystem  \\\n",
       "0           0.0                          0.0                Sepsis   \n",
       "1           0.0                          0.0           Respiratory   \n",
       "2           0.0                          0.0             Metabolic   \n",
       "3           0.0                          0.0        Cardiovascular   \n",
       "4           0.0                          0.0                Trauma   \n",
       "...         ...                          ...                   ...   \n",
       "91708       0.0                          1.0                Sepsis   \n",
       "91709       0.0                          0.0                Sepsis   \n",
       "91710       0.0                          0.0             Metabolic   \n",
       "91711       0.0                          0.0           Respiratory   \n",
       "91712       0.0                          0.0      Gastrointestinal   \n",
       "\n",
       "       apache_2_bodysystem  \n",
       "0           Cardiovascular  \n",
       "1              Respiratory  \n",
       "2                Metabolic  \n",
       "3           Cardiovascular  \n",
       "4                   Trauma  \n",
       "...                    ...  \n",
       "91708       Cardiovascular  \n",
       "91709       Cardiovascular  \n",
       "91710            Metabolic  \n",
       "91711          Respiratory  \n",
       "91712     Gastrointestinal  \n",
       "\n",
       "[91713 rows x 186 columns]"
      ]
     },
     "execution_count": 21,
     "metadata": {},
     "output_type": "execute_result"
    }
   ],
   "source": [
    "df"
   ]
  },
  {
   "cell_type": "code",
   "execution_count": 22,
   "id": "c8945459",
   "metadata": {},
   "outputs": [
    {
     "data": {
      "text/html": [
       "<div>\n",
       "<style scoped>\n",
       "    .dataframe tbody tr th:only-of-type {\n",
       "        vertical-align: middle;\n",
       "    }\n",
       "\n",
       "    .dataframe tbody tr th {\n",
       "        vertical-align: top;\n",
       "    }\n",
       "\n",
       "    .dataframe thead th {\n",
       "        text-align: right;\n",
       "    }\n",
       "</style>\n",
       "<table border=\"1\" class=\"dataframe\">\n",
       "  <thead>\n",
       "    <tr style=\"text-align: right;\">\n",
       "      <th></th>\n",
       "      <th>encounter_id</th>\n",
       "      <th>patient_id</th>\n",
       "      <th>hospital_id</th>\n",
       "      <th>hospital_death</th>\n",
       "      <th>age</th>\n",
       "      <th>bmi</th>\n",
       "      <th>elective_surgery</th>\n",
       "      <th>ethnicity</th>\n",
       "      <th>gender</th>\n",
       "      <th>height</th>\n",
       "      <th>...</th>\n",
       "      <th>aids</th>\n",
       "      <th>cirrhosis</th>\n",
       "      <th>diabetes_mellitus</th>\n",
       "      <th>hepatic_failure</th>\n",
       "      <th>immunosuppression</th>\n",
       "      <th>leukemia</th>\n",
       "      <th>lymphoma</th>\n",
       "      <th>solid_tumor_with_metastasis</th>\n",
       "      <th>apache_3j_bodysystem</th>\n",
       "      <th>apache_2_bodysystem</th>\n",
       "    </tr>\n",
       "  </thead>\n",
       "  <tbody>\n",
       "    <tr>\n",
       "      <th>0</th>\n",
       "      <td>66154</td>\n",
       "      <td>25312</td>\n",
       "      <td>118</td>\n",
       "      <td>0</td>\n",
       "      <td>68.0</td>\n",
       "      <td>22.730000</td>\n",
       "      <td>0</td>\n",
       "      <td>Caucasian</td>\n",
       "      <td>M</td>\n",
       "      <td>180.3</td>\n",
       "      <td>...</td>\n",
       "      <td>0.0</td>\n",
       "      <td>0.0</td>\n",
       "      <td>1.0</td>\n",
       "      <td>0.0</td>\n",
       "      <td>0.0</td>\n",
       "      <td>0.0</td>\n",
       "      <td>0.0</td>\n",
       "      <td>0.0</td>\n",
       "      <td>Sepsis</td>\n",
       "      <td>Cardiovascular</td>\n",
       "    </tr>\n",
       "    <tr>\n",
       "      <th>1</th>\n",
       "      <td>114252</td>\n",
       "      <td>59342</td>\n",
       "      <td>81</td>\n",
       "      <td>0</td>\n",
       "      <td>77.0</td>\n",
       "      <td>27.420000</td>\n",
       "      <td>0</td>\n",
       "      <td>Caucasian</td>\n",
       "      <td>F</td>\n",
       "      <td>160.0</td>\n",
       "      <td>...</td>\n",
       "      <td>0.0</td>\n",
       "      <td>0.0</td>\n",
       "      <td>1.0</td>\n",
       "      <td>0.0</td>\n",
       "      <td>0.0</td>\n",
       "      <td>0.0</td>\n",
       "      <td>0.0</td>\n",
       "      <td>0.0</td>\n",
       "      <td>Respiratory</td>\n",
       "      <td>Respiratory</td>\n",
       "    </tr>\n",
       "    <tr>\n",
       "      <th>2</th>\n",
       "      <td>119783</td>\n",
       "      <td>50777</td>\n",
       "      <td>118</td>\n",
       "      <td>0</td>\n",
       "      <td>25.0</td>\n",
       "      <td>31.950000</td>\n",
       "      <td>0</td>\n",
       "      <td>Caucasian</td>\n",
       "      <td>F</td>\n",
       "      <td>172.7</td>\n",
       "      <td>...</td>\n",
       "      <td>0.0</td>\n",
       "      <td>0.0</td>\n",
       "      <td>0.0</td>\n",
       "      <td>0.0</td>\n",
       "      <td>0.0</td>\n",
       "      <td>0.0</td>\n",
       "      <td>0.0</td>\n",
       "      <td>0.0</td>\n",
       "      <td>Metabolic</td>\n",
       "      <td>Metabolic</td>\n",
       "    </tr>\n",
       "    <tr>\n",
       "      <th>3</th>\n",
       "      <td>79267</td>\n",
       "      <td>46918</td>\n",
       "      <td>118</td>\n",
       "      <td>0</td>\n",
       "      <td>81.0</td>\n",
       "      <td>22.640000</td>\n",
       "      <td>1</td>\n",
       "      <td>Caucasian</td>\n",
       "      <td>F</td>\n",
       "      <td>165.1</td>\n",
       "      <td>...</td>\n",
       "      <td>0.0</td>\n",
       "      <td>0.0</td>\n",
       "      <td>0.0</td>\n",
       "      <td>0.0</td>\n",
       "      <td>0.0</td>\n",
       "      <td>0.0</td>\n",
       "      <td>0.0</td>\n",
       "      <td>0.0</td>\n",
       "      <td>Cardiovascular</td>\n",
       "      <td>Cardiovascular</td>\n",
       "    </tr>\n",
       "    <tr>\n",
       "      <th>4</th>\n",
       "      <td>92056</td>\n",
       "      <td>34377</td>\n",
       "      <td>33</td>\n",
       "      <td>0</td>\n",
       "      <td>19.0</td>\n",
       "      <td>NaN</td>\n",
       "      <td>0</td>\n",
       "      <td>Caucasian</td>\n",
       "      <td>M</td>\n",
       "      <td>188.0</td>\n",
       "      <td>...</td>\n",
       "      <td>0.0</td>\n",
       "      <td>0.0</td>\n",
       "      <td>0.0</td>\n",
       "      <td>0.0</td>\n",
       "      <td>0.0</td>\n",
       "      <td>0.0</td>\n",
       "      <td>0.0</td>\n",
       "      <td>0.0</td>\n",
       "      <td>Trauma</td>\n",
       "      <td>Trauma</td>\n",
       "    </tr>\n",
       "    <tr>\n",
       "      <th>...</th>\n",
       "      <td>...</td>\n",
       "      <td>...</td>\n",
       "      <td>...</td>\n",
       "      <td>...</td>\n",
       "      <td>...</td>\n",
       "      <td>...</td>\n",
       "      <td>...</td>\n",
       "      <td>...</td>\n",
       "      <td>...</td>\n",
       "      <td>...</td>\n",
       "      <td>...</td>\n",
       "      <td>...</td>\n",
       "      <td>...</td>\n",
       "      <td>...</td>\n",
       "      <td>...</td>\n",
       "      <td>...</td>\n",
       "      <td>...</td>\n",
       "      <td>...</td>\n",
       "      <td>...</td>\n",
       "      <td>...</td>\n",
       "      <td>...</td>\n",
       "    </tr>\n",
       "    <tr>\n",
       "      <th>91708</th>\n",
       "      <td>91592</td>\n",
       "      <td>78108</td>\n",
       "      <td>30</td>\n",
       "      <td>0</td>\n",
       "      <td>75.0</td>\n",
       "      <td>23.060250</td>\n",
       "      <td>0</td>\n",
       "      <td>Caucasian</td>\n",
       "      <td>M</td>\n",
       "      <td>177.8</td>\n",
       "      <td>...</td>\n",
       "      <td>0.0</td>\n",
       "      <td>0.0</td>\n",
       "      <td>1.0</td>\n",
       "      <td>0.0</td>\n",
       "      <td>0.0</td>\n",
       "      <td>0.0</td>\n",
       "      <td>0.0</td>\n",
       "      <td>1.0</td>\n",
       "      <td>Sepsis</td>\n",
       "      <td>Cardiovascular</td>\n",
       "    </tr>\n",
       "    <tr>\n",
       "      <th>91709</th>\n",
       "      <td>66119</td>\n",
       "      <td>13486</td>\n",
       "      <td>121</td>\n",
       "      <td>0</td>\n",
       "      <td>56.0</td>\n",
       "      <td>47.179671</td>\n",
       "      <td>0</td>\n",
       "      <td>Caucasian</td>\n",
       "      <td>F</td>\n",
       "      <td>183.0</td>\n",
       "      <td>...</td>\n",
       "      <td>0.0</td>\n",
       "      <td>0.0</td>\n",
       "      <td>0.0</td>\n",
       "      <td>0.0</td>\n",
       "      <td>0.0</td>\n",
       "      <td>0.0</td>\n",
       "      <td>0.0</td>\n",
       "      <td>0.0</td>\n",
       "      <td>Sepsis</td>\n",
       "      <td>Cardiovascular</td>\n",
       "    </tr>\n",
       "    <tr>\n",
       "      <th>91710</th>\n",
       "      <td>8981</td>\n",
       "      <td>58179</td>\n",
       "      <td>195</td>\n",
       "      <td>0</td>\n",
       "      <td>48.0</td>\n",
       "      <td>27.236914</td>\n",
       "      <td>0</td>\n",
       "      <td>Caucasian</td>\n",
       "      <td>M</td>\n",
       "      <td>170.2</td>\n",
       "      <td>...</td>\n",
       "      <td>0.0</td>\n",
       "      <td>0.0</td>\n",
       "      <td>1.0</td>\n",
       "      <td>0.0</td>\n",
       "      <td>0.0</td>\n",
       "      <td>0.0</td>\n",
       "      <td>0.0</td>\n",
       "      <td>0.0</td>\n",
       "      <td>Metabolic</td>\n",
       "      <td>Metabolic</td>\n",
       "    </tr>\n",
       "    <tr>\n",
       "      <th>91711</th>\n",
       "      <td>33776</td>\n",
       "      <td>120598</td>\n",
       "      <td>66</td>\n",
       "      <td>0</td>\n",
       "      <td>NaN</td>\n",
       "      <td>23.297481</td>\n",
       "      <td>0</td>\n",
       "      <td>Caucasian</td>\n",
       "      <td>F</td>\n",
       "      <td>154.9</td>\n",
       "      <td>...</td>\n",
       "      <td>0.0</td>\n",
       "      <td>0.0</td>\n",
       "      <td>0.0</td>\n",
       "      <td>0.0</td>\n",
       "      <td>0.0</td>\n",
       "      <td>0.0</td>\n",
       "      <td>0.0</td>\n",
       "      <td>0.0</td>\n",
       "      <td>Respiratory</td>\n",
       "      <td>Respiratory</td>\n",
       "    </tr>\n",
       "    <tr>\n",
       "      <th>91712</th>\n",
       "      <td>1671</td>\n",
       "      <td>53612</td>\n",
       "      <td>104</td>\n",
       "      <td>0</td>\n",
       "      <td>82.0</td>\n",
       "      <td>22.031250</td>\n",
       "      <td>1</td>\n",
       "      <td>Caucasian</td>\n",
       "      <td>F</td>\n",
       "      <td>160.0</td>\n",
       "      <td>...</td>\n",
       "      <td>0.0</td>\n",
       "      <td>0.0</td>\n",
       "      <td>0.0</td>\n",
       "      <td>0.0</td>\n",
       "      <td>0.0</td>\n",
       "      <td>0.0</td>\n",
       "      <td>0.0</td>\n",
       "      <td>0.0</td>\n",
       "      <td>Gastrointestinal</td>\n",
       "      <td>Gastrointestinal</td>\n",
       "    </tr>\n",
       "  </tbody>\n",
       "</table>\n",
       "<p>91713 rows × 186 columns</p>\n",
       "</div>"
      ],
      "text/plain": [
       "       encounter_id  patient_id  hospital_id  hospital_death   age        bmi  \\\n",
       "0             66154       25312          118               0  68.0  22.730000   \n",
       "1            114252       59342           81               0  77.0  27.420000   \n",
       "2            119783       50777          118               0  25.0  31.950000   \n",
       "3             79267       46918          118               0  81.0  22.640000   \n",
       "4             92056       34377           33               0  19.0        NaN   \n",
       "...             ...         ...          ...             ...   ...        ...   \n",
       "91708         91592       78108           30               0  75.0  23.060250   \n",
       "91709         66119       13486          121               0  56.0  47.179671   \n",
       "91710          8981       58179          195               0  48.0  27.236914   \n",
       "91711         33776      120598           66               0   NaN  23.297481   \n",
       "91712          1671       53612          104               0  82.0  22.031250   \n",
       "\n",
       "       elective_surgery  ethnicity gender  height  ... aids cirrhosis  \\\n",
       "0                     0  Caucasian      M   180.3  ...  0.0       0.0   \n",
       "1                     0  Caucasian      F   160.0  ...  0.0       0.0   \n",
       "2                     0  Caucasian      F   172.7  ...  0.0       0.0   \n",
       "3                     1  Caucasian      F   165.1  ...  0.0       0.0   \n",
       "4                     0  Caucasian      M   188.0  ...  0.0       0.0   \n",
       "...                 ...        ...    ...     ...  ...  ...       ...   \n",
       "91708                 0  Caucasian      M   177.8  ...  0.0       0.0   \n",
       "91709                 0  Caucasian      F   183.0  ...  0.0       0.0   \n",
       "91710                 0  Caucasian      M   170.2  ...  0.0       0.0   \n",
       "91711                 0  Caucasian      F   154.9  ...  0.0       0.0   \n",
       "91712                 1  Caucasian      F   160.0  ...  0.0       0.0   \n",
       "\n",
       "       diabetes_mellitus hepatic_failure immunosuppression  leukemia  \\\n",
       "0                    1.0             0.0               0.0       0.0   \n",
       "1                    1.0             0.0               0.0       0.0   \n",
       "2                    0.0             0.0               0.0       0.0   \n",
       "3                    0.0             0.0               0.0       0.0   \n",
       "4                    0.0             0.0               0.0       0.0   \n",
       "...                  ...             ...               ...       ...   \n",
       "91708                1.0             0.0               0.0       0.0   \n",
       "91709                0.0             0.0               0.0       0.0   \n",
       "91710                1.0             0.0               0.0       0.0   \n",
       "91711                0.0             0.0               0.0       0.0   \n",
       "91712                0.0             0.0               0.0       0.0   \n",
       "\n",
       "       lymphoma  solid_tumor_with_metastasis  apache_3j_bodysystem  \\\n",
       "0           0.0                          0.0                Sepsis   \n",
       "1           0.0                          0.0           Respiratory   \n",
       "2           0.0                          0.0             Metabolic   \n",
       "3           0.0                          0.0        Cardiovascular   \n",
       "4           0.0                          0.0                Trauma   \n",
       "...         ...                          ...                   ...   \n",
       "91708       0.0                          1.0                Sepsis   \n",
       "91709       0.0                          0.0                Sepsis   \n",
       "91710       0.0                          0.0             Metabolic   \n",
       "91711       0.0                          0.0           Respiratory   \n",
       "91712       0.0                          0.0      Gastrointestinal   \n",
       "\n",
       "       apache_2_bodysystem  \n",
       "0           Cardiovascular  \n",
       "1              Respiratory  \n",
       "2                Metabolic  \n",
       "3           Cardiovascular  \n",
       "4                   Trauma  \n",
       "...                    ...  \n",
       "91708       Cardiovascular  \n",
       "91709       Cardiovascular  \n",
       "91710            Metabolic  \n",
       "91711          Respiratory  \n",
       "91712     Gastrointestinal  \n",
       "\n",
       "[91713 rows x 186 columns]"
      ]
     },
     "execution_count": 22,
     "metadata": {},
     "output_type": "execute_result"
    }
   ],
   "source": [
    "df"
   ]
  },
  {
   "cell_type": "code",
   "execution_count": 23,
   "id": "0eaf4db9",
   "metadata": {},
   "outputs": [],
   "source": [
    "df.drop(columns=['encounter_id','patient_id','hospital_id'],inplace=True)"
   ]
  },
  {
   "cell_type": "code",
   "execution_count": 24,
   "id": "19db5c6f",
   "metadata": {},
   "outputs": [
    {
     "data": {
      "text/html": [
       "<div>\n",
       "<style scoped>\n",
       "    .dataframe tbody tr th:only-of-type {\n",
       "        vertical-align: middle;\n",
       "    }\n",
       "\n",
       "    .dataframe tbody tr th {\n",
       "        vertical-align: top;\n",
       "    }\n",
       "\n",
       "    .dataframe thead th {\n",
       "        text-align: right;\n",
       "    }\n",
       "</style>\n",
       "<table border=\"1\" class=\"dataframe\">\n",
       "  <thead>\n",
       "    <tr style=\"text-align: right;\">\n",
       "      <th></th>\n",
       "      <th>hospital_death</th>\n",
       "      <th>age</th>\n",
       "      <th>bmi</th>\n",
       "      <th>elective_surgery</th>\n",
       "      <th>ethnicity</th>\n",
       "      <th>gender</th>\n",
       "      <th>height</th>\n",
       "      <th>hospital_admit_source</th>\n",
       "      <th>icu_admit_source</th>\n",
       "      <th>icu_id</th>\n",
       "      <th>...</th>\n",
       "      <th>aids</th>\n",
       "      <th>cirrhosis</th>\n",
       "      <th>diabetes_mellitus</th>\n",
       "      <th>hepatic_failure</th>\n",
       "      <th>immunosuppression</th>\n",
       "      <th>leukemia</th>\n",
       "      <th>lymphoma</th>\n",
       "      <th>solid_tumor_with_metastasis</th>\n",
       "      <th>apache_3j_bodysystem</th>\n",
       "      <th>apache_2_bodysystem</th>\n",
       "    </tr>\n",
       "  </thead>\n",
       "  <tbody>\n",
       "    <tr>\n",
       "      <th>0</th>\n",
       "      <td>0</td>\n",
       "      <td>68.0</td>\n",
       "      <td>22.730000</td>\n",
       "      <td>0</td>\n",
       "      <td>Caucasian</td>\n",
       "      <td>M</td>\n",
       "      <td>180.3</td>\n",
       "      <td>Floor</td>\n",
       "      <td>Floor</td>\n",
       "      <td>92</td>\n",
       "      <td>...</td>\n",
       "      <td>0.0</td>\n",
       "      <td>0.0</td>\n",
       "      <td>1.0</td>\n",
       "      <td>0.0</td>\n",
       "      <td>0.0</td>\n",
       "      <td>0.0</td>\n",
       "      <td>0.0</td>\n",
       "      <td>0.0</td>\n",
       "      <td>Sepsis</td>\n",
       "      <td>Cardiovascular</td>\n",
       "    </tr>\n",
       "    <tr>\n",
       "      <th>1</th>\n",
       "      <td>0</td>\n",
       "      <td>77.0</td>\n",
       "      <td>27.420000</td>\n",
       "      <td>0</td>\n",
       "      <td>Caucasian</td>\n",
       "      <td>F</td>\n",
       "      <td>160.0</td>\n",
       "      <td>Floor</td>\n",
       "      <td>Floor</td>\n",
       "      <td>90</td>\n",
       "      <td>...</td>\n",
       "      <td>0.0</td>\n",
       "      <td>0.0</td>\n",
       "      <td>1.0</td>\n",
       "      <td>0.0</td>\n",
       "      <td>0.0</td>\n",
       "      <td>0.0</td>\n",
       "      <td>0.0</td>\n",
       "      <td>0.0</td>\n",
       "      <td>Respiratory</td>\n",
       "      <td>Respiratory</td>\n",
       "    </tr>\n",
       "    <tr>\n",
       "      <th>2</th>\n",
       "      <td>0</td>\n",
       "      <td>25.0</td>\n",
       "      <td>31.950000</td>\n",
       "      <td>0</td>\n",
       "      <td>Caucasian</td>\n",
       "      <td>F</td>\n",
       "      <td>172.7</td>\n",
       "      <td>Emergency Department</td>\n",
       "      <td>Accident &amp; Emergency</td>\n",
       "      <td>93</td>\n",
       "      <td>...</td>\n",
       "      <td>0.0</td>\n",
       "      <td>0.0</td>\n",
       "      <td>0.0</td>\n",
       "      <td>0.0</td>\n",
       "      <td>0.0</td>\n",
       "      <td>0.0</td>\n",
       "      <td>0.0</td>\n",
       "      <td>0.0</td>\n",
       "      <td>Metabolic</td>\n",
       "      <td>Metabolic</td>\n",
       "    </tr>\n",
       "    <tr>\n",
       "      <th>3</th>\n",
       "      <td>0</td>\n",
       "      <td>81.0</td>\n",
       "      <td>22.640000</td>\n",
       "      <td>1</td>\n",
       "      <td>Caucasian</td>\n",
       "      <td>F</td>\n",
       "      <td>165.1</td>\n",
       "      <td>Operating Room</td>\n",
       "      <td>Operating Room / Recovery</td>\n",
       "      <td>92</td>\n",
       "      <td>...</td>\n",
       "      <td>0.0</td>\n",
       "      <td>0.0</td>\n",
       "      <td>0.0</td>\n",
       "      <td>0.0</td>\n",
       "      <td>0.0</td>\n",
       "      <td>0.0</td>\n",
       "      <td>0.0</td>\n",
       "      <td>0.0</td>\n",
       "      <td>Cardiovascular</td>\n",
       "      <td>Cardiovascular</td>\n",
       "    </tr>\n",
       "    <tr>\n",
       "      <th>4</th>\n",
       "      <td>0</td>\n",
       "      <td>19.0</td>\n",
       "      <td>NaN</td>\n",
       "      <td>0</td>\n",
       "      <td>Caucasian</td>\n",
       "      <td>M</td>\n",
       "      <td>188.0</td>\n",
       "      <td>NaN</td>\n",
       "      <td>Accident &amp; Emergency</td>\n",
       "      <td>91</td>\n",
       "      <td>...</td>\n",
       "      <td>0.0</td>\n",
       "      <td>0.0</td>\n",
       "      <td>0.0</td>\n",
       "      <td>0.0</td>\n",
       "      <td>0.0</td>\n",
       "      <td>0.0</td>\n",
       "      <td>0.0</td>\n",
       "      <td>0.0</td>\n",
       "      <td>Trauma</td>\n",
       "      <td>Trauma</td>\n",
       "    </tr>\n",
       "    <tr>\n",
       "      <th>...</th>\n",
       "      <td>...</td>\n",
       "      <td>...</td>\n",
       "      <td>...</td>\n",
       "      <td>...</td>\n",
       "      <td>...</td>\n",
       "      <td>...</td>\n",
       "      <td>...</td>\n",
       "      <td>...</td>\n",
       "      <td>...</td>\n",
       "      <td>...</td>\n",
       "      <td>...</td>\n",
       "      <td>...</td>\n",
       "      <td>...</td>\n",
       "      <td>...</td>\n",
       "      <td>...</td>\n",
       "      <td>...</td>\n",
       "      <td>...</td>\n",
       "      <td>...</td>\n",
       "      <td>...</td>\n",
       "      <td>...</td>\n",
       "      <td>...</td>\n",
       "    </tr>\n",
       "    <tr>\n",
       "      <th>91708</th>\n",
       "      <td>0</td>\n",
       "      <td>75.0</td>\n",
       "      <td>23.060250</td>\n",
       "      <td>0</td>\n",
       "      <td>Caucasian</td>\n",
       "      <td>M</td>\n",
       "      <td>177.8</td>\n",
       "      <td>Acute Care/Floor</td>\n",
       "      <td>Floor</td>\n",
       "      <td>927</td>\n",
       "      <td>...</td>\n",
       "      <td>0.0</td>\n",
       "      <td>0.0</td>\n",
       "      <td>1.0</td>\n",
       "      <td>0.0</td>\n",
       "      <td>0.0</td>\n",
       "      <td>0.0</td>\n",
       "      <td>0.0</td>\n",
       "      <td>1.0</td>\n",
       "      <td>Sepsis</td>\n",
       "      <td>Cardiovascular</td>\n",
       "    </tr>\n",
       "    <tr>\n",
       "      <th>91709</th>\n",
       "      <td>0</td>\n",
       "      <td>56.0</td>\n",
       "      <td>47.179671</td>\n",
       "      <td>0</td>\n",
       "      <td>Caucasian</td>\n",
       "      <td>F</td>\n",
       "      <td>183.0</td>\n",
       "      <td>Emergency Department</td>\n",
       "      <td>Floor</td>\n",
       "      <td>925</td>\n",
       "      <td>...</td>\n",
       "      <td>0.0</td>\n",
       "      <td>0.0</td>\n",
       "      <td>0.0</td>\n",
       "      <td>0.0</td>\n",
       "      <td>0.0</td>\n",
       "      <td>0.0</td>\n",
       "      <td>0.0</td>\n",
       "      <td>0.0</td>\n",
       "      <td>Sepsis</td>\n",
       "      <td>Cardiovascular</td>\n",
       "    </tr>\n",
       "    <tr>\n",
       "      <th>91710</th>\n",
       "      <td>0</td>\n",
       "      <td>48.0</td>\n",
       "      <td>27.236914</td>\n",
       "      <td>0</td>\n",
       "      <td>Caucasian</td>\n",
       "      <td>M</td>\n",
       "      <td>170.2</td>\n",
       "      <td>Emergency Department</td>\n",
       "      <td>Accident &amp; Emergency</td>\n",
       "      <td>908</td>\n",
       "      <td>...</td>\n",
       "      <td>0.0</td>\n",
       "      <td>0.0</td>\n",
       "      <td>1.0</td>\n",
       "      <td>0.0</td>\n",
       "      <td>0.0</td>\n",
       "      <td>0.0</td>\n",
       "      <td>0.0</td>\n",
       "      <td>0.0</td>\n",
       "      <td>Metabolic</td>\n",
       "      <td>Metabolic</td>\n",
       "    </tr>\n",
       "    <tr>\n",
       "      <th>91711</th>\n",
       "      <td>0</td>\n",
       "      <td>NaN</td>\n",
       "      <td>23.297481</td>\n",
       "      <td>0</td>\n",
       "      <td>Caucasian</td>\n",
       "      <td>F</td>\n",
       "      <td>154.9</td>\n",
       "      <td>Emergency Department</td>\n",
       "      <td>Accident &amp; Emergency</td>\n",
       "      <td>922</td>\n",
       "      <td>...</td>\n",
       "      <td>0.0</td>\n",
       "      <td>0.0</td>\n",
       "      <td>0.0</td>\n",
       "      <td>0.0</td>\n",
       "      <td>0.0</td>\n",
       "      <td>0.0</td>\n",
       "      <td>0.0</td>\n",
       "      <td>0.0</td>\n",
       "      <td>Respiratory</td>\n",
       "      <td>Respiratory</td>\n",
       "    </tr>\n",
       "    <tr>\n",
       "      <th>91712</th>\n",
       "      <td>0</td>\n",
       "      <td>82.0</td>\n",
       "      <td>22.031250</td>\n",
       "      <td>1</td>\n",
       "      <td>Caucasian</td>\n",
       "      <td>F</td>\n",
       "      <td>160.0</td>\n",
       "      <td>NaN</td>\n",
       "      <td>Operating Room / Recovery</td>\n",
       "      <td>926</td>\n",
       "      <td>...</td>\n",
       "      <td>0.0</td>\n",
       "      <td>0.0</td>\n",
       "      <td>0.0</td>\n",
       "      <td>0.0</td>\n",
       "      <td>0.0</td>\n",
       "      <td>0.0</td>\n",
       "      <td>0.0</td>\n",
       "      <td>0.0</td>\n",
       "      <td>Gastrointestinal</td>\n",
       "      <td>Gastrointestinal</td>\n",
       "    </tr>\n",
       "  </tbody>\n",
       "</table>\n",
       "<p>91713 rows × 183 columns</p>\n",
       "</div>"
      ],
      "text/plain": [
       "       hospital_death   age        bmi  elective_surgery  ethnicity gender  \\\n",
       "0                   0  68.0  22.730000                 0  Caucasian      M   \n",
       "1                   0  77.0  27.420000                 0  Caucasian      F   \n",
       "2                   0  25.0  31.950000                 0  Caucasian      F   \n",
       "3                   0  81.0  22.640000                 1  Caucasian      F   \n",
       "4                   0  19.0        NaN                 0  Caucasian      M   \n",
       "...               ...   ...        ...               ...        ...    ...   \n",
       "91708               0  75.0  23.060250                 0  Caucasian      M   \n",
       "91709               0  56.0  47.179671                 0  Caucasian      F   \n",
       "91710               0  48.0  27.236914                 0  Caucasian      M   \n",
       "91711               0   NaN  23.297481                 0  Caucasian      F   \n",
       "91712               0  82.0  22.031250                 1  Caucasian      F   \n",
       "\n",
       "       height hospital_admit_source           icu_admit_source  icu_id  ...  \\\n",
       "0       180.3                 Floor                      Floor      92  ...   \n",
       "1       160.0                 Floor                      Floor      90  ...   \n",
       "2       172.7  Emergency Department       Accident & Emergency      93  ...   \n",
       "3       165.1        Operating Room  Operating Room / Recovery      92  ...   \n",
       "4       188.0                   NaN       Accident & Emergency      91  ...   \n",
       "...       ...                   ...                        ...     ...  ...   \n",
       "91708   177.8      Acute Care/Floor                      Floor     927  ...   \n",
       "91709   183.0  Emergency Department                      Floor     925  ...   \n",
       "91710   170.2  Emergency Department       Accident & Emergency     908  ...   \n",
       "91711   154.9  Emergency Department       Accident & Emergency     922  ...   \n",
       "91712   160.0                   NaN  Operating Room / Recovery     926  ...   \n",
       "\n",
       "      aids cirrhosis  diabetes_mellitus  hepatic_failure  immunosuppression  \\\n",
       "0      0.0       0.0                1.0              0.0                0.0   \n",
       "1      0.0       0.0                1.0              0.0                0.0   \n",
       "2      0.0       0.0                0.0              0.0                0.0   \n",
       "3      0.0       0.0                0.0              0.0                0.0   \n",
       "4      0.0       0.0                0.0              0.0                0.0   \n",
       "...    ...       ...                ...              ...                ...   \n",
       "91708  0.0       0.0                1.0              0.0                0.0   \n",
       "91709  0.0       0.0                0.0              0.0                0.0   \n",
       "91710  0.0       0.0                1.0              0.0                0.0   \n",
       "91711  0.0       0.0                0.0              0.0                0.0   \n",
       "91712  0.0       0.0                0.0              0.0                0.0   \n",
       "\n",
       "       leukemia  lymphoma  solid_tumor_with_metastasis  apache_3j_bodysystem  \\\n",
       "0           0.0       0.0                          0.0                Sepsis   \n",
       "1           0.0       0.0                          0.0           Respiratory   \n",
       "2           0.0       0.0                          0.0             Metabolic   \n",
       "3           0.0       0.0                          0.0        Cardiovascular   \n",
       "4           0.0       0.0                          0.0                Trauma   \n",
       "...         ...       ...                          ...                   ...   \n",
       "91708       0.0       0.0                          1.0                Sepsis   \n",
       "91709       0.0       0.0                          0.0                Sepsis   \n",
       "91710       0.0       0.0                          0.0             Metabolic   \n",
       "91711       0.0       0.0                          0.0           Respiratory   \n",
       "91712       0.0       0.0                          0.0      Gastrointestinal   \n",
       "\n",
       "       apache_2_bodysystem  \n",
       "0           Cardiovascular  \n",
       "1              Respiratory  \n",
       "2                Metabolic  \n",
       "3           Cardiovascular  \n",
       "4                   Trauma  \n",
       "...                    ...  \n",
       "91708       Cardiovascular  \n",
       "91709       Cardiovascular  \n",
       "91710            Metabolic  \n",
       "91711          Respiratory  \n",
       "91712     Gastrointestinal  \n",
       "\n",
       "[91713 rows x 183 columns]"
      ]
     },
     "execution_count": 24,
     "metadata": {},
     "output_type": "execute_result"
    }
   ],
   "source": [
    "df"
   ]
  },
  {
   "cell_type": "code",
   "execution_count": 25,
   "id": "6a95ef9f",
   "metadata": {},
   "outputs": [
    {
     "data": {
      "text/plain": [
       "array(['Caucasian', nan, 'Hispanic', 'African American', 'Asian',\n",
       "       'Native American', 'Other/Unknown'], dtype=object)"
      ]
     },
     "execution_count": 25,
     "metadata": {},
     "output_type": "execute_result"
    }
   ],
   "source": [
    "df['ethnicity'].unique()"
   ]
  },
  {
   "cell_type": "code",
   "execution_count": 26,
   "id": "89f82e14",
   "metadata": {},
   "outputs": [
    {
     "data": {
      "image/png": "[encoded data removed]",
      "text/plain": [
       "<Figure size 864x648 with 1 Axes>"
      ]
     },
     "metadata": {
      "needs_background": "light"
     },
     "output_type": "display_data"
    }
   ],
   "source": [
    "plt.figure(figsize=(12,9))\n",
    "sns.countplot(df['ethnicity'])\n",
    "plt.show()"
   ]
  },
  {
   "cell_type": "code",
   "execution_count": 27,
   "id": "7eec021c",
   "metadata": {},
   "outputs": [
    {
     "data": {
      "text/plain": [
       "Caucasian           70684\n",
       "African American     9547\n",
       "Other/Unknown        4374\n",
       "Hispanic             3796\n",
       "Asian                1129\n",
       "Native American       788\n",
       "Name: ethnicity, dtype: int64"
      ]
     },
     "execution_count": 27,
     "metadata": {},
     "output_type": "execute_result"
    }
   ],
   "source": [
    "df['ethnicity'].value_counts()"
   ]
  },
  {
   "cell_type": "code",
   "execution_count": 28,
   "id": "ea3735ef",
   "metadata": {},
   "outputs": [],
   "source": [
    "MD=df['ethnicity'].mode()\n",
    "df['ethnicity'].fillna(value=MD,inplace=True)"
   ]
  },
  {
   "cell_type": "code",
   "execution_count": 29,
   "id": "7573aeb8",
   "metadata": {},
   "outputs": [
    {
     "data": {
      "text/plain": [
       "<AxesSubplot:xlabel='bmi', ylabel='Density'>"
      ]
     },
     "execution_count": 29,
     "metadata": {},
     "output_type": "execute_result"
    },
    {
     "data": {
      "image/png": "[encoded data removed]",
      "text/plain": [
       "<Figure size 432x288 with 1 Axes>"
      ]
     },
     "metadata": {
      "needs_background": "light"
     },
     "output_type": "display_data"
    }
   ],
   "source": [
    "sns.distplot(df['bmi'])"
   ]
  },
  {
   "cell_type": "code",
   "execution_count": 30,
   "id": "c045f6e4",
   "metadata": {},
   "outputs": [],
   "source": [
    "df.fillna(df.mean(),inplace=True)"
   ]
  },
  {
   "cell_type": "code",
   "execution_count": 31,
   "id": "d41ad079",
   "metadata": {},
   "outputs": [
    {
     "data": {
      "text/plain": [
       "26265"
      ]
     },
     "execution_count": 31,
     "metadata": {},
     "output_type": "execute_result"
    }
   ],
   "source": [
    "df.isnull().sum().sum()"
   ]
  },
  {
   "cell_type": "code",
   "execution_count": 32,
   "id": "96ad764f",
   "metadata": {},
   "outputs": [
    {
     "data": {
      "text/plain": [
       "dtype('O')"
      ]
     },
     "execution_count": 32,
     "metadata": {},
     "output_type": "execute_result"
    }
   ],
   "source": [
    "df['hospital_admit_source'].dtypes"
   ]
  },
  {
   "cell_type": "code",
   "execution_count": 33,
   "id": "f8b62c98",
   "metadata": {},
   "outputs": [
    {
     "data": {
      "text/html": [
       "<div>\n",
       "<style scoped>\n",
       "    .dataframe tbody tr th:only-of-type {\n",
       "        vertical-align: middle;\n",
       "    }\n",
       "\n",
       "    .dataframe tbody tr th {\n",
       "        vertical-align: top;\n",
       "    }\n",
       "\n",
       "    .dataframe thead th {\n",
       "        text-align: right;\n",
       "    }\n",
       "</style>\n",
       "<table border=\"1\" class=\"dataframe\">\n",
       "  <thead>\n",
       "    <tr style=\"text-align: right;\">\n",
       "      <th></th>\n",
       "      <th>hospital_death</th>\n",
       "      <th>age</th>\n",
       "      <th>bmi</th>\n",
       "      <th>elective_surgery</th>\n",
       "      <th>ethnicity</th>\n",
       "      <th>gender</th>\n",
       "      <th>height</th>\n",
       "      <th>hospital_admit_source</th>\n",
       "      <th>icu_admit_source</th>\n",
       "      <th>icu_id</th>\n",
       "      <th>...</th>\n",
       "      <th>aids</th>\n",
       "      <th>cirrhosis</th>\n",
       "      <th>diabetes_mellitus</th>\n",
       "      <th>hepatic_failure</th>\n",
       "      <th>immunosuppression</th>\n",
       "      <th>leukemia</th>\n",
       "      <th>lymphoma</th>\n",
       "      <th>solid_tumor_with_metastasis</th>\n",
       "      <th>apache_3j_bodysystem</th>\n",
       "      <th>apache_2_bodysystem</th>\n",
       "    </tr>\n",
       "  </thead>\n",
       "  <tbody>\n",
       "    <tr>\n",
       "      <th>0</th>\n",
       "      <td>0</td>\n",
       "      <td>68.000000</td>\n",
       "      <td>22.730000</td>\n",
       "      <td>0</td>\n",
       "      <td>Caucasian</td>\n",
       "      <td>M</td>\n",
       "      <td>180.3</td>\n",
       "      <td>Floor</td>\n",
       "      <td>Floor</td>\n",
       "      <td>92</td>\n",
       "      <td>...</td>\n",
       "      <td>0.0</td>\n",
       "      <td>0.0</td>\n",
       "      <td>1.0</td>\n",
       "      <td>0.0</td>\n",
       "      <td>0.0</td>\n",
       "      <td>0.0</td>\n",
       "      <td>0.0</td>\n",
       "      <td>0.0</td>\n",
       "      <td>Sepsis</td>\n",
       "      <td>Cardiovascular</td>\n",
       "    </tr>\n",
       "    <tr>\n",
       "      <th>1</th>\n",
       "      <td>0</td>\n",
       "      <td>77.000000</td>\n",
       "      <td>27.420000</td>\n",
       "      <td>0</td>\n",
       "      <td>Caucasian</td>\n",
       "      <td>F</td>\n",
       "      <td>160.0</td>\n",
       "      <td>Floor</td>\n",
       "      <td>Floor</td>\n",
       "      <td>90</td>\n",
       "      <td>...</td>\n",
       "      <td>0.0</td>\n",
       "      <td>0.0</td>\n",
       "      <td>1.0</td>\n",
       "      <td>0.0</td>\n",
       "      <td>0.0</td>\n",
       "      <td>0.0</td>\n",
       "      <td>0.0</td>\n",
       "      <td>0.0</td>\n",
       "      <td>Respiratory</td>\n",
       "      <td>Respiratory</td>\n",
       "    </tr>\n",
       "    <tr>\n",
       "      <th>2</th>\n",
       "      <td>0</td>\n",
       "      <td>25.000000</td>\n",
       "      <td>31.950000</td>\n",
       "      <td>0</td>\n",
       "      <td>Caucasian</td>\n",
       "      <td>F</td>\n",
       "      <td>172.7</td>\n",
       "      <td>Emergency Department</td>\n",
       "      <td>Accident &amp; Emergency</td>\n",
       "      <td>93</td>\n",
       "      <td>...</td>\n",
       "      <td>0.0</td>\n",
       "      <td>0.0</td>\n",
       "      <td>0.0</td>\n",
       "      <td>0.0</td>\n",
       "      <td>0.0</td>\n",
       "      <td>0.0</td>\n",
       "      <td>0.0</td>\n",
       "      <td>0.0</td>\n",
       "      <td>Metabolic</td>\n",
       "      <td>Metabolic</td>\n",
       "    </tr>\n",
       "    <tr>\n",
       "      <th>3</th>\n",
       "      <td>0</td>\n",
       "      <td>81.000000</td>\n",
       "      <td>22.640000</td>\n",
       "      <td>1</td>\n",
       "      <td>Caucasian</td>\n",
       "      <td>F</td>\n",
       "      <td>165.1</td>\n",
       "      <td>Operating Room</td>\n",
       "      <td>Operating Room / Recovery</td>\n",
       "      <td>92</td>\n",
       "      <td>...</td>\n",
       "      <td>0.0</td>\n",
       "      <td>0.0</td>\n",
       "      <td>0.0</td>\n",
       "      <td>0.0</td>\n",
       "      <td>0.0</td>\n",
       "      <td>0.0</td>\n",
       "      <td>0.0</td>\n",
       "      <td>0.0</td>\n",
       "      <td>Cardiovascular</td>\n",
       "      <td>Cardiovascular</td>\n",
       "    </tr>\n",
       "    <tr>\n",
       "      <th>4</th>\n",
       "      <td>0</td>\n",
       "      <td>19.000000</td>\n",
       "      <td>29.185818</td>\n",
       "      <td>0</td>\n",
       "      <td>Caucasian</td>\n",
       "      <td>M</td>\n",
       "      <td>188.0</td>\n",
       "      <td>NaN</td>\n",
       "      <td>Accident &amp; Emergency</td>\n",
       "      <td>91</td>\n",
       "      <td>...</td>\n",
       "      <td>0.0</td>\n",
       "      <td>0.0</td>\n",
       "      <td>0.0</td>\n",
       "      <td>0.0</td>\n",
       "      <td>0.0</td>\n",
       "      <td>0.0</td>\n",
       "      <td>0.0</td>\n",
       "      <td>0.0</td>\n",
       "      <td>Trauma</td>\n",
       "      <td>Trauma</td>\n",
       "    </tr>\n",
       "    <tr>\n",
       "      <th>...</th>\n",
       "      <td>...</td>\n",
       "      <td>...</td>\n",
       "      <td>...</td>\n",
       "      <td>...</td>\n",
       "      <td>...</td>\n",
       "      <td>...</td>\n",
       "      <td>...</td>\n",
       "      <td>...</td>\n",
       "      <td>...</td>\n",
       "      <td>...</td>\n",
       "      <td>...</td>\n",
       "      <td>...</td>\n",
       "      <td>...</td>\n",
       "      <td>...</td>\n",
       "      <td>...</td>\n",
       "      <td>...</td>\n",
       "      <td>...</td>\n",
       "      <td>...</td>\n",
       "      <td>...</td>\n",
       "      <td>...</td>\n",
       "      <td>...</td>\n",
       "    </tr>\n",
       "    <tr>\n",
       "      <th>91708</th>\n",
       "      <td>0</td>\n",
       "      <td>75.000000</td>\n",
       "      <td>23.060250</td>\n",
       "      <td>0</td>\n",
       "      <td>Caucasian</td>\n",
       "      <td>M</td>\n",
       "      <td>177.8</td>\n",
       "      <td>Acute Care/Floor</td>\n",
       "      <td>Floor</td>\n",
       "      <td>927</td>\n",
       "      <td>...</td>\n",
       "      <td>0.0</td>\n",
       "      <td>0.0</td>\n",
       "      <td>1.0</td>\n",
       "      <td>0.0</td>\n",
       "      <td>0.0</td>\n",
       "      <td>0.0</td>\n",
       "      <td>0.0</td>\n",
       "      <td>1.0</td>\n",
       "      <td>Sepsis</td>\n",
       "      <td>Cardiovascular</td>\n",
       "    </tr>\n",
       "    <tr>\n",
       "      <th>91709</th>\n",
       "      <td>0</td>\n",
       "      <td>56.000000</td>\n",
       "      <td>47.179671</td>\n",
       "      <td>0</td>\n",
       "      <td>Caucasian</td>\n",
       "      <td>F</td>\n",
       "      <td>183.0</td>\n",
       "      <td>Emergency Department</td>\n",
       "      <td>Floor</td>\n",
       "      <td>925</td>\n",
       "      <td>...</td>\n",
       "      <td>0.0</td>\n",
       "      <td>0.0</td>\n",
       "      <td>0.0</td>\n",
       "      <td>0.0</td>\n",
       "      <td>0.0</td>\n",
       "      <td>0.0</td>\n",
       "      <td>0.0</td>\n",
       "      <td>0.0</td>\n",
       "      <td>Sepsis</td>\n",
       "      <td>Cardiovascular</td>\n",
       "    </tr>\n",
       "    <tr>\n",
       "      <th>91710</th>\n",
       "      <td>0</td>\n",
       "      <td>48.000000</td>\n",
       "      <td>27.236914</td>\n",
       "      <td>0</td>\n",
       "      <td>Caucasian</td>\n",
       "      <td>M</td>\n",
       "      <td>170.2</td>\n",
       "      <td>Emergency Department</td>\n",
       "      <td>Accident &amp; Emergency</td>\n",
       "      <td>908</td>\n",
       "      <td>...</td>\n",
       "      <td>0.0</td>\n",
       "      <td>0.0</td>\n",
       "      <td>1.0</td>\n",
       "      <td>0.0</td>\n",
       "      <td>0.0</td>\n",
       "      <td>0.0</td>\n",
       "      <td>0.0</td>\n",
       "      <td>0.0</td>\n",
       "      <td>Metabolic</td>\n",
       "      <td>Metabolic</td>\n",
       "    </tr>\n",
       "    <tr>\n",
       "      <th>91711</th>\n",
       "      <td>0</td>\n",
       "      <td>62.309516</td>\n",
       "      <td>23.297481</td>\n",
       "      <td>0</td>\n",
       "      <td>Caucasian</td>\n",
       "      <td>F</td>\n",
       "      <td>154.9</td>\n",
       "      <td>Emergency Department</td>\n",
       "      <td>Accident &amp; Emergency</td>\n",
       "      <td>922</td>\n",
       "      <td>...</td>\n",
       "      <td>0.0</td>\n",
       "      <td>0.0</td>\n",
       "      <td>0.0</td>\n",
       "      <td>0.0</td>\n",
       "      <td>0.0</td>\n",
       "      <td>0.0</td>\n",
       "      <td>0.0</td>\n",
       "      <td>0.0</td>\n",
       "      <td>Respiratory</td>\n",
       "      <td>Respiratory</td>\n",
       "    </tr>\n",
       "    <tr>\n",
       "      <th>91712</th>\n",
       "      <td>0</td>\n",
       "      <td>82.000000</td>\n",
       "      <td>22.031250</td>\n",
       "      <td>1</td>\n",
       "      <td>Caucasian</td>\n",
       "      <td>F</td>\n",
       "      <td>160.0</td>\n",
       "      <td>NaN</td>\n",
       "      <td>Operating Room / Recovery</td>\n",
       "      <td>926</td>\n",
       "      <td>...</td>\n",
       "      <td>0.0</td>\n",
       "      <td>0.0</td>\n",
       "      <td>0.0</td>\n",
       "      <td>0.0</td>\n",
       "      <td>0.0</td>\n",
       "      <td>0.0</td>\n",
       "      <td>0.0</td>\n",
       "      <td>0.0</td>\n",
       "      <td>Gastrointestinal</td>\n",
       "      <td>Gastrointestinal</td>\n",
       "    </tr>\n",
       "  </tbody>\n",
       "</table>\n",
       "<p>91713 rows × 183 columns</p>\n",
       "</div>"
      ],
      "text/plain": [
       "       hospital_death        age        bmi  elective_surgery  ethnicity  \\\n",
       "0                   0  68.000000  22.730000                 0  Caucasian   \n",
       "1                   0  77.000000  27.420000                 0  Caucasian   \n",
       "2                   0  25.000000  31.950000                 0  Caucasian   \n",
       "3                   0  81.000000  22.640000                 1  Caucasian   \n",
       "4                   0  19.000000  29.185818                 0  Caucasian   \n",
       "...               ...        ...        ...               ...        ...   \n",
       "91708               0  75.000000  23.060250                 0  Caucasian   \n",
       "91709               0  56.000000  47.179671                 0  Caucasian   \n",
       "91710               0  48.000000  27.236914                 0  Caucasian   \n",
       "91711               0  62.309516  23.297481                 0  Caucasian   \n",
       "91712               0  82.000000  22.031250                 1  Caucasian   \n",
       "\n",
       "      gender  height hospital_admit_source           icu_admit_source  icu_id  \\\n",
       "0          M   180.3                 Floor                      Floor      92   \n",
       "1          F   160.0                 Floor                      Floor      90   \n",
       "2          F   172.7  Emergency Department       Accident & Emergency      93   \n",
       "3          F   165.1        Operating Room  Operating Room / Recovery      92   \n",
       "4          M   188.0                   NaN       Accident & Emergency      91   \n",
       "...      ...     ...                   ...                        ...     ...   \n",
       "91708      M   177.8      Acute Care/Floor                      Floor     927   \n",
       "91709      F   183.0  Emergency Department                      Floor     925   \n",
       "91710      M   170.2  Emergency Department       Accident & Emergency     908   \n",
       "91711      F   154.9  Emergency Department       Accident & Emergency     922   \n",
       "91712      F   160.0                   NaN  Operating Room / Recovery     926   \n",
       "\n",
       "       ... aids cirrhosis  diabetes_mellitus  hepatic_failure  \\\n",
       "0      ...  0.0       0.0                1.0              0.0   \n",
       "1      ...  0.0       0.0                1.0              0.0   \n",
       "2      ...  0.0       0.0                0.0              0.0   \n",
       "3      ...  0.0       0.0                0.0              0.0   \n",
       "4      ...  0.0       0.0                0.0              0.0   \n",
       "...    ...  ...       ...                ...              ...   \n",
       "91708  ...  0.0       0.0                1.0              0.0   \n",
       "91709  ...  0.0       0.0                0.0              0.0   \n",
       "91710  ...  0.0       0.0                1.0              0.0   \n",
       "91711  ...  0.0       0.0                0.0              0.0   \n",
       "91712  ...  0.0       0.0                0.0              0.0   \n",
       "\n",
       "       immunosuppression  leukemia  lymphoma  solid_tumor_with_metastasis  \\\n",
       "0                    0.0       0.0       0.0                          0.0   \n",
       "1                    0.0       0.0       0.0                          0.0   \n",
       "2                    0.0       0.0       0.0                          0.0   \n",
       "3                    0.0       0.0       0.0                          0.0   \n",
       "4                    0.0       0.0       0.0                          0.0   \n",
       "...                  ...       ...       ...                          ...   \n",
       "91708                0.0       0.0       0.0                          1.0   \n",
       "91709                0.0       0.0       0.0                          0.0   \n",
       "91710                0.0       0.0       0.0                          0.0   \n",
       "91711                0.0       0.0       0.0                          0.0   \n",
       "91712                0.0       0.0       0.0                          0.0   \n",
       "\n",
       "       apache_3j_bodysystem  apache_2_bodysystem  \n",
       "0                    Sepsis       Cardiovascular  \n",
       "1               Respiratory          Respiratory  \n",
       "2                 Metabolic            Metabolic  \n",
       "3            Cardiovascular       Cardiovascular  \n",
       "4                    Trauma               Trauma  \n",
       "...                     ...                  ...  \n",
       "91708                Sepsis       Cardiovascular  \n",
       "91709                Sepsis       Cardiovascular  \n",
       "91710             Metabolic            Metabolic  \n",
       "91711           Respiratory          Respiratory  \n",
       "91712      Gastrointestinal     Gastrointestinal  \n",
       "\n",
       "[91713 rows x 183 columns]"
      ]
     },
     "execution_count": 33,
     "metadata": {},
     "output_type": "execute_result"
    }
   ],
   "source": [
    "df"
   ]
  },
  {
   "cell_type": "code",
   "execution_count": 34,
   "id": "1565f8ba",
   "metadata": {},
   "outputs": [
    {
     "data": {
      "text/plain": [
       "Index(['hospital_death', 'age', 'bmi', 'elective_surgery', 'ethnicity',\n",
       "       'gender', 'height', 'hospital_admit_source', 'icu_admit_source',\n",
       "       'icu_id',\n",
       "       ...\n",
       "       'aids', 'cirrhosis', 'diabetes_mellitus', 'hepatic_failure',\n",
       "       'immunosuppression', 'leukemia', 'lymphoma',\n",
       "       'solid_tumor_with_metastasis', 'apache_3j_bodysystem',\n",
       "       'apache_2_bodysystem'],\n",
       "      dtype='object', length=183)"
      ]
     },
     "execution_count": 34,
     "metadata": {},
     "output_type": "execute_result"
    }
   ],
   "source": [
    "df.columns"
   ]
  },
  {
   "cell_type": "code",
   "execution_count": 35,
   "id": "9f4853c3",
   "metadata": {},
   "outputs": [
    {
     "data": {
      "text/plain": [
       "26265"
      ]
     },
     "execution_count": 35,
     "metadata": {},
     "output_type": "execute_result"
    }
   ],
   "source": [
    "df.isnull().sum().sum()"
   ]
  },
  {
   "cell_type": "code",
   "execution_count": 36,
   "id": "f8d38618",
   "metadata": {},
   "outputs": [],
   "source": [
    "catCols = [col for col in df.columns if df[col].dtype==\"O\"]"
   ]
  },
  {
   "cell_type": "code",
   "execution_count": 37,
   "id": "a3744a18",
   "metadata": {},
   "outputs": [
    {
     "data": {
      "text/plain": [
       "['ethnicity',\n",
       " 'gender',\n",
       " 'hospital_admit_source',\n",
       " 'icu_admit_source',\n",
       " 'icu_stay_type',\n",
       " 'icu_type',\n",
       " 'apache_3j_bodysystem',\n",
       " 'apache_2_bodysystem']"
      ]
     },
     "execution_count": 37,
     "metadata": {},
     "output_type": "execute_result"
    }
   ],
   "source": [
    "catCols "
   ]
  },
  {
   "cell_type": "code",
   "execution_count": 38,
   "id": "049bac1a",
   "metadata": {},
   "outputs": [
    {
     "data": {
      "text/plain": [
       "26265"
      ]
     },
     "execution_count": 38,
     "metadata": {},
     "output_type": "execute_result"
    }
   ],
   "source": [
    "df.isnull().sum().sum()"
   ]
  },
  {
   "cell_type": "code",
   "execution_count": 39,
   "id": "7187e7ac",
   "metadata": {},
   "outputs": [
    {
     "data": {
      "text/plain": [
       "1395"
      ]
     },
     "execution_count": 39,
     "metadata": {},
     "output_type": "execute_result"
    }
   ],
   "source": [
    "df['ethnicity'].isnull().sum()"
   ]
  },
  {
   "cell_type": "code",
   "execution_count": 40,
   "id": "13bbdbaf",
   "metadata": {},
   "outputs": [
    {
     "data": {
      "text/plain": [
       "Caucasian           70684\n",
       "African American     9547\n",
       "Other/Unknown        4374\n",
       "Hispanic             3796\n",
       "Asian                1129\n",
       "Native American       788\n",
       "Name: ethnicity, dtype: int64"
      ]
     },
     "execution_count": 40,
     "metadata": {},
     "output_type": "execute_result"
    }
   ],
   "source": [
    "df['ethnicity'].value_counts()"
   ]
  },
  {
   "cell_type": "code",
   "execution_count": 41,
   "id": "c617af35",
   "metadata": {},
   "outputs": [],
   "source": [
    "df['ethnicity'].fillna(df['ethnicity'].value_counts().index[0],inplace=True)"
   ]
  },
  {
   "cell_type": "code",
   "execution_count": 42,
   "id": "1e3f3bda",
   "metadata": {},
   "outputs": [
    {
     "data": {
      "text/plain": [
       "0"
      ]
     },
     "execution_count": 42,
     "metadata": {},
     "output_type": "execute_result"
    }
   ],
   "source": [
    "df['ethnicity'].isnull().sum()"
   ]
  },
  {
   "cell_type": "code",
   "execution_count": 43,
   "id": "9ba622e1",
   "metadata": {},
   "outputs": [
    {
     "data": {
      "text/plain": [
       "25"
      ]
     },
     "execution_count": 43,
     "metadata": {},
     "output_type": "execute_result"
    }
   ],
   "source": [
    "df['gender'].isnull().sum()"
   ]
  },
  {
   "cell_type": "code",
   "execution_count": 44,
   "id": "47c898f3",
   "metadata": {},
   "outputs": [
    {
     "data": {
      "text/plain": [
       "M    49469\n",
       "F    42219\n",
       "Name: gender, dtype: int64"
      ]
     },
     "execution_count": 44,
     "metadata": {},
     "output_type": "execute_result"
    }
   ],
   "source": [
    "df['gender'].value_counts()"
   ]
  },
  {
   "cell_type": "code",
   "execution_count": 45,
   "id": "98bea431",
   "metadata": {},
   "outputs": [],
   "source": [
    "df['gender'].fillna(df['gender'].value_counts().index[0],inplace=True)"
   ]
  },
  {
   "cell_type": "code",
   "execution_count": 46,
   "id": "a75d94f7",
   "metadata": {},
   "outputs": [
    {
     "data": {
      "text/plain": [
       "0"
      ]
     },
     "execution_count": 46,
     "metadata": {},
     "output_type": "execute_result"
    }
   ],
   "source": [
    "df['gender'].isnull().sum()"
   ]
  },
  {
   "cell_type": "code",
   "execution_count": 47,
   "id": "47e1e908",
   "metadata": {},
   "outputs": [
    {
     "data": {
      "text/plain": [
       "21409"
      ]
     },
     "execution_count": 47,
     "metadata": {},
     "output_type": "execute_result"
    }
   ],
   "source": [
    "df['hospital_admit_source'].isnull().sum()"
   ]
  },
  {
   "cell_type": "code",
   "execution_count": 48,
   "id": "97ad79f2",
   "metadata": {},
   "outputs": [
    {
     "data": {
      "text/plain": [
       "Emergency Department    36962\n",
       "Operating Room           9787\n",
       "Floor                    8055\n",
       "Direct Admit             6441\n",
       "Recovery Room            2896\n",
       "Acute Care/Floor         1910\n",
       "Other Hospital           1641\n",
       "Step-Down Unit (SDU)     1131\n",
       "PACU                     1017\n",
       "Other ICU                 233\n",
       "Chest Pain Center         134\n",
       "ICU to SDU                 45\n",
       "ICU                        35\n",
       "Observation                10\n",
       "Other                       7\n",
       "Name: hospital_admit_source, dtype: int64"
      ]
     },
     "execution_count": 48,
     "metadata": {},
     "output_type": "execute_result"
    }
   ],
   "source": [
    "df['hospital_admit_source'].value_counts()"
   ]
  },
  {
   "cell_type": "code",
   "execution_count": 49,
   "id": "51f44c81",
   "metadata": {},
   "outputs": [],
   "source": [
    "df['hospital_admit_source'].fillna(df['hospital_admit_source'].value_counts().index[0],inplace=True)"
   ]
  },
  {
   "cell_type": "code",
   "execution_count": 50,
   "id": "b55bc9e5",
   "metadata": {},
   "outputs": [
    {
     "data": {
      "text/plain": [
       "0"
      ]
     },
     "execution_count": 50,
     "metadata": {},
     "output_type": "execute_result"
    }
   ],
   "source": [
    "df['hospital_admit_source'].isnull().sum()"
   ]
  },
  {
   "cell_type": "code",
   "execution_count": 51,
   "id": "0c01377b",
   "metadata": {},
   "outputs": [
    {
     "data": {
      "text/plain": [
       "112"
      ]
     },
     "execution_count": 51,
     "metadata": {},
     "output_type": "execute_result"
    }
   ],
   "source": [
    "df['icu_admit_source'].isnull().sum()"
   ]
  },
  {
   "cell_type": "code",
   "execution_count": 52,
   "id": "478f331b",
   "metadata": {},
   "outputs": [
    {
     "data": {
      "text/plain": [
       "Accident & Emergency         54060\n",
       "Operating Room / Recovery    18713\n",
       "Floor                        15611\n",
       "Other Hospital                2358\n",
       "Other ICU                      859\n",
       "Name: icu_admit_source, dtype: int64"
      ]
     },
     "execution_count": 52,
     "metadata": {},
     "output_type": "execute_result"
    }
   ],
   "source": [
    "df['icu_admit_source'].value_counts()"
   ]
  },
  {
   "cell_type": "code",
   "execution_count": 53,
   "id": "5e823f1c",
   "metadata": {},
   "outputs": [],
   "source": [
    "df['icu_admit_source'].fillna(df['icu_admit_source'].value_counts().index[0],inplace=True)"
   ]
  },
  {
   "cell_type": "code",
   "execution_count": 54,
   "id": "b4d95d5c",
   "metadata": {},
   "outputs": [
    {
     "data": {
      "text/plain": [
       "0"
      ]
     },
     "execution_count": 54,
     "metadata": {},
     "output_type": "execute_result"
    }
   ],
   "source": [
    "df['icu_admit_source'].isnull().sum()"
   ]
  },
  {
   "cell_type": "code",
   "execution_count": 55,
   "id": "04412cbe",
   "metadata": {},
   "outputs": [
    {
     "data": {
      "text/plain": [
       "['ethnicity',\n",
       " 'gender',\n",
       " 'hospital_admit_source',\n",
       " 'icu_admit_source',\n",
       " 'icu_stay_type',\n",
       " 'icu_type',\n",
       " 'apache_3j_bodysystem',\n",
       " 'apache_2_bodysystem']"
      ]
     },
     "execution_count": 55,
     "metadata": {},
     "output_type": "execute_result"
    }
   ],
   "source": [
    "catCols"
   ]
  },
  {
   "cell_type": "code",
   "execution_count": 56,
   "id": "f7ba09fa",
   "metadata": {},
   "outputs": [],
   "source": [
    "df['icu_stay_type'].fillna(df['icu_stay_type'].value_counts().index[0],inplace=True)\n",
    "df['icu_type'].fillna(df['icu_type'].value_counts().index[0],inplace=True)\n",
    "df['apache_3j_bodysystem'].fillna(df['apache_3j_bodysystem'].value_counts().index[0],inplace=True)\n",
    "df['apache_2_bodysystem'].fillna(df['apache_2_bodysystem'].value_counts().index[0],inplace=True)"
   ]
  },
  {
   "cell_type": "code",
   "execution_count": 57,
   "id": "a7718da2",
   "metadata": {},
   "outputs": [
    {
     "data": {
      "text/plain": [
       "0"
      ]
     },
     "execution_count": 57,
     "metadata": {},
     "output_type": "execute_result"
    }
   ],
   "source": [
    "df.isnull().sum().sum()"
   ]
  },
  {
   "cell_type": "markdown",
   "id": "4dbe6f72",
   "metadata": {},
   "source": [
    "## Analysis Categorical Columns"
   ]
  },
  {
   "cell_type": "code",
   "execution_count": 58,
   "id": "1c0fcfb3",
   "metadata": {},
   "outputs": [
    {
     "data": {
      "text/plain": [
       "['ethnicity',\n",
       " 'gender',\n",
       " 'hospital_admit_source',\n",
       " 'icu_admit_source',\n",
       " 'icu_stay_type',\n",
       " 'icu_type',\n",
       " 'apache_3j_bodysystem',\n",
       " 'apache_2_bodysystem']"
      ]
     },
     "execution_count": 58,
     "metadata": {},
     "output_type": "execute_result"
    }
   ],
   "source": [
    "catCols"
   ]
  },
  {
   "cell_type": "code",
   "execution_count": 59,
   "id": "96029dd8",
   "metadata": {},
   "outputs": [
    {
     "data": {
      "image/png": "[encoded data removed]",
      "text/plain": [
       "<Figure size 864x648 with 1 Axes>"
      ]
     },
     "metadata": {
      "needs_background": "light"
     },
     "output_type": "display_data"
    }
   ],
   "source": [
    "plt.figure(figsize=(12,9))\n",
    "sns.countplot(df['ethnicity'])\n",
    "plt.show()"
   ]
  },
  {
   "cell_type": "code",
   "execution_count": 60,
   "id": "c08c10ae",
   "metadata": {},
   "outputs": [
    {
     "data": {
      "image/png": "[encoded data removed]",
      "text/plain": [
       "<Figure size 720x648 with 1 Axes>"
      ]
     },
     "metadata": {
      "needs_background": "light"
     },
     "output_type": "display_data"
    }
   ],
   "source": [
    "plt.figure(figsize=(10,9))\n",
    "sns.countplot(df['gender'])\n",
    "plt.show()"
   ]
  },
  {
   "cell_type": "code",
   "execution_count": 61,
   "id": "608fdd30",
   "metadata": {},
   "outputs": [
    {
     "data": {
      "image/png": "[encoded data removed]",
      "text/plain": [
       "<Figure size 1152x648 with 1 Axes>"
      ]
     },
     "metadata": {
      "needs_background": "light"
     },
     "output_type": "display_data"
    }
   ],
   "source": [
    "plt.figure(figsize=(16,9))\n",
    "sns.countplot(df['hospital_admit_source'].iloc[:5000])\n",
    "plt.show()"
   ]
  },
  {
   "cell_type": "code",
   "execution_count": 62,
   "id": "3fa076bc",
   "metadata": {},
   "outputs": [
    {
     "data": {
      "image/png": "[encoded data removed]",
      "text/plain": [
       "<Figure size 864x648 with 1 Axes>"
      ]
     },
     "metadata": {
      "needs_background": "light"
     },
     "output_type": "display_data"
    }
   ],
   "source": [
    "plt.figure(figsize=(12,9))\n",
    "sns.countplot(df['icu_admit_source'])\n",
    "plt.show()"
   ]
  },
  {
   "cell_type": "code",
   "execution_count": 63,
   "id": "b7df2e17",
   "metadata": {},
   "outputs": [
    {
     "data": {
      "image/png": "[encoded data removed]",
      "text/plain": [
       "<Figure size 864x648 with 1 Axes>"
      ]
     },
     "metadata": {
      "needs_background": "light"
     },
     "output_type": "display_data"
    }
   ],
   "source": [
    "plt.figure(figsize=(12,9))\n",
    "sns.countplot(df['icu_type'])\n",
    "plt.show()"
   ]
  },
  {
   "cell_type": "code",
   "execution_count": 64,
   "id": "06b7ede5",
   "metadata": {},
   "outputs": [
    {
     "data": {
      "image/png": "[encoded data removed]",
      "text/plain": [
       "<Figure size 864x648 with 1 Axes>"
      ]
     },
     "metadata": {
      "needs_background": "light"
     },
     "output_type": "display_data"
    }
   ],
   "source": [
    "plt.figure(figsize=(12,9))\n",
    "sns.countplot(df['icu_stay_type'])\n",
    "plt.show()"
   ]
  },
  {
   "cell_type": "code",
   "execution_count": 65,
   "id": "7a60b991",
   "metadata": {},
   "outputs": [
    {
     "data": {
      "image/png": "[encoded data removed]",
      "text/plain": [
       "<Figure size 1296x648 with 1 Axes>"
      ]
     },
     "metadata": {
      "needs_background": "light"
     },
     "output_type": "display_data"
    }
   ],
   "source": [
    "plt.figure(figsize=(18,9))\n",
    "sns.countplot(df['apache_3j_bodysystem'])\n",
    "plt.show()"
   ]
  },
  {
   "cell_type": "code",
   "execution_count": 66,
   "id": "365bcc78",
   "metadata": {},
   "outputs": [
    {
     "data": {
      "image/png": "[encoded data removed]",
      "text/plain": [
       "<Figure size 1296x648 with 1 Axes>"
      ]
     },
     "metadata": {
      "needs_background": "light"
     },
     "output_type": "display_data"
    }
   ],
   "source": [
    "plt.figure(figsize=(18,9))\n",
    "sns.countplot(df['apache_2_bodysystem'])\n",
    "plt.show()"
   ]
  },
  {
   "cell_type": "code",
   "execution_count": 67,
   "id": "6f9bbc23",
   "metadata": {},
   "outputs": [
    {
     "data": {
      "text/plain": [
       "['ethnicity',\n",
       " 'gender',\n",
       " 'hospital_admit_source',\n",
       " 'icu_admit_source',\n",
       " 'icu_stay_type',\n",
       " 'icu_type',\n",
       " 'apache_3j_bodysystem',\n",
       " 'apache_2_bodysystem']"
      ]
     },
     "execution_count": 67,
     "metadata": {},
     "output_type": "execute_result"
    }
   ],
   "source": [
    "catCols"
   ]
  },
  {
   "cell_type": "code",
   "execution_count": 68,
   "id": "435453cb",
   "metadata": {},
   "outputs": [
    {
     "data": {
      "text/plain": [
       "array(['Caucasian', 'Hispanic', 'African American', 'Asian',\n",
       "       'Native American', 'Other/Unknown'], dtype=object)"
      ]
     },
     "execution_count": 68,
     "metadata": {},
     "output_type": "execute_result"
    }
   ],
   "source": [
    "df['ethnicity'].unique()"
   ]
  },
  {
   "cell_type": "code",
   "execution_count": 69,
   "id": "13325eca",
   "metadata": {},
   "outputs": [],
   "source": [
    "from sklearn.preprocessing import LabelEncoder"
   ]
  },
  {
   "cell_type": "code",
   "execution_count": 70,
   "id": "8497815e",
   "metadata": {},
   "outputs": [],
   "source": [
    "lr = LabelEncoder()"
   ]
  },
  {
   "cell_type": "code",
   "execution_count": 71,
   "id": "29006768",
   "metadata": {},
   "outputs": [],
   "source": [
    "df['ethnicity'] = lr.fit_transform(df['ethnicity'])\n",
    "df['gender'] = lr.fit_transform(df['gender'])\n",
    "df['hospital_admit_source'] = lr.fit_transform(df['hospital_admit_source'])\n",
    "df['icu_admit_source'] = lr.fit_transform(df['icu_admit_source'])\n",
    "df['icu_stay_type'] = lr.fit_transform(df['icu_stay_type'])\n",
    "df['icu_type'] = lr.fit_transform(df['icu_type'])\n",
    "df['apache_3j_bodysystem'] = lr.fit_transform(df['apache_3j_bodysystem'])\n",
    "df['apache_2_bodysystem'] = lr.fit_transform(df['apache_2_bodysystem'])"
   ]
  },
  {
   "cell_type": "code",
   "execution_count": 72,
   "id": "111f20ef",
   "metadata": {},
   "outputs": [
    {
     "data": {
      "text/html": [
       "<div>\n",
       "<style scoped>\n",
       "    .dataframe tbody tr th:only-of-type {\n",
       "        vertical-align: middle;\n",
       "    }\n",
       "\n",
       "    .dataframe tbody tr th {\n",
       "        vertical-align: top;\n",
       "    }\n",
       "\n",
       "    .dataframe thead th {\n",
       "        text-align: right;\n",
       "    }\n",
       "</style>\n",
       "<table border=\"1\" class=\"dataframe\">\n",
       "  <thead>\n",
       "    <tr style=\"text-align: right;\">\n",
       "      <th></th>\n",
       "      <th>hospital_death</th>\n",
       "      <th>age</th>\n",
       "      <th>bmi</th>\n",
       "      <th>elective_surgery</th>\n",
       "      <th>ethnicity</th>\n",
       "      <th>gender</th>\n",
       "      <th>height</th>\n",
       "      <th>hospital_admit_source</th>\n",
       "      <th>icu_admit_source</th>\n",
       "      <th>icu_id</th>\n",
       "      <th>...</th>\n",
       "      <th>aids</th>\n",
       "      <th>cirrhosis</th>\n",
       "      <th>diabetes_mellitus</th>\n",
       "      <th>hepatic_failure</th>\n",
       "      <th>immunosuppression</th>\n",
       "      <th>leukemia</th>\n",
       "      <th>lymphoma</th>\n",
       "      <th>solid_tumor_with_metastasis</th>\n",
       "      <th>apache_3j_bodysystem</th>\n",
       "      <th>apache_2_bodysystem</th>\n",
       "    </tr>\n",
       "  </thead>\n",
       "  <tbody>\n",
       "    <tr>\n",
       "      <th>0</th>\n",
       "      <td>0</td>\n",
       "      <td>68.000000</td>\n",
       "      <td>22.730000</td>\n",
       "      <td>0</td>\n",
       "      <td>2</td>\n",
       "      <td>1</td>\n",
       "      <td>180.3</td>\n",
       "      <td>4</td>\n",
       "      <td>1</td>\n",
       "      <td>92</td>\n",
       "      <td>...</td>\n",
       "      <td>0.0</td>\n",
       "      <td>0.0</td>\n",
       "      <td>1.0</td>\n",
       "      <td>0.0</td>\n",
       "      <td>0.0</td>\n",
       "      <td>0.0</td>\n",
       "      <td>0.0</td>\n",
       "      <td>0.0</td>\n",
       "      <td>9</td>\n",
       "      <td>0</td>\n",
       "    </tr>\n",
       "    <tr>\n",
       "      <th>1</th>\n",
       "      <td>0</td>\n",
       "      <td>77.000000</td>\n",
       "      <td>27.420000</td>\n",
       "      <td>0</td>\n",
       "      <td>2</td>\n",
       "      <td>0</td>\n",
       "      <td>160.0</td>\n",
       "      <td>4</td>\n",
       "      <td>1</td>\n",
       "      <td>90</td>\n",
       "      <td>...</td>\n",
       "      <td>0.0</td>\n",
       "      <td>0.0</td>\n",
       "      <td>1.0</td>\n",
       "      <td>0.0</td>\n",
       "      <td>0.0</td>\n",
       "      <td>0.0</td>\n",
       "      <td>0.0</td>\n",
       "      <td>0.0</td>\n",
       "      <td>8</td>\n",
       "      <td>6</td>\n",
       "    </tr>\n",
       "    <tr>\n",
       "      <th>2</th>\n",
       "      <td>0</td>\n",
       "      <td>25.000000</td>\n",
       "      <td>31.950000</td>\n",
       "      <td>0</td>\n",
       "      <td>2</td>\n",
       "      <td>0</td>\n",
       "      <td>172.7</td>\n",
       "      <td>3</td>\n",
       "      <td>0</td>\n",
       "      <td>93</td>\n",
       "      <td>...</td>\n",
       "      <td>0.0</td>\n",
       "      <td>0.0</td>\n",
       "      <td>0.0</td>\n",
       "      <td>0.0</td>\n",
       "      <td>0.0</td>\n",
       "      <td>0.0</td>\n",
       "      <td>0.0</td>\n",
       "      <td>0.0</td>\n",
       "      <td>5</td>\n",
       "      <td>3</td>\n",
       "    </tr>\n",
       "    <tr>\n",
       "      <th>3</th>\n",
       "      <td>0</td>\n",
       "      <td>81.000000</td>\n",
       "      <td>22.640000</td>\n",
       "      <td>1</td>\n",
       "      <td>2</td>\n",
       "      <td>0</td>\n",
       "      <td>165.1</td>\n",
       "      <td>8</td>\n",
       "      <td>2</td>\n",
       "      <td>92</td>\n",
       "      <td>...</td>\n",
       "      <td>0.0</td>\n",
       "      <td>0.0</td>\n",
       "      <td>0.0</td>\n",
       "      <td>0.0</td>\n",
       "      <td>0.0</td>\n",
       "      <td>0.0</td>\n",
       "      <td>0.0</td>\n",
       "      <td>0.0</td>\n",
       "      <td>0</td>\n",
       "      <td>0</td>\n",
       "    </tr>\n",
       "    <tr>\n",
       "      <th>4</th>\n",
       "      <td>0</td>\n",
       "      <td>19.000000</td>\n",
       "      <td>29.185818</td>\n",
       "      <td>0</td>\n",
       "      <td>2</td>\n",
       "      <td>1</td>\n",
       "      <td>188.0</td>\n",
       "      <td>3</td>\n",
       "      <td>0</td>\n",
       "      <td>91</td>\n",
       "      <td>...</td>\n",
       "      <td>0.0</td>\n",
       "      <td>0.0</td>\n",
       "      <td>0.0</td>\n",
       "      <td>0.0</td>\n",
       "      <td>0.0</td>\n",
       "      <td>0.0</td>\n",
       "      <td>0.0</td>\n",
       "      <td>0.0</td>\n",
       "      <td>10</td>\n",
       "      <td>7</td>\n",
       "    </tr>\n",
       "    <tr>\n",
       "      <th>...</th>\n",
       "      <td>...</td>\n",
       "      <td>...</td>\n",
       "      <td>...</td>\n",
       "      <td>...</td>\n",
       "      <td>...</td>\n",
       "      <td>...</td>\n",
       "      <td>...</td>\n",
       "      <td>...</td>\n",
       "      <td>...</td>\n",
       "      <td>...</td>\n",
       "      <td>...</td>\n",
       "      <td>...</td>\n",
       "      <td>...</td>\n",
       "      <td>...</td>\n",
       "      <td>...</td>\n",
       "      <td>...</td>\n",
       "      <td>...</td>\n",
       "      <td>...</td>\n",
       "      <td>...</td>\n",
       "      <td>...</td>\n",
       "      <td>...</td>\n",
       "    </tr>\n",
       "    <tr>\n",
       "      <th>91708</th>\n",
       "      <td>0</td>\n",
       "      <td>75.000000</td>\n",
       "      <td>23.060250</td>\n",
       "      <td>0</td>\n",
       "      <td>2</td>\n",
       "      <td>1</td>\n",
       "      <td>177.8</td>\n",
       "      <td>0</td>\n",
       "      <td>1</td>\n",
       "      <td>927</td>\n",
       "      <td>...</td>\n",
       "      <td>0.0</td>\n",
       "      <td>0.0</td>\n",
       "      <td>1.0</td>\n",
       "      <td>0.0</td>\n",
       "      <td>0.0</td>\n",
       "      <td>0.0</td>\n",
       "      <td>0.0</td>\n",
       "      <td>1.0</td>\n",
       "      <td>9</td>\n",
       "      <td>0</td>\n",
       "    </tr>\n",
       "    <tr>\n",
       "      <th>91709</th>\n",
       "      <td>0</td>\n",
       "      <td>56.000000</td>\n",
       "      <td>47.179671</td>\n",
       "      <td>0</td>\n",
       "      <td>2</td>\n",
       "      <td>0</td>\n",
       "      <td>183.0</td>\n",
       "      <td>3</td>\n",
       "      <td>1</td>\n",
       "      <td>925</td>\n",
       "      <td>...</td>\n",
       "      <td>0.0</td>\n",
       "      <td>0.0</td>\n",
       "      <td>0.0</td>\n",
       "      <td>0.0</td>\n",
       "      <td>0.0</td>\n",
       "      <td>0.0</td>\n",
       "      <td>0.0</td>\n",
       "      <td>0.0</td>\n",
       "      <td>9</td>\n",
       "      <td>0</td>\n",
       "    </tr>\n",
       "    <tr>\n",
       "      <th>91710</th>\n",
       "      <td>0</td>\n",
       "      <td>48.000000</td>\n",
       "      <td>27.236914</td>\n",
       "      <td>0</td>\n",
       "      <td>2</td>\n",
       "      <td>1</td>\n",
       "      <td>170.2</td>\n",
       "      <td>3</td>\n",
       "      <td>0</td>\n",
       "      <td>908</td>\n",
       "      <td>...</td>\n",
       "      <td>0.0</td>\n",
       "      <td>0.0</td>\n",
       "      <td>1.0</td>\n",
       "      <td>0.0</td>\n",
       "      <td>0.0</td>\n",
       "      <td>0.0</td>\n",
       "      <td>0.0</td>\n",
       "      <td>0.0</td>\n",
       "      <td>5</td>\n",
       "      <td>3</td>\n",
       "    </tr>\n",
       "    <tr>\n",
       "      <th>91711</th>\n",
       "      <td>0</td>\n",
       "      <td>62.309516</td>\n",
       "      <td>23.297481</td>\n",
       "      <td>0</td>\n",
       "      <td>2</td>\n",
       "      <td>0</td>\n",
       "      <td>154.9</td>\n",
       "      <td>3</td>\n",
       "      <td>0</td>\n",
       "      <td>922</td>\n",
       "      <td>...</td>\n",
       "      <td>0.0</td>\n",
       "      <td>0.0</td>\n",
       "      <td>0.0</td>\n",
       "      <td>0.0</td>\n",
       "      <td>0.0</td>\n",
       "      <td>0.0</td>\n",
       "      <td>0.0</td>\n",
       "      <td>0.0</td>\n",
       "      <td>8</td>\n",
       "      <td>6</td>\n",
       "    </tr>\n",
       "    <tr>\n",
       "      <th>91712</th>\n",
       "      <td>0</td>\n",
       "      <td>82.000000</td>\n",
       "      <td>22.031250</td>\n",
       "      <td>1</td>\n",
       "      <td>2</td>\n",
       "      <td>0</td>\n",
       "      <td>160.0</td>\n",
       "      <td>3</td>\n",
       "      <td>2</td>\n",
       "      <td>926</td>\n",
       "      <td>...</td>\n",
       "      <td>0.0</td>\n",
       "      <td>0.0</td>\n",
       "      <td>0.0</td>\n",
       "      <td>0.0</td>\n",
       "      <td>0.0</td>\n",
       "      <td>0.0</td>\n",
       "      <td>0.0</td>\n",
       "      <td>0.0</td>\n",
       "      <td>1</td>\n",
       "      <td>1</td>\n",
       "    </tr>\n",
       "  </tbody>\n",
       "</table>\n",
       "<p>91713 rows × 183 columns</p>\n",
       "</div>"
      ],
      "text/plain": [
       "       hospital_death        age        bmi  elective_surgery  ethnicity  \\\n",
       "0                   0  68.000000  22.730000                 0          2   \n",
       "1                   0  77.000000  27.420000                 0          2   \n",
       "2                   0  25.000000  31.950000                 0          2   \n",
       "3                   0  81.000000  22.640000                 1          2   \n",
       "4                   0  19.000000  29.185818                 0          2   \n",
       "...               ...        ...        ...               ...        ...   \n",
       "91708               0  75.000000  23.060250                 0          2   \n",
       "91709               0  56.000000  47.179671                 0          2   \n",
       "91710               0  48.000000  27.236914                 0          2   \n",
       "91711               0  62.309516  23.297481                 0          2   \n",
       "91712               0  82.000000  22.031250                 1          2   \n",
       "\n",
       "       gender  height  hospital_admit_source  icu_admit_source  icu_id  ...  \\\n",
       "0           1   180.3                      4                 1      92  ...   \n",
       "1           0   160.0                      4                 1      90  ...   \n",
       "2           0   172.7                      3                 0      93  ...   \n",
       "3           0   165.1                      8                 2      92  ...   \n",
       "4           1   188.0                      3                 0      91  ...   \n",
       "...       ...     ...                    ...               ...     ...  ...   \n",
       "91708       1   177.8                      0                 1     927  ...   \n",
       "91709       0   183.0                      3                 1     925  ...   \n",
       "91710       1   170.2                      3                 0     908  ...   \n",
       "91711       0   154.9                      3                 0     922  ...   \n",
       "91712       0   160.0                      3                 2     926  ...   \n",
       "\n",
       "       aids  cirrhosis  diabetes_mellitus  hepatic_failure  immunosuppression  \\\n",
       "0       0.0        0.0                1.0              0.0                0.0   \n",
       "1       0.0        0.0                1.0              0.0                0.0   \n",
       "2       0.0        0.0                0.0              0.0                0.0   \n",
       "3       0.0        0.0                0.0              0.0                0.0   \n",
       "4       0.0        0.0                0.0              0.0                0.0   \n",
       "...     ...        ...                ...              ...                ...   \n",
       "91708   0.0        0.0                1.0              0.0                0.0   \n",
       "91709   0.0        0.0                0.0              0.0                0.0   \n",
       "91710   0.0        0.0                1.0              0.0                0.0   \n",
       "91711   0.0        0.0                0.0              0.0                0.0   \n",
       "91712   0.0        0.0                0.0              0.0                0.0   \n",
       "\n",
       "       leukemia  lymphoma  solid_tumor_with_metastasis  apache_3j_bodysystem  \\\n",
       "0           0.0       0.0                          0.0                     9   \n",
       "1           0.0       0.0                          0.0                     8   \n",
       "2           0.0       0.0                          0.0                     5   \n",
       "3           0.0       0.0                          0.0                     0   \n",
       "4           0.0       0.0                          0.0                    10   \n",
       "...         ...       ...                          ...                   ...   \n",
       "91708       0.0       0.0                          1.0                     9   \n",
       "91709       0.0       0.0                          0.0                     9   \n",
       "91710       0.0       0.0                          0.0                     5   \n",
       "91711       0.0       0.0                          0.0                     8   \n",
       "91712       0.0       0.0                          0.0                     1   \n",
       "\n",
       "       apache_2_bodysystem  \n",
       "0                        0  \n",
       "1                        6  \n",
       "2                        3  \n",
       "3                        0  \n",
       "4                        7  \n",
       "...                    ...  \n",
       "91708                    0  \n",
       "91709                    0  \n",
       "91710                    3  \n",
       "91711                    6  \n",
       "91712                    1  \n",
       "\n",
       "[91713 rows x 183 columns]"
      ]
     },
     "execution_count": 72,
     "metadata": {},
     "output_type": "execute_result"
    }
   ],
   "source": [
    "df"
   ]
  },
  {
   "cell_type": "code",
   "execution_count": 73,
   "id": "e296b819",
   "metadata": {},
   "outputs": [
    {
     "data": {
      "text/plain": [
       "0"
      ]
     },
     "execution_count": 73,
     "metadata": {},
     "output_type": "execute_result"
    }
   ],
   "source": [
    "df.isnull().sum().sum()"
   ]
  },
  {
   "cell_type": "code",
   "execution_count": 74,
   "id": "699abaae",
   "metadata": {},
   "outputs": [],
   "source": [
    "from sklearn.model_selection import train_test_split\n",
    "from sklearn.linear_model import LogisticRegression\n",
    "from sklearn.tree import DecisionTreeClassifier\n",
    "from sklearn.ensemble import AdaBoostClassifier,BaggingClassifier,ExtraTreesClassifier,GradientBoostingClassifier,RandomForestClassifier\n",
    "from sklearn.svm import SVC\n",
    "from xgboost import XGBClassifier\n",
    "from sklearn.metrics import accuracy_score,classification_report\n",
    "from sklearn.linear_model import SGDClassifier"
   ]
  },
  {
   "cell_type": "code",
   "execution_count": 75,
   "id": "f265993d",
   "metadata": {},
   "outputs": [],
   "source": [
    "X = df.drop(columns=['hospital_death'],axis=1)\n",
    "y = df['hospital_death']"
   ]
  },
  {
   "cell_type": "code",
   "execution_count": 76,
   "id": "bbe98dc7",
   "metadata": {},
   "outputs": [
    {
     "data": {
      "text/html": [
       "<div>\n",
       "<style scoped>\n",
       "    .dataframe tbody tr th:only-of-type {\n",
       "        vertical-align: middle;\n",
       "    }\n",
       "\n",
       "    .dataframe tbody tr th {\n",
       "        vertical-align: top;\n",
       "    }\n",
       "\n",
       "    .dataframe thead th {\n",
       "        text-align: right;\n",
       "    }\n",
       "</style>\n",
       "<table border=\"1\" class=\"dataframe\">\n",
       "  <thead>\n",
       "    <tr style=\"text-align: right;\">\n",
       "      <th></th>\n",
       "      <th>age</th>\n",
       "      <th>bmi</th>\n",
       "      <th>elective_surgery</th>\n",
       "      <th>ethnicity</th>\n",
       "      <th>gender</th>\n",
       "      <th>height</th>\n",
       "      <th>hospital_admit_source</th>\n",
       "      <th>icu_admit_source</th>\n",
       "      <th>icu_id</th>\n",
       "      <th>icu_stay_type</th>\n",
       "      <th>...</th>\n",
       "      <th>aids</th>\n",
       "      <th>cirrhosis</th>\n",
       "      <th>diabetes_mellitus</th>\n",
       "      <th>hepatic_failure</th>\n",
       "      <th>immunosuppression</th>\n",
       "      <th>leukemia</th>\n",
       "      <th>lymphoma</th>\n",
       "      <th>solid_tumor_with_metastasis</th>\n",
       "      <th>apache_3j_bodysystem</th>\n",
       "      <th>apache_2_bodysystem</th>\n",
       "    </tr>\n",
       "  </thead>\n",
       "  <tbody>\n",
       "    <tr>\n",
       "      <th>0</th>\n",
       "      <td>68.000000</td>\n",
       "      <td>22.730000</td>\n",
       "      <td>0</td>\n",
       "      <td>2</td>\n",
       "      <td>1</td>\n",
       "      <td>180.3</td>\n",
       "      <td>4</td>\n",
       "      <td>1</td>\n",
       "      <td>92</td>\n",
       "      <td>0</td>\n",
       "      <td>...</td>\n",
       "      <td>0.0</td>\n",
       "      <td>0.0</td>\n",
       "      <td>1.0</td>\n",
       "      <td>0.0</td>\n",
       "      <td>0.0</td>\n",
       "      <td>0.0</td>\n",
       "      <td>0.0</td>\n",
       "      <td>0.0</td>\n",
       "      <td>9</td>\n",
       "      <td>0</td>\n",
       "    </tr>\n",
       "    <tr>\n",
       "      <th>1</th>\n",
       "      <td>77.000000</td>\n",
       "      <td>27.420000</td>\n",
       "      <td>0</td>\n",
       "      <td>2</td>\n",
       "      <td>0</td>\n",
       "      <td>160.0</td>\n",
       "      <td>4</td>\n",
       "      <td>1</td>\n",
       "      <td>90</td>\n",
       "      <td>0</td>\n",
       "      <td>...</td>\n",
       "      <td>0.0</td>\n",
       "      <td>0.0</td>\n",
       "      <td>1.0</td>\n",
       "      <td>0.0</td>\n",
       "      <td>0.0</td>\n",
       "      <td>0.0</td>\n",
       "      <td>0.0</td>\n",
       "      <td>0.0</td>\n",
       "      <td>8</td>\n",
       "      <td>6</td>\n",
       "    </tr>\n",
       "    <tr>\n",
       "      <th>2</th>\n",
       "      <td>25.000000</td>\n",
       "      <td>31.950000</td>\n",
       "      <td>0</td>\n",
       "      <td>2</td>\n",
       "      <td>0</td>\n",
       "      <td>172.7</td>\n",
       "      <td>3</td>\n",
       "      <td>0</td>\n",
       "      <td>93</td>\n",
       "      <td>0</td>\n",
       "      <td>...</td>\n",
       "      <td>0.0</td>\n",
       "      <td>0.0</td>\n",
       "      <td>0.0</td>\n",
       "      <td>0.0</td>\n",
       "      <td>0.0</td>\n",
       "      <td>0.0</td>\n",
       "      <td>0.0</td>\n",
       "      <td>0.0</td>\n",
       "      <td>5</td>\n",
       "      <td>3</td>\n",
       "    </tr>\n",
       "    <tr>\n",
       "      <th>3</th>\n",
       "      <td>81.000000</td>\n",
       "      <td>22.640000</td>\n",
       "      <td>1</td>\n",
       "      <td>2</td>\n",
       "      <td>0</td>\n",
       "      <td>165.1</td>\n",
       "      <td>8</td>\n",
       "      <td>2</td>\n",
       "      <td>92</td>\n",
       "      <td>0</td>\n",
       "      <td>...</td>\n",
       "      <td>0.0</td>\n",
       "      <td>0.0</td>\n",
       "      <td>0.0</td>\n",
       "      <td>0.0</td>\n",
       "      <td>0.0</td>\n",
       "      <td>0.0</td>\n",
       "      <td>0.0</td>\n",
       "      <td>0.0</td>\n",
       "      <td>0</td>\n",
       "      <td>0</td>\n",
       "    </tr>\n",
       "    <tr>\n",
       "      <th>4</th>\n",
       "      <td>19.000000</td>\n",
       "      <td>29.185818</td>\n",
       "      <td>0</td>\n",
       "      <td>2</td>\n",
       "      <td>1</td>\n",
       "      <td>188.0</td>\n",
       "      <td>3</td>\n",
       "      <td>0</td>\n",
       "      <td>91</td>\n",
       "      <td>0</td>\n",
       "      <td>...</td>\n",
       "      <td>0.0</td>\n",
       "      <td>0.0</td>\n",
       "      <td>0.0</td>\n",
       "      <td>0.0</td>\n",
       "      <td>0.0</td>\n",
       "      <td>0.0</td>\n",
       "      <td>0.0</td>\n",
       "      <td>0.0</td>\n",
       "      <td>10</td>\n",
       "      <td>7</td>\n",
       "    </tr>\n",
       "    <tr>\n",
       "      <th>...</th>\n",
       "      <td>...</td>\n",
       "      <td>...</td>\n",
       "      <td>...</td>\n",
       "      <td>...</td>\n",
       "      <td>...</td>\n",
       "      <td>...</td>\n",
       "      <td>...</td>\n",
       "      <td>...</td>\n",
       "      <td>...</td>\n",
       "      <td>...</td>\n",
       "      <td>...</td>\n",
       "      <td>...</td>\n",
       "      <td>...</td>\n",
       "      <td>...</td>\n",
       "      <td>...</td>\n",
       "      <td>...</td>\n",
       "      <td>...</td>\n",
       "      <td>...</td>\n",
       "      <td>...</td>\n",
       "      <td>...</td>\n",
       "      <td>...</td>\n",
       "    </tr>\n",
       "    <tr>\n",
       "      <th>91708</th>\n",
       "      <td>75.000000</td>\n",
       "      <td>23.060250</td>\n",
       "      <td>0</td>\n",
       "      <td>2</td>\n",
       "      <td>1</td>\n",
       "      <td>177.8</td>\n",
       "      <td>0</td>\n",
       "      <td>1</td>\n",
       "      <td>927</td>\n",
       "      <td>0</td>\n",
       "      <td>...</td>\n",
       "      <td>0.0</td>\n",
       "      <td>0.0</td>\n",
       "      <td>1.0</td>\n",
       "      <td>0.0</td>\n",
       "      <td>0.0</td>\n",
       "      <td>0.0</td>\n",
       "      <td>0.0</td>\n",
       "      <td>1.0</td>\n",
       "      <td>9</td>\n",
       "      <td>0</td>\n",
       "    </tr>\n",
       "    <tr>\n",
       "      <th>91709</th>\n",
       "      <td>56.000000</td>\n",
       "      <td>47.179671</td>\n",
       "      <td>0</td>\n",
       "      <td>2</td>\n",
       "      <td>0</td>\n",
       "      <td>183.0</td>\n",
       "      <td>3</td>\n",
       "      <td>1</td>\n",
       "      <td>925</td>\n",
       "      <td>0</td>\n",
       "      <td>...</td>\n",
       "      <td>0.0</td>\n",
       "      <td>0.0</td>\n",
       "      <td>0.0</td>\n",
       "      <td>0.0</td>\n",
       "      <td>0.0</td>\n",
       "      <td>0.0</td>\n",
       "      <td>0.0</td>\n",
       "      <td>0.0</td>\n",
       "      <td>9</td>\n",
       "      <td>0</td>\n",
       "    </tr>\n",
       "    <tr>\n",
       "      <th>91710</th>\n",
       "      <td>48.000000</td>\n",
       "      <td>27.236914</td>\n",
       "      <td>0</td>\n",
       "      <td>2</td>\n",
       "      <td>1</td>\n",
       "      <td>170.2</td>\n",
       "      <td>3</td>\n",
       "      <td>0</td>\n",
       "      <td>908</td>\n",
       "      <td>0</td>\n",
       "      <td>...</td>\n",
       "      <td>0.0</td>\n",
       "      <td>0.0</td>\n",
       "      <td>1.0</td>\n",
       "      <td>0.0</td>\n",
       "      <td>0.0</td>\n",
       "      <td>0.0</td>\n",
       "      <td>0.0</td>\n",
       "      <td>0.0</td>\n",
       "      <td>5</td>\n",
       "      <td>3</td>\n",
       "    </tr>\n",
       "    <tr>\n",
       "      <th>91711</th>\n",
       "      <td>62.309516</td>\n",
       "      <td>23.297481</td>\n",
       "      <td>0</td>\n",
       "      <td>2</td>\n",
       "      <td>0</td>\n",
       "      <td>154.9</td>\n",
       "      <td>3</td>\n",
       "      <td>0</td>\n",
       "      <td>922</td>\n",
       "      <td>0</td>\n",
       "      <td>...</td>\n",
       "      <td>0.0</td>\n",
       "      <td>0.0</td>\n",
       "      <td>0.0</td>\n",
       "      <td>0.0</td>\n",
       "      <td>0.0</td>\n",
       "      <td>0.0</td>\n",
       "      <td>0.0</td>\n",
       "      <td>0.0</td>\n",
       "      <td>8</td>\n",
       "      <td>6</td>\n",
       "    </tr>\n",
       "    <tr>\n",
       "      <th>91712</th>\n",
       "      <td>82.000000</td>\n",
       "      <td>22.031250</td>\n",
       "      <td>1</td>\n",
       "      <td>2</td>\n",
       "      <td>0</td>\n",
       "      <td>160.0</td>\n",
       "      <td>3</td>\n",
       "      <td>2</td>\n",
       "      <td>926</td>\n",
       "      <td>0</td>\n",
       "      <td>...</td>\n",
       "      <td>0.0</td>\n",
       "      <td>0.0</td>\n",
       "      <td>0.0</td>\n",
       "      <td>0.0</td>\n",
       "      <td>0.0</td>\n",
       "      <td>0.0</td>\n",
       "      <td>0.0</td>\n",
       "      <td>0.0</td>\n",
       "      <td>1</td>\n",
       "      <td>1</td>\n",
       "    </tr>\n",
       "  </tbody>\n",
       "</table>\n",
       "<p>91713 rows × 182 columns</p>\n",
       "</div>"
      ],
      "text/plain": [
       "             age        bmi  elective_surgery  ethnicity  gender  height  \\\n",
       "0      68.000000  22.730000                 0          2       1   180.3   \n",
       "1      77.000000  27.420000                 0          2       0   160.0   \n",
       "2      25.000000  31.950000                 0          2       0   172.7   \n",
       "3      81.000000  22.640000                 1          2       0   165.1   \n",
       "4      19.000000  29.185818                 0          2       1   188.0   \n",
       "...          ...        ...               ...        ...     ...     ...   \n",
       "91708  75.000000  23.060250                 0          2       1   177.8   \n",
       "91709  56.000000  47.179671                 0          2       0   183.0   \n",
       "91710  48.000000  27.236914                 0          2       1   170.2   \n",
       "91711  62.309516  23.297481                 0          2       0   154.9   \n",
       "91712  82.000000  22.031250                 1          2       0   160.0   \n",
       "\n",
       "       hospital_admit_source  icu_admit_source  icu_id  icu_stay_type  ...  \\\n",
       "0                          4                 1      92              0  ...   \n",
       "1                          4                 1      90              0  ...   \n",
       "2                          3                 0      93              0  ...   \n",
       "3                          8                 2      92              0  ...   \n",
       "4                          3                 0      91              0  ...   \n",
       "...                      ...               ...     ...            ...  ...   \n",
       "91708                      0                 1     927              0  ...   \n",
       "91709                      3                 1     925              0  ...   \n",
       "91710                      3                 0     908              0  ...   \n",
       "91711                      3                 0     922              0  ...   \n",
       "91712                      3                 2     926              0  ...   \n",
       "\n",
       "       aids  cirrhosis  diabetes_mellitus  hepatic_failure  immunosuppression  \\\n",
       "0       0.0        0.0                1.0              0.0                0.0   \n",
       "1       0.0        0.0                1.0              0.0                0.0   \n",
       "2       0.0        0.0                0.0              0.0                0.0   \n",
       "3       0.0        0.0                0.0              0.0                0.0   \n",
       "4       0.0        0.0                0.0              0.0                0.0   \n",
       "...     ...        ...                ...              ...                ...   \n",
       "91708   0.0        0.0                1.0              0.0                0.0   \n",
       "91709   0.0        0.0                0.0              0.0                0.0   \n",
       "91710   0.0        0.0                1.0              0.0                0.0   \n",
       "91711   0.0        0.0                0.0              0.0                0.0   \n",
       "91712   0.0        0.0                0.0              0.0                0.0   \n",
       "\n",
       "       leukemia  lymphoma  solid_tumor_with_metastasis  apache_3j_bodysystem  \\\n",
       "0           0.0       0.0                          0.0                     9   \n",
       "1           0.0       0.0                          0.0                     8   \n",
       "2           0.0       0.0                          0.0                     5   \n",
       "3           0.0       0.0                          0.0                     0   \n",
       "4           0.0       0.0                          0.0                    10   \n",
       "...         ...       ...                          ...                   ...   \n",
       "91708       0.0       0.0                          1.0                     9   \n",
       "91709       0.0       0.0                          0.0                     9   \n",
       "91710       0.0       0.0                          0.0                     5   \n",
       "91711       0.0       0.0                          0.0                     8   \n",
       "91712       0.0       0.0                          0.0                     1   \n",
       "\n",
       "       apache_2_bodysystem  \n",
       "0                        0  \n",
       "1                        6  \n",
       "2                        3  \n",
       "3                        0  \n",
       "4                        7  \n",
       "...                    ...  \n",
       "91708                    0  \n",
       "91709                    0  \n",
       "91710                    3  \n",
       "91711                    6  \n",
       "91712                    1  \n",
       "\n",
       "[91713 rows x 182 columns]"
      ]
     },
     "execution_count": 76,
     "metadata": {},
     "output_type": "execute_result"
    }
   ],
   "source": [
    "X"
   ]
  },
  {
   "cell_type": "code",
   "execution_count": 77,
   "id": "ecd5cf69",
   "metadata": {},
   "outputs": [
    {
     "data": {
      "text/plain": [
       "0        0\n",
       "1        0\n",
       "2        0\n",
       "3        0\n",
       "4        0\n",
       "        ..\n",
       "91708    0\n",
       "91709    0\n",
       "91710    0\n",
       "91711    0\n",
       "91712    0\n",
       "Name: hospital_death, Length: 91713, dtype: int64"
      ]
     },
     "execution_count": 77,
     "metadata": {},
     "output_type": "execute_result"
    }
   ],
   "source": [
    "y"
   ]
  },
  {
   "cell_type": "code",
   "execution_count": 78,
   "id": "99812d66",
   "metadata": {},
   "outputs": [],
   "source": [
    "from sklearn.preprocessing import StandardScaler"
   ]
  },
  {
   "cell_type": "code",
   "execution_count": 79,
   "id": "9483d80c",
   "metadata": {},
   "outputs": [],
   "source": [
    "scaler = StandardScaler()"
   ]
  },
  {
   "cell_type": "code",
   "execution_count": 80,
   "id": "2a052fc7",
   "metadata": {},
   "outputs": [],
   "source": [
    "X_scale = scaler.fit_transform(X)"
   ]
  },
  {
   "cell_type": "code",
   "execution_count": 81,
   "id": "94e37c25",
   "metadata": {},
   "outputs": [],
   "source": [
    "x_train,x_test,y_train,y_test = train_test_split(X_scale,y,test_size=0.3,random_state=45)"
   ]
  },
  {
   "cell_type": "markdown",
   "id": "12a93324",
   "metadata": {},
   "source": [
    "## 1. Logistic Regression"
   ]
  },
  {
   "cell_type": "code",
   "execution_count": 82,
   "id": "0adb322e",
   "metadata": {},
   "outputs": [],
   "source": [
    "model1 = LogisticRegression()"
   ]
  },
  {
   "cell_type": "code",
   "execution_count": 83,
   "id": "244ae79f",
   "metadata": {},
   "outputs": [
    {
     "data": {
      "text/plain": [
       "LogisticRegression()"
      ]
     },
     "execution_count": 83,
     "metadata": {},
     "output_type": "execute_result"
    }
   ],
   "source": [
    "model1.fit(x_train,y_train)"
   ]
  },
  {
   "cell_type": "code",
   "execution_count": 84,
   "id": "2c738b4f",
   "metadata": {},
   "outputs": [
    {
     "data": {
      "text/plain": [
       "0.927740307481425"
      ]
     },
     "execution_count": 84,
     "metadata": {},
     "output_type": "execute_result"
    }
   ],
   "source": [
    "model1.score(x_train,y_train)"
   ]
  },
  {
   "cell_type": "code",
   "execution_count": 85,
   "id": "c40ca392",
   "metadata": {},
   "outputs": [
    {
     "data": {
      "text/plain": [
       "0.925492476557389"
      ]
     },
     "execution_count": 85,
     "metadata": {},
     "output_type": "execute_result"
    }
   ],
   "source": [
    "model1.score(x_test,y_test)"
   ]
  },
  {
   "cell_type": "code",
   "execution_count": 86,
   "id": "fa9e529c",
   "metadata": {},
   "outputs": [
    {
     "name": "stdout",
     "output_type": "stream",
     "text": [
      "Accuracy Train: 0.927740307481425\n",
      "              precision    recall  f1-score   support\n",
      "\n",
      "           0       0.94      0.99      0.96     58641\n",
      "           1       0.69      0.30      0.42      5558\n",
      "\n",
      "    accuracy                           0.93     64199\n",
      "   macro avg       0.81      0.64      0.69     64199\n",
      "weighted avg       0.92      0.93      0.91     64199\n",
      "\n"
     ]
    }
   ],
   "source": [
    "y_pred = model1.predict(x_train)\n",
    "print(\"Accuracy Train: {}\".format(accuracy_score(y_train,y_pred)))\n",
    "print(classification_report(y_train,y_pred))"
   ]
  },
  {
   "cell_type": "markdown",
   "id": "ace60432",
   "metadata": {},
   "source": [
    "## 2. Decission Tree"
   ]
  },
  {
   "cell_type": "code",
   "execution_count": 87,
   "id": "0f361f8b",
   "metadata": {},
   "outputs": [],
   "source": [
    "x_train,x_test,y_train,y_test = train_test_split(X_scale,y,test_size=0.2,random_state=45)"
   ]
  },
  {
   "cell_type": "code",
   "execution_count": 88,
   "id": "ed2e7706",
   "metadata": {},
   "outputs": [],
   "source": [
    "model2 = DecisionTreeClassifier()"
   ]
  },
  {
   "cell_type": "code",
   "execution_count": 89,
   "id": "5009085c",
   "metadata": {},
   "outputs": [
    {
     "data": {
      "text/plain": [
       "DecisionTreeClassifier()"
      ]
     },
     "execution_count": 89,
     "metadata": {},
     "output_type": "execute_result"
    }
   ],
   "source": [
    "model2.fit(x_train,y_train)"
   ]
  },
  {
   "cell_type": "code",
   "execution_count": 90,
   "id": "a64d4582",
   "metadata": {},
   "outputs": [
    {
     "data": {
      "text/plain": [
       "1.0"
      ]
     },
     "execution_count": 90,
     "metadata": {},
     "output_type": "execute_result"
    }
   ],
   "source": [
    "model2.score(x_train,y_train)"
   ]
  },
  {
   "cell_type": "code",
   "execution_count": 91,
   "id": "065463ca",
   "metadata": {},
   "outputs": [
    {
     "data": {
      "text/plain": [
       "0.8819713242108707"
      ]
     },
     "execution_count": 91,
     "metadata": {},
     "output_type": "execute_result"
    }
   ],
   "source": [
    "model2.score(x_test,y_test)"
   ]
  },
  {
   "cell_type": "code",
   "execution_count": 92,
   "id": "301f5b86",
   "metadata": {},
   "outputs": [
    {
     "name": "stdout",
     "output_type": "stream",
     "text": [
      "Accuracy Train: 1.0\n",
      "              precision    recall  f1-score   support\n",
      "\n",
      "           0       1.00      1.00      1.00     67004\n",
      "           1       1.00      1.00      1.00      6366\n",
      "\n",
      "    accuracy                           1.00     73370\n",
      "   macro avg       1.00      1.00      1.00     73370\n",
      "weighted avg       1.00      1.00      1.00     73370\n",
      "\n"
     ]
    }
   ],
   "source": [
    "y_pred = model2.predict(x_train)\n",
    "print(\"Accuracy Train: {}\".format(accuracy_score(y_train,y_pred)))\n",
    "print(classification_report(y_train,y_pred))"
   ]
  },
  {
   "cell_type": "markdown",
   "id": "88381f41",
   "metadata": {},
   "source": [
    "## 3. Random Forest"
   ]
  },
  {
   "cell_type": "code",
   "execution_count": 96,
   "id": "949a9c35",
   "metadata": {},
   "outputs": [],
   "source": [
    "from sklearn.metrics import r2_score"
   ]
  },
  {
   "cell_type": "code",
   "execution_count": 103,
   "id": "7a1b4a1a",
   "metadata": {},
   "outputs": [],
   "source": [
    "model3 = RandomForestClassifier()"
   ]
  },
  {
   "cell_type": "code",
   "execution_count": 104,
   "id": "54b7386e",
   "metadata": {},
   "outputs": [
    {
     "data": {
      "text/plain": [
       "RandomForestClassifier()"
      ]
     },
     "execution_count": 104,
     "metadata": {},
     "output_type": "execute_result"
    }
   ],
   "source": [
    "model3.fit(x_train,y_train)"
   ]
  },
  {
   "cell_type": "code",
   "execution_count": 105,
   "id": "e82496f6",
   "metadata": {},
   "outputs": [
    {
     "data": {
      "text/plain": [
       "1.0"
      ]
     },
     "execution_count": 105,
     "metadata": {},
     "output_type": "execute_result"
    }
   ],
   "source": [
    "model3.score(x_train,y_train)"
   ]
  },
  {
   "cell_type": "code",
   "execution_count": 106,
   "id": "d0894efe",
   "metadata": {},
   "outputs": [
    {
     "data": {
      "text/plain": [
       "0.9286376274328082"
      ]
     },
     "execution_count": 106,
     "metadata": {},
     "output_type": "execute_result"
    }
   ],
   "source": [
    "model3.score(x_test,y_test)"
   ]
  },
  {
   "cell_type": "code",
   "execution_count": 107,
   "id": "78139951",
   "metadata": {},
   "outputs": [
    {
     "name": "stdout",
     "output_type": "stream",
     "text": [
      "Accuracy Train: 1.0\n",
      "              precision    recall  f1-score   support\n",
      "\n",
      "           0       1.00      1.00      1.00     67048\n",
      "           1       1.00      1.00      1.00      6322\n",
      "\n",
      "    accuracy                           1.00     73370\n",
      "   macro avg       1.00      1.00      1.00     73370\n",
      "weighted avg       1.00      1.00      1.00     73370\n",
      "\n"
     ]
    }
   ],
   "source": [
    "y_pred = model3.predict(x_train)\n",
    "print(\"Accuracy Train: {}\".format(accuracy_score(y_train,y_pred)))\n",
    "print(classification_report(y_train,y_pred))"
   ]
  },
  {
   "cell_type": "markdown",
   "id": "0e4ce1c8",
   "metadata": {},
   "source": [
    "## 4. SVM"
   ]
  },
  {
   "cell_type": "code",
   "execution_count": 159,
   "id": "386ce788",
   "metadata": {},
   "outputs": [],
   "source": [
    "model3 = SVC()"
   ]
  },
  {
   "cell_type": "code",
   "execution_count": 160,
   "id": "89fa882b",
   "metadata": {},
   "outputs": [
    {
     "data": {
      "text/plain": [
       "SVC()"
      ]
     },
     "execution_count": 160,
     "metadata": {},
     "output_type": "execute_result"
    }
   ],
   "source": [
    "model3.fit(x_train,y_train)"
   ]
  },
  {
   "cell_type": "code",
   "execution_count": 161,
   "id": "192e68f5",
   "metadata": {},
   "outputs": [
    {
     "data": {
      "text/plain": [
       "0.9520103584571351"
      ]
     },
     "execution_count": 161,
     "metadata": {},
     "output_type": "execute_result"
    }
   ],
   "source": [
    "model3.score(x_train,y_train)"
   ]
  },
  {
   "cell_type": "code",
   "execution_count": 162,
   "id": "7ea24b7a",
   "metadata": {},
   "outputs": [
    {
     "data": {
      "text/plain": [
       "0.9270021261516654"
      ]
     },
     "execution_count": 162,
     "metadata": {},
     "output_type": "execute_result"
    }
   ],
   "source": [
    "model3.score(x_test,y_test)"
   ]
  },
  {
   "cell_type": "code",
   "execution_count": 163,
   "id": "a9293b62",
   "metadata": {},
   "outputs": [
    {
     "name": "stdout",
     "output_type": "stream",
     "text": [
      "Accuracy Train: 0.9520103584571351\n",
      "              precision    recall  f1-score   support\n",
      "\n",
      "           0       0.95      1.00      0.97     67004\n",
      "           1       0.98      0.46      0.62      6366\n",
      "\n",
      "    accuracy                           0.95     73370\n",
      "   macro avg       0.96      0.73      0.80     73370\n",
      "weighted avg       0.95      0.95      0.94     73370\n",
      "\n"
     ]
    }
   ],
   "source": [
    "y_pred = model3.predict(x_train)\n",
    "print(\"Accuracy Train: {}\".format(accuracy_score(y_train,y_pred)))\n",
    "print(classification_report(y_train,y_pred))"
   ]
  },
  {
   "cell_type": "markdown",
   "id": "6ab1b532",
   "metadata": {},
   "source": [
    "## 5. SGDClassifier"
   ]
  },
  {
   "cell_type": "code",
   "execution_count": 165,
   "id": "61e92543",
   "metadata": {},
   "outputs": [],
   "source": [
    "model4 = SGDClassifier()"
   ]
  },
  {
   "cell_type": "code",
   "execution_count": 166,
   "id": "434fd01b",
   "metadata": {},
   "outputs": [
    {
     "data": {
      "text/plain": [
       "SGDClassifier()"
      ]
     },
     "execution_count": 166,
     "metadata": {},
     "output_type": "execute_result"
    }
   ],
   "source": [
    "model4.fit(x_train,y_train)"
   ]
  },
  {
   "cell_type": "code",
   "execution_count": 167,
   "id": "34899b4d",
   "metadata": {},
   "outputs": [
    {
     "data": {
      "text/plain": [
       "0.9237563036663486"
      ]
     },
     "execution_count": 167,
     "metadata": {},
     "output_type": "execute_result"
    }
   ],
   "source": [
    "model4.score(x_train,y_train)"
   ]
  },
  {
   "cell_type": "code",
   "execution_count": 168,
   "id": "bfe5b2c4",
   "metadata": {},
   "outputs": [
    {
     "data": {
      "text/plain": [
       "0.924221773973723"
      ]
     },
     "execution_count": 168,
     "metadata": {},
     "output_type": "execute_result"
    }
   ],
   "source": [
    "model4.score(x_test,y_test)"
   ]
  },
  {
   "cell_type": "code",
   "execution_count": 169,
   "id": "cc173e2b",
   "metadata": {},
   "outputs": [
    {
     "name": "stdout",
     "output_type": "stream",
     "text": [
      "Accuracy Train: 0.9237563036663486\n",
      "              precision    recall  f1-score   support\n",
      "\n",
      "           0       0.93      0.99      0.96     67004\n",
      "           1       0.65      0.26      0.37      6366\n",
      "\n",
      "    accuracy                           0.92     73370\n",
      "   macro avg       0.79      0.62      0.67     73370\n",
      "weighted avg       0.91      0.92      0.91     73370\n",
      "\n"
     ]
    }
   ],
   "source": [
    "y_pred = model4.predict(x_train)\n",
    "print(\"Accuracy Train: {}\".format(accuracy_score(y_train,y_pred)))\n",
    "print(classification_report(y_train,y_pred))"
   ]
  },
  {
   "cell_type": "markdown",
   "id": "6c2d892a",
   "metadata": {},
   "source": [
    "## 6. GradientBoostingClassifier"
   ]
  },
  {
   "cell_type": "code",
   "execution_count": 170,
   "id": "4d346813",
   "metadata": {},
   "outputs": [],
   "source": [
    "model5 = GradientBoostingClassifier()"
   ]
  },
  {
   "cell_type": "code",
   "execution_count": 171,
   "id": "21a1b133",
   "metadata": {},
   "outputs": [
    {
     "data": {
      "text/plain": [
       "GradientBoostingClassifier()"
      ]
     },
     "execution_count": 171,
     "metadata": {},
     "output_type": "execute_result"
    }
   ],
   "source": [
    "model5.fit(x_train,y_train)"
   ]
  },
  {
   "cell_type": "code",
   "execution_count": 172,
   "id": "16445ef7",
   "metadata": {},
   "outputs": [
    {
     "data": {
      "text/plain": [
       "0.9339784653127982"
      ]
     },
     "execution_count": 172,
     "metadata": {},
     "output_type": "execute_result"
    }
   ],
   "source": [
    "model5.score(x_train,y_train)"
   ]
  },
  {
   "cell_type": "code",
   "execution_count": 173,
   "id": "1cc1009e",
   "metadata": {},
   "outputs": [
    {
     "data": {
      "text/plain": [
       "0.9323447636700649"
      ]
     },
     "execution_count": 173,
     "metadata": {},
     "output_type": "execute_result"
    }
   ],
   "source": [
    "model5.score(x_test,y_test)"
   ]
  },
  {
   "cell_type": "code",
   "execution_count": 179,
   "id": "0835c06f",
   "metadata": {},
   "outputs": [
    {
     "name": "stdout",
     "output_type": "stream",
     "text": [
      "Accuracy Train: 0.9339784653127982\n",
      "              precision    recall  f1-score   support\n",
      "\n",
      "           0       0.94      0.99      0.96     67004\n",
      "           1       0.76      0.35      0.48      6366\n",
      "\n",
      "    accuracy                           0.93     73370\n",
      "   macro avg       0.85      0.67      0.72     73370\n",
      "weighted avg       0.93      0.93      0.92     73370\n",
      "\n"
     ]
    }
   ],
   "source": [
    "y_pred = model5.predict(x_train)\n",
    "print(\"Accuracy Train: {}\".format(accuracy_score(y_train,y_pred)))\n",
    "print(classification_report(y_train,y_pred))"
   ]
  },
  {
   "cell_type": "markdown",
   "id": "91c11740",
   "metadata": {},
   "source": [
    "## 7. ExtraTreesClassifier"
   ]
  },
  {
   "cell_type": "code",
   "execution_count": 180,
   "id": "64db255c",
   "metadata": {},
   "outputs": [],
   "source": [
    "model6 = ExtraTreesClassifier()"
   ]
  },
  {
   "cell_type": "code",
   "execution_count": 181,
   "id": "ed8b8255",
   "metadata": {},
   "outputs": [
    {
     "data": {
      "text/plain": [
       "ExtraTreesClassifier()"
      ]
     },
     "execution_count": 181,
     "metadata": {},
     "output_type": "execute_result"
    }
   ],
   "source": [
    "model6.fit(x_train,y_train)"
   ]
  },
  {
   "cell_type": "code",
   "execution_count": 182,
   "id": "1862fa12",
   "metadata": {},
   "outputs": [
    {
     "data": {
      "text/plain": [
       "1.0"
      ]
     },
     "execution_count": 182,
     "metadata": {},
     "output_type": "execute_result"
    }
   ],
   "source": [
    "model6.score(x_train,y_train)"
   ]
  },
  {
   "cell_type": "code",
   "execution_count": 183,
   "id": "3b430807",
   "metadata": {},
   "outputs": [
    {
     "data": {
      "text/plain": [
       "0.9303821621326936"
      ]
     },
     "execution_count": 183,
     "metadata": {},
     "output_type": "execute_result"
    }
   ],
   "source": [
    "model6.score(x_test,y_test)"
   ]
  },
  {
   "cell_type": "code",
   "execution_count": 184,
   "id": "64f0c72c",
   "metadata": {},
   "outputs": [
    {
     "name": "stdout",
     "output_type": "stream",
     "text": [
      "Accuracy Train: 1.0\n",
      "              precision    recall  f1-score   support\n",
      "\n",
      "           0       1.00      1.00      1.00     67004\n",
      "           1       1.00      1.00      1.00      6366\n",
      "\n",
      "    accuracy                           1.00     73370\n",
      "   macro avg       1.00      1.00      1.00     73370\n",
      "weighted avg       1.00      1.00      1.00     73370\n",
      "\n"
     ]
    }
   ],
   "source": [
    "y_pred = model6.predict(x_train)\n",
    "print(\"Accuracy Train: {}\".format(accuracy_score(y_train,y_pred)))\n",
    "print(classification_report(y_train,y_pred))"
   ]
  },
  {
   "cell_type": "markdown",
   "id": "9c2a951b",
   "metadata": {},
   "source": [
    "## 8. XGBClassifier"
   ]
  },
  {
   "cell_type": "code",
   "execution_count": 186,
   "id": "07ee8523",
   "metadata": {},
   "outputs": [],
   "source": [
    "model7 = XGBClassifier()"
   ]
  },
  {
   "cell_type": "code",
   "execution_count": 187,
   "id": "89d322d5",
   "metadata": {},
   "outputs": [
    {
     "name": "stdout",
     "output_type": "stream",
     "text": [
      "[00:36:23] WARNING: C:/Users/Administrator/workspace/xgboost-win64_release_1.5.0/src/learner.cc:1115: Starting in XGBoost 1.3.0, the default evaluation metric used with the objective 'binary:logistic' was changed from 'error' to 'logloss'. Explicitly set eval_metric if you'd like to restore the old behavior.\n"
     ]
    },
    {
     "data": {
      "text/plain": [
       "XGBClassifier(base_score=0.5, booster='gbtree', colsample_bylevel=1,\n",
       "              colsample_bynode=1, colsample_bytree=1, enable_categorical=False,\n",
       "              gamma=0, gpu_id=-1, importance_type=None,\n",
       "              interaction_constraints='', learning_rate=0.300000012,\n",
       "              max_delta_step=0, max_depth=6, min_child_weight=1, missing=nan,\n",
       "              monotone_constraints='()', n_estimators=100, n_jobs=16,\n",
       "              num_parallel_tree=1, predictor='auto', random_state=0,\n",
       "              reg_alpha=0, reg_lambda=1, scale_pos_weight=1, subsample=1,\n",
       "              tree_method='exact', validate_parameters=1, verbosity=None)"
      ]
     },
     "execution_count": 187,
     "metadata": {},
     "output_type": "execute_result"
    }
   ],
   "source": [
    "model7.fit(x_train,y_train)"
   ]
  },
  {
   "cell_type": "code",
   "execution_count": 188,
   "id": "21d537a4",
   "metadata": {},
   "outputs": [
    {
     "data": {
      "text/plain": [
       "0.9710099495706692"
      ]
     },
     "execution_count": 188,
     "metadata": {},
     "output_type": "execute_result"
    }
   ],
   "source": [
    "model7.score(x_train,y_train)"
   ]
  },
  {
   "cell_type": "code",
   "execution_count": 189,
   "id": "be1500f8",
   "metadata": {},
   "outputs": [
    {
     "data": {
      "text/plain": [
       "0.9303276454233222"
      ]
     },
     "execution_count": 189,
     "metadata": {},
     "output_type": "execute_result"
    }
   ],
   "source": [
    "model7.score(x_test,y_test)"
   ]
  },
  {
   "cell_type": "code",
   "execution_count": 190,
   "id": "356b4021",
   "metadata": {},
   "outputs": [
    {
     "name": "stdout",
     "output_type": "stream",
     "text": [
      "Accuracy Train: 0.9710099495706692\n",
      "              precision    recall  f1-score   support\n",
      "\n",
      "           0       0.97      1.00      0.98     67004\n",
      "           1       0.98      0.68      0.80      6366\n",
      "\n",
      "    accuracy                           0.97     73370\n",
      "   macro avg       0.98      0.84      0.89     73370\n",
      "weighted avg       0.97      0.97      0.97     73370\n",
      "\n"
     ]
    }
   ],
   "source": [
    "y_pred = model7.predict(x_train)\n",
    "print(\"Accuracy Train: {}\".format(accuracy_score(y_train,y_pred)))\n",
    "print(classification_report(y_train,y_pred))"
   ]
  },
  {
   "cell_type": "markdown",
   "id": "0229ad2a",
   "metadata": {},
   "source": [
    "## 8. KNeighborsClassifier"
   ]
  },
  {
   "cell_type": "code",
   "execution_count": 191,
   "id": "ad2acbd4",
   "metadata": {},
   "outputs": [],
   "source": [
    "from sklearn.neighbors import KNeighborsClassifier"
   ]
  },
  {
   "cell_type": "code",
   "execution_count": 192,
   "id": "a777e850",
   "metadata": {},
   "outputs": [],
   "source": [
    "model8 = KNeighborsClassifier()"
   ]
  },
  {
   "cell_type": "code",
   "execution_count": 193,
   "id": "d82e17ff",
   "metadata": {},
   "outputs": [
    {
     "data": {
      "text/plain": [
       "KNeighborsClassifier()"
      ]
     },
     "execution_count": 193,
     "metadata": {},
     "output_type": "execute_result"
    }
   ],
   "source": [
    "model8.fit(x_train,y_train)"
   ]
  },
  {
   "cell_type": "code",
   "execution_count": 194,
   "id": "4dd6aedc",
   "metadata": {},
   "outputs": [
    {
     "data": {
      "text/plain": [
       "0.9305029303530054"
      ]
     },
     "execution_count": 194,
     "metadata": {},
     "output_type": "execute_result"
    }
   ],
   "source": [
    "model8.score(x_train,y_train)"
   ]
  },
  {
   "cell_type": "code",
   "execution_count": 195,
   "id": "e6352d80",
   "metadata": {},
   "outputs": [
    {
     "data": {
      "text/plain": [
       "0.9236766068800087"
      ]
     },
     "execution_count": 195,
     "metadata": {},
     "output_type": "execute_result"
    }
   ],
   "source": [
    "model8.score(x_test,y_test)"
   ]
  },
  {
   "cell_type": "code",
   "execution_count": 196,
   "id": "30a09a04",
   "metadata": {},
   "outputs": [
    {
     "name": "stdout",
     "output_type": "stream",
     "text": [
      "Accuracy Train: 0.9305029303530054\n",
      "              precision    recall  f1-score   support\n",
      "\n",
      "           0       0.93      1.00      0.96     67004\n",
      "           1       0.88      0.23      0.37      6366\n",
      "\n",
      "    accuracy                           0.93     73370\n",
      "   macro avg       0.91      0.61      0.66     73370\n",
      "weighted avg       0.93      0.93      0.91     73370\n",
      "\n"
     ]
    }
   ],
   "source": [
    "y_pred = model8.predict(x_train)\n",
    "print(\"Accuracy Train: {}\".format(accuracy_score(y_train,y_pred)))\n",
    "print(classification_report(y_train,y_pred))"
   ]
  },
  {
   "cell_type": "code",
   "execution_count": 198,
   "id": "e14bafc3",
   "metadata": {},
   "outputs": [],
   "source": [
    "from sklearn.naive_bayes import BernoulliNB,GaussianNB"
   ]
  },
  {
   "cell_type": "markdown",
   "id": "fdae91cc",
   "metadata": {},
   "source": [
    "## 9. BernoulliNB"
   ]
  },
  {
   "cell_type": "code",
   "execution_count": 215,
   "id": "eccf55d3",
   "metadata": {},
   "outputs": [],
   "source": [
    "model9 = BernoulliNB()"
   ]
  },
  {
   "cell_type": "code",
   "execution_count": 216,
   "id": "2aeb0ca6",
   "metadata": {},
   "outputs": [
    {
     "data": {
      "text/plain": [
       "BernoulliNB()"
      ]
     },
     "execution_count": 216,
     "metadata": {},
     "output_type": "execute_result"
    }
   ],
   "source": [
    "model9.fit(x_train,y_train)"
   ]
  },
  {
   "cell_type": "code",
   "execution_count": 217,
   "id": "86dcb2f8",
   "metadata": {},
   "outputs": [
    {
     "data": {
      "text/plain": [
       "0.7984326018808777"
      ]
     },
     "execution_count": 217,
     "metadata": {},
     "output_type": "execute_result"
    }
   ],
   "source": [
    "model9.score(x_train,y_train)"
   ]
  },
  {
   "cell_type": "code",
   "execution_count": 218,
   "id": "cc969801",
   "metadata": {},
   "outputs": [
    {
     "data": {
      "text/plain": [
       "0.7997056097693943"
      ]
     },
     "execution_count": 218,
     "metadata": {},
     "output_type": "execute_result"
    }
   ],
   "source": [
    "model9.score(x_test,y_test)"
   ]
  },
  {
   "cell_type": "code",
   "execution_count": 219,
   "id": "196d6f31",
   "metadata": {},
   "outputs": [
    {
     "name": "stdout",
     "output_type": "stream",
     "text": [
      "Accuracy Train: 0.7984326018808777\n",
      "              precision    recall  f1-score   support\n",
      "\n",
      "           0       0.96      0.81      0.88     67004\n",
      "           1       0.25      0.68      0.37      6366\n",
      "\n",
      "    accuracy                           0.80     73370\n",
      "   macro avg       0.61      0.74      0.62     73370\n",
      "weighted avg       0.90      0.80      0.84     73370\n",
      "\n"
     ]
    }
   ],
   "source": [
    "y_pred = model9.predict(x_train)\n",
    "print(\"Accuracy Train: {}\".format(accuracy_score(y_train,y_pred)))\n",
    "print(classification_report(y_train,y_pred))"
   ]
  },
  {
   "cell_type": "markdown",
   "id": "e9e1920e",
   "metadata": {},
   "source": [
    "## 10. GaussianNB"
   ]
  },
  {
   "cell_type": "code",
   "execution_count": 220,
   "id": "fdd2a0ce",
   "metadata": {},
   "outputs": [],
   "source": [
    "model10 = GaussianNB()"
   ]
  },
  {
   "cell_type": "code",
   "execution_count": 221,
   "id": "be8fae81",
   "metadata": {},
   "outputs": [
    {
     "data": {
      "text/plain": [
       "GaussianNB()"
      ]
     },
     "execution_count": 221,
     "metadata": {},
     "output_type": "execute_result"
    }
   ],
   "source": [
    "model10.fit(x_train,y_train)"
   ]
  },
  {
   "cell_type": "code",
   "execution_count": 222,
   "id": "d9d9a1b4",
   "metadata": {},
   "outputs": [
    {
     "data": {
      "text/plain": [
       "0.8302439689246286"
      ]
     },
     "execution_count": 222,
     "metadata": {},
     "output_type": "execute_result"
    }
   ],
   "source": [
    "model10.score(x_train,y_train)"
   ]
  },
  {
   "cell_type": "code",
   "execution_count": 223,
   "id": "7b4da6cd",
   "metadata": {},
   "outputs": [
    {
     "data": {
      "text/plain": [
       "0.8271275145832198"
      ]
     },
     "execution_count": 223,
     "metadata": {},
     "output_type": "execute_result"
    }
   ],
   "source": [
    "model10.score(x_test,y_test)"
   ]
  },
  {
   "cell_type": "code",
   "execution_count": 224,
   "id": "64076439",
   "metadata": {},
   "outputs": [
    {
     "name": "stdout",
     "output_type": "stream",
     "text": [
      "Accuracy Train: 0.8302439689246286\n",
      "              precision    recall  f1-score   support\n",
      "\n",
      "           0       0.95      0.85      0.90     67004\n",
      "           1       0.27      0.57      0.37      6366\n",
      "\n",
      "    accuracy                           0.83     73370\n",
      "   macro avg       0.61      0.71      0.64     73370\n",
      "weighted avg       0.90      0.83      0.86     73370\n",
      "\n"
     ]
    }
   ],
   "source": [
    "y_pred = model10.predict(x_train)\n",
    "print(\"Accuracy Train: {}\".format(accuracy_score(y_train,y_pred)))\n",
    "print(classification_report(y_train,y_pred))"
   ]
  },
  {
   "cell_type": "code",
   "execution_count": null,
   "id": "7be97982",
   "metadata": {},
   "outputs": [],
   "source": []
  }
 ],
 "metadata": {
  "kernelspec": {
   "display_name": "Python 3",
   "language": "python",
   "name": "python3"
  },
  "language_info": {
   "codemirror_mode": {
    "name": "ipython",
    "version": 3
   },
   "file_extension": ".py",
   "mimetype": "text/x-python",
   "name": "python",
   "nbconvert_exporter": "python",
   "pygments_lexer": "ipython3",
   "version": "3.8.8"
  }
 },
 "nbformat": 4,
 "nbformat_minor": 5
}
